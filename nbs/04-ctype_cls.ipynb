{
 "cells": [
  {
   "cell_type": "code",
   "execution_count": 29,
   "metadata": {},
   "outputs": [
    {
     "name": "stdout",
     "output_type": "stream",
     "text": [
      "The autoreload extension is already loaded. To reload it, use:\n",
      "  %reload_ext autoreload\n",
      "2.3.1\n",
      "/vol/ml/apartin/projects/pdx-histo/nbs\n"
     ]
    }
   ],
   "source": [
    "%load_ext autoreload\n",
    "%autoreload 2\n",
    "%matplotlib inline\n",
    "\n",
    "import os\n",
    "import sys\n",
    "assert sys.version_info >= (3, 5)\n",
    "\n",
    "from pathlib import Path\n",
    "from pprint import pprint\n",
    "import glob\n",
    "import shutil\n",
    "import itertools\n",
    "import pandas as pd\n",
    "import numpy as np\n",
    "from typing import List, Optional, Union\n",
    "\n",
    "import tensorflow as tf\n",
    "from tensorflow import keras\n",
    "print(tf.__version__)\n",
    "# assert tf.__version__ >= \"2.0\"\n",
    "# print(\"Num GPUs Available: \", len(tf.config.experimental.list_physical_devices('GPU')))\n",
    "AUTO     = tf.data.experimental.AUTOTUNE\n",
    "\n",
    "from tensorflow.keras.models import load_model\n",
    "from tensorflow.keras.callbacks import ModelCheckpoint, CSVLogger, ReduceLROnPlateau, EarlyStopping\n",
    "from tensorflow.keras.utils import plot_model\n",
    "\n",
    "from tensorflow import keras\n",
    "from tensorflow.keras import backend as K\n",
    "from tensorflow.keras.layers import Input, Dense, Dropout, Activation, BatchNormalization\n",
    "from tensorflow.keras import layers\n",
    "from tensorflow.keras import optimizers\n",
    "from tensorflow.keras.optimizers import SGD, Adam\n",
    "from tensorflow.keras.models import Sequential, Model\n",
    "\n",
    "# To plot pretty figures\n",
    "# import matplotlib as mpl\n",
    "import matplotlib.pyplot as plt\n",
    "# mpl.rc('axes', labelsize=14)\n",
    "# mpl.rc('xtick', labelsize=12)\n",
    "# mpl.rc('ytick', labelsize=12)\n",
    "\n",
    "import cv2\n",
    "import openslide\n",
    "\n",
    "# Seed\n",
    "np.random.seed(42)\n",
    "\n",
    "fdir = Path.cwd()\n",
    "print(fdir)\n",
    "sys.path.append(str(fdir/'../src'))\n",
    "from config import cfg\n",
    "\n",
    "# # from deephistopath.wsi import filter\n",
    "from deephistopath.wsi import slide\n",
    "# # from deephistopath.wsi import tiles\n",
    "from deephistopath.wsi import util\n",
    "\n",
    "from build_tfrec import show_img  # (show_images, encode_categorical, np_img_to_bytes)\n",
    "from train_nn import get_tfr_files\n",
    "from tf_utils import (calc_records_in_tfr_folder, calc_examples_in_tfrecord,\n",
    "                      _float_feature, _bytes_feature, _int64_feature)"
   ]
  },
  {
   "cell_type": "code",
   "execution_count": 30,
   "metadata": {},
   "outputs": [],
   "source": [
    "# Global (my data)\n",
    "# MAIN_APPDIR = fdir/'../apps'\n",
    "# DATADIR = fdir/'../data'\n",
    "# ANNOTATIONS_FILENAME = 'annotations.csv'\n",
    "# TILES_DIR = DATADIR/'tiles_png'\n",
    "# TFR_DIR = DATADIR/'tfrecords'\n",
    "\n",
    "APPNAME = 'bin_ctype_balanced_01'"
   ]
  },
  {
   "cell_type": "code",
   "execution_count": 31,
   "metadata": {},
   "outputs": [
    {
     "data": {
      "text/plain": [
       "namespace(MAIN_APPDIR=PosixPath('/vol/ml/apartin/projects/pdx-histo/src/../apps'),\n",
       "          DATADIR=PosixPath('/vol/ml/apartin/projects/pdx-histo/src/../data'),\n",
       "          TILES_DIR=PosixPath('/vol/ml/apartin/projects/pdx-histo/src/../data/tiles_png'),\n",
       "          ANNOTATIONS_FILENAME='annotations.csv',\n",
       "          SF_ANNOTATIONS_FILENAME='annotations_slideflow.csv',\n",
       "          TFR_DIR=PosixPath('/vol/ml/apartin/projects/pdx-histo/data/tfrecords'),\n",
       "          SF_TFR_DIR=PosixPath('/vol/ml/apartin/projects/pdx-histo/src/../../slideflow-proj/PDX_FIXED/299px_302um'),\n",
       "          BAD_SLIDES=[45983, 83742, 83743, 22232, 21836, 20729])"
      ]
     },
     "execution_count": 31,
     "metadata": {},
     "output_type": "execute_result"
    }
   ],
   "source": [
    "cfg"
   ]
  },
  {
   "cell_type": "code",
   "execution_count": null,
   "metadata": {},
   "outputs": [],
   "source": []
  },
  {
   "cell_type": "markdown",
   "metadata": {},
   "source": [
    "# Load data"
   ]
  },
  {
   "cell_type": "code",
   "execution_count": 32,
   "metadata": {},
   "outputs": [
    {
     "name": "stdout",
     "output_type": "stream",
     "text": [
      "(126, 2612)\n"
     ]
    },
    {
     "data": {
      "text/html": [
       "<div>\n",
       "<style scoped>\n",
       "    .dataframe tbody tr th:only-of-type {\n",
       "        vertical-align: middle;\n",
       "    }\n",
       "\n",
       "    .dataframe tbody tr th {\n",
       "        vertical-align: top;\n",
       "    }\n",
       "\n",
       "    .dataframe thead th {\n",
       "        text-align: right;\n",
       "    }\n",
       "</style>\n",
       "<table border=\"1\" class=\"dataframe\">\n",
       "  <thead>\n",
       "    <tr style=\"text-align: right;\">\n",
       "      <th></th>\n",
       "      <th>ctype</th>\n",
       "      <th>ctype_label</th>\n",
       "      <th>Response</th>\n",
       "      <th>samples</th>\n",
       "    </tr>\n",
       "  </thead>\n",
       "  <tbody>\n",
       "    <tr>\n",
       "      <th>0</th>\n",
       "      <td>digestive/gastrointestinal</td>\n",
       "      <td>1</td>\n",
       "      <td>0</td>\n",
       "      <td>60</td>\n",
       "    </tr>\n",
       "    <tr>\n",
       "      <th>1</th>\n",
       "      <td>digestive/gastrointestinal</td>\n",
       "      <td>1</td>\n",
       "      <td>1</td>\n",
       "      <td>3</td>\n",
       "    </tr>\n",
       "    <tr>\n",
       "      <th>2</th>\n",
       "      <td>squamous</td>\n",
       "      <td>0</td>\n",
       "      <td>0</td>\n",
       "      <td>63</td>\n",
       "    </tr>\n",
       "  </tbody>\n",
       "</table>\n",
       "</div>"
      ],
      "text/plain": [
       "                        ctype  ctype_label  Response  samples\n",
       "0  digestive/gastrointestinal            1         0       60\n",
       "1  digestive/gastrointestinal            1         1        3\n",
       "2                    squamous            0         0       63"
      ]
     },
     "metadata": {},
     "output_type": "display_data"
    }
   ],
   "source": [
    "# Path\n",
    "# tiles_path = DATADIR/'tiles_png'\n",
    "# tfr_path = DATADIR/'tfrecords'\n",
    "\n",
    "# Load data\n",
    "appdir = cfg.MAIN_APPDIR/APPNAME\n",
    "annotations_file = appdir/cfg.SF_ANNOTATIONS_FILENAME\n",
    "data = pd.read_csv(annotations_file)\n",
    "print(data.shape)\n",
    "\n",
    "display(data.groupby(['ctype', 'ctype_label', 'Response']).agg({'smp': 'nunique'}).reset_index().rename(columns={'smp': 'samples'}))"
   ]
  },
  {
   "cell_type": "code",
   "execution_count": 33,
   "metadata": {},
   "outputs": [],
   "source": [
    "# Read data\n",
    "# data = pd.read_csv(datapath/'data_merged.csv')\n",
    "# csite_enc = encode_categorical(df=data, label_name='csite', label_value='csite_label')\n",
    "# ctype_enc = encode_categorical(df=data, label_name='ctype', label_value='ctype_label')\n",
    "# CSITE_NUM_CLASSES = len(csite_enc.keys())\n",
    "# CTYPE_NUM_CLASSES = len(ctype_enc.keys())\n",
    "\n",
    "GE_LEN = sum([1 for c in data.columns if c.startswith('ge_')])\n",
    "DD_LEN = sum([1 for c in data.columns if c.startswith('dd_')])"
   ]
  },
  {
   "cell_type": "code",
   "execution_count": 34,
   "metadata": {},
   "outputs": [],
   "source": [
    "# Feature specs (used to read an example from tfrecord)\n",
    "FEA_SPEC = {\n",
    "    'ge_vec': tf.io.FixedLenFeature(shape=(GE_LEN,), dtype=tf.float32, default_value=None),\n",
    "    'dd_vec': tf.io.FixedLenFeature(shape=(DD_LEN,), dtype=tf.float32, default_value=None),    \n",
    "    \n",
    "    'smp':      tf.io.FixedLenFeature(shape=[], dtype=tf.string, default_value=None), \n",
    "    'Response': tf.io.FixedLenFeature(shape=[], dtype=tf.int64, default_value=None), \n",
    "    'image_id': tf.io.FixedLenFeature(shape=[], dtype=tf.int64, default_value=None), \n",
    "    \n",
    "    'image_raw': tf.io.FixedLenFeature(shape=[], dtype=tf.string, default_value=None),\n",
    "    \n",
    "    'tile_id': tf.io.FixedLenFeature(shape=[], dtype=tf.string, default_value=None),\n",
    "    'row':     tf.io.FixedLenFeature(shape=[], dtype=tf.string, default_value=None),\n",
    "    'col':     tf.io.FixedLenFeature(shape=[], dtype=tf.string, default_value=None),    \n",
    "    \n",
    "    'Sample': tf.io.FixedLenFeature(shape=[], dtype=tf.string, default_value=None),\n",
    "    'ctype':  tf.io.FixedLenFeature(shape=[], dtype=tf.string, default_value=None),\n",
    "    'csite':  tf.io.FixedLenFeature(shape=[], dtype=tf.string, default_value=None),    \n",
    "    'ctype_label':  tf.io.FixedLenFeature(shape=[], dtype=tf.int64, default_value=None),\n",
    "    'csite_label':  tf.io.FixedLenFeature(shape=[], dtype=tf.int64, default_value=None),\n",
    "}"
   ]
  },
  {
   "cell_type": "code",
   "execution_count": 36,
   "metadata": {},
   "outputs": [
    {
     "name": "stdout",
     "output_type": "stream",
     "text": [
      "Number of tfrecords the folder: 0\n"
     ]
    },
    {
     "ename": "IndexError",
     "evalue": "list index out of range",
     "output_type": "error",
     "traceback": [
      "\u001b[0;31m---------------------------------------------------------------------------\u001b[0m",
      "\u001b[0;31mIndexError\u001b[0m                                Traceback (most recent call last)",
      "\u001b[0;32m<ipython-input-36-fd6998bc0dfe>\u001b[0m in \u001b[0;36m<module>\u001b[0;34m\u001b[0m\n\u001b[1;32m      3\u001b[0m \u001b[0mprint\u001b[0m\u001b[0;34m(\u001b[0m\u001b[0;34m'Number of tfrecords the folder:'\u001b[0m\u001b[0;34m,\u001b[0m \u001b[0mlen\u001b[0m\u001b[0;34m(\u001b[0m\u001b[0mtfr_files\u001b[0m\u001b[0;34m)\u001b[0m\u001b[0;34m)\u001b[0m\u001b[0;34m\u001b[0m\u001b[0;34m\u001b[0m\u001b[0m\n\u001b[1;32m      4\u001b[0m \u001b[0;31m# calc_records_in_tfr_folder(tfr_dir=TFR_DIR)\u001b[0m\u001b[0;34m\u001b[0m\u001b[0;34m\u001b[0m\u001b[0;34m\u001b[0m\u001b[0m\n\u001b[0;32m----> 5\u001b[0;31m \u001b[0mcalc_examples_in_tfrecord\u001b[0m\u001b[0;34m(\u001b[0m\u001b[0mtfr_path\u001b[0m\u001b[0;34m=\u001b[0m\u001b[0mstr\u001b[0m\u001b[0;34m(\u001b[0m\u001b[0mtfr_files\u001b[0m\u001b[0;34m[\u001b[0m\u001b[0;36m0\u001b[0m\u001b[0;34m]\u001b[0m\u001b[0;34m)\u001b[0m\u001b[0;34m)\u001b[0m\u001b[0;34m\u001b[0m\u001b[0;34m\u001b[0m\u001b[0m\n\u001b[0m",
      "\u001b[0;31mIndexError\u001b[0m: list index out of range"
     ]
    }
   ],
   "source": [
    "# Summary of tfrecords\n",
    "tfr_files = sorted(cfg.TFR_DIR.glob('*.tfrec*'))\n",
    "print('Number of tfrecords the folder:', len(tfr_files))\n",
    "# calc_records_in_tfr_folder(tfr_dir=TFR_DIR)\n",
    "calc_examples_in_tfrecord(tfr_path=str(tfr_files[0]))"
   ]
  },
  {
   "cell_type": "code",
   "execution_count": null,
   "metadata": {},
   "outputs": [],
   "source": []
  },
  {
   "cell_type": "code",
   "execution_count": 7,
   "metadata": {},
   "outputs": [
    {
     "name": "stdout",
     "output_type": "stream",
     "text": [
      "Total samples 123\n",
      "Total samples 123\n",
      "Total samples 123\n"
     ]
    }
   ],
   "source": [
    "# -----------------------------------------------\n",
    "#       Data splits\n",
    "# -----------------------------------------------\n",
    "# T/V/E filenames\n",
    "splitdir = appdir/'splits'\n",
    "split_id = 0\n",
    "\n",
    "split_pattern = f'1fold_s{split_id}_*_id.csv'\n",
    "single_split_files = glob.glob(str(splitdir/split_pattern))\n",
    "# single_split_files = list(splitdir.glob(split_pattern))\n",
    "\n",
    "# Get indices for the split\n",
    "# assert len(single_split_files) >= 2, f'The split {s} contains only one file.'\n",
    "for id_file in single_split_files:\n",
    "    if 'tr_id' in id_file:\n",
    "        tr_id = pd.read_csv(id_file).values.reshape(-1,)\n",
    "    elif 'vl_id' in id_file:\n",
    "        vl_id = pd.read_csv(id_file).values.reshape(-1,)\n",
    "    elif 'te_id' in id_file:\n",
    "        te_id = pd.read_csv(id_file).values.reshape(-1,)\n",
    "\n",
    "cv_lists = (tr_id, vl_id, te_id)\n",
    "\n",
    "# -----------------------------------------------\n",
    "#       Get data based on splits\n",
    "# -----------------------------------------------\n",
    "# Dfs of T/V/E samples\n",
    "tr_df = data.iloc[tr_id, :].reset_index(drop=True)\n",
    "vl_df = data.iloc[vl_id, :].reset_index(drop=True)\n",
    "te_df = data.iloc[te_id, :].reset_index(drop=True)\n",
    "print('Total samples {}'.format(tr_df.shape[0] + vl_df.shape[0] + te_df.shape[0]))\n",
    "\n",
    "# List of sample names for T/V/E\n",
    "tr_smp_names = list(tr_df['smp'].values)\n",
    "vl_smp_names = list(vl_df['smp'].values)\n",
    "te_smp_names = list(te_df['smp'].values)\n",
    "print('Total samples {}'.format(len(tr_smp_names) + len(vl_smp_names) + len(te_smp_names)))\n",
    "\n",
    "# x_data = data.iloc[idx, :].reset_index(drop=True)\n",
    "# y_data = np.squeeze(ydata.iloc[idx, :]).reset_index(drop=True)\n",
    "\n",
    "tr_tfr_files = get_tfr_files(tr_smp_names)\n",
    "vl_tfr_files = get_tfr_files(vl_smp_names)\n",
    "te_tfr_files = get_tfr_files(te_smp_names)\n",
    "print('Total samples {}'.format(len(tr_tfr_files) + len(vl_tfr_files) + len(te_tfr_files)))"
   ]
  },
  {
   "cell_type": "code",
   "execution_count": 8,
   "metadata": {},
   "outputs": [
    {
     "name": "stdout",
     "output_type": "stream",
     "text": [
      "\n",
      "These samples miss a tfrecord ...\n",
      "\n"
     ]
    },
    {
     "data": {
      "text/html": [
       "<div>\n",
       "<style scoped>\n",
       "    .dataframe tbody tr th:only-of-type {\n",
       "        vertical-align: middle;\n",
       "    }\n",
       "\n",
       "    .dataframe tbody tr th {\n",
       "        vertical-align: top;\n",
       "    }\n",
       "\n",
       "    .dataframe thead th {\n",
       "        text-align: right;\n",
       "    }\n",
       "</style>\n",
       "<table border=\"1\" class=\"dataframe\">\n",
       "  <thead>\n",
       "    <tr style=\"text-align: right;\">\n",
       "      <th></th>\n",
       "      <th>smp</th>\n",
       "      <th>image_id</th>\n",
       "    </tr>\n",
       "  </thead>\n",
       "  <tbody>\n",
       "    <tr>\n",
       "      <th>8</th>\n",
       "      <td>521955~158-R3~FY4DV1F55GP1_NSC.758246</td>\n",
       "      <td>35584</td>\n",
       "    </tr>\n",
       "    <tr>\n",
       "      <th>30</th>\n",
       "      <td>172845~121-T~M776M1155J93_NSC.362856</td>\n",
       "      <td>16343</td>\n",
       "    </tr>\n",
       "    <tr>\n",
       "      <th>48</th>\n",
       "      <td>197837~219-T~E00_NSC.19893</td>\n",
       "      <td>16331</td>\n",
       "    </tr>\n",
       "  </tbody>\n",
       "</table>\n",
       "</div>"
      ],
      "text/plain": [
       "                                      smp  image_id\n",
       "8   521955~158-R3~FY4DV1F55GP1_NSC.758246     35584\n",
       "30   172845~121-T~M776M1155J93_NSC.362856     16343\n",
       "48             197837~219-T~E00_NSC.19893     16331"
      ]
     },
     "execution_count": 8,
     "metadata": {},
     "output_type": "execute_result"
    }
   ],
   "source": [
    "# Missing tfrecords\n",
    "print('\\nThese samples miss a tfrecord ...\\n')\n",
    "data.loc[~data.smp.isin(tr_smp_names + vl_smp_names + te_smp_names), ['smp', 'image_id']]"
   ]
  },
  {
   "cell_type": "code",
   "execution_count": null,
   "metadata": {},
   "outputs": [],
   "source": []
  },
  {
   "cell_type": "code",
   "execution_count": 9,
   "metadata": {},
   "outputs": [
    {
     "name": "stdout",
     "output_type": "stream",
     "text": [
      "Feature types in the tfrecord example:\n",
      "dict_keys(['Response', 'Sample', 'col', 'csite', 'csite_label', 'ctype', 'ctype_label', 'dd_vec', 'ge_vec', 'image_id', 'image_raw', 'row', 'smp', 'tile_id'])\n",
      "\n",
      "Bytes (tile_id):\n",
      "b'33679_1'\n",
      "\n",
      "Bytes (ctype):\n",
      "b'digestive/gastrointestinal'\n",
      "\n",
      "Float (ctype_label):\n",
      "tf.Tensor(1, shape=(), dtype=int64)\n",
      "\n",
      "Int (Response):\n",
      "tf.Tensor(0, shape=(), dtype=int64)\n",
      "\n",
      "Float (ge_vec):\n",
      "tf.Tensor([9.757551  6.2210474 7.069688  9.370674 ], shape=(4,), dtype=float32)\n",
      "\n",
      "Bytes (image_raw):\n",
      "tf.Tensor([303 303   3], shape=(3,), dtype=int32)\n",
      "(303, 303, 3)\n"
     ]
    },
    {
     "data": {
      "image/png": "[encoded data removed]",
      "text/plain": [
       "<Figure size 432x288 with 1 Axes>"
      ]
     },
     "metadata": {
      "needs_background": "light"
     },
     "output_type": "display_data"
    }
   ],
   "source": [
    "# -----------------------------------------------\n",
    "# Read single tfrecord and explore single example\n",
    "# -----------------------------------------------\n",
    "\n",
    "ds = tf.data.TFRecordDataset(te_tfr_files[0])\n",
    "ex = next(ds.__iter__())\n",
    "ex = tf.io.parse_single_example(ex, features=FEA_SPEC)  # returns features for a given example in a dict\n",
    "print('Feature types in the tfrecord example:\\n{}'.format(ex.keys()))\n",
    "\n",
    "# Bytes\n",
    "print('\\nBytes (tile_id):')\n",
    "print(ex['tile_id'].numpy())\n",
    "# print(ex['tile_id'].numpy().decode('utf-8'))\n",
    "\n",
    "# Bytes\n",
    "print('\\nBytes (ctype):')\n",
    "print(ex['ctype'].numpy())\n",
    "# print(ex['csite'].numpy().decode('utf-8'))\n",
    "\n",
    "# Float\n",
    "print('\\nFloat (ctype_label):')\n",
    "print(ex['ctype_label'])\n",
    "# print(ex['csite_label'].numpy())\n",
    "\n",
    "# Int\n",
    "print('\\nInt (Response):')\n",
    "print(ex['Response'])\n",
    "# print(ex['Response'].numpy())\n",
    "\n",
    "# Float\n",
    "print('\\nFloat (ge_vec):')\n",
    "print(ex['ge_vec'][:4])\n",
    "# print(ex['ge_vec'].numpy()[:4])\n",
    "\n",
    "# Bytes\n",
    "print('\\nBytes (image_raw):')\n",
    "img = tf.image.decode_jpeg(ex['image_raw'], channels=3)\n",
    "print(tf.shape(img))\n",
    "print(img.numpy().shape)\n",
    "\n",
    "# util.np_to_pil(img.numpy())\n",
    "show_img(img.numpy())"
   ]
  },
  {
   "cell_type": "code",
   "execution_count": null,
   "metadata": {},
   "outputs": [],
   "source": []
  },
  {
   "cell_type": "code",
   "execution_count": 10,
   "metadata": {},
   "outputs": [
    {
     "name": "stdout",
     "output_type": "stream",
     "text": [
      "Number of files:    12\n",
      "Number of elements: 600\n",
      "Unique ctypes:      [b'digestive/gastrointestinal' b'squamous']\n",
      "bincount:           [  0 300   0   0   0   0   0   0   0   0 300]\n",
      "\n",
      "ctype label:\n",
      "[1, 1, 1, 10, 1, 1, 1, 1, 1, 1, 1, 10, 10, 1, 10, 1, 1, 1, 1, 1, 10, 1, 10, 1, 1, 10, 1, 1, 1, 10, 10, 1, 10, 1, 1, 1, 1, 10, 10, 1, 10, 1, 10, 1, 1, 10, 10, 10, 1, 10, 1, 1, 1, 10, 10, 10, 10, 1, 1, 1, 1, 1, 1, 10, 10, 1, 1, 1, 10, 1, 10, 1, 1, 10, 1, 10, 10, 10, 1, 1, 1, 1, 1, 10, 1, 1, 1, 10, 10, 10, 10, 1, 10, 1, 10, 10, 10, 1, 1, 1, 1, 10, 1, 1, 1, 1, 1, 1, 1, 1, 1, 10, 1, 10, 1, 10, 1, 1, 10, 1, 1, 1, 1, 10, 10, 1, 10, 10, 1, 1, 10, 10, 1, 1, 1, 1, 1, 1, 10, 10, 10, 1, 1, 1, 1, 10, 10, 1, 10, 10, 10, 1, 10, 10, 10, 1, 1, 10, 10, 1, 1, 10, 1, 1, 1, 1, 10, 1, 1, 10, 1, 1, 10, 1, 1, 1, 10, 10, 1, 1, 10, 10, 1, 10, 1, 1, 1, 10, 1, 10, 1, 1, 1, 1, 1, 1, 1, 1, 10, 1, 1, 1, 1, 10, 10, 10, 10, 10, 1, 1, 10, 1, 1, 10, 10, 10, 10, 1, 1, 1, 1, 1, 10, 10, 10, 1, 10, 10, 10, 10, 1, 1, 1, 1, 10, 1, 10, 1, 1, 10, 1, 1, 10, 1, 10, 1, 1, 1, 10, 10, 10, 10, 10, 10, 10, 10, 10, 10, 1, 10, 10, 1, 1, 10, 10, 10, 10, 10, 1, 10, 1, 10, 1, 1, 1, 10, 1, 10, 10, 1, 10, 1, 1, 10, 10, 1, 10, 1, 10, 1, 10, 10, 1, 10, 1, 10, 10, 1, 10, 10, 10, 10, 1, 1, 1, 10, 10, 10, 1, 1, 10, 1, 10, 10, 1, 1, 1, 10, 1, 1, 1, 10, 10, 10, 10, 1, 1, 1, 1, 10, 10, 10, 1, 1, 1, 1, 10, 1, 1, 10, 10, 1, 10, 10, 10, 1, 10, 1, 1, 1, 10, 1, 1, 10, 1, 1, 1, 1, 10, 10, 1, 1, 1, 10, 10, 10, 10, 1, 10, 1, 10, 1, 10, 1, 10, 10, 10, 1, 10, 1, 10, 10, 10, 10, 1, 10, 10, 10, 10, 1, 10, 10, 10, 10, 1, 1, 10, 1, 10, 10, 10, 10, 1, 10, 10, 10, 10, 1, 1, 10, 10, 1, 1, 1, 10, 10, 10, 10, 10, 10, 1, 10, 10, 1, 10, 1, 10, 10, 10, 1, 1, 10, 10, 1, 10, 1, 1, 1, 10, 1, 1, 1, 1, 1, 10, 10, 10, 1, 10, 10, 10, 1, 1, 1, 10, 1, 10, 1, 1, 10, 10, 1, 10, 10, 1, 10, 1, 10, 1, 10, 1, 10, 1, 10, 10, 10, 10, 1, 1, 1, 1, 10, 1, 1, 1, 10, 1, 10, 1, 10, 10, 10, 10, 1, 10, 1, 10, 10, 10, 1, 10, 1, 10, 10, 10, 1, 10, 1, 1, 1, 1, 10, 10, 10, 1, 1, 10, 1, 10, 1, 1, 1, 10, 10, 10, 1, 10, 1, 10, 1, 10, 1, 1, 10, 10, 1, 10, 10, 10, 10, 10, 10, 10, 10, 10, 1, 10, 10, 10, 10, 1, 10, 10, 10, 1, 1, 10, 10, 10, 10, 10, 10, 1, 10, 10, 1, 1, 10, 1, 1, 10, 10, 10, 1, 10, 10, 1, 1, 10, 1, 10, 10, 10, 10, 1, 10, 10, 10, 10, 1, 1, 10, 1, 10, 1, 10, 1, 10, 1, 1]\n",
      "\n",
      "tile id:\n",
      "[b'33705_36', b'33705_47', b'33705_43', b'10779_14', b'9636_45', b'33679_18', b'9636_19', b'9636_12', b'9636_50', b'33679_3']\n"
     ]
    }
   ],
   "source": [
    "ct_list = []\n",
    "ctl_list = []\n",
    "im_list = []\n",
    "id_list = []\n",
    "\n",
    "# All tfrecord\n",
    "ds = tf.data.TFRecordDataset(te_tfr_files)\n",
    "\n",
    "# ds = tf.data.Dataset.from_tensor_slices(te_tfr_files)\n",
    "# ds = ds.interleave(lambda x: tf.data.TFRecordDataset(x), cycle_length=4)\n",
    "\n",
    "# Subset of tfrecords\n",
    "# ds = tf.data.TFRecordDataset(te_tfr_files[0])  # label 1 (digestive/gastrointestinal)\n",
    "# ds = tf.data.TFRecordDataset(te_tfr_files[2])  # label 10 (squamous)\n",
    "# ds = tf.data.TFRecordDataset(te_tfr_files[:3])  # get 3 tfrecords\n",
    "\n",
    "ds = ds.shuffle(buffer_size=300, seed=None)  # this shuffles the items within ALL the loaded tfrecords\n",
    "\n",
    "# Iterate over all elements of the tfrecords\n",
    "for i, ex in enumerate(ds):\n",
    "    ex = tf.io.parse_single_example(ex, features=FEA_SPEC)\n",
    "    im_list.append(ex['image_raw'].numpy())\n",
    "    ct_list.append(ex['ctype'].numpy())\n",
    "    ctl_list.append(ex['ctype_label'].numpy())\n",
    "    id_list.append(ex['tile_id'].numpy())\n",
    "\n",
    "print('Number of files:   ', len(te_tfr_files))\n",
    "print('Number of elements:', len(ct_list))\n",
    "print('Unique ctypes:     ', np.unique(ct_list))\n",
    "print('bincount:          ', np.bincount(ctl_list))\n",
    "print('\\nctype label:\\n{}'.format(ctl_list))\n",
    "print('\\ntile id:\\n{}'.format(id_list[:10]))"
   ]
  },
  {
   "cell_type": "code",
   "execution_count": null,
   "metadata": {},
   "outputs": [],
   "source": []
  },
  {
   "cell_type": "markdown",
   "metadata": {},
   "source": [
    "# Suggestions on data loading pipeline\n",
    "- https://github.com/tensorflow/tensorflow/issues/14857 \n",
    "- https://github.com/jkjung-avt/keras_imagenet/blob/master/utils/dataset.py\n",
    "- https://jkjung-avt.github.io/tfrecords-for-keras/"
   ]
  },
  {
   "cell_type": "code",
   "execution_count": 11,
   "metadata": {},
   "outputs": [],
   "source": [
    "# # ----------------------\n",
    "# # The effect of repeat()\n",
    "# # ----------------------\n",
    "# sub_files = vl_tfr_files[:4]\n",
    "\n",
    "# # One repeat\n",
    "# print('\\nOne repeat:')\n",
    "# repeat = 1\n",
    "# shards = tf.data.Dataset.from_tensor_slices(sub_files)\n",
    "# shards = shards.repeat(repeat)\n",
    "# _ = [print(f) for i, f in enumerate(shards)]\n",
    "\n",
    "# # Two repeat\n",
    "# print('\\nTwo repeats:')\n",
    "# repeat = 2\n",
    "# shards = tf.data.Dataset.from_tensor_slices(sub_files)\n",
    "# shards = shards.repeat(repeat)\n",
    "# _ = [print(f) for i, f in enumerate(shards)]"
   ]
  },
  {
   "cell_type": "code",
   "execution_count": 12,
   "metadata": {},
   "outputs": [],
   "source": [
    "# # -----------------------\n",
    "# # The effect of shuffle()\n",
    "# # -----------------------\n",
    "# sub_files = vl_tfr_files[:8]\n",
    "# buffer_size = 2\n",
    "# # buffer_size = len(sub_files)\n",
    "# repeat = 1\n",
    "# seed = 0\n",
    "\n",
    "# print('\\nWithout shuffle (one repeat):')\n",
    "# shards = tf.data.Dataset.from_tensor_slices(sub_files)\n",
    "# shards = shards.repeat(repeat)\n",
    "# _ = [print(f) for i, f in enumerate(shards)]\n",
    "\n",
    "# print('\\nWith shuffle (buffer_size=2) (one repeat):')\n",
    "# shards = tf.data.Dataset.from_tensor_slices(sub_files)\n",
    "# shards = shards.repeat(repeat)\n",
    "# shards = shards.shuffle(buffer_size=buffer_size, seed=seed)\n",
    "# _ = [print(f) for i, f in enumerate(shards)]"
   ]
  },
  {
   "cell_type": "code",
   "execution_count": 13,
   "metadata": {},
   "outputs": [],
   "source": [
    "# # https://github.com/tensorflow/tensorflow/issues/14857 \n",
    "# sub_files = te_tfr_files\n",
    "\n",
    "# # 1. Randomly shuffle the entire data once using a MapReduce/Spark/Beam/etc. job\n",
    "# #    to create a set of roughly equal-sized files (\"shards\").\n",
    "# shards = tf.data.Dataset.from_tensor_slices(te_tfr_files)  # data shards\n",
    "\n",
    "# # 2. In each epoch:\n",
    "# # i. Randomly shuffle the list of shard filenames, using Dataset.list_files(...).shuffle(num_shards).\n",
    "# shards = shards.shuffle(len(sub_files), seed=None)\n",
    "# # shards = shards.repeat()\n",
    "\n",
    "# # ii. Use dataset.interleave(lambda filename: tf.data.TextLineDataset(filename), cycle_length=N)\n",
    "# #     to mix together records from N different shards.\n",
    "# dataset = shards.interleave(lambda x: tf.data.TFRecordDataset(x), cycle_length=4)\n",
    "\n",
    "# # iii. Use dataset.shuffle(B) to shuffle the resulting dataset. Setting B might require some experimentation,\n",
    "# #      but you will probably want to set it to some value larger than the number of records in a single shard.\n",
    "# dataset = dataset.shuffle(buffer_size=512)  # (ap) this shuffles the examples in the relevant filenames\n",
    "\n",
    "# _ = [print(f) for i, f in enumerate(shards)]\n",
    "\n",
    "# ct_list = []\n",
    "# ctl_list = []\n",
    "# im_list = []\n",
    "# id_list = []\n",
    "\n",
    "# for i, ex in enumerate(dataset):\n",
    "#     ex = tf.io.parse_single_example(ex, features=FEA_SPEC)\n",
    "#     im_list.append(ex['image_raw'].numpy())\n",
    "#     ct_list.append(ex['ctype'].numpy())\n",
    "#     ctl_list.append(ex['ctype_label'].numpy())\n",
    "#     id_list.append(ex['tile_id'].numpy())\n",
    "    \n",
    "# print('\\nNumber of files:   ', len(te_tfr_files))\n",
    "# print('Number of elements:', len(ct_list))\n",
    "# print('Unique ctypes:     ', np.unique(ct_list))\n",
    "# print('bincount:          ', np.bincount(ctl_list))\n",
    "# # print('\\nctype label:\\n{}'.format(ctl_list))\n",
    "# # print('\\ntile id:\\n{}'.format(id_list))"
   ]
  },
  {
   "cell_type": "code",
   "execution_count": 14,
   "metadata": {},
   "outputs": [],
   "source": [
    "# fig, axes = plt.subplots(1, 4, figsize=(17, 5), constrained_layout=True)\n",
    "# axes = axes.ravel()\n",
    "\n",
    "# img_dim = 300\n",
    "# for i, ex in enumerate(dataset.take(4)):\n",
    "#     ex = tf.io.parse_single_example(ex, features=FEA_SPEC)\n",
    "#     img = ex['image_raw']\n",
    "#     img = tf.image.decode_jpeg(img, channels=3)\n",
    "#     img = tf.cast(img, tf.float32) / 255.0\n",
    "#     img = tf.image.resize(images=img, size=(img_dim, img_dim),\n",
    "#                       method=tf.image.ResizeMethod.BILINEAR,\n",
    "#                       preserve_aspect_ratio=False)\n",
    "#     img = tf.image.random_flip_left_right(img)\n",
    "#     img = tf.image.random_flip_up_down(img)\n",
    "#     axes[i].imshow(img)\n",
    "#     axes[i].set_title('tile_id={}, ctype_label={}'.format(ex['tile_id'].numpy().decode('utf-8'), ex['ctype_label']))"
   ]
  },
  {
   "cell_type": "code",
   "execution_count": 15,
   "metadata": {},
   "outputs": [
    {
     "ename": "NameError",
     "evalue": "name 'get_dataset' is not defined",
     "output_type": "error",
     "traceback": [
      "\u001b[0;31m---------------------------------------------------------------------------\u001b[0m",
      "\u001b[0;31mNameError\u001b[0m                                 Traceback (most recent call last)",
      "\u001b[0;32m<ipython-input-15-f7b8db8310a8>\u001b[0m in \u001b[0;36m<module>\u001b[0;34m\u001b[0m\n\u001b[1;32m      8\u001b[0m \u001b[0;34m\u001b[0m\u001b[0m\n\u001b[1;32m      9\u001b[0m \u001b[0maa\u001b[0m \u001b[0;34m=\u001b[0m \u001b[0;34m[\u001b[0m\u001b[0;34m]\u001b[0m\u001b[0;34m\u001b[0m\u001b[0;34m\u001b[0m\u001b[0m\n\u001b[0;32m---> 10\u001b[0;31m \u001b[0mds\u001b[0m \u001b[0;34m=\u001b[0m \u001b[0mget_dataset\u001b[0m\u001b[0;34m(\u001b[0m\u001b[0mte_tfr_files\u001b[0m\u001b[0;34m)\u001b[0m\u001b[0;34m\u001b[0m\u001b[0;34m\u001b[0m\u001b[0m\n\u001b[0m\u001b[1;32m     11\u001b[0m \u001b[0;32mfor\u001b[0m \u001b[0mi\u001b[0m\u001b[0;34m,\u001b[0m \u001b[0mex\u001b[0m \u001b[0;32min\u001b[0m \u001b[0menumerate\u001b[0m\u001b[0;34m(\u001b[0m\u001b[0mds\u001b[0m\u001b[0;34m.\u001b[0m\u001b[0mshuffle\u001b[0m\u001b[0;34m(\u001b[0m\u001b[0;36m300\u001b[0m\u001b[0;34m)\u001b[0m\u001b[0;34m.\u001b[0m\u001b[0mtake\u001b[0m\u001b[0;34m(\u001b[0m\u001b[0;36m5\u001b[0m\u001b[0;34m)\u001b[0m\u001b[0;34m)\u001b[0m\u001b[0;34m:\u001b[0m\u001b[0;34m\u001b[0m\u001b[0;34m\u001b[0m\u001b[0m\n\u001b[1;32m     12\u001b[0m \u001b[0;31m#     print(i)\u001b[0m\u001b[0;34m\u001b[0m\u001b[0;34m\u001b[0m\u001b[0;34m\u001b[0m\u001b[0m\n",
      "\u001b[0;31mNameError\u001b[0m: name 'get_dataset' is not defined"
     ]
    }
   ],
   "source": [
    "# ds = tf.data.TFRecordDataset(te_tfr_files)\n",
    "# ex = next(ds.take(1).__iter__())\n",
    "# ii, oo = read_tfr_example(ex)\n",
    "# print(oo)\n",
    "\n",
    "# for i, ex in enumerate(ds.shuffle(300).take(5)):\n",
    "#     ii, oo = read_tfr_example(ex)\n",
    "\n",
    "aa = []\n",
    "ds = get_dataset(te_tfr_files)\n",
    "for i, ex in enumerate(ds.shuffle(300).take(5)):\n",
    "#     print(i)\n",
    "    aa.append(ex)"
   ]
  },
  {
   "cell_type": "code",
   "execution_count": 16,
   "metadata": {},
   "outputs": [],
   "source": [
    "# aa[0]"
   ]
  },
  {
   "cell_type": "code",
   "execution_count": 17,
   "metadata": {},
   "outputs": [],
   "source": [
    "def prepare_image(img, augment=True, img_dim=224):\n",
    "    \"\"\"\n",
    "    Prepare single image for training.\n",
    "    slideflow/model/_process_image()\n",
    "    Deotte: www.kaggle.com/cdeotte/triple-stratified-kfold-with-tfrecords/\n",
    "    \"\"\"\n",
    "    img = tf.image.decode_jpeg(img, channels=3)\n",
    "    \n",
    "    # slideflow\n",
    "    if self.normalizer:\n",
    "        image = tf.py_function(self.normalizer.tf_to_rgb, [image], tf.int32)\n",
    "    \n",
    "    # Scale image values\n",
    "    # img = tf.cast(img, tf.float32) / 255.0  # deotte\n",
    "    # image = tf.image.per_image_standardization(image)  # slideflow\n",
    "    \n",
    "    # Resize image\n",
    "    # in case, we're using my preprocessing\n",
    "    # img = tf.image.resize(images=img, size=(img_dim, img_dim), method=tf.image.ResizeMethod.BILINEAR, preserve_aspect_ratio=False)\n",
    "    \n",
    "    if augment:\n",
    "        image = tf.image.rot90(image, k=tf.random.uniform(shape=[], minval=0, maxval=4, dtype=tf.int32))\n",
    "        \n",
    "        # https://www.tensorflow.org/api_docs/python/tf/image/random_flip_up_down\n",
    "        img = tf.image.random_flip_left_right(img)\n",
    "        img = tf.image.random_flip_up_down(img)\n",
    "        \n",
    "    img = tf.image.convert_image_dtype(img, tf.float32)  # slideflow\n",
    "    img.set_shape([self.IMAGE_SIZE, self.IMAGE_SIZE, 3])  # slideflow\n",
    "    return img"
   ]
  },
  {
   "cell_type": "code",
   "execution_count": 18,
   "metadata": {},
   "outputs": [],
   "source": [
    "def read_tfr_example(ex, augment=True, img_dim=224):\n",
    "    \"\"\"\n",
    "    Read and parse a single example from a tfrecord, and prepare\n",
    "    inputs and outputs for TF model training.\n",
    "    \"\"\"\n",
    "    # print('Inside read_tfr_example() ...')\n",
    "    \n",
    "    ex = tf.io.parse_single_example(ex, FEA_SPEC)\n",
    "\n",
    "    # Inputs\n",
    "    img = ex['image_raw']\n",
    "    img = prepare_image(img, augment=augment, img_dim=img_dim)  # Deotte\n",
    "    #ge_vec = tf.cast(ex['ge_vec'], tf.float32)\n",
    "    #dd_vec = tf.cast(ex['dd_vec'], tf.float32)\n",
    "    inputs = {'img': img}\n",
    "\n",
    "    # Outputs\n",
    "    #label = tf.cast(ex['label'], tf.int64)  # cats and dogs\n",
    "    ctype_label = tf.cast(ex['ctype_label'], tf.int64)\n",
    "    \n",
    "    # print('Before', ctype_label)\n",
    "    if tf.equal(ctype_label, tf.constant(10, tf.int64)):\n",
    "    # if ctype_label == 10:\n",
    "        ctype_label = tf.constant(0, tf.int64)\n",
    "    # print('After ', ctype_label)\n",
    "    \n",
    "    outputs = {'ctype_label': ctype_label}\n",
    "\n",
    "    return inputs, outputs"
   ]
  },
  {
   "cell_type": "code",
   "execution_count": 19,
   "metadata": {},
   "outputs": [],
   "source": [
    "def get_dataset(files: List[str],\n",
    "                cache: bool=True,\n",
    "                shuffle: bool=False,\n",
    "                repeat: Union[bool, int]=False, \n",
    "                augment: bool=False,\n",
    "                prefetch: Optional[int]=1,\n",
    "                labeled: bool=False,\n",
    "                batch_size: int=32,\n",
    "                img_dim: int=224,\n",
    "                seed=None):\n",
    "    \"\"\" Create and return tf dataset using tfrecord files passed in files. \"\"\"\n",
    "    # print('Inside get_dataset() ...')\n",
    "    \n",
    "    dataset = tf.data.TFRecordDataset(files, num_parallel_reads=1)\n",
    "    \n",
    "    # -----------------------------------------------------------------------------\n",
    "    # https://github.com/tensorflow/tensorflow/issues/14857\n",
    "\n",
    "    # 1. Randomly shuffle the entire data once using a MapReduce/Spark/Beam/etc. job\n",
    "    #    to create a set of roughly equal-sized files (\"shards\").\n",
    "    \n",
    "    shards = tf.data.Dataset.from_tensor_slices(files)  # data shards\n",
    "\n",
    "    # 2. In each epoch:\n",
    "    # i. Randomly shuffle the list of shard filenames, using Dataset.list_files(...).shuffle(num_shards).\n",
    "\n",
    "    shards = shards.shuffle(len(shards), seed=seed)  # shuffle the list of shard filenames\n",
    "    # shards = shards.repeat()\n",
    "    \n",
    "    # ii. Use dataset.interleave(lambda filename: tf.data.TextLineDataset(filename), cycle_length=N)\n",
    "    #     to mix together records from N different shards.\n",
    "    \n",
    "    cycle_length = 8  # default: tf.data runtime decides what it should be based on available CPU\n",
    "    # cycle_length = 1\n",
    "    block_length = 1  # default: 1\n",
    "    num_parallel_calls = None  # default: default behavior is to fetch inputs from cycle elements synchronously with no parallelism\n",
    "    dataset = shards.interleave(\n",
    "        lambda x: tf.data.TFRecordDataset(x, num_parallel_reads=None),\n",
    "        cycle_length=cycle_length,\n",
    "        block_length=block_length,\n",
    "        num_parallel_calls=num_parallel_calls,\n",
    "        deterministic=False\n",
    "    )\n",
    "    \n",
    "    # instead of step 2.ii.\n",
    "    # ds = tf.data.TFRecordDataset(shards, num_parallel_reads=None)\n",
    "    \n",
    "    # (ap) it seems that cache comes after TFRecordDataset()\n",
    "    if cache:\n",
    "        dataset = dataset.cache()\n",
    "    \n",
    "    # iii. Use dataset.shuffle(B) to shuffle the resulting dataset. Setting B might require some experimentation,\n",
    "    #      but you will probably want to set it to some value larger than the number of records in a single shard.\n",
    "    \n",
    "    if shuffle:\n",
    "        dataset = dataset.shuffle(buffer_size=2048)  # (ap) shuffles the examples in the relevant filenames    \n",
    "\n",
    "    # -----------------------------------------------------------------------------\n",
    "    \n",
    "    # (ap) why do we need repeat if we specify epochs in the model.fit() ??\n",
    "    if repeat is True:\n",
    "        dataset = dataset.repeat()\n",
    "    elif isinstance(repeat, int) and repeat > 0:\n",
    "        dataset = dataset.repeat(repeat)\n",
    "\n",
    "    # num_parallel_calls = AUTO\n",
    "    num_parallel_calls = 8\n",
    "    # num_parallel_calls = None\n",
    "    dataset = dataset.map(lambda ex: read_tfr_example(ex, augment=augment, img_dim=img_dim),\n",
    "                num_parallel_calls=num_parallel_calls)\n",
    "\n",
    "    dataset = dataset.batch(batch_size)\n",
    "\n",
    "    # https://www.tensorflow.org/api_docs/python/tf/data/Dataset#prefetch\n",
    "    # ds = ds.prefetch(buffer_size=AUTO)\n",
    "    if prefetch is not None:\n",
    "        dataset = dataset.prefetch(buffer_size=prefetch)\n",
    "    return dataset"
   ]
  },
  {
   "cell_type": "code",
   "execution_count": 20,
   "metadata": {},
   "outputs": [],
   "source": [
    "def get_dataset(files: List[str],\n",
    "                cache: bool=True,\n",
    "                shuffle: bool=False,\n",
    "                repeat: Union[bool, int]=False, \n",
    "                augment: bool=False,\n",
    "                prefetch: Optional[int]=1,\n",
    "                labeled: bool=False,\n",
    "                batch_size: int=32,\n",
    "                img_dim: int=224,\n",
    "                seed=None):\n",
    "    \"\"\" Create and return tf dataset using tfrecord files passed in files. \"\"\"\n",
    "    # print('Inside get_dataset() ...')\n",
    "    \n",
    "    # -----------------------------------------------------------------------------\n",
    "    # https://github.com/tensorflow/tensorflow/issues/14857\n",
    "\n",
    "    # 1. Randomly shuffle the entire data once using a MapReduce/Spark/Beam/etc. job\n",
    "    #    to create a set of roughly equal-sized files (\"shards\").\n",
    "    \n",
    "    shards = tf.data.Dataset.from_tensor_slices(files)  # data shards\n",
    "\n",
    "    # 2. In each epoch:\n",
    "    # i. Randomly shuffle the list of shard filenames, using Dataset.list_files(...).shuffle(num_shards).\n",
    "    \n",
    "    shards = shards.shuffle(len(shards), seed=seed)  # shuffle the list of shard filenames\n",
    "    # shards = shards.repeat()\n",
    "    \n",
    "    # ii. Use dataset.interleave(lambda filename: tf.data.TextLineDataset(filename), cycle_length=N)\n",
    "    #     to mix together records from N different shards.\n",
    "    \n",
    "    cycle_length = 8  # default: tf.data runtime decides what it should be based on available CPU\n",
    "    # cycle_length = 1\n",
    "    block_length = 1  # default: 1\n",
    "    num_parallel_calls = None  # default: default behavior is to fetch inputs from cycle elements synchronously with no parallelism\n",
    "    dataset = shards.interleave(\n",
    "        lambda x: tf.data.TFRecordDataset(x, num_parallel_reads=None),\n",
    "        cycle_length=cycle_length,\n",
    "        block_length=block_length,\n",
    "        num_parallel_calls=num_parallel_calls,\n",
    "        deterministic=False\n",
    "    )\n",
    "    \n",
    "    # instead of step 2.ii.\n",
    "    # ds = tf.data.TFRecordDataset(shards, num_parallel_reads=None)\n",
    "    \n",
    "    # (ap) it seems that cache comes after TFRecordDataset()\n",
    "    if cache:\n",
    "        dataset = dataset.cache()\n",
    "    \n",
    "    # iii. Use dataset.shuffle(B) to shuffle the resulting dataset. Setting B might require some experimentation,\n",
    "    #      but you will probably want to set it to some value larger than the number of records in a single shard.\n",
    "    \n",
    "    if shuffle:\n",
    "        dataset = dataset.shuffle(buffer_size=2048)  # (ap) shuffles the examples in the relevant filenames    \n",
    "\n",
    "    # -----------------------------------------------------------------------------\n",
    "    \n",
    "    # (ap) why do we need repeat if we specify epochs in the model.fit() ??\n",
    "    if repeat is True:\n",
    "        dataset = dataset.repeat()\n",
    "    elif isinstance(repeat, int) and repeat > 0:\n",
    "        dataset = dataset.repeat(repeat)\n",
    "\n",
    "    # num_parallel_calls = AUTO\n",
    "    num_parallel_calls = 8\n",
    "    # num_parallel_calls = None\n",
    "    dataset = dataset.map(lambda ex: read_tfr_example(ex, augment=augment, img_dim=img_dim),\n",
    "                num_parallel_calls=num_parallel_calls)\n",
    "\n",
    "    dataset = dataset.batch(batch_size)\n",
    "\n",
    "    # https://www.tensorflow.org/api_docs/python/tf/data/Dataset#prefetch\n",
    "    # ds = ds.prefetch(buffer_size=AUTO)\n",
    "    if prefetch is not None:\n",
    "        dataset = dataset.prefetch(buffer_size=prefetch)\n",
    "    return dataset"
   ]
  },
  {
   "cell_type": "code",
   "execution_count": 21,
   "metadata": {},
   "outputs": [
    {
     "name": "stdout",
     "output_type": "stream",
     "text": [
      "Inputs:  dict_keys(['img'])\n",
      "Outputs: dict_keys(['ctype_label'])\n",
      "\n",
      "Input features:\n",
      "img (32, 150, 150, 3)\n",
      "\n",
      "Outputs:\n",
      "ctype_label [0 1 1 0 0 1 1 0 0 0 0 0 1 1 0 0 0 1 1 0 1 0 1 1 0 1 0 0 1 1 0 0]\n"
     ]
    }
   ],
   "source": [
    "# -----------------------------------------------\n",
    "# Read single tfrecord and explore single example\n",
    "# -----------------------------------------------\n",
    "# ds = tf.data.TFRecordDataset(filenames=tr_tfr_files)\n",
    "# ds = ds.map(lambda ex: read_tfr_example(ex, augment=True))\n",
    "kwargs = {'batch_size': 32,\n",
    "          'shuffle': True,\n",
    "          'augment': False,\n",
    "          'repeat': False,\n",
    "          'prefetch': 5,\n",
    "          'img_dim': 150}\n",
    "\n",
    "ds = get_dataset(te_tfr_files, **kwargs)\n",
    "\n",
    "# Take an example\n",
    "ex = next(ds.take(count=1).__iter__())  # creates Dataset with at most 'count' elements from this dataset.\n",
    "# ex = next(ds.__iter__())\n",
    "print('Inputs: ', ex[0].keys())\n",
    "print('Outputs:', ex[1].keys())\n",
    "\n",
    "print('\\nInput features:')\n",
    "for i, fea_name in enumerate(ex[0].keys()):\n",
    "    print(fea_name, ex[0][fea_name].numpy().shape)\n",
    "    \n",
    "print('\\nOutputs:')\n",
    "for i, out_name in enumerate(ex[1].keys()):\n",
    "    print(out_name, ex[1][out_name].numpy())"
   ]
  },
  {
   "cell_type": "code",
   "execution_count": 22,
   "metadata": {},
   "outputs": [
    {
     "name": "stdout",
     "output_type": "stream",
     "text": [
      "(32, 150, 150, 3)\n",
      "(150, 150, 3)\n"
     ]
    }
   ],
   "source": [
    "print(ex[0]['img'].numpy().shape)\n",
    "print(ex[0]['img'].numpy()[0].shape)"
   ]
  },
  {
   "cell_type": "code",
   "execution_count": 23,
   "metadata": {},
   "outputs": [
    {
     "name": "stdout",
     "output_type": "stream",
     "text": [
      "(32, 150, 150, 3)\n",
      "(32,)\n",
      "(32, 150, 150, 3)\n",
      "(32,)\n"
     ]
    }
   ],
   "source": [
    "ds = get_dataset(te_tfr_files, **kwargs)\n",
    "for i, ex in enumerate(ds.take(2)):\n",
    "    print(ex[0]['img'].shape)\n",
    "    print(ex[1]['ctype_label'].shape)"
   ]
  },
  {
   "cell_type": "code",
   "execution_count": 24,
   "metadata": {},
   "outputs": [
    {
     "name": "stderr",
     "output_type": "stream",
     "text": [
      "Clipping input data to the valid range for imshow with RGB data ([0..1] for floats or [0..255] for integers).\n",
      "Clipping input data to the valid range for imshow with RGB data ([0..1] for floats or [0..255] for integers).\n",
      "Clipping input data to the valid range for imshow with RGB data ([0..1] for floats or [0..255] for integers).\n",
      "Clipping input data to the valid range for imshow with RGB data ([0..1] for floats or [0..255] for integers).\n"
     ]
    },
    {
     "data": {
      "image/png": "[encoded data removed]",
      "text/plain": [
       "<Figure size 864x288 with 4 Axes>"
      ]
     },
     "metadata": {
      "needs_background": "light"
     },
     "output_type": "display_data"
    }
   ],
   "source": [
    "fig, axes = plt.subplots(1, 4, figsize=(12, 4), constrained_layout=True)\n",
    "axes = axes.ravel()\n",
    "for i, ex in enumerate(ds.take(4)):\n",
    "    idx = 31  # take an element of the current batch\n",
    "    axes[i].imshow(ex[0]['img'].numpy()[idx])\n",
    "    axes[i].set_title(ex[1]['ctype_label'].numpy()[idx])"
   ]
  },
  {
   "cell_type": "code",
   "execution_count": null,
   "metadata": {},
   "outputs": [],
   "source": []
  },
  {
   "cell_type": "markdown",
   "metadata": {},
   "source": [
    "# Define NN model"
   ]
  },
  {
   "cell_type": "markdown",
   "metadata": {},
   "source": [
    "Transfer learning <br>\n",
    "https://www.pyimagesearch.com/2019/06/24/change-input-shape-dimensions-for-fine-tuning-with-keras/"
   ]
  },
  {
   "cell_type": "code",
   "execution_count": 25,
   "metadata": {},
   "outputs": [],
   "source": [
    "# ------------------------------------------\n",
    "# Define TF Datasets for T/V/E\n",
    "# ------------------------------------------\n",
    "kwargs = {'batch_size': 32,\n",
    "          'shuffle': True,\n",
    "          'augment': False,\n",
    "          'repeat': False,\n",
    "          'prefetch': 10,\n",
    "          'img_dim': 150,\n",
    "          'seed': None}\n",
    "\n",
    "ds_tr = get_dataset(tr_tfr_files, **kwargs)\n",
    "ds_vl = get_dataset(vl_tfr_files, **kwargs)\n",
    "ds_te = get_dataset(te_tfr_files, **kwargs)"
   ]
  },
  {
   "cell_type": "code",
   "execution_count": 26,
   "metadata": {},
   "outputs": [],
   "source": [
    "data_augmentation = keras.Sequential(\n",
    "    [\n",
    "        layers.experimental.preprocessing.RandomFlip(\"horizontal\"),\n",
    "        layers.experimental.preprocessing.RandomRotation(0.1),\n",
    "    ]\n",
    ")"
   ]
  },
  {
   "cell_type": "code",
   "execution_count": 27,
   "metadata": {},
   "outputs": [
    {
     "name": "stdout",
     "output_type": "stream",
     "text": [
      "Model: \"functional_1\"\n",
      "_________________________________________________________________\n",
      "Layer (type)                 Output Shape              Param #   \n",
      "=================================================================\n",
      "img (InputLayer)             [(None, 150, 150, 3)]     0         \n",
      "_________________________________________________________________\n",
      "sequential (Sequential)      (None, 150, 150, 3)       0         \n",
      "_________________________________________________________________\n",
      "normalization (Normalization (None, 150, 150, 3)       7         \n",
      "_________________________________________________________________\n",
      "xception (Functional)        (None, 5, 5, 2048)        20861480  \n",
      "_________________________________________________________________\n",
      "global_average_pooling2d (Gl (None, 2048)              0         \n",
      "_________________________________________________________________\n",
      "dropout (Dropout)            (None, 2048)              0         \n",
      "_________________________________________________________________\n",
      "ctype_label (Dense)          (None, 1)                 2049      \n",
      "=================================================================\n",
      "Total params: 20,863,536\n",
      "Trainable params: 2,049\n",
      "Non-trainable params: 20,861,487\n",
      "_________________________________________________________________\n"
     ]
    }
   ],
   "source": [
    "base_model = keras.applications.Xception(\n",
    "    weights=\"imagenet\",  # Load weights pre-trained on ImageNet.\n",
    "    input_shape=(150, 150, 3),\n",
    "    include_top=False,\n",
    ")  # Do not include the ImageNet classifier at the top.\n",
    "\n",
    "# Freeze the base_model\n",
    "base_model.trainable = False\n",
    "\n",
    "# Create new model on top\n",
    "inputs = keras.Input(shape=(150, 150, 3), name='img')\n",
    "x = data_augmentation(inputs)  # Apply random data augmentation\n",
    "\n",
    "# Pre-trained Xception weights requires that input be normalized\n",
    "# from (0, 255) to a range (-1., +1.), the normalization layer\n",
    "# does the following, outputs = (inputs - mean) / sqrt(var)\n",
    "norm_layer = keras.layers.experimental.preprocessing.Normalization()\n",
    "mean = np.array([127.5] * 3)\n",
    "var = mean ** 2\n",
    "# Scale inputs to [-1, +1]\n",
    "x = norm_layer(x)\n",
    "norm_layer.set_weights([mean, var])\n",
    "\n",
    "# The base model contains batchnorm layers. We want to keep them in inference mode\n",
    "# when we unfreeze the base model for fine-tuning, so we make sure that the\n",
    "# base_model is running in inference mode here.\n",
    "x = base_model(x, training=False)\n",
    "x = keras.layers.GlobalAveragePooling2D()(x)\n",
    "x = keras.layers.Dropout(0.2)(x)  # Regularize with dropout\n",
    "outputs = keras.layers.Dense(1, name='ctype_label')(x)\n",
    "model = keras.Model(inputs, outputs)\n",
    "\n",
    "model.summary()"
   ]
  },
  {
   "cell_type": "code",
   "execution_count": 28,
   "metadata": {},
   "outputs": [
    {
     "name": "stdout",
     "output_type": "stream",
     "text": [
      "Epoch 1/20\n",
      "155/155 [==============================] - 6s 36ms/step - loss: 0.0000e+00 - binary_accuracy: 0.5141 - val_loss: 0.0000e+00 - val_binary_accuracy: 0.5000\n",
      "Epoch 2/20\n",
      "155/155 [==============================] - 4s 27ms/step - loss: 0.0000e+00 - binary_accuracy: 0.5152 - val_loss: 0.0000e+00 - val_binary_accuracy: 0.5000\n",
      "Epoch 3/20\n",
      "155/155 [==============================] - 4s 27ms/step - loss: 0.0000e+00 - binary_accuracy: 0.5152 - val_loss: 0.0000e+00 - val_binary_accuracy: 0.5000\n",
      "Epoch 4/20\n",
      "155/155 [==============================] - 4s 27ms/step - loss: 0.0000e+00 - binary_accuracy: 0.5152 - val_loss: 0.0000e+00 - val_binary_accuracy: 0.5000\n",
      "Epoch 5/20\n",
      "155/155 [==============================] - 4s 27ms/step - loss: 0.0000e+00 - binary_accuracy: 0.5152 - val_loss: 0.0000e+00 - val_binary_accuracy: 0.5000\n",
      "Epoch 6/20\n",
      "155/155 [==============================] - 4s 27ms/step - loss: 0.0000e+00 - binary_accuracy: 0.5152 - val_loss: 0.0000e+00 - val_binary_accuracy: 0.5000\n",
      "Epoch 7/20\n",
      "155/155 [==============================] - 4s 27ms/step - loss: 0.0000e+00 - binary_accuracy: 0.5152 - val_loss: 0.0000e+00 - val_binary_accuracy: 0.5000\n",
      "Epoch 8/20\n",
      "155/155 [==============================] - 4s 27ms/step - loss: 0.0000e+00 - binary_accuracy: 0.5152 - val_loss: 0.0000e+00 - val_binary_accuracy: 0.5000\n",
      "Epoch 9/20\n",
      "155/155 [==============================] - 4s 27ms/step - loss: 0.0000e+00 - binary_accuracy: 0.5152 - val_loss: 0.0000e+00 - val_binary_accuracy: 0.5000\n",
      "Epoch 10/20\n",
      "155/155 [==============================] - 4s 27ms/step - loss: 0.0000e+00 - binary_accuracy: 0.5152 - val_loss: 0.0000e+00 - val_binary_accuracy: 0.5000\n",
      "Epoch 11/20\n",
      "155/155 [==============================] - 4s 28ms/step - loss: 0.0000e+00 - binary_accuracy: 0.5152 - val_loss: 0.0000e+00 - val_binary_accuracy: 0.5000\n",
      "Epoch 12/20\n",
      "155/155 [==============================] - 4s 28ms/step - loss: 0.0000e+00 - binary_accuracy: 0.5152 - val_loss: 0.0000e+00 - val_binary_accuracy: 0.5000\n",
      "Epoch 13/20\n",
      "155/155 [==============================] - 4s 28ms/step - loss: 0.0000e+00 - binary_accuracy: 0.5152 - val_loss: 0.0000e+00 - val_binary_accuracy: 0.5000\n",
      "Epoch 14/20\n",
      "155/155 [==============================] - 4s 28ms/step - loss: 0.0000e+00 - binary_accuracy: 0.5152 - val_loss: 0.0000e+00 - val_binary_accuracy: 0.5000\n",
      "Epoch 15/20\n",
      "155/155 [==============================] - 4s 28ms/step - loss: 0.0000e+00 - binary_accuracy: 0.5152 - val_loss: 0.0000e+00 - val_binary_accuracy: 0.5000\n",
      "Epoch 16/20\n",
      "155/155 [==============================] - 4s 28ms/step - loss: 0.0000e+00 - binary_accuracy: 0.5152 - val_loss: 0.0000e+00 - val_binary_accuracy: 0.5000\n",
      "Epoch 17/20\n",
      "155/155 [==============================] - 4s 28ms/step - loss: 0.0000e+00 - binary_accuracy: 0.5152 - val_loss: 0.0000e+00 - val_binary_accuracy: 0.5000\n",
      "Epoch 18/20\n",
      "155/155 [==============================] - 4s 28ms/step - loss: 0.0000e+00 - binary_accuracy: 0.5152 - val_loss: 0.0000e+00 - val_binary_accuracy: 0.5000\n",
      "Epoch 19/20\n",
      "155/155 [==============================] - 4s 28ms/step - loss: 0.0000e+00 - binary_accuracy: 0.5152 - val_loss: 0.0000e+00 - val_binary_accuracy: 0.5000\n",
      "Epoch 20/20\n",
      "155/155 [==============================] - 4s 28ms/step - loss: 0.0000e+00 - binary_accuracy: 0.5152 - val_loss: 0.0000e+00 - val_binary_accuracy: 0.5000\n"
     ]
    },
    {
     "data": {
      "text/plain": [
       "<tensorflow.python.keras.callbacks.History at 0x7fe01c5c4f50>"
      ]
     },
     "execution_count": 28,
     "metadata": {},
     "output_type": "execute_result"
    }
   ],
   "source": [
    "# First, clear prior Tensorflow graph to free memory\n",
    "tf.keras.backend.clear_session()  # slideflow\n",
    "\n",
    "# loss = tf.keras.losses.BinaryCrossentropy(from_logits=True)\n",
    "loss = {'ctype_label': tf.keras.losses.CategoricalCrossentropy(from_logits=True)}\n",
    "\n",
    "model.compile(\n",
    "    optimizer=keras.optimizers.Adam(),\n",
    "    loss=loss,\n",
    "    metrics=[keras.metrics.BinaryAccuracy()],\n",
    ")\n",
    "\n",
    "epochs = 20\n",
    "model.fit(ds_tr, epochs=epochs, validation_data=ds_vl)"
   ]
  },
  {
   "cell_type": "code",
   "execution_count": null,
   "metadata": {},
   "outputs": [],
   "source": []
  },
  {
   "cell_type": "code",
   "execution_count": null,
   "metadata": {},
   "outputs": [],
   "source": []
  },
  {
   "cell_type": "code",
   "execution_count": null,
   "metadata": {},
   "outputs": [],
   "source": [
    "# ------------------------------------------\n",
    "# Define TF2 model - multimodal\n",
    "# ------------------------------------------  \n",
    "initializer = 'he_uniform'\n",
    "batchnorm = True\n",
    "dr_rate = 0.2\n",
    "\n",
    "# ---------------------\n",
    "# GE\n",
    "# ---------------------\n",
    "in_ge = Input(shape=(in_dim_ge,), name='in_ge')\n",
    "units_ge = [800, 500]\n",
    "\n",
    "x = layers.Dense(units_ge[0], kernel_initializer=initializer, name='ge_dense_0')(in_ge)\n",
    "if batchnorm:\n",
    "    x = layers.BatchNormalization()(x)\n",
    "x = layers.Activation('relu')(x)\n",
    "x = layers.Dropout(dr_rate)(x)\n",
    "\n",
    "x = layers.Dense(units_ge[1], kernel_initializer=initializer, name='ge_dense_1')(x)\n",
    "if batchnorm:\n",
    "    x = layers.BatchNormalization()(x)\n",
    "x = layers.Activation('relu')(x)\n",
    "out_ge = layers.Dropout(dr_rate)(x)\n",
    "\n",
    "ge = Model(inputs=in_ge, outputs=out_ge, name='out_ge')\n",
    "\n",
    "# ---------------------\n",
    "# DD\n",
    "# ---------------------\n",
    "in_dd = Input(shape=(in_dim_dd,), name='in_dd')\n",
    "units_dd = [995, 700]\n",
    "\n",
    "x = layers.Dense(units_dd[0], kernel_initializer=initializer, name='dd_dense_0')(in_dd)\n",
    "if batchnorm:\n",
    "    x = layers.BatchNormalization()(x)\n",
    "x = layers.Activation('relu')(x)\n",
    "x = layers.Dropout(dr_rate)(x)\n",
    "\n",
    "x = layers.Dense(units_dd[1], kernel_initializer=initializer, name='dd_dense_1')(x)\n",
    "if batchnorm:\n",
    "    x = layers.BatchNormalization()(x)\n",
    "x = layers.Activation('relu')(x)\n",
    "out_dd = layers.Dropout(dr_rate)(x)\n",
    "\n",
    "dd = Model(inputs=in_dd, outputs=out_dd, name='out_dd')\n",
    "\n",
    "# ---------------------\n",
    "# IMG\n",
    "# ---------------------\n",
    "in_im = Input(shape=(in_dim_im,), name='in_im')\n",
    "\n",
    "pass\n",
    "# tf.keras.applications.EfficientNetB3(\n",
    "#     include_top=True,\n",
    "#     weights=\"imagenet\",\n",
    "#     input_tensor=None,\n",
    "#     input_shape=None,\n",
    "#     pooling=None,\n",
    "#     classes=1000,\n",
    "#     classifier_activation=\"softmax\",\n",
    "#     **kwargs\n",
    "# )\n",
    "pass\n",
    "\n",
    "# ---------------------\n",
    "# Merge towers\n",
    "mrg = layers.concatenate([ge.output, dd.output, im.output], axis=1)\n",
    "# units_mrg = [1000, 500, 250, 125]  # original\n",
    "units_mrg = [500, 250, 125]  # fair\n",
    "\n",
    "x = layers.Dense(units_mrg[0], kernel_initializer=initializer)(mrg)\n",
    "if batchnorm:\n",
    "    x = layers.BatchNormalization()(x)\n",
    "x = layers.Activation('relu')(x)\n",
    "x = layers.Dropout(dr_rate)(x)\n",
    "\n",
    "x = layers.Dense(units_mrg[1], kernel_initializer=initializer)(x)\n",
    "if batchnorm:\n",
    "    x = layers.BatchNormalization()(x)\n",
    "x = layers.Activation('relu')(x)\n",
    "x = layers.Dropout(dr_rate)(x)\n",
    "\n",
    "x = layers.Dense(units_mrg[2], kernel_initializer=initializer)(x)\n",
    "if batchnorm:\n",
    "    x = layers.BatchNormalization()(x)\n",
    "x = layers.Activation('relu')(x)\n",
    "x = layers.Dropout(dr_rate)(x)\n",
    "\n",
    "# x = layers.Dense(units_mrg[3], kernel_initializer=initializer)(x)\n",
    "# if batchnorm:\n",
    "#     x = layers.BatchNormalization()(x)\n",
    "# x = layers.Activation('relu')(x)\n",
    "# x = layers.Dropout(dr_rate)(x)\n",
    "\n",
    "# ---------------------\n",
    "# Output\n",
    "outputs = layers.Dense(1, activation='relu', name='bin_response')(x)\n",
    "\n",
    "# ---------------------\n",
    "# Input --> Output\n",
    "model = Model(inputs=[in_ge, in_dd, in_im], outputs=[outputs])\n",
    "\n",
    "if opt_name.lower() == 'adam':\n",
    "    opt = keras.optimizers.Adam(learning_rate)\n",
    "else:\n",
    "    opt = keras.optimizers.SGD(learning_rate, momentum=0.9)\n",
    "    \n",
    "model.compile(loss=tf.keras.losses.BinaryCrossentropy(label_smoothing=0),\n",
    "              optimizer=opt,\n",
    "              metrics=['mae'])"
   ]
  },
  {
   "cell_type": "code",
   "execution_count": null,
   "metadata": {},
   "outputs": [],
   "source": []
  },
  {
   "cell_type": "code",
   "execution_count": null,
   "metadata": {},
   "outputs": [],
   "source": [
    "# Inputs\n",
    "input_ge = tf.keras.Input(shape=(GE_LEN,), name='ge_vec')\n",
    "input_dd = tf.keras.Input(shape=(DD_LEN,), name='dd_vec')\n",
    "input_im = tf.keras.Input(shape=(GE_LEN,), name='img')\n",
    "\n",
    "# Hidden\n",
    "fc = tf.keras.layers.Dense(128, activation='relu', name='dense_1')(input_ge)\n",
    "fc = tf.keras.layers.Dropout(0.2, name='dropout_1')(fc)\n",
    "fc = tf.keras.layers.Dense(128, activation='relu', name='dense_2')(fc)\n",
    "fc = tf.keras.layers.Dropout(0.2, name='dropout_2')(fc)\n",
    "\n",
    "# Output\n",
    "ctype_out = tf.keras.layers.Dense(CTYPE_NUM_CLASSES, activation='softmax', name='ctype_label')(fc)\n",
    "csite_out = tf.keras.layers.Dense(CSITE_NUM_CLASSES, activation='softmax', name='csite_label')(fc)\n",
    "# ctype_out = tf.keras.layers.Dense(1, activation='softmax', name='ctype_label')(fc)\n",
    "# csite_out = tf.keras.layers.Dense(1, activation='softmax', name='csite_label')(fc)\n",
    "\n",
    "# Model\n",
    "model = tf.keras.Model(inputs=[input_ge], outputs=[ctype_out, csite_out])\n",
    "# model = tf.keras.Model(inputs=[input_ge], outputs=[csite_out])\n",
    "model.summary()\n",
    "\n",
    "# ----------\n",
    "# Compile\n",
    "# ----------\n",
    "# model.compile(optimizer=tf.keras.optimizers.Adam(),\n",
    "#               loss={'csite_label': tf.keras.losses.categorical_crossentropy},\n",
    "#               metrics=[tf.keras.metrics.categorical_crossentropy])\n",
    "\n",
    "model.compile(optimizer=tf.keras.optimizers.Adam(),\n",
    "              loss={'csite_label': tf.keras.losses.categorical_crossentropy,\n",
    "                    'ctype_label': tf.keras.losses.categorical_crossentropy},\n",
    "              metrics=[tf.keras.metrics.categorical_crossentropy])\n",
    "\n",
    "# model.compile(optimizer=tf.keras.optimizers.Adam(),\n",
    "#               loss={'csite_label': tf.keras.losses.mean_absolute_error},\n",
    "#               metrics=[tf.keras.metrics.mean_absolute_error])\n",
    "\n",
    "# model.compile(optimizer=tf.keras.optimizers.Adam(),\n",
    "#               loss={'csite_label': tf.keras.losses.mean_absolute_error,\n",
    "#                     'ctype_label': tf.keras.losses.mean_absolute_error},\n",
    "#               metrics=[tf.keras.metrics.mean_absolute_error])"
   ]
  },
  {
   "cell_type": "code",
   "execution_count": null,
   "metadata": {},
   "outputs": [],
   "source": [
    "# The choice of categorical_crossentropy vs sparse_categorical_crossentropy depends on the shape of labels depennds\n",
    "# stackoverflow.com/questions/49161174/tensorflow-logits-and-labels-must-have-the-same-first-dimension\n",
    "# ================================================================================================================\n",
    "# history = model.fit(X_train, y_train, epochs=30, validation_data=(X_valid, y_valid))\n",
    "\n",
    "history = model.fit(ds_train,\n",
    "                    epochs=20,\n",
    "                    validation_data=ds_val,\n",
    "                    verbose=False)"
   ]
  },
  {
   "cell_type": "code",
   "execution_count": null,
   "metadata": {},
   "outputs": [],
   "source": []
  },
  {
   "cell_type": "code",
   "execution_count": null,
   "metadata": {},
   "outputs": [],
   "source": []
  },
  {
   "cell_type": "code",
   "execution_count": null,
   "metadata": {},
   "outputs": [],
   "source": []
  },
  {
   "cell_type": "code",
   "execution_count": 5,
   "metadata": {},
   "outputs": [
    {
     "data": {
      "text/plain": [
       "[(403, 2607), (403, 2607), (403, 2607), (403, 2607), (405, 2607)]"
      ]
     },
     "execution_count": 5,
     "metadata": {},
     "output_type": "execute_result"
    }
   ],
   "source": [
    "# Divide the df into smaller dfs\n",
    "n_tfrecords = 5\n",
    "d = int(data.shape[0]/n_tfrecords)\n",
    "dfs = []\n",
    "\n",
    "for i in range(n_tfrecords):\n",
    "    i0 = i * d\n",
    "    i1 = (i + 1) * d\n",
    "    if i == n_tfrecords - 1:\n",
    "        i1 = None\n",
    "    dfs.append(data.iloc[i0:i1])\n",
    "    \n",
    "[df.shape for df in dfs]"
   ]
  },
  {
   "cell_type": "code",
   "execution_count": 6,
   "metadata": {},
   "outputs": [],
   "source": [
    "# next(dfs[1].iterrows())[1]\n",
    "# next(dfs[1].iterrows())[1].index\n",
    "# next(dfs[1].iterrows())[1].values\n",
    "\n",
    "# item = next(dfs[1].iterrows())[1]\n",
    "# ge_vec = [value for col_name, value in zip(item.index, item.values) if col_name.startswith('ge_')]\n",
    "# dd_vec = [value for col_name, value in zip(item.index, item.values) if col_name.startswith('dd_')]\n",
    "# item['Sample']"
   ]
  },
  {
   "cell_type": "code",
   "execution_count": 9,
   "metadata": {},
   "outputs": [
    {
     "name": "stdout",
     "output_type": "stream",
     "text": [
      "Train samples 1612\n",
      "Val samples   405\n",
      "Number of examples in the tfrecord: 405\n"
     ]
    }
   ],
   "source": [
    "# Create tfrecords\n",
    "# ----------------\n",
    "# Ourdir\n",
    "tfr_out = Path.cwd()/'tfr_from_csv'\n",
    "os.makedirs(tfr_out, exist_ok=True)\n",
    "\n",
    "# Randomize the dfs\n",
    "randomize = False\n",
    "if randomize:\n",
    "    import random\n",
    "    random.shuffle(dfs)\n",
    "    \n",
    "n_tr_dfs = 4  # num of train tfr files\n",
    "n_vl_dfs = 1  # num of val tfr files\n",
    "tr_sz = 0     # counter for training examples\n",
    "vl_sz = 0     # counter for val examples\n",
    "\n",
    "for i, df in enumerate(dfs):\n",
    "    i += 1\n",
    "\n",
    "    if i <= n_tr_dfs:\n",
    "        tfr_fname = tfr_out/f'train_{i}.tfrecord'\n",
    "        tr_sz += df.shape[0]\n",
    "    else:\n",
    "        tfr_fname = tfr_out/f'val_{i}.tfrecord'\n",
    "        vl_sz += df.shape[0]\n",
    "        \n",
    "    # Create tfr writer\n",
    "    writer = tf.io.TFRecordWriter(str(tfr_fname))\n",
    "\n",
    "    for i, item in df.iterrows():\n",
    "        # Prefix rna and drug features\n",
    "        ge_vec = [value for col_name, value in zip(item.index, item.values) if col_name.startswith('ge_')]\n",
    "        dd_vec = [value for col_name, value in zip(item.index, item.values) if col_name.startswith('dd_')]\n",
    "        \n",
    "        ex = tf.train.Example(features=tf.train.Features(\n",
    "            feature={\n",
    "                'ge_vec': tf.train.Feature(float_list=tf.train.FloatList(value=ge_vec)),\n",
    "                'dd_vec': tf.train.Feature(float_list=tf.train.FloatList(value=dd_vec)),\n",
    "                'Sample': tf.train.Feature(bytes_list=tf.train.BytesList(value=[bytes(item['Sample'], 'utf-8')])),\n",
    "                'ctype_label': tf.train.Feature(int64_list=tf.train.Int64List(value=[item['ctype_label']])),\n",
    "                'csite_label': tf.train.Feature(int64_list=tf.train.Int64List(value=[item['csite_label']])),\n",
    "                'ctype': tf.train.Feature(bytes_list=tf.train.BytesList(value=[bytes(item['ctype'], 'utf-8')])),\n",
    "                'csite': tf.train.Feature(bytes_list=tf.train.BytesList(value=[bytes(item['csite'], 'utf-8')]))\n",
    "            }\n",
    "        ))\n",
    " \n",
    "        writer.write(ex.SerializeToString())\n",
    "\n",
    "    writer.close()\n",
    "    \n",
    "print(f'Train samples {tr_sz}')\n",
    "print(f'Val samples   {vl_sz}')\n",
    "\n",
    "calc_examples_in_tfrecord(str(tfr_out/'val_5.tfrecord'))"
   ]
  },
  {
   "cell_type": "code",
   "execution_count": 16,
   "metadata": {},
   "outputs": [
    {
     "name": "stdout",
     "output_type": "stream",
     "text": [
      "digestive/gastrointestinal\n",
      "1\n",
      "{'bladder/urothelial': 0, 'digestive/gastrointestinal': 1, 'endocrine and neuroendocrine': 2, 'gynecologic': 3, 'head & neck': 4, 'kidney': 5, 'lung': 6, 'musculoskeletal': 7, 'skin': 8}\n"
     ]
    }
   ],
   "source": [
    "fea_spec = {\n",
    "    'ge_vec': tf.io.FixedLenFeature(shape=(len(ge_vec),), dtype=tf.float32, default_value=None),\n",
    "    'dd_vec': tf.io.FixedLenFeature(shape=(len(dd_vec),), dtype=tf.float32, default_value=None),    \n",
    "    'Sample': tf.io.FixedLenFeature(shape=[], dtype=tf.string, default_value=None),\n",
    "    'ctype_label':  tf.io.FixedLenFeature(shape=[], dtype=tf.int64, default_value=None),\n",
    "    'csite_label':  tf.io.FixedLenFeature(shape=[], dtype=tf.int64, default_value=None),\n",
    "    'ctype':  tf.io.FixedLenFeature(shape=[], dtype=tf.string, default_value=None),\n",
    "    'csite':  tf.io.FixedLenFeature(shape=[], dtype=tf.string, default_value=None),\n",
    "}\n",
    "\n",
    "ds = tf.data.TFRecordDataset(str(tfr_out/'train_1.tfrecord'))\n",
    "ex = next(ds.__iter__())\n",
    "ex = tf.io.parse_single_example(ex, features=fea_spec)\n",
    "print(ex['csite'].numpy().decode('UTF-8'))\n",
    "print(ex['csite_label'].numpy())\n",
    "print(csite_enc)"
   ]
  },
  {
   "cell_type": "code",
   "execution_count": null,
   "metadata": {},
   "outputs": [],
   "source": []
  },
  {
   "cell_type": "markdown",
   "metadata": {},
   "source": [
    "### Create tf datasets"
   ]
  },
  {
   "cell_type": "code",
   "execution_count": 16,
   "metadata": {},
   "outputs": [
    {
     "name": "stdout",
     "output_type": "stream",
     "text": [
      "tf.Tensor(b'bladder/urothelial', shape=(), dtype=string)\n",
      "tf.Tensor(b'digestive/gastrointestinal', shape=(), dtype=string)\n",
      "tf.Tensor(b'endocrine and neuroendocrine', shape=(), dtype=string)\n",
      "tf.Tensor(b'gynecologic', shape=(), dtype=string)\n",
      "tf.Tensor(b'head & neck', shape=(), dtype=string)\n",
      "tf.Tensor(b'kidney', shape=(), dtype=string)\n",
      "tf.Tensor(b'lung', shape=(), dtype=string)\n",
      "tf.Tensor(b'musculoskeletal', shape=(), dtype=string)\n",
      "tf.Tensor(b'skin', shape=(), dtype=string)\n"
     ]
    }
   ],
   "source": [
    "# csite_classes = data['simplified_tumor_site'].values.tolist()\n",
    "# ctype_classes = data['simplified_tumor_type'].values.tolist()\n",
    "# tt = tf.convert_to_tensor(csite_classes)\n",
    "tt = tf.convert_to_tensor(list(csite_enc.keys()))\n",
    "tt = tf.data.Dataset.from_tensor_slices(tt)\n",
    "for i in tt:\n",
    "    # tf.print(i)\n",
    "    print(i)"
   ]
  },
  {
   "cell_type": "code",
   "execution_count": 18,
   "metadata": {},
   "outputs": [
    {
     "name": "stdout",
     "output_type": "stream",
     "text": [
      "Inputs:  dict_keys(['ge_vec'])\n",
      "Outputs: dict_keys(['csite_label', 'ctype_label'])\n",
      "ge_vec (976,)\n",
      "csite_label (9,)\n",
      "ctype_label (11,)\n"
     ]
    }
   ],
   "source": [
    "# class Dataset():\n",
    "    \n",
    "#     def __init__(self, filenames):\n",
    "#         self.filenames = filenames\n",
    "    \n",
    "#     def define_fea_spec(fea_spec):\n",
    "#         self.fea_spec = fea_spec\n",
    "\n",
    "fea_spec = {\n",
    "    'ge_vec':      tf.io.FixedLenFeature(shape=(976,), dtype=tf.float32, default_value=None),\n",
    "    'dd_vec':      tf.io.FixedLenFeature(shape=(1613,), dtype=tf.float32, default_value=None),    \n",
    "    'Sample':      tf.io.FixedLenFeature(shape=[1], dtype=tf.string, default_value=None),\n",
    "    'ctype_label': tf.io.FixedLenFeature(shape=[1], dtype=tf.int64, default_value=None),\n",
    "    'csite_label': tf.io.FixedLenFeature(shape=[1], dtype=tf.int64, default_value=None),\n",
    "    'ctype':       tf.io.FixedLenFeature(shape=[1], dtype=tf.string, default_value=None),\n",
    "    'csite':       tf.io.FixedLenFeature(shape=[1], dtype=tf.string, default_value=None),\n",
    "}    \n",
    "\n",
    "def read_tfr_example(ex):\n",
    "    \"\"\" Read and parse a single example from a tfrecord. \"\"\"\n",
    "    ex = tf.io.parse_single_example(ex, fea_spec)\n",
    "    \n",
    "    # Inputs\n",
    "    ge_vec = tf.cast(ex['ge_vec'], tf.float32)\n",
    "    dd_vec = tf.cast(ex['dd_vec'], tf.float32)\n",
    "    inputs = {'ge_vec': ge_vec}\n",
    "    \n",
    "    # Outputs\n",
    "    csite_label = tf.cast(ex['csite_label'], tf.int64)\n",
    "    ctype_label = tf.cast(ex['ctype_label'], tf.int64)\n",
    "    \n",
    "    # One-hot\n",
    "    csite_label = tf.one_hot(indices=csite_label, depth=CSITE_NUM_CLASSES, on_value=1.0, off_value=0.0)\n",
    "    ctype_label = tf.one_hot(indices=ctype_label, depth=CTYPE_NUM_CLASSES, on_value=1.0, off_value=0.0)\n",
    "    \n",
    "    csite_label = tf.reshape(csite_label, [CSITE_NUM_CLASSES,])\n",
    "    ctype_label = tf.reshape(ctype_label, [CTYPE_NUM_CLASSES,])    \n",
    "    \n",
    "    # Put into dict\n",
    "#     outputs = {'csite_label': csite_label}\n",
    "    outputs = {'csite_label': csite_label, 'ctype_label': ctype_label}\n",
    "    return inputs, outputs\n",
    "\n",
    "\n",
    "# Train and val filenames\n",
    "train_filenames = glob(os.path.join(tfr_out, 'train*.tfrecord'))\n",
    "val_filenames   = glob(os.path.join(tfr_out, 'val*.tfrecord'))\n",
    "\n",
    "ds = tf.data.TFRecordDataset(filenames=train_filenames)\n",
    "ds = ds.map(read_tfr_example)\n",
    "\n",
    "# Take an example\n",
    "ii = next(ds.take(1).__iter__())\n",
    "print('Inputs: ', ii[0].keys())\n",
    "print('Outputs:', ii[1].keys())\n",
    "\n",
    "# print(ii[0]['ge_vec'].numpy().shape)\n",
    "for i, k in enumerate(ii[0].keys()):\n",
    "    print(k, ii[0][k].numpy().shape)\n",
    "    \n",
    "# print(ii[1]['csite_label'].numpy())\n",
    "# print(ii[1]['ctype_label'].numpy())\n",
    "for i, k in enumerate(ii[1].keys()):\n",
    "    print(k, ii[1][k].numpy().shape)"
   ]
  },
  {
   "cell_type": "code",
   "execution_count": 18,
   "metadata": {},
   "outputs": [
    {
     "name": "stdout",
     "output_type": "stream",
     "text": [
      "Inputs:  dict_keys(['ge_vec'])\n",
      "Outputs: dict_keys(['csite_label', 'ctype_label'])\n",
      "ge_vec (32, 976)\n",
      "csite_label (32, 9)\n",
      "ctype_label (32, 11)\n"
     ]
    }
   ],
   "source": [
    "# read this:  https://www.tensorflow.org/datasets/performances\n",
    "def get_tfr_dataset(filenames):\n",
    "    \"\"\" Create tf dataset. \"\"\"\n",
    "    ds = tf.data.TFRecordDataset(filenames=filenames)\n",
    "    ds = ds.shuffle(500, reshuffle_each_iteration=True)\n",
    "    ds = ds.map(read_tfr_example)\n",
    "    # ds = ds.batch(32, drop_remainder=True)\n",
    "    ds = ds.batch(32)\n",
    "    return ds\n",
    "\n",
    "ds_train = get_tfr_dataset(train_filenames)\n",
    "ds_val   = get_tfr_dataset(val_filenames)\n",
    "\n",
    "# Take a sample\n",
    "ii = next(ds_train.take(1).__iter__())\n",
    "# ii = next(ds_val.take(1).__iter__())\n",
    "print('Inputs: ', ii[0].keys())\n",
    "print('Outputs:', ii[1].keys())\n",
    "\n",
    "# print(ii[0]['ge_vec'].numpy().shape)\n",
    "# print(ii[1]['csite_label'].numpy().shape)\n",
    "# print(ii[1]['ctype_label'].numpy().shape)\n",
    "\n",
    "# print(ii[0]['ge_vec'].numpy().shape)\n",
    "for i, k in enumerate(ii[0].keys()):\n",
    "    print(k, ii[0][k].numpy().shape)\n",
    "    \n",
    "# print(ii[1]['csite_label'].numpy())\n",
    "# print(ii[1]['ctype_label'].numpy())\n",
    "for i, k in enumerate(ii[1].keys()):\n",
    "    print(k, ii[1][k].numpy().shape)"
   ]
  },
  {
   "cell_type": "code",
   "execution_count": 19,
   "metadata": {},
   "outputs": [],
   "source": [
    "# def preprocess(ex):\n",
    "#     ex = tf.io.parse_single_example(ex, features=fea_spec)\n",
    "#     # sample = ex['Sample'][0].numpy().decode('utf-8')\n",
    "#     sample = tf.cast(ex['Sample'], tf.string)\n",
    "#     return sample\n",
    "\n",
    "# # Train dataset\n",
    "# ds = tf.data.TFRecordDataset(filenames=train_filenames)\n",
    "# ds = ds.map(preprocess)\n",
    "# ds = ds.shuffle(500, reshuffle_each_iteration=True)\n",
    "# # ds = ds.batch(64)\n",
    "# ii = next(ds.take(1).__iter__())\n",
    "# print(ii[0].numpy().decode('utf-8'))"
   ]
  },
  {
   "cell_type": "code",
   "execution_count": 20,
   "metadata": {},
   "outputs": [],
   "source": [
    "# Toy dataset\n",
    "# -----------\n",
    "# def power_two(x):\n",
    "#     return x**2\n",
    "\n",
    "# ds = tf.data.Dataset.range(10)\n",
    "# ds = ds.map(power_two)\n",
    "# ds = ds.repeat(1)\n",
    "# ds = ds.shuffle(100, reshuffle_each_iteration=True)\n",
    "# ds = ds.batch(2)\n",
    "# for i, item in enumerate(ds):\n",
    "#     tf.print(item, end=' ')"
   ]
  },
  {
   "cell_type": "code",
   "execution_count": null,
   "metadata": {},
   "outputs": [],
   "source": []
  },
  {
   "cell_type": "markdown",
   "metadata": {},
   "source": [
    "### Train Keras Type Classifier"
   ]
  },
  {
   "cell_type": "code",
   "execution_count": 21,
   "metadata": {},
   "outputs": [
    {
     "name": "stdout",
     "output_type": "stream",
     "text": [
      "Model: \"functional_1\"\n",
      "__________________________________________________________________________________________________\n",
      "Layer (type)                    Output Shape         Param #     Connected to                     \n",
      "==================================================================================================\n",
      "ge_vec (InputLayer)             [(None, 976)]        0                                            \n",
      "__________________________________________________________________________________________________\n",
      "dense_1 (Dense)                 (None, 128)          125056      ge_vec[0][0]                     \n",
      "__________________________________________________________________________________________________\n",
      "dropout_1 (Dropout)             (None, 128)          0           dense_1[0][0]                    \n",
      "__________________________________________________________________________________________________\n",
      "dense_2 (Dense)                 (None, 128)          16512       dropout_1[0][0]                  \n",
      "__________________________________________________________________________________________________\n",
      "dropout_2 (Dropout)             (None, 128)          0           dense_2[0][0]                    \n",
      "__________________________________________________________________________________________________\n",
      "ctype_label (Dense)             (None, 11)           1419        dropout_2[0][0]                  \n",
      "__________________________________________________________________________________________________\n",
      "csite_label (Dense)             (None, 9)            1161        dropout_2[0][0]                  \n",
      "==================================================================================================\n",
      "Total params: 144,148\n",
      "Trainable params: 144,148\n",
      "Non-trainable params: 0\n",
      "__________________________________________________________________________________________________\n"
     ]
    }
   ],
   "source": [
    "import tensorflow as tf\n",
    "\n",
    "# Inputs\n",
    "input_ge = tf.keras.Input(shape=(len(ge_vec),), name='ge_vec')\n",
    "\n",
    "# Hidden\n",
    "fc = tf.keras.layers.Dense(128, activation='relu', name='dense_1')(input_ge)\n",
    "fc = tf.keras.layers.Dropout(0.2, name='dropout_1')(fc)\n",
    "fc = tf.keras.layers.Dense(128, activation='relu', name='dense_2')(fc)\n",
    "fc = tf.keras.layers.Dropout(0.2, name='dropout_2')(fc)\n",
    "\n",
    "# Output\n",
    "ctype_out = tf.keras.layers.Dense(CTYPE_NUM_CLASSES, activation='softmax', name='ctype_label')(fc)\n",
    "csite_out = tf.keras.layers.Dense(CSITE_NUM_CLASSES, activation='softmax', name='csite_label')(fc)\n",
    "# ctype_out = tf.keras.layers.Dense(1, activation='softmax', name='ctype_label')(fc)\n",
    "# csite_out = tf.keras.layers.Dense(1, activation='softmax', name='csite_label')(fc)\n",
    "\n",
    "# Model\n",
    "model = tf.keras.Model(inputs=[input_ge], outputs=[ctype_out, csite_out])\n",
    "# model = tf.keras.Model(inputs=[input_ge], outputs=[csite_out])\n",
    "model.summary()\n",
    "\n",
    "# ----------\n",
    "# Compile\n",
    "# ----------\n",
    "# model.compile(optimizer=tf.keras.optimizers.Adam(),\n",
    "#               loss={'csite_label': tf.keras.losses.categorical_crossentropy},\n",
    "#               metrics=[tf.keras.metrics.categorical_crossentropy])\n",
    "\n",
    "model.compile(optimizer=tf.keras.optimizers.Adam(),\n",
    "              loss={'csite_label': tf.keras.losses.categorical_crossentropy,\n",
    "                    'ctype_label': tf.keras.losses.categorical_crossentropy},\n",
    "              metrics=[tf.keras.metrics.categorical_crossentropy])\n",
    "\n",
    "# model.compile(optimizer=tf.keras.optimizers.Adam(),\n",
    "#               loss={'csite_label': tf.keras.losses.mean_absolute_error},\n",
    "#               metrics=[tf.keras.metrics.mean_absolute_error])\n",
    "\n",
    "# model.compile(optimizer=tf.keras.optimizers.Adam(),\n",
    "#               loss={'csite_label': tf.keras.losses.mean_absolute_error,\n",
    "#                     'ctype_label': tf.keras.losses.mean_absolute_error},\n",
    "#               metrics=[tf.keras.metrics.mean_absolute_error])"
   ]
  },
  {
   "cell_type": "code",
   "execution_count": 22,
   "metadata": {},
   "outputs": [],
   "source": [
    "# The choice of categorical_crossentropy vs sparse_categorical_crossentropy depends on the shape of labels depennds\n",
    "# stackoverflow.com/questions/49161174/tensorflow-logits-and-labels-must-have-the-same-first-dimension\n",
    "# ================================================================================================================\n",
    "# history = model.fit(X_train, y_train, epochs=30, validation_data=(X_valid, y_valid))\n",
    "\n",
    "history = model.fit(ds_train,\n",
    "                    epochs=20,\n",
    "                    validation_data=ds_val,\n",
    "                    verbose=False)"
   ]
  },
  {
   "cell_type": "code",
   "execution_count": 23,
   "metadata": {},
   "outputs": [
    {
     "data": {
      "text/plain": [
       "{'loss': 0.9979113936424255,\n",
       " 'ctype_label_loss': 0.5338507890701294,\n",
       " 'csite_label_loss': 0.4640606641769409,\n",
       " 'ctype_label_categorical_crossentropy': 0.5338507890701294,\n",
       " 'csite_label_categorical_crossentropy': 0.4640606641769409}"
      ]
     },
     "execution_count": 23,
     "metadata": {},
     "output_type": "execute_result"
    }
   ],
   "source": [
    "result = model.evaluate(ds_val, verbose=False)\n",
    "dict(zip(model.metrics_names, result))"
   ]
  },
  {
   "cell_type": "code",
   "execution_count": 24,
   "metadata": {},
   "outputs": [
    {
     "name": "stdout",
     "output_type": "stream",
     "text": [
      "(405, 11)\n",
      "(405, 9)\n"
     ]
    }
   ],
   "source": [
    "rr = model.predict(ds_val.repeat(1))\n",
    "if isinstance(rr, list):\n",
    "    print(rr[0].shape)\n",
    "    print(rr[1].shape)\n",
    "else:\n",
    "    print(rr.shape)"
   ]
  },
  {
   "cell_type": "code",
   "execution_count": null,
   "metadata": {},
   "outputs": [],
   "source": []
  },
  {
   "cell_type": "code",
   "execution_count": 78,
   "metadata": {},
   "outputs": [
    {
     "name": "stdout",
     "output_type": "stream",
     "text": [
      "11\n",
      "(32, 976)\n",
      "(32, 1)\n"
     ]
    }
   ],
   "source": [
    "for i, item in enumerate(ds_val):\n",
    "    pass # print(item)\n",
    "print(i)\n",
    "print(ii[0]['ge_vec'].shape)\n",
    "print(ii[1]['csite_label'].shape)\n",
    "# print(ii[1]['ctype_label'].shape)"
   ]
  },
  {
   "cell_type": "code",
   "execution_count": 67,
   "metadata": {},
   "outputs": [
    {
     "data": {
      "text/plain": [
       "288"
      ]
     },
     "execution_count": 67,
     "metadata": {},
     "output_type": "execute_result"
    }
   ],
   "source": []
  }
 ],
 "metadata": {
  "kernelspec": {
   "display_name": "Python 3",
   "language": "python",
   "name": "python3"
  },
  "language_info": {
   "codemirror_mode": {
    "name": "ipython",
    "version": 3
   },
   "file_extension": ".py",
   "mimetype": "text/x-python",
   "name": "python",
   "nbconvert_exporter": "python",
   "pygments_lexer": "ipython3",
   "version": "3.7.9"
  }
 },
 "nbformat": 4,
 "nbformat_minor": 4
}
