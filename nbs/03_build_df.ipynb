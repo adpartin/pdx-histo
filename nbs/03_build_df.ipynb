{
 "cells": [
  {
   "cell_type": "markdown",
   "metadata": {},
   "source": [
    "Build df using the following files and save in `../data/data_merged.csv`:\n",
    "* pdx drug response data\n",
    "* rna expression\n",
    "* mordred drug descriptors\n",
    "* metadata"
   ]
  },
  {
   "cell_type": "code",
   "execution_count": 9,
   "metadata": {},
   "outputs": [
    {
     "name": "stdout",
     "output_type": "stream",
     "text": [
      "The autoreload extension is already loaded. To reload it, use:\n",
      "  %reload_ext autoreload\n",
      "/vol/ml/apartin/projects/pdx-histo/nbs\n"
     ]
    }
   ],
   "source": [
    "%load_ext autoreload\n",
    "%autoreload 2\n",
    "%matplotlib inline\n",
    "\n",
    "import os\n",
    "import sys\n",
    "from pathlib import Path\n",
    "import glob\n",
    "from pprint import pprint\n",
    "import pandas as pd\n",
    "import numpy as np\n",
    "\n",
    "fdir = Path.cwd()\n",
    "print(fdir)\n",
    "sys.path.append(str(fdir/'../src'))\n",
    "from config import cfg\n",
    "\n",
    "from build_df import load_rsp, load_rna, load_dd, load_meta"
   ]
  },
  {
   "cell_type": "code",
   "execution_count": 10,
   "metadata": {},
   "outputs": [],
   "source": [
    "rsp_dpath = cfg.DATADIR/'studies/pdm/ncipdm_drug_response'\n",
    "rna_dpath = cfg.DATADIR/'combined_rnaseq_data_lincs1000_combat'\n",
    "dd_dpath = cfg.DATADIR/'dd.mordred.with.nans'\n",
    "meta_dpath = cfg.DATADIR/'meta/meta_merged.csv'"
   ]
  },
  {
   "cell_type": "code",
   "execution_count": 11,
   "metadata": {},
   "outputs": [
    {
     "name": "stdout",
     "output_type": "stream",
     "text": [
      "\n",
      "Dropped 77 duplicates.\n",
      "\n"
     ]
    }
   ],
   "source": [
    "# Load\n",
    "rsp = load_rsp(rsp_dpath)\n",
    "rna = load_rna(rna_dpath)\n",
    "dd = load_dd(dd_dpath)\n",
    "meta = load_meta(meta_dpath)"
   ]
  },
  {
   "cell_type": "code",
   "execution_count": 4,
   "metadata": {},
   "outputs": [],
   "source": [
    "# Merge\n",
    "data = rsp.merge(rna, on='Sample', how='inner')\n",
    "data = data.merge(dd, left_on='Drug1', right_on='ID', how='inner').reset_index(drop=True)\n",
    "data = data.merge(meta.drop(columns=['patient_id', 'specimen_id', 'sample_id']), on='Sample', how='inner').reset_index(drop=True)\n",
    "data = data.sample(frac=1.0, random_state=0, axis=0).reset_index(drop=True)  # TODO is this necessary??"
   ]
  },
  {
   "cell_type": "code",
   "execution_count": 5,
   "metadata": {},
   "outputs": [],
   "source": [
    "def check_prfx(x):\n",
    "    return True if x.startswith('ge_') or x.startswith('dd_') else False\n",
    "\n",
    "# Re-org columns\n",
    "meta_df = data.drop(columns=[c for c in data.columns if check_prfx(c)])\n",
    "fea_df = data.drop(columns=meta_df.columns)\n",
    "data = pd.concat([meta_df, fea_df], axis=1)"
   ]
  },
  {
   "cell_type": "code",
   "execution_count": 7,
   "metadata": {},
   "outputs": [
    {
     "data": {
      "text/plain": [
       "409"
      ]
     },
     "execution_count": 7,
     "metadata": {},
     "output_type": "execute_result"
    }
   ],
   "source": [
    "data.image_id.nunique()"
   ]
  }
 ],
 "metadata": {
  "kernelspec": {
   "display_name": "Python 3",
   "language": "python",
   "name": "python3"
  },
  "language_info": {
   "codemirror_mode": {
    "name": "ipython",
    "version": 3
   },
   "file_extension": ".py",
   "mimetype": "text/x-python",
   "name": "python",
   "nbconvert_exporter": "python",
   "pygments_lexer": "ipython3",
   "version": "3.7.9"
  }
 },
 "nbformat": 4,
 "nbformat_minor": 4
}
