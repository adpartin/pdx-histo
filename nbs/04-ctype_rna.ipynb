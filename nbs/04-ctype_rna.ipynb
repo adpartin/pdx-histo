{
 "cells": [
  {
   "cell_type": "markdown",
   "metadata": {},
   "source": [
    "In this notebook we train a multiclass cancer type classifier for GDC data and for PDX data."
   ]
  },
  {
   "cell_type": "code",
   "execution_count": 1,
   "metadata": {},
   "outputs": [
    {
     "name": "stdout",
     "output_type": "stream",
     "text": [
      "/vol/ml/apartin/projects/pdx-histo/nbs\n"
     ]
    }
   ],
   "source": [
    "%load_ext autoreload\n",
    "%autoreload 2\n",
    "%matplotlib inline\n",
    "\n",
    "import os\n",
    "import sys\n",
    "assert sys.version_info >= (3, 5)\n",
    "\n",
    "from pathlib import Path\n",
    "from pprint import pprint\n",
    "import pandas as pd\n",
    "import numpy as np\n",
    "import sklearn\n",
    "from sklearn.model_selection import train_test_split\n",
    "from sklearn.preprocessing import StandardScaler\n",
    "from sklearn.metrics import plot_confusion_matrix, confusion_matrix, ConfusionMatrixDisplay\n",
    "from typing import List, Optional, Union\n",
    "\n",
    "import tensorflow as tf\n",
    "from tensorflow import keras\n",
    "assert tf.__version__ >= \"2.0\"\n",
    "\n",
    "from tensorflow.keras.callbacks import ModelCheckpoint, CSVLogger, ReduceLROnPlateau, EarlyStopping\n",
    "from tensorflow.keras.utils import plot_model\n",
    "\n",
    "from tensorflow import keras\n",
    "from tensorflow.keras import backend as K\n",
    "from tensorflow.keras.layers import Input, Dense, Dropout, Activation, BatchNormalization\n",
    "from tensorflow.keras import layers, losses, optimizers\n",
    "from tensorflow.keras.optimizers import SGD, Adam\n",
    "from tensorflow.keras.models import Sequential, Model\n",
    "\n",
    "import matplotlib.pyplot as plt\n",
    "\n",
    "# Seed\n",
    "seed = 0\n",
    "np.random.seed(seed)\n",
    "\n",
    "fdir = Path.cwd()\n",
    "print(fdir)\n",
    "sys.path.append(str(fdir/'../src'))\n",
    "from config import cfg"
   ]
  },
  {
   "cell_type": "code",
   "execution_count": 2,
   "metadata": {},
   "outputs": [
    {
     "name": "stdout",
     "output_type": "stream",
     "text": [
      "(15196, 944)\n",
      "(15196, 19)\n",
      "(11081, 944)\n",
      "(11081, 20)\n"
     ]
    },
    {
     "data": {
      "text/html": [
       "<div>\n",
       "<style scoped>\n",
       "    .dataframe tbody tr th:only-of-type {\n",
       "        vertical-align: middle;\n",
       "    }\n",
       "\n",
       "    .dataframe tbody tr th {\n",
       "        vertical-align: top;\n",
       "    }\n",
       "\n",
       "    .dataframe thead th {\n",
       "        text-align: right;\n",
       "    }\n",
       "</style>\n",
       "<table border=\"1\" class=\"dataframe\">\n",
       "  <thead>\n",
       "    <tr style=\"text-align: right;\">\n",
       "      <th></th>\n",
       "      <th>Sample</th>\n",
       "      <th>src</th>\n",
       "      <th>ctype_gdc</th>\n",
       "      <th>patient_id</th>\n",
       "      <th>specimen_id</th>\n",
       "      <th>sample_id</th>\n",
       "      <th>core_str</th>\n",
       "      <th>csite_src</th>\n",
       "      <th>ctype_src</th>\n",
       "      <th>csite</th>\n",
       "    </tr>\n",
       "  </thead>\n",
       "  <tbody>\n",
       "    <tr>\n",
       "      <th>0</th>\n",
       "      <td>GDC.ADR_ACC.TCGA_OR_A5J1_08081.p</td>\n",
       "      <td>GDC</td>\n",
       "      <td>22RV1</td>\n",
       "      <td>TCGA-OR-A5J1</td>\n",
       "      <td>NaN</td>\n",
       "      <td>01A</td>\n",
       "      <td>TCGA-OR-A5J1</td>\n",
       "      <td>adrenal gland</td>\n",
       "      <td>Adrenocortical Carcinoma</td>\n",
       "      <td>endocrine and neuroendocrine</td>\n",
       "    </tr>\n",
       "    <tr>\n",
       "      <th>1</th>\n",
       "      <td>GDC.ADR_ACC.TCGA_OR_A5J2_10193.p</td>\n",
       "      <td>GDC</td>\n",
       "      <td>2313287</td>\n",
       "      <td>TCGA-OR-A5J2</td>\n",
       "      <td>NaN</td>\n",
       "      <td>01A</td>\n",
       "      <td>TCGA-OR-A5J2</td>\n",
       "      <td>adrenal gland</td>\n",
       "      <td>Adrenocortical Carcinoma</td>\n",
       "      <td>endocrine and neuroendocrine</td>\n",
       "    </tr>\n",
       "  </tbody>\n",
       "</table>\n",
       "</div>"
      ],
      "text/plain": [
       "                             Sample  src ctype_gdc    patient_id specimen_id  \\\n",
       "0  GDC.ADR_ACC.TCGA_OR_A5J1_08081.p  GDC     22RV1  TCGA-OR-A5J1         NaN   \n",
       "1  GDC.ADR_ACC.TCGA_OR_A5J2_10193.p  GDC   2313287  TCGA-OR-A5J2         NaN   \n",
       "\n",
       "  sample_id      core_str      csite_src                  ctype_src  \\\n",
       "0       01A  TCGA-OR-A5J1  adrenal gland  Adrenocortical Carcinoma    \n",
       "1       01A  TCGA-OR-A5J2  adrenal gland  Adrenocortical Carcinoma    \n",
       "\n",
       "                          csite  \n",
       "0  endocrine and neuroendocrine  \n",
       "1  endocrine and neuroendocrine  "
      ]
     },
     "metadata": {},
     "output_type": "display_data"
    },
    {
     "data": {
      "text/html": [
       "<div>\n",
       "<style scoped>\n",
       "    .dataframe tbody tr th:only-of-type {\n",
       "        vertical-align: middle;\n",
       "    }\n",
       "\n",
       "    .dataframe tbody tr th {\n",
       "        vertical-align: top;\n",
       "    }\n",
       "\n",
       "    .dataframe thead th {\n",
       "        text-align: right;\n",
       "    }\n",
       "</style>\n",
       "<table border=\"1\" class=\"dataframe\">\n",
       "  <thead>\n",
       "    <tr style=\"text-align: right;\">\n",
       "      <th></th>\n",
       "      <th>Sample</th>\n",
       "      <th>src</th>\n",
       "      <th>ctype_gdc</th>\n",
       "      <th>patient_id</th>\n",
       "      <th>specimen_id</th>\n",
       "      <th>sample_id</th>\n",
       "      <th>core_str</th>\n",
       "      <th>csite_src</th>\n",
       "      <th>ctype_src</th>\n",
       "      <th>csite</th>\n",
       "    </tr>\n",
       "  </thead>\n",
       "  <tbody>\n",
       "    <tr>\n",
       "      <th>0</th>\n",
       "      <td>GDC.ADR_ACC.TCGA_OR_A5J1_08081.p</td>\n",
       "      <td>GDC</td>\n",
       "      <td>22RV1</td>\n",
       "      <td>TCGA-OR-A5J1</td>\n",
       "      <td>NaN</td>\n",
       "      <td>01A</td>\n",
       "      <td>TCGA-OR-A5J1</td>\n",
       "      <td>adrenal gland</td>\n",
       "      <td>Adrenocortical Carcinoma</td>\n",
       "      <td>endocrine and neuroendocrine</td>\n",
       "    </tr>\n",
       "    <tr>\n",
       "      <th>1</th>\n",
       "      <td>GDC.ADR_ACC.TCGA_OR_A5J2_10193.p</td>\n",
       "      <td>GDC</td>\n",
       "      <td>2313287</td>\n",
       "      <td>TCGA-OR-A5J2</td>\n",
       "      <td>NaN</td>\n",
       "      <td>01A</td>\n",
       "      <td>TCGA-OR-A5J2</td>\n",
       "      <td>adrenal gland</td>\n",
       "      <td>Adrenocortical Carcinoma</td>\n",
       "      <td>endocrine and neuroendocrine</td>\n",
       "    </tr>\n",
       "  </tbody>\n",
       "</table>\n",
       "</div>"
      ],
      "text/plain": [
       "                             Sample  src ctype_gdc    patient_id specimen_id  \\\n",
       "0  GDC.ADR_ACC.TCGA_OR_A5J1_08081.p  GDC     22RV1  TCGA-OR-A5J1         NaN   \n",
       "1  GDC.ADR_ACC.TCGA_OR_A5J2_10193.p  GDC   2313287  TCGA-OR-A5J2         NaN   \n",
       "\n",
       "  sample_id      core_str      csite_src                  ctype_src  \\\n",
       "0       01A  TCGA-OR-A5J1  adrenal gland  Adrenocortical Carcinoma    \n",
       "1       01A  TCGA-OR-A5J2  adrenal gland  Adrenocortical Carcinoma    \n",
       "\n",
       "                          csite  \n",
       "0  endocrine and neuroendocrine  \n",
       "1  endocrine and neuroendocrine  "
      ]
     },
     "metadata": {},
     "output_type": "display_data"
    }
   ],
   "source": [
    "datadir = fdir/'../data/raw'\n",
    "rna = pd.read_csv(datadir/'combined_rnaseq_data_lincs1000', sep='\\t')\n",
    "meta = pd.read_csv(datadir/'combined_metadata_2018May.txt', sep='\\t')\n",
    "\n",
    "rna = rna.rename(columns={c: 'ge_'+str(c) for c in rna.columns[1:]})  # add ge_ prefix\n",
    "rna.insert(loc=1, column='src', value=rna.Sample.map(lambda x: x.split('.')[0]), allow_duplicates=True)\n",
    "\n",
    "meta = meta.rename(columns={'sample_name': 'Sample',\n",
    "                        'dataset': 'src',\n",
    "                        'tumor_site_from_data_src': 'csite_src',\n",
    "                        'tumor_type_from_data_src': 'ctype_src',\n",
    "                        'simplified_tumor_site': 'csite',\n",
    "                        'simplified_tumor_type': 'ctype'})\n",
    "meta = meta.drop(columns=['copy_flag'])\n",
    "print(rna.shape)\n",
    "print(meta.shape)\n",
    "\n",
    "# PDX\n",
    "pdx_rna = rna[rna.src.isin(['NCIPDM'])].reset_index(drop=True)\n",
    "pdx_meta = meta[meta.src.isin(['NCIPDM'])].reset_index(drop=True)\n",
    "\n",
    "# GDC\n",
    "gdc_rna = rna[rna.src.isin(['GDC'])].reset_index(drop=True)\n",
    "gdc_meta = meta[meta.src.isin(['GDC'])].reset_index(drop=True)\n",
    "gdc_meta.insert(loc=2, column='ctype_gdc', value=rna.Sample.map(lambda x: x.split('.')[1]), allow_duplicates=True)\n",
    "                 \n",
    "print(gdc_rna.shape)\n",
    "print(gdc_meta.shape)\n",
    "\n",
    "display(gdc_meta.iloc[:2, :10])\n",
    "display(gdc_meta.iloc[:2, :10])"
   ]
  },
  {
   "cell_type": "code",
   "execution_count": null,
   "metadata": {},
   "outputs": [],
   "source": []
  },
  {
   "cell_type": "markdown",
   "metadata": {},
   "source": [
    "# GDC"
   ]
  },
  {
   "cell_type": "code",
   "execution_count": 3,
   "metadata": {},
   "outputs": [
    {
     "data": {
      "text/plain": [
       "BR_BRCA    1222\n",
       "RE_KIRC     608\n",
       "LC_LUAD     594\n",
       "LC_LUSC     551\n",
       "PR_PRAD     548\n",
       "HN_HNSC     546\n",
       "CNS_LGG     529\n",
       "CO_COAD     518\n",
       "BL_BLCA     433\n",
       "LI_LIHC     424\n",
       "Name: ctype_gdc, dtype: int64"
      ]
     },
     "metadata": {},
     "output_type": "display_data"
    }
   ],
   "source": [
    "display(gdc_meta.ctype_gdc.value_counts()[:10])\n",
    "# mm.ctype_gdc.value_counts().values == mm.ctype_src.value_counts().values"
   ]
  },
  {
   "cell_type": "code",
   "execution_count": 4,
   "metadata": {},
   "outputs": [],
   "source": [
    "# Create balanced dataset on ctype\n",
    "n_classes = 10\n",
    "cls_label = 'ctype_gdc'\n",
    "min_count = gdc_meta[cls_label].value_counts().iloc[n_classes-1]\n",
    "\n",
    "dfs = []\n",
    "for ctype in gdc_meta[cls_label].value_counts().index[:n_classes]:\n",
    "    df = gdc_meta[gdc_meta[cls_label].isin([ctype])]\n",
    "    df = df.sample(n=min_count, random_state=seed)\n",
    "    dfs.append(df)\n",
    "\n",
    "gdc_meta = pd.concat(dfs, axis=0).sort_values('Sample', ascending=True).reset_index(drop=True)\n",
    "gdc_rna = gdc_rna[gdc_rna.Sample.isin(gdc_meta.Sample.values)].sort_values('Sample', ascending=True).reset_index(drop=True)\n",
    "\n",
    "del dfs, df"
   ]
  },
  {
   "cell_type": "code",
   "execution_count": 9,
   "metadata": {},
   "outputs": [
    {
     "name": "stdout",
     "output_type": "stream",
     "text": [
      "Model: \"functional_3\"\n",
      "_________________________________________________________________\n",
      "Layer (type)                 Output Shape              Param #   \n",
      "=================================================================\n",
      "rna_input (InputLayer)       [(None, 942)]             0         \n",
      "_________________________________________________________________\n",
      "dense_1 (Dense)              (None, 256)               241408    \n",
      "_________________________________________________________________\n",
      "dropout_1 (Dropout)          (None, 256)               0         \n",
      "_________________________________________________________________\n",
      "ctype (Dense)                (None, 10)                2570      \n",
      "=================================================================\n",
      "Total params: 243,978\n",
      "Trainable params: 243,978\n",
      "Non-trainable params: 0\n",
      "_________________________________________________________________\n"
     ]
    }
   ],
   "source": [
    "# y_encoding = 'onehot'\n",
    "y_encoding = 'label'\n",
    "\n",
    "# Onehot encoding\n",
    "ydata = gdc_meta[cls_label].values\n",
    "# y_onehot = pd.get_dummies(ydata_label)\n",
    "y_onehot = pd.get_dummies(ydata)\n",
    "ydata_label = np.argmax(y_onehot.values, axis=1)\n",
    "\n",
    "# Scale RNA\n",
    "x_scaler = StandardScaler()\n",
    "xdata = gdc_rna.iloc[:, 2:]\n",
    "cols = xdata.columns\n",
    "xdata = pd.DataFrame(x_scaler.fit_transform(xdata), columns=cols, dtype=np.float32)\n",
    "\n",
    "# Split\n",
    "tr_ids, te_ids = train_test_split(range(xdata.shape[0]), test_size=0.2, random_state=seed, stratify=ydata)\n",
    "xtr = xdata.iloc[tr_ids, :].reset_index(drop=True)\n",
    "xte = xdata.iloc[te_ids, :].reset_index(drop=True)\n",
    "\n",
    "if y_encoding == 'onehot':\n",
    "    ytr = y_onehot.iloc[tr_ids, :].reset_index(drop=True)\n",
    "    yte = y_onehot.iloc[te_ids, :].reset_index(drop=True)\n",
    "    loss = losses.CategoricalCrossentropy()\n",
    "elif y_encoding == 'label':\n",
    "    ytr = ydata_label[tr_ids]\n",
    "    yte = ydata_label[te_ids]\n",
    "    loss = losses.SparseCategoricalCrossentropy()\n",
    "else:\n",
    "    raise ValueError(f'Unknown value for y_encoding ({y_encoding}).')\n",
    "    \n",
    "ytr_label = ydata_label[tr_ids]\n",
    "yte_label = ydata_label[te_ids]\n",
    "\n",
    "# display(mm.iloc[tr_ids]['ctype_gdc'].value_counts())\n",
    "# display(mm.iloc[te_ids]['ctype_gdc'].value_counts())\n",
    "\n",
    "# Model\n",
    "inputs = Input(shape=(xtr.shape[1],), name='rna_input')\n",
    "# x = Dense(4, activation=tf.nn.relu)(inputs)\n",
    "x = Dense(256, activation=tf.nn.relu)(inputs)\n",
    "x = Dropout(0.1)(x)\n",
    "outputs = Dense(n_classes, activation=tf.nn.softmax, name='ctype')(x)\n",
    "\n",
    "gdc_model = Model(inputs=[inputs], outputs=[outputs])\n",
    "\n",
    "gdc_model.compile(loss=loss,\n",
    "                  optimizer=optimizers.Adam(learning_rate=0.0001),\n",
    "                  metrics=['accuracy'])\n",
    "\n",
    "gdc_model.summary()"
   ]
  },
  {
   "cell_type": "code",
   "execution_count": 10,
   "metadata": {},
   "outputs": [
    {
     "name": "stdout",
     "output_type": "stream",
     "text": [
      "Epoch 1/4\n",
      "106/106 [==============================] - 0s 4ms/step - loss: 1.1816 - accuracy: 0.6459 - val_loss: 0.5905 - val_accuracy: 0.8302\n",
      "Epoch 2/4\n",
      "106/106 [==============================] - 0s 3ms/step - loss: 0.5145 - accuracy: 0.8502 - val_loss: 0.4426 - val_accuracy: 0.8597\n",
      "Epoch 3/4\n",
      "106/106 [==============================] - 0s 3ms/step - loss: 0.3864 - accuracy: 0.8815 - val_loss: 0.3796 - val_accuracy: 0.8691\n",
      "Epoch 4/4\n",
      "106/106 [==============================] - 0s 3ms/step - loss: 0.3219 - accuracy: 0.8924 - val_loss: 0.3419 - val_accuracy: 0.8856\n"
     ]
    }
   ],
   "source": [
    "# Train\n",
    "epochs = 4\n",
    "batch_size = 32\n",
    "history = gdc_model.fit(xtr, ytr, epochs=epochs, batch_size=batch_size, validation_data=(xte, yte))"
   ]
  },
  {
   "cell_type": "code",
   "execution_count": 11,
   "metadata": {},
   "outputs": [
    {
     "data": {
      "image/png": "[encoded data removed]",
      "text/plain": [
       "<Figure size 432x288 with 2 Axes>"
      ]
     },
     "metadata": {
      "needs_background": "light"
     },
     "output_type": "display_data"
    }
   ],
   "source": [
    "yte_prd = gdc_model.predict(xte)\n",
    "yte_prd_label = np.argmax(yte_prd, axis=1)\n",
    "# yte_true_label = np.argmax(yte.values, axis=1)\n",
    "\n",
    "cnf_mtrx = confusion_matrix(yte_label, yte_prd_label)\n",
    "disp = ConfusionMatrixDisplay(cnf_mtrx, display_labels=list(y_onehot.columns))\n",
    "disp.plot(xticks_rotation=65);"
   ]
  },
  {
   "cell_type": "code",
   "execution_count": null,
   "metadata": {},
   "outputs": [],
   "source": []
  },
  {
   "cell_type": "markdown",
   "metadata": {},
   "source": [
    "# PDX"
   ]
  },
  {
   "cell_type": "code",
   "execution_count": 13,
   "metadata": {},
   "outputs": [
    {
     "name": "stdout",
     "output_type": "stream",
     "text": [
      "(510, 19)\n",
      "(510, 944)\n"
     ]
    },
    {
     "data": {
      "text/plain": [
       "squamous                      255\n",
       "digestive/gastrointestinal    255\n",
       "Name: ctype, dtype: int64"
      ]
     },
     "execution_count": 13,
     "metadata": {},
     "output_type": "execute_result"
    }
   ],
   "source": [
    "# Create balanced dataset on ctype\n",
    "n_classes = 2\n",
    "cls_label = 'ctype'\n",
    "min_count = pdx_meta[cls_label].value_counts().iloc[n_classes-1]\n",
    "\n",
    "dfs = []\n",
    "for ctype in pdx_meta[cls_label].value_counts().index[:n_classes]:\n",
    "    df = pdx_meta[pdx_meta[cls_label].isin([ctype])]\n",
    "    df = df.sample(n=min_count, random_state=seed)\n",
    "    dfs.append(df)\n",
    "\n",
    "pdx_meta = pd.concat(dfs, axis=0).sort_values('Sample', ascending=True).reset_index(drop=True)\n",
    "pdx_rna = pdx_rna[pdx_rna.Sample.isin(pdx_meta.Sample.values)].sort_values('Sample', ascending=True).reset_index(drop=True)\n",
    "\n",
    "del dfs, df\n",
    "\n",
    "print(pdx_meta.shape)\n",
    "print(pdx_rna.shape)\n",
    "pdx_meta.ctype.value_counts()"
   ]
  },
  {
   "cell_type": "code",
   "execution_count": 14,
   "metadata": {},
   "outputs": [
    {
     "name": "stdout",
     "output_type": "stream",
     "text": [
      "Model: \"functional_5\"\n",
      "_________________________________________________________________\n",
      "Layer (type)                 Output Shape              Param #   \n",
      "=================================================================\n",
      "rna_input (InputLayer)       [(None, 942)]             0         \n",
      "_________________________________________________________________\n",
      "dense_2 (Dense)              (None, 256)               241408    \n",
      "_________________________________________________________________\n",
      "dropout_2 (Dropout)          (None, 256)               0         \n",
      "_________________________________________________________________\n",
      "ctype (Dense)                (None, 2)                 514       \n",
      "=================================================================\n",
      "Total params: 241,922\n",
      "Trainable params: 241,922\n",
      "Non-trainable params: 0\n",
      "_________________________________________________________________\n"
     ]
    }
   ],
   "source": [
    "# y_encoding = 'onehot'\n",
    "y_encoding = 'label'\n",
    "\n",
    "# Onehot encoding\n",
    "ydata = pdx_meta[cls_label].values\n",
    "# y_onehot = pd.get_dummies(ydata_label)\n",
    "y_onehot = pd.get_dummies(ydata)\n",
    "ydata_label = np.argmax(y_onehot.values, axis=1)\n",
    "\n",
    "# Scale RNA\n",
    "x_scaler = StandardScaler()\n",
    "xdata = pdx_rna.iloc[:, 2:]\n",
    "cols = xdata.columns\n",
    "xdata = pd.DataFrame(x_scaler.fit_transform(xdata), columns=cols, dtype=np.float32)\n",
    "\n",
    "# Split\n",
    "tr_ids, te_ids = train_test_split(range(xdata.shape[0]), test_size=0.2, random_state=seed, stratify=ydata)\n",
    "xtr = xdata.iloc[tr_ids, :].reset_index(drop=True)\n",
    "xte = xdata.iloc[te_ids, :].reset_index(drop=True)\n",
    "\n",
    "if y_encoding == 'onehot':\n",
    "    ytr = y_onehot.iloc[tr_ids, :].reset_index(drop=True)\n",
    "    yte = y_onehot.iloc[te_ids, :].reset_index(drop=True)\n",
    "    loss = losses.CategoricalCrossentropy()\n",
    "elif y_encoding == 'label':\n",
    "    ytr = ydata_label[tr_ids]\n",
    "    yte = ydata_label[te_ids]\n",
    "    loss = losses.SparseCategoricalCrossentropy()\n",
    "else:\n",
    "    raise ValueError(f'Unknown value for y_encoding ({y_encoding}).')\n",
    "    \n",
    "ytr_label = ydata_label[tr_ids]\n",
    "yte_label = ydata_label[te_ids]\n",
    "\n",
    "# Model\n",
    "inputs = Input(shape=(xtr.shape[1],), name='rna_input')\n",
    "# x = Dense(4, activation=tf.nn.relu)(inputs)\n",
    "x = Dense(256, activation=tf.nn.relu)(inputs)\n",
    "x = Dropout(0.1)(x)\n",
    "outputs = Dense(n_classes, activation=tf.nn.softmax, name='ctype')(x)\n",
    "\n",
    "gdc_model = Model(inputs=[inputs], outputs=[outputs])\n",
    "\n",
    "gdc_model.compile(loss=loss,\n",
    "                  optimizer=optimizers.Adam(learning_rate=0.0001),\n",
    "                  metrics=['accuracy'])\n",
    "\n",
    "gdc_model.summary()"
   ]
  },
  {
   "cell_type": "code",
   "execution_count": 15,
   "metadata": {},
   "outputs": [
    {
     "name": "stdout",
     "output_type": "stream",
     "text": [
      "Epoch 1/2\n",
      "13/13 [==============================] - 0s 11ms/step - loss: 0.4124 - accuracy: 0.8211 - val_loss: 0.1788 - val_accuracy: 0.9412\n",
      "Epoch 2/2\n",
      "13/13 [==============================] - 0s 4ms/step - loss: 0.1509 - accuracy: 0.9559 - val_loss: 0.0903 - val_accuracy: 0.9608\n"
     ]
    }
   ],
   "source": [
    "# Train\n",
    "epochs = 2\n",
    "batch_size = 32\n",
    "history = gdc_model.fit(xtr, ytr, epochs=epochs, batch_size=batch_size, validation_data=(xte, yte))"
   ]
  },
  {
   "cell_type": "code",
   "execution_count": 16,
   "metadata": {},
   "outputs": [
    {
     "data": {
      "image/png": "[encoded data removed]",
      "text/plain": [
       "<Figure size 432x288 with 2 Axes>"
      ]
     },
     "metadata": {
      "needs_background": "light"
     },
     "output_type": "display_data"
    }
   ],
   "source": [
    "yte_prd = gdc_model.predict(xte)\n",
    "yte_prd_label = np.argmax(yte_prd, axis=1)\n",
    "# yte_true_label = np.argmax(yte.values, axis=1)\n",
    "\n",
    "cnf_mtrx = confusion_matrix(yte_label, yte_prd_label)\n",
    "disp = ConfusionMatrixDisplay(cnf_mtrx, display_labels=list(y_onehot.columns))\n",
    "disp.plot(xticks_rotation=65);"
   ]
  },
  {
   "cell_type": "code",
   "execution_count": null,
   "metadata": {},
   "outputs": [],
   "source": []
  }
 ],
 "metadata": {
  "kernelspec": {
   "display_name": "Python 3",
   "language": "python",
   "name": "python3"
  },
  "language_info": {
   "codemirror_mode": {
    "name": "ipython",
    "version": 3
   },
   "file_extension": ".py",
   "mimetype": "text/x-python",
   "name": "python",
   "nbconvert_exporter": "python",
   "pygments_lexer": "ipython3",
   "version": "3.7.9"
  }
 },
 "nbformat": 4,
 "nbformat_minor": 4
}
