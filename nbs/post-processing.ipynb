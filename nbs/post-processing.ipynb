{
 "cells": [
  {
   "cell_type": "markdown",
   "metadata": {},
   "source": [
    "# EDA and post-processing"
   ]
  },
  {
   "cell_type": "code",
   "execution_count": 1,
   "metadata": {},
   "outputs": [
    {
     "name": "stdout",
     "output_type": "stream",
     "text": [
      "/vol/ml/apartin/projects/pdx-histo/nbs\n"
     ]
    }
   ],
   "source": [
    "%load_ext autoreload\n",
    "%autoreload 2\n",
    "%matplotlib inline\n",
    "\n",
    "import os\n",
    "import sys\n",
    "assert sys.version_info >= (3, 5)\n",
    "\n",
    "from pathlib import Path\n",
    "from pprint import pprint\n",
    "import glob\n",
    "import shutil\n",
    "import json\n",
    "import csv\n",
    "import itertools\n",
    "import pandas as pd\n",
    "import numpy as np\n",
    "from scipy import stats\n",
    "from functools import partial, reduce\n",
    "from time import time\n",
    "from typing import List, Optional, Union\n",
    "\n",
    "import matplotlib.pyplot as plt\n",
    "import seaborn as sns\n",
    "\n",
    "from sklearn import metrics\n",
    "from sklearn.metrics import (confusion_matrix, balanced_accuracy_score, f1_score, matthews_corrcoef,\n",
    "                             roc_auc_score, recall_score, precision_score, precision_recall_curve)\n",
    "\n",
    "from sklearn.metrics import precision_recall_curve, average_precision_score, roc_auc_score, auc, roc_curve\n",
    "\n",
    "import tensorflow as tf\n",
    "from tensorflow import keras\n",
    "assert tf.__version__ >= \"2.0\"\n",
    "\n",
    "# Seed\n",
    "seed = 42\n",
    "np.random.seed(seed)\n",
    "tf.random.set_seed(seed)\n",
    "\n",
    "fdir = Path.cwd()\n",
    "print(fdir)\n",
    "sys.path.append(str(fdir/'..'))\n",
    "import src\n",
    "from src.config import cfg\n",
    "from src.post_processing import scores_boxplot, scores_barplot"
   ]
  },
  {
   "cell_type": "code",
   "execution_count": 2,
   "metadata": {},
   "outputs": [],
   "source": [
    "# For Alex Pearson\n",
    "# df = pd.read_csv(fdir/\"../data/processed/tidy_drug_pairs_all_samples/annotations_slideflow.csv\")\n",
    "# cols = [c for c in df.columns if c.startswith(\"dd1_\") | c.startswith(\"dd2_\") | c.startswith(\"ge_\")]\n",
    "# aa = df.drop(columns=cols)\n",
    "# aa = aa.drop(columns=[\"index\", \"submitter_id\", \"slide\", \"trt\", \"aug\", \"smp\", \"grp_name\"])\n",
    "# aa.to_csv(\"pdx_drug_response_meta.csv\", index=False)"
   ]
  },
  {
   "cell_type": "code",
   "execution_count": null,
   "metadata": {},
   "outputs": [],
   "source": []
  },
  {
   "cell_type": "markdown",
   "metadata": {},
   "source": [
    "# Tile counter per slide"
   ]
  },
  {
   "cell_type": "code",
   "execution_count": 3,
   "metadata": {},
   "outputs": [
    {
     "name": "stdout",
     "output_type": "stream",
     "text": [
      "(6962, 8)\n"
     ]
    },
    {
     "data": {
      "text/html": [
       "<div>\n",
       "<style scoped>\n",
       "    .dataframe tbody tr th:only-of-type {\n",
       "        vertical-align: middle;\n",
       "    }\n",
       "\n",
       "    .dataframe tbody tr th {\n",
       "        vertical-align: top;\n",
       "    }\n",
       "\n",
       "    .dataframe thead th {\n",
       "        text-align: right;\n",
       "    }\n",
       "</style>\n",
       "<table border=\"1\" class=\"dataframe\">\n",
       "  <thead>\n",
       "    <tr style=\"text-align: right;\">\n",
       "      <th></th>\n",
       "      <th>Response</th>\n",
       "      <th>Tiles</th>\n",
       "      <th>Samples</th>\n",
       "      <th>Groups</th>\n",
       "    </tr>\n",
       "  </thead>\n",
       "  <tbody>\n",
       "    <tr>\n",
       "      <th>0</th>\n",
       "      <td>0</td>\n",
       "      <td>2517905</td>\n",
       "      <td>6631</td>\n",
       "      <td>917</td>\n",
       "    </tr>\n",
       "    <tr>\n",
       "      <th>1</th>\n",
       "      <td>1</td>\n",
       "      <td>141374</td>\n",
       "      <td>331</td>\n",
       "      <td>42</td>\n",
       "    </tr>\n",
       "  </tbody>\n",
       "</table>\n",
       "</div>"
      ],
      "text/plain": [
       "   Response    Tiles  Samples  Groups\n",
       "0         0  2517905     6631     917\n",
       "1         1   141374      331      42"
      ]
     },
     "metadata": {},
     "output_type": "display_data"
    },
    {
     "name": "stdout",
     "output_type": "stream",
     "text": [
      "Response    1.000000\n",
      "Tiles       0.053163\n",
      "Samples     0.047544\n",
      "Groups      0.043796\n",
      "dtype: float64\n"
     ]
    }
   ],
   "source": [
    "tfr_dir = cfg.DATADIR/\"PDX_FIXED_RSP_DRUG_PAIR\"/\"299px_302um\"\n",
    "tile_cnts = pd.read_csv(tfr_dir/\"tile_counts_per_slide.csv\")\n",
    "print(tile_cnts.shape)\n",
    "\n",
    "aa = tile_cnts.groupby(\"Response\").agg({\"max_tiles\": \"sum\", \"smp\": \"nunique\", \"Group\": \"nunique\"}).reset_index().rename(\n",
    "    columns={\"max_tiles\": \"Tiles\", \"smp\": \"Samples\", \"Group\": \"Groups\"})\n",
    "display(aa)\n",
    "\n",
    "print(aa.iloc[1,:]/aa.sum(axis=0))"
   ]
  },
  {
   "cell_type": "code",
   "execution_count": null,
   "metadata": {},
   "outputs": [],
   "source": []
  },
  {
   "cell_type": "markdown",
   "metadata": {},
   "source": [
    "# Ctype barplots \n",
    "\n",
    "This is from `src/eda.py`"
   ]
  },
  {
   "cell_type": "code",
   "execution_count": 4,
   "metadata": {},
   "outputs": [
    {
     "data": {
      "text/plain": [
       "(0, 290)"
      ]
     },
     "execution_count": 4,
     "metadata": {},
     "output_type": "execute_result"
    },
    {
     "data": {
      "image/png": "[encoded data removed]",
      "text/plain": [
       "<Figure size 576x396 with 1 Axes>"
      ]
     },
     "metadata": {
      "needs_background": "light"
     },
     "output_type": "display_data"
    },
    {
     "data": {
      "image/png": "[encoded data removed]",
      "text/plain": [
       "<Figure size 576x396 with 1 Axes>"
      ]
     },
     "metadata": {
      "needs_background": "light"
     },
     "output_type": "display_data"
    }
   ],
   "source": [
    "from src.eda import resp_dist_dict, barplot_sample_count\n",
    "\n",
    "dataname = \"tidy_drug_pairs_all_samples\"\n",
    "annotations_file = cfg.DATA_PROCESSED_DIR/dataname/cfg.SF_ANNOTATIONS_FILENAME\n",
    "dtype = {\"image_id\": str, \"slide\": str}\n",
    "data = pd.read_csv(annotations_file, dtype=dtype, engine=\"c\", na_values=[\"na\", \"NaN\"], low_memory=False)\n",
    "\n",
    "# sns.histplot(data=data, y=\"ctype\", hue=\"Response\", multiple=\"dodge\", shrink=.8)\n",
    "\n",
    "agg_by = \"Samples\"\n",
    "aa, resp_dict = resp_dist_dict(data, agg_by=agg_by, var=\"ctype\", target=\"Response\")\n",
    "ax = barplot_sample_count(resp_dict, title=f\"Histogram of {agg_by}\", figsize=(8, 5.5));\n",
    "plt.tight_layout()\n",
    "ax.set_xlim([0, 2550])\n",
    "\n",
    "agg_by = \"Groups\"\n",
    "aa, resp_dict = resp_dist_dict(data, agg_by=agg_by, var=\"ctype\", target=\"Response\")\n",
    "ax = barplot_sample_count(resp_dict, title=f\"Histogram of {agg_by}\", figsize=(8, 5.5));\n",
    "plt.tight_layout()\n",
    "ax.set_xlim([0, 290])"
   ]
  },
  {
   "cell_type": "code",
   "execution_count": null,
   "metadata": {},
   "outputs": [],
   "source": []
  },
  {
   "cell_type": "markdown",
   "metadata": {},
   "source": [
    "# Data summary\n",
    "\n",
    "- PDX families(?)\n",
    "- single-drug treatments and drug-pair treatments(v)\n",
    "- gene expression profiles(v)\n",
    "- histology images and tiles(v)\n",
    "- of positive and negative instances at group level(v)\n",
    "- of positive and negative instances at sample level(v)"
   ]
  },
  {
   "cell_type": "code",
   "execution_count": 5,
   "metadata": {},
   "outputs": [],
   "source": [
    "sm = {}"
   ]
  },
  {
   "cell_type": "code",
   "execution_count": 6,
   "metadata": {},
   "outputs": [
    {
     "name": "stdout",
     "output_type": "stream",
     "text": [
      "Unique samples 487\n"
     ]
    }
   ],
   "source": [
    "print(\"Unique Samples\", data.Sample.nunique())"
   ]
  },
  {
   "cell_type": "code",
   "execution_count": 26,
   "metadata": {},
   "outputs": [],
   "source": [
    "# cols = [\"Group\", \"model\", \"trt\", \"smp\", \"ctype\"]\n",
    "# data.sort_values(cols)[cols][:30]"
   ]
  },
  {
   "cell_type": "code",
   "execution_count": 24,
   "metadata": {},
   "outputs": [
    {
     "name": "stdout",
     "output_type": "stream",
     "text": [
      "959\n"
     ]
    }
   ],
   "source": [
    "# PDX family\n",
    "print(data.Group.nunique())\n",
    "sm[\"PDX families\"] = data.Group.nunique()"
   ]
  },
  {
   "cell_type": "code",
   "execution_count": 25,
   "metadata": {},
   "outputs": [
    {
     "name": "stdout",
     "output_type": "stream",
     "text": [
      "12\n"
     ]
    }
   ],
   "source": [
    "# Single drug treatments\n",
    "df = data[data[\"Drug1\"] == data[\"Drug2\"]]\n",
    "print(df.trt.nunique())\n",
    "sm[\"Single-drug treatments\"] = df.trt.nunique()"
   ]
  },
  {
   "cell_type": "code",
   "execution_count": 10,
   "metadata": {},
   "outputs": [
    {
     "name": "stdout",
     "output_type": "stream",
     "text": [
      "72\n"
     ]
    }
   ],
   "source": [
    "# Drug-pair treatments\n",
    "df = data[data[\"Drug1\"] != data[\"Drug2\"]]\n",
    "print(df.trt.nunique())\n",
    "sm[\"Drug-pair treatments\"] = df.trt.nunique()"
   ]
  },
  {
   "cell_type": "code",
   "execution_count": 11,
   "metadata": {},
   "outputs": [
    {
     "name": "stdout",
     "output_type": "stream",
     "text": [
      "84\n"
     ]
    }
   ],
   "source": [
    "# All treatments\n",
    "print(data.trt.nunique())\n",
    "sm[\"All treatments\"] = data.trt.nunique()"
   ]
  },
  {
   "cell_type": "code",
   "execution_count": 12,
   "metadata": {},
   "outputs": [
    {
     "name": "stdout",
     "output_type": "stream",
     "text": [
      "487\n",
      "(487, 942)\n"
     ]
    }
   ],
   "source": [
    "# Gene expression profiles\n",
    "ge = data[[c for c in data.columns if c.startswith(\"ge_\")]]\n",
    "ge = ge.drop_duplicates()\n",
    "print(ge.shape[0] - ge.duplicated().sum())\n",
    "print(ge.shape)\n",
    "sm[\"Gene expression profiles\"] = ge.shape[0]"
   ]
  },
  {
   "cell_type": "code",
   "execution_count": 13,
   "metadata": {},
   "outputs": [
    {
     "name": "stdout",
     "output_type": "stream",
     "text": [
      "487\n"
     ]
    }
   ],
   "source": [
    "# Histology images\n",
    "print(data.image_id.nunique())\n",
    "sm[\"Histology slides\"] = data.image_id.nunique()"
   ]
  },
  {
   "cell_type": "code",
   "execution_count": 14,
   "metadata": {},
   "outputs": [
    {
     "name": "stdout",
     "output_type": "stream",
     "text": [
      "(487, 4954)\n",
      "(487, 9)\n",
      "177468\n"
     ]
    }
   ],
   "source": [
    "# Histology tiles\n",
    "df = data.drop_duplicates(subset=[\"image_id\"])\n",
    "print(df.shape)\n",
    "\n",
    "df = df[[\"smp\", \"image_id\", \"slide\", \"Response\"]].astype({\"image_id\": int, \"slide\": int})\n",
    "df = df.merge(tile_cnts, on=[\"smp\", \"slide\", \"Response\"], how=\"inner\")\n",
    "print(df.shape)\n",
    "print(df[\"max_tiles\"].sum())\n",
    "\n",
    "sm[\"Histology tiles\"] = df[\"max_tiles\"].sum()"
   ]
  },
  {
   "cell_type": "code",
   "execution_count": 15,
   "metadata": {},
   "outputs": [],
   "source": [
    "# Drug response samples in the ML dataset\n",
    "sm[\"Drug response samples\"] = data.shape[0]"
   ]
  },
  {
   "cell_type": "code",
   "execution_count": 16,
   "metadata": {},
   "outputs": [],
   "source": [
    "# Single-drug response samples in the ML dataset\n",
    "sm[\"Single-drug response samples\"] = data[data.aug==False].shape[0]"
   ]
  },
  {
   "cell_type": "code",
   "execution_count": 17,
   "metadata": {},
   "outputs": [],
   "source": [
    "# Single-drug response samples in the ML dataset\n",
    "sm[\"Drug-pair response samples\"] = data[data.aug==True].shape[0]"
   ]
  },
  {
   "cell_type": "code",
   "execution_count": 18,
   "metadata": {},
   "outputs": [
    {
     "data": {
      "text/plain": [
       "PDX families                      TODO\n",
       "Single-drug treatments              12\n",
       "Drug-pair treatments                72\n",
       "All treatments                      84\n",
       "Gene expression profiles           487\n",
       "Histology slides                   487\n",
       "Histology tiles                 177468\n",
       "Drug response samples             6962\n",
       "Single-drug response samples      2556\n",
       "Drug-pair response samples        4406\n",
       "dtype: object"
      ]
     },
     "execution_count": 18,
     "metadata": {},
     "output_type": "execute_result"
    }
   ],
   "source": [
    "pd.Series(sm)"
   ]
  },
  {
   "cell_type": "code",
   "execution_count": 19,
   "metadata": {},
   "outputs": [
    {
     "data": {
      "text/html": [
       "<div>\n",
       "<style scoped>\n",
       "    .dataframe tbody tr th:only-of-type {\n",
       "        vertical-align: middle;\n",
       "    }\n",
       "\n",
       "    .dataframe tbody tr th {\n",
       "        vertical-align: top;\n",
       "    }\n",
       "\n",
       "    .dataframe thead th {\n",
       "        text-align: right;\n",
       "    }\n",
       "</style>\n",
       "<table border=\"1\" class=\"dataframe\">\n",
       "  <thead>\n",
       "    <tr style=\"text-align: right;\">\n",
       "      <th></th>\n",
       "      <th>smp</th>\n",
       "      <th>image_id</th>\n",
       "      <th>slide</th>\n",
       "      <th>Response</th>\n",
       "      <th>tfr_fname</th>\n",
       "      <th>max_tiles</th>\n",
       "      <th>n_tiles</th>\n",
       "      <th>Group</th>\n",
       "      <th>grp_name</th>\n",
       "    </tr>\n",
       "  </thead>\n",
       "  <tbody>\n",
       "    <tr>\n",
       "      <th>0</th>\n",
       "      <td>114434~197-R~A35YC3_NSC.125973_NSC.125973</td>\n",
       "      <td>27166</td>\n",
       "      <td>27166</td>\n",
       "      <td>0</td>\n",
       "      <td>114434~197-R~A35YC3_NSC.125973_NSC.125973.tfre...</td>\n",
       "      <td>617</td>\n",
       "      <td>617</td>\n",
       "      <td>0</td>\n",
       "      <td>114434~197-R_NSC.125973_NSC.125973</td>\n",
       "    </tr>\n",
       "    <tr>\n",
       "      <th>1</th>\n",
       "      <td>114434~197-R~A36YC9_NSC.125973_NSC.125973</td>\n",
       "      <td>25127</td>\n",
       "      <td>25127</td>\n",
       "      <td>0</td>\n",
       "      <td>114434~197-R~A36YC9_NSC.125973_NSC.125973.tfre...</td>\n",
       "      <td>505</td>\n",
       "      <td>505</td>\n",
       "      <td>0</td>\n",
       "      <td>114434~197-R_NSC.125973_NSC.125973</td>\n",
       "    </tr>\n",
       "  </tbody>\n",
       "</table>\n",
       "</div>"
      ],
      "text/plain": [
       "                                         smp  image_id  slide  Response  \\\n",
       "0  114434~197-R~A35YC3_NSC.125973_NSC.125973     27166  27166         0   \n",
       "1  114434~197-R~A36YC9_NSC.125973_NSC.125973     25127  25127         0   \n",
       "\n",
       "                                           tfr_fname  max_tiles  n_tiles  \\\n",
       "0  114434~197-R~A35YC3_NSC.125973_NSC.125973.tfre...        617      617   \n",
       "1  114434~197-R~A36YC9_NSC.125973_NSC.125973.tfre...        505      505   \n",
       "\n",
       "   Group                            grp_name  \n",
       "0      0  114434~197-R_NSC.125973_NSC.125973  \n",
       "1      0  114434~197-R_NSC.125973_NSC.125973  "
      ]
     },
     "execution_count": 19,
     "metadata": {},
     "output_type": "execute_result"
    }
   ],
   "source": [
    "df[:2]"
   ]
  },
  {
   "cell_type": "code",
   "execution_count": 20,
   "metadata": {},
   "outputs": [
    {
     "data": {
      "text/html": [
       "<div>\n",
       "<style scoped>\n",
       "    .dataframe tbody tr th:only-of-type {\n",
       "        vertical-align: middle;\n",
       "    }\n",
       "\n",
       "    .dataframe tbody tr th {\n",
       "        vertical-align: top;\n",
       "    }\n",
       "\n",
       "    .dataframe thead th {\n",
       "        text-align: right;\n",
       "    }\n",
       "</style>\n",
       "<table border=\"1\" class=\"dataframe\">\n",
       "  <thead>\n",
       "    <tr style=\"text-align: right;\">\n",
       "      <th></th>\n",
       "      <th>Response</th>\n",
       "      <th>Tiles</th>\n",
       "      <th>Samples</th>\n",
       "      <th>Groups</th>\n",
       "    </tr>\n",
       "  </thead>\n",
       "  <tbody>\n",
       "    <tr>\n",
       "      <th>0</th>\n",
       "      <td>0</td>\n",
       "      <td>2517905</td>\n",
       "      <td>6631</td>\n",
       "      <td>917</td>\n",
       "    </tr>\n",
       "    <tr>\n",
       "      <th>1</th>\n",
       "      <td>1</td>\n",
       "      <td>141374</td>\n",
       "      <td>331</td>\n",
       "      <td>42</td>\n",
       "    </tr>\n",
       "  </tbody>\n",
       "</table>\n",
       "</div>"
      ],
      "text/plain": [
       "   Response    Tiles  Samples  Groups\n",
       "0         0  2517905     6631     917\n",
       "1         1   141374      331      42"
      ]
     },
     "metadata": {},
     "output_type": "display_data"
    }
   ],
   "source": [
    "aa = tile_cnts.groupby(\"Response\").agg({\"max_tiles\": \"sum\", \"smp\": \"nunique\", \"Group\": \"nunique\"}).reset_index().rename(\n",
    "    columns={\"max_tiles\": \"Tiles\", \"smp\": \"Samples\", \"Group\": \"Groups\"})\n",
    "display(aa)"
   ]
  },
  {
   "cell_type": "code",
   "execution_count": 22,
   "metadata": {},
   "outputs": [
    {
     "data": {
      "text/html": [
       "<div>\n",
       "<style scoped>\n",
       "    .dataframe tbody tr th:only-of-type {\n",
       "        vertical-align: middle;\n",
       "    }\n",
       "\n",
       "    .dataframe tbody tr th {\n",
       "        vertical-align: top;\n",
       "    }\n",
       "\n",
       "    .dataframe thead th {\n",
       "        text-align: right;\n",
       "    }\n",
       "</style>\n",
       "<table border=\"1\" class=\"dataframe\">\n",
       "  <thead>\n",
       "    <tr style=\"text-align: right;\">\n",
       "      <th></th>\n",
       "      <th>tfr_fname</th>\n",
       "      <th>smp</th>\n",
       "      <th>slide</th>\n",
       "      <th>max_tiles</th>\n",
       "      <th>n_tiles</th>\n",
       "      <th>Group</th>\n",
       "      <th>grp_name</th>\n",
       "      <th>Response</th>\n",
       "    </tr>\n",
       "  </thead>\n",
       "  <tbody>\n",
       "    <tr>\n",
       "      <th>0</th>\n",
       "      <td>512744~197-R~T59TM8_NSC.362856_NSC.752840.tfre...</td>\n",
       "      <td>512744~197-R~T59TM8_NSC.362856_NSC.752840</td>\n",
       "      <td>10065</td>\n",
       "      <td>94</td>\n",
       "      <td>94</td>\n",
       "      <td>425</td>\n",
       "      <td>512744~197-R_NSC.362856_NSC.752840</td>\n",
       "      <td>0</td>\n",
       "    </tr>\n",
       "    <tr>\n",
       "      <th>1</th>\n",
       "      <td>512744~197-R~T59TM8_NSC.362856_NSC.362856.tfre...</td>\n",
       "      <td>512744~197-R~T59TM8_NSC.362856_NSC.362856</td>\n",
       "      <td>10065</td>\n",
       "      <td>94</td>\n",
       "      <td>94</td>\n",
       "      <td>422</td>\n",
       "      <td>512744~197-R_NSC.362856_NSC.362856</td>\n",
       "      <td>0</td>\n",
       "    </tr>\n",
       "    <tr>\n",
       "      <th>2</th>\n",
       "      <td>512744~197-R~T59TM8_NSC.752840_NSC.362856.tfre...</td>\n",
       "      <td>512744~197-R~T59TM8_NSC.752840_NSC.362856</td>\n",
       "      <td>10065</td>\n",
       "      <td>94</td>\n",
       "      <td>94</td>\n",
       "      <td>425</td>\n",
       "      <td>512744~197-R_NSC.752840_NSC.362856</td>\n",
       "      <td>0</td>\n",
       "    </tr>\n",
       "  </tbody>\n",
       "</table>\n",
       "</div>"
      ],
      "text/plain": [
       "                                           tfr_fname  \\\n",
       "0  512744~197-R~T59TM8_NSC.362856_NSC.752840.tfre...   \n",
       "1  512744~197-R~T59TM8_NSC.362856_NSC.362856.tfre...   \n",
       "2  512744~197-R~T59TM8_NSC.752840_NSC.362856.tfre...   \n",
       "\n",
       "                                         smp  slide  max_tiles  n_tiles  \\\n",
       "0  512744~197-R~T59TM8_NSC.362856_NSC.752840  10065         94       94   \n",
       "1  512744~197-R~T59TM8_NSC.362856_NSC.362856  10065         94       94   \n",
       "2  512744~197-R~T59TM8_NSC.752840_NSC.362856  10065         94       94   \n",
       "\n",
       "   Group                            grp_name  Response  \n",
       "0    425  512744~197-R_NSC.362856_NSC.752840         0  \n",
       "1    422  512744~197-R_NSC.362856_NSC.362856         0  \n",
       "2    425  512744~197-R_NSC.752840_NSC.362856         0  "
      ]
     },
     "execution_count": 22,
     "metadata": {},
     "output_type": "execute_result"
    }
   ],
   "source": [
    "tile_cnts[:3]"
   ]
  },
  {
   "cell_type": "code",
   "execution_count": 23,
   "metadata": {},
   "outputs": [],
   "source": [
    "# # Number of drugs in single-drug treatments\n",
    "# df = data.copy()\n",
    "# df = df[df[\"Drug1\"] == df[\"Drug2\"]]\n",
    "# print(df.Drug1.nunique())\n",
    "# print(df.trt.nunique())\n",
    "\n",
    "# dd1 = df[[c for c in df.columns if c.startswith(\"dd1_\")]]\n",
    "# dd2 = df[[c for c in df.columns if c.startswith(\"dd2_\")]]\n",
    "# print(dd1.shape[0] - dd1.duplicated().sum())\n",
    "# print(dd2.shape[0] - dd2.duplicated().sum())"
   ]
  },
  {
   "cell_type": "code",
   "execution_count": 24,
   "metadata": {},
   "outputs": [],
   "source": [
    "# # Number of drugs in drug-pair treatments\n",
    "# df = data.copy()\n",
    "# df = df[df[\"Drug1\"] != df[\"Drug2\"]]\n",
    "# print(df.Drug1.nunique())\n",
    "# print(df.trt.nunique())\n",
    "\n",
    "# dd1 = df[[c for c in df.columns if c.startswith(\"dd1_\")]]\n",
    "# dd2 = df[[c for c in df.columns if c.startswith(\"dd2_\")]]\n",
    "# print(dd1.shape[0] - dd1.duplicated().sum())\n",
    "# print(dd2.shape[0] - dd2.duplicated().sum())"
   ]
  },
  {
   "cell_type": "code",
   "execution_count": 25,
   "metadata": {},
   "outputs": [],
   "source": [
    "# dd1 = data[[c for c in data.columns if c.startswith(\"dd1_\")]]\n",
    "# dd2 = data[[c for c in data.columns if c.startswith(\"dd2_\")]]\n",
    "# ge = data[[c for c in data.columns if c.startswith(\"ge_\")]]\n",
    "\n",
    "# print(dd1.shape[0] - dd1.duplicated().sum())\n",
    "# print(dd2.shape[0] - dd2.duplicated().sum())\n",
    "# print(ge.shape[0] - ge.duplicated().sum())"
   ]
  },
  {
   "cell_type": "code",
   "execution_count": null,
   "metadata": {},
   "outputs": [],
   "source": []
  },
  {
   "cell_type": "code",
   "execution_count": null,
   "metadata": {},
   "outputs": [],
   "source": []
  },
  {
   "cell_type": "markdown",
   "metadata": {},
   "source": [
    "# Calibration"
   ]
  },
  {
   "cell_type": "code",
   "execution_count": 27,
   "metadata": {},
   "outputs": [],
   "source": [
    "from sklearn.calibration import calibration_curve\n",
    "\n",
    "def plot_calibration_curve(name, fig_index, y_true, probs, verbose=True, figsize=(8, 8)):\n",
    "    \"\"\" Plot calibration curve for est w/o and with calibration.\n",
    "    https://towardsdatascience.com/classifier-calibration-7d0be1e05452\n",
    "    \"\"\"\n",
    "    # fig = plt.figure(fig_index, figsize=figsize)\n",
    "    fig, ax = plt.subplots(1, 1, figsize=figsize)\n",
    "    ax1 = plt.subplot2grid(shape=(3, 1), loc=(0, 0), rowspan=2)\n",
    "    ax2 = plt.subplot2grid(shape=(3, 1), loc=(2, 0))\n",
    "\n",
    "    ax1.plot([0, 1], [0, 1], \"k:\", label=\"Perfectly calibrated\")\n",
    "\n",
    "    frac_of_pos, mean_pred_value = calibration_curve(y_true, probs, n_bins=10)\n",
    "\n",
    "    ax1.plot(mean_pred_value, frac_of_pos, \"s-\", label=f\"{name}\")\n",
    "    ax1.set_ylabel(\"Fraction of positives\")\n",
    "    ax1.set_ylim([-0.05, 1.05])\n",
    "    ax1.legend(loc=\"best\")\n",
    "    ax1.set_title(f\"Calibration plot ({name})\")\n",
    "\n",
    "    ax2.hist(probs, range=(0, 1), bins=10, label=name, histtype=\"step\", lw=2)\n",
    "    ax2.set_xlabel(\"Mean predicted value\")\n",
    "    ax2.set_ylabel(\"Count\")\n",
    "\n",
    "    if verbose:\n",
    "        print(\"Fraction of positives: {}\".format(np.around(frac_of_pos, 3)))\n",
    "        print(\"Mean prediction value: {}\".format(np.around(mean_pred_value, 3)))\n",
    "    return frac_of_pos, mean_pred_value"
   ]
  },
  {
   "cell_type": "code",
   "execution_count": 28,
   "metadata": {},
   "outputs": [],
   "source": [
    "# split = 81\n",
    "# split = 99\n",
    "split = 76  # best scores\n",
    "# split = 29\n",
    "# split = 78"
   ]
  },
  {
   "cell_type": "code",
   "execution_count": 29,
   "metadata": {},
   "outputs": [
    {
     "name": "stdout",
     "output_type": "stream",
     "text": [
      "Fraction of positives: [0.002 0.087 0.254 0.413 0.48  0.494 0.454 0.58  0.71  0.994]\n",
      "Mean prediction value: [0.016 0.144 0.244 0.345 0.447 0.548 0.65  0.753 0.846 0.971]\n"
     ]
    },
    {
     "data": {
      "image/png": "[encoded data removed]",
      "text/plain": [
       "<Figure size 576x576 with 2 Axes>"
      ]
     },
     "metadata": {
      "needs_background": "light"
     },
     "output_type": "display_data"
    }
   ],
   "source": [
    "dataname = \"tidy_drug_pairs_all_samples\"\n",
    "prjname = \"bin_rsp_drug_pairs_all_samples\"\n",
    "datadir = fdir/\"../projects/bin_rsp_drug_pairs_all_samples/runs_tile_ge_dd\"\n",
    "\n",
    "preds = pd.read_csv(sorted(datadir.glob(f\"split_{split}*\"))[0]/\"test_tile_preds.csv\")\n",
    "fop, mpv = plot_calibration_curve(\"NN: Tile-GE-DD\", 1, y_true=preds[\"y_true\"], probs=preds[\"prob\"])"
   ]
  },
  {
   "cell_type": "code",
   "execution_count": 30,
   "metadata": {},
   "outputs": [
    {
     "name": "stdout",
     "output_type": "stream",
     "text": [
      "Fraction of positives: [0.    0.    0.05  0.154 0.222 0.364 1.    1.    1.    1.   ]\n",
      "Mean prediction value: [0.021 0.14  0.25  0.356 0.448 0.551 0.638 0.795 0.853 0.986]\n"
     ]
    },
    {
     "data": {
      "image/png": "[encoded data removed]",
      "text/plain": [
       "<Figure size 576x576 with 2 Axes>"
      ]
     },
     "metadata": {
      "needs_background": "light"
     },
     "output_type": "display_data"
    }
   ],
   "source": [
    "dataname = \"tidy_drug_pairs_all_samples\"\n",
    "prjname = \"bin_rsp_drug_pairs_all_samples\"\n",
    "datadir = fdir/\"../projects/bin_rsp_drug_pairs_all_samples/runs_ge_dd\"\n",
    "\n",
    "preds = pd.read_csv(sorted(datadir.glob(f\"split_{split}*\"))[0]/\"test_keras_smp_preds.csv\")\n",
    "fop, mpv = plot_calibration_curve(\"NN: GE-DD\", 1, y_true=preds[\"y_true\"], probs=preds[\"prob\"])"
   ]
  },
  {
   "cell_type": "code",
   "execution_count": 31,
   "metadata": {},
   "outputs": [
    {
     "name": "stdout",
     "output_type": "stream",
     "text": [
      "Fraction of positives: [0.013 0.3   0.308 0.    0.    0.    0.    0.25  1.    0.667]\n",
      "Mean prediction value: [0.018 0.142 0.24  0.317 0.457 0.539 0.63  0.767 0.853 0.944]\n"
     ]
    },
    {
     "data": {
      "image/png": "[encoded data removed]",
      "text/plain": [
       "<Figure size 576x576 with 2 Axes>"
      ]
     },
     "metadata": {
      "needs_background": "light"
     },
     "output_type": "display_data"
    }
   ],
   "source": [
    "dataname = \"tidy_drug_pairs_all_samples\"\n",
    "prjname = \"bin_rsp_drug_pairs_all_samples\"\n",
    "datadir = fdir/\"../data/PDX_Transfer_Learning_Classification/Results_MultiModal_Learning/1.0_True_False_100_31\"\n",
    "\n",
    "preds = pd.read_csv(sorted(datadir.glob(f\"cv_{split}*\"))[0]/\"test_preds.csv\")\n",
    "fop, mpv = plot_calibration_curve(\"LGBM: GE-DD\", 1, y_true=preds[\"Response\"], probs=preds[\"prediction\"])"
   ]
  },
  {
   "cell_type": "code",
   "execution_count": null,
   "metadata": {},
   "outputs": [],
   "source": []
  },
  {
   "cell_type": "markdown",
   "metadata": {},
   "source": [
    "# Agg Scores\n",
    "\n",
    "This is `src/post_processing.py`"
   ]
  },
  {
   "cell_type": "code",
   "execution_count": 32,
   "metadata": {},
   "outputs": [
    {
     "name": "stdout",
     "output_type": "stream",
     "text": [
      "Test scores were not found for these splits: []\n",
      "Test scores were not found for these splits: []\n",
      "Test scores were not found for these splits: []\n"
     ]
    },
    {
     "data": {
      "image/png": "[encoded data removed]",
      "text/plain": [
       "<Figure size 576x360 with 1 Axes>"
      ]
     },
     "metadata": {
      "needs_background": "light"
     },
     "output_type": "display_data"
    },
    {
     "data": {
      "image/png": "[encoded data removed]",
      "text/plain": [
       "<Figure size 576x360 with 1 Axes>"
      ]
     },
     "metadata": {
      "needs_background": "light"
     },
     "output_type": "display_data"
    },
    {
     "data": {
      "image/png": "[encoded data removed]",
      "text/plain": [
       "<Figure size 576x360 with 1 Axes>"
      ]
     },
     "metadata": {
      "needs_background": "light"
     },
     "output_type": "display_data"
    },
    {
     "data": {
      "image/png": "[encoded data removed]",
      "text/plain": [
       "<Figure size 576x360 with 1 Axes>"
      ]
     },
     "metadata": {
      "needs_background": "light"
     },
     "output_type": "display_data"
    }
   ],
   "source": [
    "from src.post_processing import agg_scores_from_splits, scores_boxplot, scores_barplot, t_test, t_test_all_metrics\n",
    "\n",
    "# Multimodal\n",
    "mm = agg_scores_from_splits(\n",
    "    datadir=fdir/\"../projects/bin_rsp_drug_pairs_all_samples/runs_tile_ge_dd\",\n",
    "    fname=\"test_scores.csv\", prfx=\"split_\")\n",
    "mm = mm.rename(columns={\"pred_for\": \"metric\"})\n",
    "\n",
    "# Unimodal - gene expression\n",
    "um = agg_scores_from_splits(\n",
    "    datadir=fdir/\"../projects/bin_rsp_drug_pairs_all_samples/runs_ge_dd\",\n",
    "    fname=\"test_keras_scores.csv\", prfx=\"split_\")\n",
    "\n",
    "# LGBM\n",
    "lgb = agg_scores_from_splits(\n",
    "    datadir=fdir/\"../data/PDX_Transfer_Learning_Classification/Results_MultiModal_Learning/1.0_True_False_100_31\",\n",
    "    fname=\"te_scores.csv\", prfx=\"cv_\")\n",
    "\n",
    "\n",
    "# ------------------------------------\n",
    "# Agg scores from all models\n",
    "# ------------------------------------\n",
    "# Create \"model\" column\n",
    "mm[\"model\"] = \"mm-NN: Tile-GE-DD\"\n",
    "um[\"model\"] = \"um-NN: GE-DD\"\n",
    "lgb[\"model\"] = \"um-LGBM: GE-DD\"\n",
    "\n",
    "# Concat scores from all models\n",
    "cols = [\"metric\", \"smp\", \"Group\", \"split\", \"model\"]\n",
    "all_scores = pd.concat([mm[cols], um[cols], lgb[cols]], axis=0).reset_index(drop=True)\n",
    "\n",
    "# Keep common metrics\n",
    "s1 = set(mm[\"metric\"].values)\n",
    "s2 = set(um[\"metric\"].values)\n",
    "s3 = set(lgb[\"metric\"].values)\n",
    "common_metrics = list(reduce(set.intersection, [s1, s2, s3]))\n",
    "all_scores = all_scores[all_scores[\"metric\"].isin(common_metrics)].reset_index(drop=True)\n",
    "\n",
    "# Rename metric names\n",
    "def rename_items_of_single_col(x, mapper_dict):\n",
    "    \"\"\" mapper_dict where keys and values are the old and new values, respectively. \"\"\"\n",
    "    for k, v in mapper_dict.items():\n",
    "        if k == x:\n",
    "            return mapper_dict[k]\n",
    "    return x\n",
    "\n",
    "mapper = {\"brier\": \"Brier\", \"mcc\": \"MCC\", \"pr_auc\": \"PRC-AUC\", \"roc_auc\": \"ROC-AUC\"}\n",
    "all_scores[\"metric\"] = all_scores[\"metric\"].map(lambda x: rename_items_of_single_col(x, mapper))\n",
    "\n",
    "# Drop metrics\n",
    "met_drop = [\"Brier\"]\n",
    "all_scores = all_scores[~all_scores[\"metric\"].isin(met_drop)]\n",
    "\n",
    "# Boxplot\n",
    "ax = scores_boxplot(df=all_scores, x_name=\"metric\", y_name=\"smp\", hue_name=\"model\", title=\"Per-sample scores\")\n",
    "ax = scores_boxplot(df=all_scores, x_name=\"metric\", y_name=\"Group\", hue_name=\"model\", title=\"Per-group scores\")\n",
    "\n",
    "# Barplot\n",
    "ax = scores_barplot(df=all_scores, x_name=\"metric\", y_name=\"smp\", hue_name=\"model\", title=f\"Per-sample scores\")\n",
    "ax = scores_barplot(df=all_scores, x_name=\"metric\", y_name=\"Group\", hue_name=\"model\", title=f\"Per-group scores\")"
   ]
  },
  {
   "cell_type": "code",
   "execution_count": 33,
   "metadata": {},
   "outputs": [
    {
     "data": {
      "text/html": [
       "<div>\n",
       "<style scoped>\n",
       "    .dataframe tbody tr th:only-of-type {\n",
       "        vertical-align: middle;\n",
       "    }\n",
       "\n",
       "    .dataframe tbody tr th {\n",
       "        vertical-align: top;\n",
       "    }\n",
       "\n",
       "    .dataframe thead th {\n",
       "        text-align: right;\n",
       "    }\n",
       "</style>\n",
       "<table border=\"1\" class=\"dataframe\">\n",
       "  <thead>\n",
       "    <tr style=\"text-align: right;\">\n",
       "      <th></th>\n",
       "      <th>metric</th>\n",
       "      <th>smp</th>\n",
       "      <th>Group</th>\n",
       "      <th>split</th>\n",
       "      <th>model</th>\n",
       "    </tr>\n",
       "  </thead>\n",
       "  <tbody>\n",
       "    <tr>\n",
       "      <th>1</th>\n",
       "      <td>MCC</td>\n",
       "      <td>0.233118</td>\n",
       "      <td>0.186541</td>\n",
       "      <td>0</td>\n",
       "      <td>mm-NN: Tile-GE-DD</td>\n",
       "    </tr>\n",
       "    <tr>\n",
       "      <th>2</th>\n",
       "      <td>PRC-AUC</td>\n",
       "      <td>0.346525</td>\n",
       "      <td>0.415381</td>\n",
       "      <td>0</td>\n",
       "      <td>mm-NN: Tile-GE-DD</td>\n",
       "    </tr>\n",
       "    <tr>\n",
       "      <th>3</th>\n",
       "      <td>ROC-AUC</td>\n",
       "      <td>0.894562</td>\n",
       "      <td>0.922872</td>\n",
       "      <td>0</td>\n",
       "      <td>mm-NN: Tile-GE-DD</td>\n",
       "    </tr>\n",
       "    <tr>\n",
       "      <th>4</th>\n",
       "      <td>MCC</td>\n",
       "      <td>0.587811</td>\n",
       "      <td>0.544721</td>\n",
       "      <td>1</td>\n",
       "      <td>mm-NN: Tile-GE-DD</td>\n",
       "    </tr>\n",
       "    <tr>\n",
       "      <th>5</th>\n",
       "      <td>PRC-AUC</td>\n",
       "      <td>0.556146</td>\n",
       "      <td>0.622753</td>\n",
       "      <td>1</td>\n",
       "      <td>mm-NN: Tile-GE-DD</td>\n",
       "    </tr>\n",
       "    <tr>\n",
       "      <th>...</th>\n",
       "      <td>...</td>\n",
       "      <td>...</td>\n",
       "      <td>...</td>\n",
       "      <td>...</td>\n",
       "      <td>...</td>\n",
       "    </tr>\n",
       "    <tr>\n",
       "      <th>1193</th>\n",
       "      <td>MCC</td>\n",
       "      <td>0.268456</td>\n",
       "      <td>0.186933</td>\n",
       "      <td>98</td>\n",
       "      <td>um-LGBM: GE-DD</td>\n",
       "    </tr>\n",
       "    <tr>\n",
       "      <th>1195</th>\n",
       "      <td>ROC-AUC</td>\n",
       "      <td>0.794429</td>\n",
       "      <td>0.750000</td>\n",
       "      <td>98</td>\n",
       "      <td>um-LGBM: GE-DD</td>\n",
       "    </tr>\n",
       "    <tr>\n",
       "      <th>1196</th>\n",
       "      <td>ROC-AUC</td>\n",
       "      <td>0.858076</td>\n",
       "      <td>0.871429</td>\n",
       "      <td>99</td>\n",
       "      <td>um-LGBM: GE-DD</td>\n",
       "    </tr>\n",
       "    <tr>\n",
       "      <th>1197</th>\n",
       "      <td>PRC-AUC</td>\n",
       "      <td>0.324410</td>\n",
       "      <td>0.383360</td>\n",
       "      <td>99</td>\n",
       "      <td>um-LGBM: GE-DD</td>\n",
       "    </tr>\n",
       "    <tr>\n",
       "      <th>1199</th>\n",
       "      <td>MCC</td>\n",
       "      <td>0.213189</td>\n",
       "      <td>0.323610</td>\n",
       "      <td>99</td>\n",
       "      <td>um-LGBM: GE-DD</td>\n",
       "    </tr>\n",
       "  </tbody>\n",
       "</table>\n",
       "<p>900 rows × 5 columns</p>\n",
       "</div>"
      ],
      "text/plain": [
       "       metric       smp     Group  split              model\n",
       "1         MCC  0.233118  0.186541      0  mm-NN: Tile-GE-DD\n",
       "2     PRC-AUC  0.346525  0.415381      0  mm-NN: Tile-GE-DD\n",
       "3     ROC-AUC  0.894562  0.922872      0  mm-NN: Tile-GE-DD\n",
       "4         MCC  0.587811  0.544721      1  mm-NN: Tile-GE-DD\n",
       "5     PRC-AUC  0.556146  0.622753      1  mm-NN: Tile-GE-DD\n",
       "...       ...       ...       ...    ...                ...\n",
       "1193      MCC  0.268456  0.186933     98     um-LGBM: GE-DD\n",
       "1195  ROC-AUC  0.794429  0.750000     98     um-LGBM: GE-DD\n",
       "1196  ROC-AUC  0.858076  0.871429     99     um-LGBM: GE-DD\n",
       "1197  PRC-AUC  0.324410  0.383360     99     um-LGBM: GE-DD\n",
       "1199      MCC  0.213189  0.323610     99     um-LGBM: GE-DD\n",
       "\n",
       "[900 rows x 5 columns]"
      ]
     },
     "execution_count": 33,
     "metadata": {},
     "output_type": "execute_result"
    }
   ],
   "source": [
    "all_scores"
   ]
  },
  {
   "cell_type": "markdown",
   "metadata": {},
   "source": [
    "# ROC-AUC and PRC-AUC"
   ]
  },
  {
   "cell_type": "code",
   "execution_count": 34,
   "metadata": {},
   "outputs": [],
   "source": [
    "def calc_ap(y_true, y_pred):\n",
    "    \"\"\" Average precision. \"\"\"\n",
    "    print(\"micro: {:.10f}\".format(metrics.average_precision_score(y_true, y_pred, average='micro')))\n",
    "    print(\"macro: {:.10f} \".format(metrics.average_precision_score(y_true, y_pred, average='macro')))\n",
    "    print(\"weighted: {:.10f} \".format(metrics.average_precision_score(y_true, y_pred, average='weighted')))\n",
    "    print(\"samples: {:.10f} \".format(metrics.average_precision_score(y_true, y_pred, average='samples')))"
   ]
  },
  {
   "cell_type": "code",
   "execution_count": 36,
   "metadata": {},
   "outputs": [
    {
     "data": {
      "text/html": [
       "<div>\n",
       "<style scoped>\n",
       "    .dataframe tbody tr th:only-of-type {\n",
       "        vertical-align: middle;\n",
       "    }\n",
       "\n",
       "    .dataframe tbody tr th {\n",
       "        vertical-align: top;\n",
       "    }\n",
       "\n",
       "    .dataframe thead th {\n",
       "        text-align: right;\n",
       "    }\n",
       "</style>\n",
       "<table border=\"1\" class=\"dataframe\">\n",
       "  <thead>\n",
       "    <tr style=\"text-align: right;\">\n",
       "      <th></th>\n",
       "      <th>metric</th>\n",
       "      <th>smp</th>\n",
       "      <th>Group</th>\n",
       "      <th>split</th>\n",
       "      <th>model</th>\n",
       "    </tr>\n",
       "  </thead>\n",
       "  <tbody>\n",
       "    <tr>\n",
       "      <th>305</th>\n",
       "      <td>PRC-AUC</td>\n",
       "      <td>0.851618</td>\n",
       "      <td>0.919643</td>\n",
       "      <td>76</td>\n",
       "      <td>mm-NN: Tile-GE-DD</td>\n",
       "    </tr>\n",
       "    <tr>\n",
       "      <th>161</th>\n",
       "      <td>PRC-AUC</td>\n",
       "      <td>0.727240</td>\n",
       "      <td>0.650845</td>\n",
       "      <td>40</td>\n",
       "      <td>mm-NN: Tile-GE-DD</td>\n",
       "    </tr>\n",
       "    <tr>\n",
       "      <th>146</th>\n",
       "      <td>PRC-AUC</td>\n",
       "      <td>0.724761</td>\n",
       "      <td>0.679444</td>\n",
       "      <td>36</td>\n",
       "      <td>mm-NN: Tile-GE-DD</td>\n",
       "    </tr>\n",
       "  </tbody>\n",
       "</table>\n",
       "</div>"
      ],
      "text/plain": [
       "      metric       smp     Group  split              model\n",
       "305  PRC-AUC  0.851618  0.919643     76  mm-NN: Tile-GE-DD\n",
       "161  PRC-AUC  0.727240  0.650845     40  mm-NN: Tile-GE-DD\n",
       "146  PRC-AUC  0.724761  0.679444     36  mm-NN: Tile-GE-DD"
      ]
     },
     "metadata": {},
     "output_type": "display_data"
    },
    {
     "name": "stdout",
     "output_type": "stream",
     "text": [
      "76\n"
     ]
    }
   ],
   "source": [
    "# met = \"ROC-AUC\"\n",
    "met = \"PRC-AUC\"\n",
    "\n",
    "model = \"mm-NN: Tile-GE-DD\"\n",
    "agg_by = \"smp\"\n",
    "jj = all_scores[(all_scores[\"metric\"]==met) & (all_scores[\"model\"]==model)].sort_values(agg_by, ascending=False)\n",
    "display(jj[:3])\n",
    "\n",
    "split = jj.iloc[0][\"split\"]\n",
    "print(split)"
   ]
  },
  {
   "cell_type": "code",
   "execution_count": 37,
   "metadata": {},
   "outputs": [
    {
     "data": {
      "text/html": [
       "<div>\n",
       "<style scoped>\n",
       "    .dataframe tbody tr th:only-of-type {\n",
       "        vertical-align: middle;\n",
       "    }\n",
       "\n",
       "    .dataframe tbody tr th {\n",
       "        vertical-align: top;\n",
       "    }\n",
       "\n",
       "    .dataframe thead th {\n",
       "        text-align: right;\n",
       "    }\n",
       "</style>\n",
       "<table border=\"1\" class=\"dataframe\">\n",
       "  <thead>\n",
       "    <tr style=\"text-align: right;\">\n",
       "      <th></th>\n",
       "      <th>mm</th>\n",
       "      <th>split</th>\n",
       "      <th>um</th>\n",
       "      <th>better</th>\n",
       "      <th>mm-um</th>\n",
       "    </tr>\n",
       "  </thead>\n",
       "  <tbody>\n",
       "    <tr>\n",
       "      <th>72</th>\n",
       "      <td>0.501916</td>\n",
       "      <td>72</td>\n",
       "      <td>0.273191</td>\n",
       "      <td>True</td>\n",
       "      <td>0.228724</td>\n",
       "    </tr>\n",
       "    <tr>\n",
       "      <th>8</th>\n",
       "      <td>0.458933</td>\n",
       "      <td>8</td>\n",
       "      <td>0.249730</td>\n",
       "      <td>True</td>\n",
       "      <td>0.209203</td>\n",
       "    </tr>\n",
       "    <tr>\n",
       "      <th>71</th>\n",
       "      <td>0.572409</td>\n",
       "      <td>71</td>\n",
       "      <td>0.364502</td>\n",
       "      <td>True</td>\n",
       "      <td>0.207908</td>\n",
       "    </tr>\n",
       "  </tbody>\n",
       "</table>\n",
       "</div>"
      ],
      "text/plain": [
       "          mm  split        um  better     mm-um\n",
       "72  0.501916     72  0.273191    True  0.228724\n",
       "8   0.458933      8  0.249730    True  0.209203\n",
       "71  0.572409     71  0.364502    True  0.207908"
      ]
     },
     "execution_count": 37,
     "metadata": {},
     "output_type": "execute_result"
    }
   ],
   "source": [
    "# Find split where mm is better the largest margin\n",
    "mm = all_scores[(all_scores[\"metric\"]==met) & (all_scores[\"model\"]==\"mm-NN: Tile-GE-DD\")].rename(columns={agg_by: \"mm\"}).drop(columns=[\"metric\", \"model\", \"Group\"])\n",
    "um = all_scores[(all_scores[\"metric\"]==met) & (all_scores[\"model\"]==\"um-NN: GE-DD\")].rename(columns={agg_by: \"um\"}).drop(columns=[\"metric\", \"model\", \"Group\"])\n",
    "jj = mm.merge(um, on=\"split\", how=\"inner\")\n",
    "jj[\"better\"] = jj[\"mm\"] > jj[\"um\"]\n",
    "jj[\"mm-um\"] = jj[\"mm\"] - jj[\"um\"]\n",
    "# jj = jj.sort_values([\"better\", \"mm\"], ascending=False)\n",
    "jj = jj.sort_values([\"mm-um\", \"mm\"], ascending=False)\n",
    "jj[:3]"
   ]
  },
  {
   "cell_type": "code",
   "execution_count": 64,
   "metadata": {},
   "outputs": [
    {
     "name": "stdout",
     "output_type": "stream",
     "text": [
      "Number of splits for which mm-NN is better that um-NN: 46\n",
      "Splits for which mm-NN is better that um-NN: \n",
      "[0, 1, 8, 10, 11, 13, 15, 19, 20, 22, 24, 25, 30, 32, 33, 34, 36, 39, 41, 44, 45, 46, 48, 49, 55, 56, 57, 60, 61, 63, 64, 65, 66, 68, 70, 71, 72, 74, 75, 78, 81, 84, 86, 88, 91, 94]\n",
      "P-value: 1.2065431443457098e-09\n"
     ]
    },
    {
     "data": {
      "text/html": [
       "<div>\n",
       "<style scoped>\n",
       "    .dataframe tbody tr th:only-of-type {\n",
       "        vertical-align: middle;\n",
       "    }\n",
       "\n",
       "    .dataframe tbody tr th {\n",
       "        vertical-align: top;\n",
       "    }\n",
       "\n",
       "    .dataframe thead th {\n",
       "        text-align: right;\n",
       "    }\n",
       "</style>\n",
       "<table border=\"1\" class=\"dataframe\">\n",
       "  <thead>\n",
       "    <tr style=\"text-align: right;\">\n",
       "      <th></th>\n",
       "      <th>mm</th>\n",
       "      <th>split</th>\n",
       "      <th>um</th>\n",
       "      <th>better</th>\n",
       "      <th>mm-um</th>\n",
       "    </tr>\n",
       "  </thead>\n",
       "  <tbody>\n",
       "    <tr>\n",
       "      <th>0</th>\n",
       "      <td>0.247440</td>\n",
       "      <td>11</td>\n",
       "      <td>0.244774</td>\n",
       "      <td>True</td>\n",
       "      <td>0.002666</td>\n",
       "    </tr>\n",
       "    <tr>\n",
       "      <th>1</th>\n",
       "      <td>0.466407</td>\n",
       "      <td>34</td>\n",
       "      <td>0.459978</td>\n",
       "      <td>True</td>\n",
       "      <td>0.006430</td>\n",
       "    </tr>\n",
       "    <tr>\n",
       "      <th>2</th>\n",
       "      <td>0.049613</td>\n",
       "      <td>78</td>\n",
       "      <td>0.042229</td>\n",
       "      <td>True</td>\n",
       "      <td>0.007384</td>\n",
       "    </tr>\n",
       "    <tr>\n",
       "      <th>3</th>\n",
       "      <td>0.081044</td>\n",
       "      <td>32</td>\n",
       "      <td>0.069294</td>\n",
       "      <td>True</td>\n",
       "      <td>0.011750</td>\n",
       "    </tr>\n",
       "    <tr>\n",
       "      <th>4</th>\n",
       "      <td>0.262695</td>\n",
       "      <td>70</td>\n",
       "      <td>0.248724</td>\n",
       "      <td>True</td>\n",
       "      <td>0.013972</td>\n",
       "    </tr>\n",
       "    <tr>\n",
       "      <th>5</th>\n",
       "      <td>0.282546</td>\n",
       "      <td>39</td>\n",
       "      <td>0.265839</td>\n",
       "      <td>True</td>\n",
       "      <td>0.016707</td>\n",
       "    </tr>\n",
       "    <tr>\n",
       "      <th>6</th>\n",
       "      <td>0.215588</td>\n",
       "      <td>75</td>\n",
       "      <td>0.197795</td>\n",
       "      <td>True</td>\n",
       "      <td>0.017793</td>\n",
       "    </tr>\n",
       "    <tr>\n",
       "      <th>7</th>\n",
       "      <td>0.113188</td>\n",
       "      <td>86</td>\n",
       "      <td>0.095220</td>\n",
       "      <td>True</td>\n",
       "      <td>0.017969</td>\n",
       "    </tr>\n",
       "    <tr>\n",
       "      <th>8</th>\n",
       "      <td>0.314484</td>\n",
       "      <td>66</td>\n",
       "      <td>0.296295</td>\n",
       "      <td>True</td>\n",
       "      <td>0.018189</td>\n",
       "    </tr>\n",
       "    <tr>\n",
       "      <th>9</th>\n",
       "      <td>0.284102</td>\n",
       "      <td>56</td>\n",
       "      <td>0.265513</td>\n",
       "      <td>True</td>\n",
       "      <td>0.018589</td>\n",
       "    </tr>\n",
       "  </tbody>\n",
       "</table>\n",
       "</div>"
      ],
      "text/plain": [
       "         mm  split        um  better     mm-um\n",
       "0  0.247440     11  0.244774    True  0.002666\n",
       "1  0.466407     34  0.459978    True  0.006430\n",
       "2  0.049613     78  0.042229    True  0.007384\n",
       "3  0.081044     32  0.069294    True  0.011750\n",
       "4  0.262695     70  0.248724    True  0.013972\n",
       "5  0.282546     39  0.265839    True  0.016707\n",
       "6  0.215588     75  0.197795    True  0.017793\n",
       "7  0.113188     86  0.095220    True  0.017969\n",
       "8  0.314484     66  0.296295    True  0.018189\n",
       "9  0.284102     56  0.265513    True  0.018589"
      ]
     },
     "execution_count": 64,
     "metadata": {},
     "output_type": "execute_result"
    }
   ],
   "source": [
    "print(\"Number of splits for which mm-NN is better that um-NN: {}\".format(jj[\"better\"].sum()))\n",
    "print(\"Splits for which mm-NN is better that um-NN: \\n{}\".format(sorted(jj[jj[\"better\"]].split.values)))\n",
    "ff = jj[jj[\"better\"]].sort_values(\"mm-um\").reset_index(drop=True)\n",
    "\n",
    "_, p_value = stats.ttest_rel(ff[\"mm\"].values, ff[\"um\"].values, axis=0, alternative=\"two-sided\")\n",
    "print(\"P-value: {}\".format(p_value))\n",
    "\n",
    "ff[:10]"
   ]
  },
  {
   "cell_type": "code",
   "execution_count": 77,
   "metadata": {},
   "outputs": [
    {
     "name": "stdout",
     "output_type": "stream",
     "text": [
      "44\n"
     ]
    }
   ],
   "source": [
    "split = 44  # mm better\n",
    "# split = 59  # um better\n",
    "print(split)"
   ]
  },
  {
   "cell_type": "code",
   "execution_count": 78,
   "metadata": {},
   "outputs": [],
   "source": [
    "datadir = fdir/\"../projects/bin_rsp_drug_pairs_all_samples/runs_tile_ge_dd\"\n",
    "splitdir = sorted(datadir.glob(f\"split_{split}_*\"))[0]\n",
    "\n",
    "if agg_by == \"smp\":\n",
    "    fpath = splitdir/\"test_smp_preds.csv\"\n",
    "else:\n",
    "    fpath = splitdir/\"test_grp_preds.csv\"\n",
    "mm = pd.read_csv(splitdir/fpath)"
   ]
  },
  {
   "cell_type": "code",
   "execution_count": 79,
   "metadata": {},
   "outputs": [],
   "source": [
    "datadir = fdir/\"../projects/bin_rsp_drug_pairs_all_samples/runs_ge_dd\"\n",
    "splitdir = sorted(datadir.glob(f\"split_{split}_*\"))[0]\n",
    "\n",
    "if agg_by == \"smp\":\n",
    "    fpath = splitdir/\"test_keras_smp_preds.csv\"\n",
    "else:\n",
    "    fpath = splitdir/\"test_keras_grp_preds.csv\"\n",
    "um = pd.read_csv(splitdir/fpath)"
   ]
  },
  {
   "cell_type": "code",
   "execution_count": 80,
   "metadata": {},
   "outputs": [],
   "source": [
    "datadir = fdir/\"../data/PDX_Transfer_Learning_Classification/Results_MultiModal_Learning/1.0_True_False_100_31\"\n",
    "splitdir = sorted(datadir.glob(f\"cv_{split}\"))[0]\n",
    "\n",
    "if agg_by == \"smp\":\n",
    "    fpath = splitdir/\"test_preds.csv\"\n",
    "else:\n",
    "    fpath = splitdir/\"test_preds.csv\"\n",
    "lgb = pd.read_csv(splitdir/fpath)"
   ]
  },
  {
   "cell_type": "code",
   "execution_count": 85,
   "metadata": {},
   "outputs": [
    {
     "name": "stdout",
     "output_type": "stream",
     "text": [
      "\n",
      "MM\n",
      "micro: 0.1408545540\n",
      "macro: 0.1408545540 \n",
      "weighted: 0.1408545540 \n",
      "samples: 0.1408545540 \n",
      "\n",
      "UM\n",
      "micro: 0.0994667976\n",
      "macro: 0.0994667976 \n",
      "weighted: 0.0994667976 \n",
      "samples: 0.0994667976 \n",
      "\n",
      "LGBM\n",
      "micro: 0.1570261035\n",
      "macro: 0.1570261035 \n",
      "weighted: 0.1570261035 \n",
      "samples: 0.1570261035 \n"
     ]
    }
   ],
   "source": [
    "print(\"\\nMM\")\n",
    "calc_ap(y_true=mm.Response, y_pred=mm.prob)\n",
    "print(\"\\nUM\")\n",
    "calc_ap(y_true=um.Response, y_pred=um.prob)\n",
    "print(\"\\nLGBM\")\n",
    "calc_ap(y_true=lgb.Response, y_pred=lgb.prediction)"
   ]
  },
  {
   "cell_type": "code",
   "execution_count": 82,
   "metadata": {},
   "outputs": [],
   "source": [
    "from sklearn.metrics import roc_curve, roc_auc_score, auc"
   ]
  },
  {
   "cell_type": "code",
   "execution_count": 86,
   "metadata": {},
   "outputs": [
    {
     "name": "stdout",
     "output_type": "stream",
     "text": [
      "0.8176776020769412\n",
      "0.697230745023995\n",
      "0.6333097317284242\n"
     ]
    }
   ],
   "source": [
    "mm_roc = roc_auc_score(y_true=mm[\"Response\"], y_score=mm[\"prob\"])\n",
    "mm_fpr, mm_tpr, _ = roc_curve(y_true=mm[\"Response\"], y_score=mm[\"prob\"])\n",
    "print(mm_roc)\n",
    "\n",
    "um_roc = roc_auc_score(y_true=um[\"Response\"], y_score=um[\"prob\"])\n",
    "um_fpr, um_tpr, _ = roc_curve(y_true=um[\"Response\"], y_score=um[\"prob\"])\n",
    "print(um_roc)\n",
    "\n",
    "lgb_roc = roc_auc_score(y_true=lgb[\"Response\"], y_score=lgb[\"prediction\"])\n",
    "lgb_fpr, lgb_tpr, _ = roc_curve(y_true=lgb[\"Response\"], y_score=lgb[\"prediction\"])\n",
    "print(lgb_roc)"
   ]
  },
  {
   "cell_type": "code",
   "execution_count": 84,
   "metadata": {},
   "outputs": [
    {
     "data": {
      "image/png": "[encoded data removed]",
      "text/plain": [
       "<Figure size 576x432 with 1 Axes>"
      ]
     },
     "metadata": {
      "needs_background": "light"
     },
     "output_type": "display_data"
    }
   ],
   "source": [
    "fig, ax = plt.subplots(figsize=(8, 6))\n",
    "ax.plot(mm_fpr, mm_tpr, \".-\", label=\"mm-NN\")\n",
    "ax.plot(um_fpr, um_tpr, \".-\", label=\"um-NN\")\n",
    "ax.plot(lgb_fpr, lgb_tpr, \".-\", label=\"um-LGBM\")\n",
    "ax.plot([0, 1], [0, 1], \"--\", label=\"Random\")\n",
    "ax.set_xlabel(\"False Positive Rate\", fontsize=14)\n",
    "ax.set_ylabel(\"True Positive Rate\", fontsize=14)\n",
    "ax.set_title(f\"Split {split}\", fontsize=14)\n",
    "ax.legend(fontsize=14);\n",
    "plt.savefig(fdir/f\"../projects/bin_rsp_drug_pairs_all_samples/{met}-split_{split}.png\", dpi=150)"
   ]
  },
  {
   "cell_type": "code",
   "execution_count": null,
   "metadata": {},
   "outputs": [],
   "source": []
  },
  {
   "cell_type": "code",
   "execution_count": null,
   "metadata": {},
   "outputs": [],
   "source": []
  },
  {
   "cell_type": "code",
   "execution_count": 17,
   "metadata": {},
   "outputs": [],
   "source": [
    "# split = 76\n",
    "# agg_by = \"smp\"\n",
    "# ax = scores_barplot(df=all_scores[all_scores[\"split\"].isin([split])], x_name=\"metric\", y_name=agg_by, hue_name=\"model\", title=f\"Per-sample scores (split {split})\")\n",
    "\n",
    "# split = 99\n",
    "# agg_by = \"smp\"\n",
    "# ax = scores_barplot(df=all_scores[all_scores[\"split\"].isin([split])], x_name=\"metric\", y_name=agg_by, hue_name=\"model\", title=f\"Per-sample scores (split {split})\")"
   ]
  },
  {
   "cell_type": "code",
   "execution_count": 19,
   "metadata": {},
   "outputs": [],
   "source": [
    "# split = 99\n",
    "# print(f\"Split {split}\")\n",
    "# display(pd.pivot(all_scores[all_scores[\"split\"]==split], index=\"metric\", columns=\"model\", values=[\"smp\", \"Group\"]))\n",
    "\n",
    "# split = 81\n",
    "# print(f\"Split {split}\")\n",
    "# display(pd.pivot(all_scores[all_scores[\"split\"]==split], index=\"metric\", columns=\"model\", values=[\"smp\", \"Group\"]))"
   ]
  },
  {
   "cell_type": "code",
   "execution_count": 20,
   "metadata": {},
   "outputs": [],
   "source": [
    "# df = all_scores\n",
    "# split = 99\n",
    "# met = \"PRC-AUC\"\n",
    "# df[(df[\"split\"]==split) & (df[\"metric\"]==met)]"
   ]
  },
  {
   "cell_type": "code",
   "execution_count": 21,
   "metadata": {},
   "outputs": [],
   "source": [
    "# split = 81\n",
    "# met = \"PRC-AUC\"\n",
    "# df[(df[\"split\"]==split) & (df[\"metric\"]==met)]"
   ]
  },
  {
   "cell_type": "markdown",
   "metadata": {},
   "source": [
    "### Consider top N splits"
   ]
  },
  {
   "cell_type": "code",
   "execution_count": 36,
   "metadata": {},
   "outputs": [],
   "source": [
    "# met = \"PRC-AUC\"\n",
    "# j = all_scores\n",
    "# n = 30\n",
    "# j1 = j[(j[\"metric\"] == met) & (j[\"model\"] == \"NN: Tile-GE-DD\")].sort_values(\"smp\", ascending=False)\n",
    "# j2 = j[(j[\"metric\"] == met) & (j[\"model\"] == \"NN: GE-DD\")].sort_values(\"smp\", ascending=False)\n",
    "# j3 = j[(j[\"metric\"] == met) & (j[\"model\"] == \"LGBM: GE-DD\")].sort_values(\"smp\", ascending=False)\n",
    "\n",
    "# s1 = j1[:n][\"split\"].values\n",
    "# s2 = j2[:n][\"split\"].values\n",
    "# s3 = j3[:n][\"split\"].values\n",
    "\n",
    "# from functools import reduce\n",
    "# splits = list(reduce(set.union, [set(item) for item in [s1, s2, s3]]))"
   ]
  },
  {
   "cell_type": "code",
   "execution_count": 29,
   "metadata": {},
   "outputs": [],
   "source": [
    "# xx = all_scores[all_scores[\"split\"].isin(splits)]\n",
    "# ax = scores_boxplot(df=xx, x_name=\"metric\", y_name=\"smp\", hue_name=\"model\", title=f\"Per-sample scores ({len(splits)} splits)\")"
   ]
  },
  {
   "cell_type": "code",
   "execution_count": 150,
   "metadata": {},
   "outputs": [],
   "source": []
  },
  {
   "cell_type": "markdown",
   "metadata": {},
   "source": [
    "# Calc Scores"
   ]
  },
  {
   "cell_type": "code",
   "execution_count": 111,
   "metadata": {},
   "outputs": [],
   "source": [
    "from src.ml.evals import calc_scores\n",
    "from src.models import agg_tile_preds"
   ]
  },
  {
   "cell_type": "code",
   "execution_count": 59,
   "metadata": {},
   "outputs": [],
   "source": [
    "split = 44\n",
    "\n",
    "datadir = fdir/\"../projects/bin_rsp_drug_pairs_all_samples/runs_tile_ge_dd\"\n",
    "splitdir = sorted(datadir.glob(f\"split_{split}_*\"))[0]\n",
    "\n",
    "if agg_by == \"smp\":\n",
    "    fpath = splitdir/\"test_smp_preds.csv\"\n",
    "else:\n",
    "    fpath = splitdir/\"test_grp_preds.csv\"\n",
    "mm = pd.read_csv(splitdir/fpath)"
   ]
  },
  {
   "cell_type": "code",
   "execution_count": 63,
   "metadata": {},
   "outputs": [],
   "source": [
    "y_true = mm.Response.values\n",
    "y_pred = mm.prob.values"
   ]
  },
  {
   "cell_type": "code",
   "execution_count": 41,
   "metadata": {},
   "outputs": [
    {
     "name": "stdout",
     "output_type": "stream",
     "text": [
      "(245470, 5)\n"
     ]
    },
    {
     "data": {
      "text/html": [
       "<div>\n",
       "<style scoped>\n",
       "    .dataframe tbody tr th:only-of-type {\n",
       "        vertical-align: middle;\n",
       "    }\n",
       "\n",
       "    .dataframe tbody tr th {\n",
       "        vertical-align: top;\n",
       "    }\n",
       "\n",
       "    .dataframe thead th {\n",
       "        text-align: right;\n",
       "    }\n",
       "</style>\n",
       "<table border=\"1\" class=\"dataframe\">\n",
       "  <thead>\n",
       "    <tr style=\"text-align: right;\">\n",
       "      <th></th>\n",
       "      <th>smp</th>\n",
       "      <th>tile_id</th>\n",
       "      <th>prob</th>\n",
       "      <th>y_true</th>\n",
       "      <th>y_pred_label</th>\n",
       "    </tr>\n",
       "  </thead>\n",
       "  <tbody>\n",
       "    <tr>\n",
       "      <th>0</th>\n",
       "      <td>933738~175-T~W55VZ2TH4_NSC.785004_NSC.761431</td>\n",
       "      <td>0</td>\n",
       "      <td>0.001065</td>\n",
       "      <td>0</td>\n",
       "      <td>0</td>\n",
       "    </tr>\n",
       "    <tr>\n",
       "      <th>1</th>\n",
       "      <td>119177~322-R1~PXWJH4_NSC.681239_NSC.606869</td>\n",
       "      <td>0</td>\n",
       "      <td>0.263700</td>\n",
       "      <td>0</td>\n",
       "      <td>0</td>\n",
       "    </tr>\n",
       "    <tr>\n",
       "      <th>2</th>\n",
       "      <td>833975~119-R~EN1L20X95_NSC.616348_NSC.616348</td>\n",
       "      <td>0</td>\n",
       "      <td>0.001755</td>\n",
       "      <td>0</td>\n",
       "      <td>0</td>\n",
       "    </tr>\n",
       "  </tbody>\n",
       "</table>\n",
       "</div>"
      ],
      "text/plain": [
       "                                            smp  tile_id      prob  y_true  \\\n",
       "0  933738~175-T~W55VZ2TH4_NSC.785004_NSC.761431        0  0.001065       0   \n",
       "1    119177~322-R1~PXWJH4_NSC.681239_NSC.606869        0  0.263700       0   \n",
       "2  833975~119-R~EN1L20X95_NSC.616348_NSC.616348        0  0.001755       0   \n",
       "\n",
       "   y_pred_label  \n",
       "0             0  \n",
       "1             0  \n",
       "2             0  "
      ]
     },
     "metadata": {},
     "output_type": "display_data"
    }
   ],
   "source": [
    "if agg_by == \"smp\":\n",
    "    fpath = splitdir/\"test_preds.csv\"\n",
    "else:\n",
    "    fpath = splitdir/\"test_preds.csv\"\n",
    "lgb = pd.read_csv(splitdir/fpath)\n",
    "\n",
    "prd = pd.read_csv(fdir/\"../projects/bin_rsp_drug_pairs_all_samples/runs_tile_ge_dd/split_44_tile_ge_dd1_dd2_2021-05-12_h19-m07/test_tile_preds.csv\")\n",
    "print(prd.shape)\n",
    "display(prd[:3])"
   ]
  },
  {
   "cell_type": "code",
   "execution_count": 54,
   "metadata": {},
   "outputs": [],
   "source": [
    "# ap = average_precision_score(prd.y_true, prd.prob, average='macro', pos_label=1, sample_weight=None)\n",
    "\n",
    "y_true = prd.y_true.values\n",
    "y_pred = prd.prob.values"
   ]
  },
  {
   "cell_type": "code",
   "execution_count": 64,
   "metadata": {},
   "outputs": [
    {
     "name": "stdout",
     "output_type": "stream",
     "text": [
      "micro: 0.1408545540\n",
      "macro: 0.1408545540 \n",
      "weighted: 0.1408545540 \n",
      "samples: 0.1408545540 \n"
     ]
    }
   ],
   "source": [
    "print(\"micro: {:.10f}\".format(metrics.average_precision_score(y_true, y_pred, average='micro')))\n",
    "print(\"macro: {:.10f} \".format(metrics.average_precision_score(y_true, y_pred, average='macro')))\n",
    "print(\"weighted: {:.10f} \".format(metrics.average_precision_score(y_true, y_pred, average='weighted')))\n",
    "print(\"samples: {:.10f} \".format(metrics.average_precision_score(y_true, y_pred, average='samples')))  "
   ]
  },
  {
   "cell_type": "code",
   "execution_count": 65,
   "metadata": {},
   "outputs": [
    {
     "data": {
      "text/plain": [
       "0.13509222968530965"
      ]
     },
     "execution_count": 65,
     "metadata": {},
     "output_type": "execute_result"
    }
   ],
   "source": [
    "precision, recall, thresholds = metrics.precision_recall_curve(y_true, y_pred)\n",
    "metrics.auc(recall, precision)"
   ]
  },
  {
   "cell_type": "code",
   "execution_count": null,
   "metadata": {},
   "outputs": [],
   "source": [
    "mm = agg_scores_from_splits(\n",
    "    datadir=fdir/\"../projects/bin_rsp_drug_pairs_all_samples/runs_tile_ge_dd\",\n",
    "    fname=\"test_scores.csv\", prfx=\"split_\", print_fn=print_fn)"
   ]
  },
  {
   "cell_type": "code",
   "execution_count": null,
   "metadata": {},
   "outputs": [],
   "source": [
    "ume = agg_scores_from_splits(\n",
    "    datadir=fdir/\"../projects/bin_rsp_drug_pairs_all_samples/runs_ge_dd\",\n",
    "    fname=\"test_keras_scores.csv\", prfx=\"split_\", print_fn=print_fn)"
   ]
  },
  {
   "cell_type": "code",
   "execution_count": 157,
   "metadata": {},
   "outputs": [],
   "source": [
    "datadir=fdir/\"../projects/bin_rsp_drug_pairs_all_samples/runs_tile_ge_dd\"\n",
    "prfx=\"split_\"\n",
    "fname=\"test_smp_preds.csv\""
   ]
  },
  {
   "cell_type": "code",
   "execution_count": 151,
   "metadata": {},
   "outputs": [],
   "source": [
    "datadir=fdir/\"../projects/bin_rsp_drug_pairs_all_samples/runs_ge_dd\"\n",
    "prfx=\"split_\"\n",
    "fname=\"test_keras_smp_preds.csv\""
   ]
  },
  {
   "cell_type": "code",
   "execution_count": 158,
   "metadata": {},
   "outputs": [
    {
     "name": "stdout",
     "output_type": "stream",
     "text": [
      "/vol/ml/apartin/projects/pdx-histo/nbs/../projects/bin_rsp_drug_pairs_all_samples/runs_tile_ge_dd/split_9_tile_ge_dd1_dd2_2021-05-11_h17-m51\n"
     ]
    }
   ],
   "source": [
    "splits_dir_list = sorted(datadir.glob(f\"{prfx}*\"))\n",
    "split_dir = splits_dir_list[99]\n",
    "print(split_dir)\n",
    "# split_id = str(split_dir.name).split(prfx)[1].split(\"_\")[0]\n",
    "fpath = split_dir/fname\n",
    "\n",
    "if fpath.exists():\n",
    "    prd = pd.read_csv(fpath)\n",
    "    meta = pd.read_csv(split_dir/\"te_meta.csv\")\n",
    "    #scores = calc_scores(prd.y_true, prd.prob, mltype=\"cls\")"
   ]
  },
  {
   "cell_type": "code",
   "execution_count": 159,
   "metadata": {},
   "outputs": [],
   "source": [
    "# smp_preds = agg_tile_preds(prd, agg_by=\"smp\", meta=meta, agg_method=\"mean\")"
   ]
  },
  {
   "cell_type": "code",
   "execution_count": 161,
   "metadata": {},
   "outputs": [],
   "source": [
    "scores = calc_scores(prd.Response, prd.prob, mltype=\"cls\")"
   ]
  },
  {
   "cell_type": "code",
   "execution_count": null,
   "metadata": {},
   "outputs": [],
   "source": []
  },
  {
   "cell_type": "code",
   "execution_count": null,
   "metadata": {},
   "outputs": [],
   "source": []
  },
  {
   "cell_type": "code",
   "execution_count": null,
   "metadata": {},
   "outputs": [],
   "source": []
  },
  {
   "cell_type": "code",
   "execution_count": null,
   "metadata": {},
   "outputs": [],
   "source": []
  },
  {
   "cell_type": "markdown",
   "metadata": {},
   "source": [
    "# Error analysis"
   ]
  },
  {
   "cell_type": "markdown",
   "metadata": {},
   "source": [
    "### Tile-GE-DD"
   ]
  },
  {
   "cell_type": "code",
   "execution_count": 163,
   "metadata": {},
   "outputs": [],
   "source": [
    "from src.models import calc_tf_preds, agg_tile_preds\n",
    "\n",
    "def add_conf_data(data, label_col_name, prob_col_name, p=0.5):\n",
    "    \"\"\" Add columns are used to calc confusion matrix TP, TN, FN, FP. \"\"\"\n",
    "    if \"TP\" not in data.columns:\n",
    "        data[\"TP\"] = data.apply(lambda row: row[prob_col_name]>=p if row[label_col_name]==1 else False, axis=1)  # tp\n",
    "    if \"TN\" not in data.columns:\n",
    "        data[\"TN\"] = data.apply(lambda row: row[prob_col_name] <p if row[label_col_name]==0 else False, axis=1)  # tn\n",
    "    if \"FN\" not in data.columns:\n",
    "        data[\"FN\"] = data.apply(lambda row: row[prob_col_name] <p if row[label_col_name]==1 else False, axis=1)  # fn\n",
    "    if \"FP\" not in data.columns:\n",
    "        data[\"FP\"] = data.apply(lambda row: row[prob_col_name]>=p if row[label_col_name]==0 else False, axis=1)  # fp\n",
    "\n",
    "#     data['TPR'] = data.apply(lambda row: np.nan if (row.TP==0) & (row.FN==0) else row.TP / (row.TP + row.FN), axis=1)  # sensitivity, recall: TP/P = TP/(TP+FN)\n",
    "#     data['TNR'] = data.apply(lambda row: np.nan if (row.TN==0) & (row.FP==0) else row.TN / (row.TN + row.FP), axis=1)  # specificity: TN/N = TN/(TN+FP)\n",
    "    \n",
    "#     data['FPR'] = data.apply(lambda row: np.nan if (row.TN==0) & (row.FP==0) else row.FP / (row.TN + row.FP), axis=1)  # fall-out: FP/N = FP/(FP+TN)\n",
    "#     data['FNR'] = data.apply(lambda row: np.nan if (row.TP==0) & (row.FN==0) else row.FN / (row.TP + row.FN), axis=1)  # miss-rate: FN/NP = FN/(FN+TP)\n",
    "    return data"
   ]
  },
  {
   "cell_type": "code",
   "execution_count": 182,
   "metadata": {},
   "outputs": [],
   "source": [
    "dataname = \"tidy_drug_pairs_all_samples\"\n",
    "prjname = \"bin_rsp_drug_pairs_all_samples\"\n",
    "datadir = fdir/\"../projects/bin_rsp_drug_pairs_all_samples/runs_tile_ge_dd\"\n",
    "\n",
    "rundir = sorted(datadir.glob(\"split_59*\"))[0]\n",
    "mm_tile_preds = pd.read_csv(rundir/\"test_tile_preds.csv\").sort_values(\"smp\")\n",
    "meta = pd.read_csv(rundir/\"te_meta.csv\")\n",
    "\n",
    "cols = [\"smp\", \"Sample\", \"trt\", \"Group\", \"ctype\", \"image_id\"]\n",
    "\n",
    "# print(f\"Unique Samples:    {df['Sample'].nunique()}\")\n",
    "# print(f\"Unique treatments: {df['trt'].nunique()}\")\n",
    "# print(f\"Unique groups:     {df['Group'].nunique()}\")\n",
    "# print(f\"Unique ctypes:     {df['ctype'].nunique()}\")"
   ]
  },
  {
   "cell_type": "code",
   "execution_count": 183,
   "metadata": {},
   "outputs": [
    {
     "data": {
      "text/html": [
       "<div>\n",
       "<style scoped>\n",
       "    .dataframe tbody tr th:only-of-type {\n",
       "        vertical-align: middle;\n",
       "    }\n",
       "\n",
       "    .dataframe tbody tr th {\n",
       "        vertical-align: top;\n",
       "    }\n",
       "\n",
       "    .dataframe thead th {\n",
       "        text-align: right;\n",
       "    }\n",
       "</style>\n",
       "<table border=\"1\" class=\"dataframe\">\n",
       "  <thead>\n",
       "    <tr style=\"text-align: right;\">\n",
       "      <th></th>\n",
       "      <th>smp</th>\n",
       "      <th>tile_id</th>\n",
       "      <th>prob</th>\n",
       "      <th>y_true</th>\n",
       "      <th>y_pred_label</th>\n",
       "    </tr>\n",
       "  </thead>\n",
       "  <tbody>\n",
       "    <tr>\n",
       "      <th>238614</th>\n",
       "      <td>114551~080-T~M667M226C29_NSC.606869_NSC.681239</td>\n",
       "      <td>15</td>\n",
       "      <td>0.016780</td>\n",
       "      <td>0</td>\n",
       "      <td>0</td>\n",
       "    </tr>\n",
       "    <tr>\n",
       "      <th>240474</th>\n",
       "      <td>114551~080-T~M667M226C29_NSC.606869_NSC.681239</td>\n",
       "      <td>84</td>\n",
       "      <td>0.008280</td>\n",
       "      <td>0</td>\n",
       "      <td>0</td>\n",
       "    </tr>\n",
       "    <tr>\n",
       "      <th>249335</th>\n",
       "      <td>114551~080-T~M667M226C29_NSC.606869_NSC.681239</td>\n",
       "      <td>413</td>\n",
       "      <td>0.018480</td>\n",
       "      <td>0</td>\n",
       "      <td>0</td>\n",
       "    </tr>\n",
       "    <tr>\n",
       "      <th>251574</th>\n",
       "      <td>114551~080-T~M667M226C29_NSC.606869_NSC.681239</td>\n",
       "      <td>496</td>\n",
       "      <td>0.033660</td>\n",
       "      <td>0</td>\n",
       "      <td>0</td>\n",
       "    </tr>\n",
       "    <tr>\n",
       "      <th>245915</th>\n",
       "      <td>114551~080-T~M667M226C29_NSC.606869_NSC.681239</td>\n",
       "      <td>286</td>\n",
       "      <td>0.021740</td>\n",
       "      <td>0</td>\n",
       "      <td>0</td>\n",
       "    </tr>\n",
       "    <tr>\n",
       "      <th>...</th>\n",
       "      <td>...</td>\n",
       "      <td>...</td>\n",
       "      <td>...</td>\n",
       "      <td>...</td>\n",
       "      <td>...</td>\n",
       "    </tr>\n",
       "    <tr>\n",
       "      <th>117948</th>\n",
       "      <td>BL0479~F1894~M24M216_NSC.758246_NSC.758246</td>\n",
       "      <td>96</td>\n",
       "      <td>0.000933</td>\n",
       "      <td>0</td>\n",
       "      <td>0</td>\n",
       "    </tr>\n",
       "    <tr>\n",
       "      <th>117975</th>\n",
       "      <td>BL0479~F1894~M24M216_NSC.758246_NSC.758246</td>\n",
       "      <td>97</td>\n",
       "      <td>0.000661</td>\n",
       "      <td>0</td>\n",
       "      <td>0</td>\n",
       "    </tr>\n",
       "    <tr>\n",
       "      <th>118002</th>\n",
       "      <td>BL0479~F1894~M24M216_NSC.758246_NSC.758246</td>\n",
       "      <td>98</td>\n",
       "      <td>0.000519</td>\n",
       "      <td>0</td>\n",
       "      <td>0</td>\n",
       "    </tr>\n",
       "    <tr>\n",
       "      <th>117759</th>\n",
       "      <td>BL0479~F1894~M24M216_NSC.758246_NSC.758246</td>\n",
       "      <td>89</td>\n",
       "      <td>0.000989</td>\n",
       "      <td>0</td>\n",
       "      <td>0</td>\n",
       "    </tr>\n",
       "    <tr>\n",
       "      <th>119027</th>\n",
       "      <td>BL0479~F1894~M24M216_NSC.758246_NSC.758246</td>\n",
       "      <td>136</td>\n",
       "      <td>0.000593</td>\n",
       "      <td>0</td>\n",
       "      <td>0</td>\n",
       "    </tr>\n",
       "  </tbody>\n",
       "</table>\n",
       "<p>277060 rows × 5 columns</p>\n",
       "</div>"
      ],
      "text/plain": [
       "                                                   smp  tile_id      prob  \\\n",
       "238614  114551~080-T~M667M226C29_NSC.606869_NSC.681239       15  0.016780   \n",
       "240474  114551~080-T~M667M226C29_NSC.606869_NSC.681239       84  0.008280   \n",
       "249335  114551~080-T~M667M226C29_NSC.606869_NSC.681239      413  0.018480   \n",
       "251574  114551~080-T~M667M226C29_NSC.606869_NSC.681239      496  0.033660   \n",
       "245915  114551~080-T~M667M226C29_NSC.606869_NSC.681239      286  0.021740   \n",
       "...                                                ...      ...       ...   \n",
       "117948      BL0479~F1894~M24M216_NSC.758246_NSC.758246       96  0.000933   \n",
       "117975      BL0479~F1894~M24M216_NSC.758246_NSC.758246       97  0.000661   \n",
       "118002      BL0479~F1894~M24M216_NSC.758246_NSC.758246       98  0.000519   \n",
       "117759      BL0479~F1894~M24M216_NSC.758246_NSC.758246       89  0.000989   \n",
       "119027      BL0479~F1894~M24M216_NSC.758246_NSC.758246      136  0.000593   \n",
       "\n",
       "        y_true  y_pred_label  \n",
       "238614       0             0  \n",
       "240474       0             0  \n",
       "249335       0             0  \n",
       "251574       0             0  \n",
       "245915       0             0  \n",
       "...        ...           ...  \n",
       "117948       0             0  \n",
       "117975       0             0  \n",
       "118002       0             0  \n",
       "117759       0             0  \n",
       "119027       0             0  \n",
       "\n",
       "[277060 rows x 5 columns]"
      ]
     },
     "execution_count": 183,
     "metadata": {},
     "output_type": "execute_result"
    }
   ],
   "source": [
    "# mm_tile_preds = mm_tile_preds.sort_values(\"smp\")\n",
    "mm_tile_preds"
   ]
  },
  {
   "cell_type": "code",
   "execution_count": 184,
   "metadata": {},
   "outputs": [],
   "source": [
    "# # ---------------\n",
    "# # Check passage\n",
    "# # ---------------\n",
    "# vv = meta[\"sample_id\"].values\n",
    "\n",
    "# out = []\n",
    "# cnt = []\n",
    "# p_id_problem = []\n",
    "# for i, value in enumerate(vv):\n",
    "#     if value.upper() == \"ORIGINATOR\":\n",
    "#         out.append(\"ORIGINATOR\")\n",
    "#     elif \"AL\" in value.upper():\n",
    "#         # print(\"Alternative site.\")\n",
    "#         cnt.append(value.upper())\n",
    "#     elif \"RG\" in value.upper():\n",
    "#         # print(\"Regrowth from a viably cryo-preserved fragment.\")\n",
    "#         out.append(\"RG\")\n",
    "#         cnt.append(value.upper())\n",
    "#     elif \"POOL\" in value.upper():\n",
    "#         # print(\"Pooled.\")\n",
    "#         cnt.append(value.upper())\n",
    "#     elif (\"PDC\" or \"CAF\") in value.upper():\n",
    "#         # print(\"PDC or CAF.\")\n",
    "#         cnt.append(value.upper())\n",
    "#     else:\n",
    "#         if len(value) % 3 != 0:\n",
    "#             # print(\"Problem with passage ID\")\n",
    "#             p_id_problem.append(value)\n",
    "#         else:\n",
    "#             out.append(\"P\" + str(int(len(value)/3)))\n",
    "            \n",
    "# print(cnt)\n",
    "# print(p_id_problem)"
   ]
  },
  {
   "cell_type": "code",
   "execution_count": 185,
   "metadata": {},
   "outputs": [
    {
     "data": {
      "text/html": [
       "<div>\n",
       "<style scoped>\n",
       "    .dataframe tbody tr th:only-of-type {\n",
       "        vertical-align: middle;\n",
       "    }\n",
       "\n",
       "    .dataframe tbody tr th {\n",
       "        vertical-align: top;\n",
       "    }\n",
       "\n",
       "    .dataframe thead th {\n",
       "        text-align: right;\n",
       "    }\n",
       "</style>\n",
       "<table border=\"1\" class=\"dataframe\">\n",
       "  <thead>\n",
       "    <tr style=\"text-align: right;\">\n",
       "      <th></th>\n",
       "      <th>smp</th>\n",
       "      <th>Sample</th>\n",
       "      <th>trt</th>\n",
       "      <th>Group</th>\n",
       "      <th>ctype</th>\n",
       "      <th>image_id</th>\n",
       "      <th>prob</th>\n",
       "      <th>Response</th>\n",
       "      <th>TP</th>\n",
       "      <th>TN</th>\n",
       "      <th>FN</th>\n",
       "      <th>FP</th>\n",
       "    </tr>\n",
       "  </thead>\n",
       "  <tbody>\n",
       "    <tr>\n",
       "      <th>0</th>\n",
       "      <td>114551~080-T~M667M226C29_NSC.606869_NSC.681239</td>\n",
       "      <td>114551~080-T~M667M226C29</td>\n",
       "      <td>NSC.606869_NSC.681239</td>\n",
       "      <td>649</td>\n",
       "      <td>head &amp; neck</td>\n",
       "      <td>16142</td>\n",
       "      <td>0.012808</td>\n",
       "      <td>0</td>\n",
       "      <td>False</td>\n",
       "      <td>True</td>\n",
       "      <td>False</td>\n",
       "      <td>False</td>\n",
       "    </tr>\n",
       "    <tr>\n",
       "      <th>1</th>\n",
       "      <td>114551~080-T~M667M226C29_NSC.681239_NSC.606869</td>\n",
       "      <td>114551~080-T~M667M226C29</td>\n",
       "      <td>NSC.681239_NSC.606869</td>\n",
       "      <td>649</td>\n",
       "      <td>head &amp; neck</td>\n",
       "      <td>16142</td>\n",
       "      <td>0.008779</td>\n",
       "      <td>0</td>\n",
       "      <td>False</td>\n",
       "      <td>True</td>\n",
       "      <td>False</td>\n",
       "      <td>False</td>\n",
       "    </tr>\n",
       "    <tr>\n",
       "      <th>2</th>\n",
       "      <td>114551~080-T~M667M227C30_NSC.606869_NSC.681239</td>\n",
       "      <td>114551~080-T~M667M227C30</td>\n",
       "      <td>NSC.606869_NSC.681239</td>\n",
       "      <td>649</td>\n",
       "      <td>head &amp; neck</td>\n",
       "      <td>16131</td>\n",
       "      <td>0.012890</td>\n",
       "      <td>0</td>\n",
       "      <td>False</td>\n",
       "      <td>True</td>\n",
       "      <td>False</td>\n",
       "      <td>False</td>\n",
       "    </tr>\n",
       "    <tr>\n",
       "      <th>3</th>\n",
       "      <td>114551~080-T~M667M227C30_NSC.681239_NSC.606869</td>\n",
       "      <td>114551~080-T~M667M227C30</td>\n",
       "      <td>NSC.681239_NSC.606869</td>\n",
       "      <td>649</td>\n",
       "      <td>head &amp; neck</td>\n",
       "      <td>16131</td>\n",
       "      <td>0.010772</td>\n",
       "      <td>0</td>\n",
       "      <td>False</td>\n",
       "      <td>True</td>\n",
       "      <td>False</td>\n",
       "      <td>False</td>\n",
       "    </tr>\n",
       "    <tr>\n",
       "      <th>4</th>\n",
       "      <td>114551~080-T~M667M228C43_NSC.606869_NSC.681239</td>\n",
       "      <td>114551~080-T~M667M228C43</td>\n",
       "      <td>NSC.606869_NSC.681239</td>\n",
       "      <td>649</td>\n",
       "      <td>head &amp; neck</td>\n",
       "      <td>16149</td>\n",
       "      <td>0.010887</td>\n",
       "      <td>0</td>\n",
       "      <td>False</td>\n",
       "      <td>True</td>\n",
       "      <td>False</td>\n",
       "      <td>False</td>\n",
       "    </tr>\n",
       "    <tr>\n",
       "      <th>...</th>\n",
       "      <td>...</td>\n",
       "      <td>...</td>\n",
       "      <td>...</td>\n",
       "      <td>...</td>\n",
       "      <td>...</td>\n",
       "      <td>...</td>\n",
       "      <td>...</td>\n",
       "      <td>...</td>\n",
       "      <td>...</td>\n",
       "      <td>...</td>\n",
       "      <td>...</td>\n",
       "      <td>...</td>\n",
       "    </tr>\n",
       "    <tr>\n",
       "      <th>689</th>\n",
       "      <td>BL0479~F1894~M23M207M324M413_NSC.758246_NSC.75...</td>\n",
       "      <td>BL0479~F1894~M23M207M324M413</td>\n",
       "      <td>NSC.758246_NSC.758246</td>\n",
       "      <td>941</td>\n",
       "      <td>bladder/urothelial</td>\n",
       "      <td>44532</td>\n",
       "      <td>0.000782</td>\n",
       "      <td>0</td>\n",
       "      <td>False</td>\n",
       "      <td>True</td>\n",
       "      <td>False</td>\n",
       "      <td>False</td>\n",
       "    </tr>\n",
       "    <tr>\n",
       "      <th>682</th>\n",
       "      <td>BL0479~F1894~M23_NSC.362856_NSC.362856</td>\n",
       "      <td>BL0479~F1894~M23</td>\n",
       "      <td>NSC.362856_NSC.362856</td>\n",
       "      <td>935</td>\n",
       "      <td>bladder/urothelial</td>\n",
       "      <td>44504</td>\n",
       "      <td>0.010622</td>\n",
       "      <td>0</td>\n",
       "      <td>False</td>\n",
       "      <td>True</td>\n",
       "      <td>False</td>\n",
       "      <td>False</td>\n",
       "    </tr>\n",
       "    <tr>\n",
       "      <th>683</th>\n",
       "      <td>BL0479~F1894~M23_NSC.758246_NSC.758246</td>\n",
       "      <td>BL0479~F1894~M23</td>\n",
       "      <td>NSC.758246_NSC.758246</td>\n",
       "      <td>941</td>\n",
       "      <td>bladder/urothelial</td>\n",
       "      <td>44504</td>\n",
       "      <td>0.001163</td>\n",
       "      <td>0</td>\n",
       "      <td>False</td>\n",
       "      <td>True</td>\n",
       "      <td>False</td>\n",
       "      <td>False</td>\n",
       "    </tr>\n",
       "    <tr>\n",
       "      <th>690</th>\n",
       "      <td>BL0479~F1894~M24M216_NSC.362856_NSC.362856</td>\n",
       "      <td>BL0479~F1894~M24M216</td>\n",
       "      <td>NSC.362856_NSC.362856</td>\n",
       "      <td>935</td>\n",
       "      <td>bladder/urothelial</td>\n",
       "      <td>44510</td>\n",
       "      <td>0.014097</td>\n",
       "      <td>0</td>\n",
       "      <td>False</td>\n",
       "      <td>True</td>\n",
       "      <td>False</td>\n",
       "      <td>False</td>\n",
       "    </tr>\n",
       "    <tr>\n",
       "      <th>691</th>\n",
       "      <td>BL0479~F1894~M24M216_NSC.758246_NSC.758246</td>\n",
       "      <td>BL0479~F1894~M24M216</td>\n",
       "      <td>NSC.758246_NSC.758246</td>\n",
       "      <td>941</td>\n",
       "      <td>bladder/urothelial</td>\n",
       "      <td>44510</td>\n",
       "      <td>0.001218</td>\n",
       "      <td>0</td>\n",
       "      <td>False</td>\n",
       "      <td>True</td>\n",
       "      <td>False</td>\n",
       "      <td>False</td>\n",
       "    </tr>\n",
       "  </tbody>\n",
       "</table>\n",
       "<p>692 rows × 12 columns</p>\n",
       "</div>"
      ],
      "text/plain": [
       "                                                   smp  \\\n",
       "0       114551~080-T~M667M226C29_NSC.606869_NSC.681239   \n",
       "1       114551~080-T~M667M226C29_NSC.681239_NSC.606869   \n",
       "2       114551~080-T~M667M227C30_NSC.606869_NSC.681239   \n",
       "3       114551~080-T~M667M227C30_NSC.681239_NSC.606869   \n",
       "4       114551~080-T~M667M228C43_NSC.606869_NSC.681239   \n",
       "..                                                 ...   \n",
       "689  BL0479~F1894~M23M207M324M413_NSC.758246_NSC.75...   \n",
       "682             BL0479~F1894~M23_NSC.362856_NSC.362856   \n",
       "683             BL0479~F1894~M23_NSC.758246_NSC.758246   \n",
       "690         BL0479~F1894~M24M216_NSC.362856_NSC.362856   \n",
       "691         BL0479~F1894~M24M216_NSC.758246_NSC.758246   \n",
       "\n",
       "                           Sample                    trt  Group  \\\n",
       "0        114551~080-T~M667M226C29  NSC.606869_NSC.681239    649   \n",
       "1        114551~080-T~M667M226C29  NSC.681239_NSC.606869    649   \n",
       "2        114551~080-T~M667M227C30  NSC.606869_NSC.681239    649   \n",
       "3        114551~080-T~M667M227C30  NSC.681239_NSC.606869    649   \n",
       "4        114551~080-T~M667M228C43  NSC.606869_NSC.681239    649   \n",
       "..                            ...                    ...    ...   \n",
       "689  BL0479~F1894~M23M207M324M413  NSC.758246_NSC.758246    941   \n",
       "682              BL0479~F1894~M23  NSC.362856_NSC.362856    935   \n",
       "683              BL0479~F1894~M23  NSC.758246_NSC.758246    941   \n",
       "690          BL0479~F1894~M24M216  NSC.362856_NSC.362856    935   \n",
       "691          BL0479~F1894~M24M216  NSC.758246_NSC.758246    941   \n",
       "\n",
       "                  ctype  image_id      prob  Response     TP    TN     FN  \\\n",
       "0           head & neck     16142  0.012808         0  False  True  False   \n",
       "1           head & neck     16142  0.008779         0  False  True  False   \n",
       "2           head & neck     16131  0.012890         0  False  True  False   \n",
       "3           head & neck     16131  0.010772         0  False  True  False   \n",
       "4           head & neck     16149  0.010887         0  False  True  False   \n",
       "..                  ...       ...       ...       ...    ...   ...    ...   \n",
       "689  bladder/urothelial     44532  0.000782         0  False  True  False   \n",
       "682  bladder/urothelial     44504  0.010622         0  False  True  False   \n",
       "683  bladder/urothelial     44504  0.001163         0  False  True  False   \n",
       "690  bladder/urothelial     44510  0.014097         0  False  True  False   \n",
       "691  bladder/urothelial     44510  0.001218         0  False  True  False   \n",
       "\n",
       "        FP  \n",
       "0    False  \n",
       "1    False  \n",
       "2    False  \n",
       "3    False  \n",
       "4    False  \n",
       "..     ...  \n",
       "689  False  \n",
       "682  False  \n",
       "683  False  \n",
       "690  False  \n",
       "691  False  \n",
       "\n",
       "[692 rows x 12 columns]"
      ]
     },
     "execution_count": 185,
     "metadata": {},
     "output_type": "execute_result"
    }
   ],
   "source": [
    "mm_smp_preds = agg_tile_preds(mm_tile_preds, agg_by=\"smp\", meta=meta, agg_method=\"mean\")\n",
    "mm_smp_preds = mm_smp_preds[cols + [\"prob\", \"Response\"]]\n",
    "mm_smp_preds = add_conf_data(mm_smp_preds, label_col_name=\"Response\", prob_col_name=\"prob\", p=0.5)\n",
    "mm_smp_preds.sort_values(\"smp\")#[:4]"
   ]
  },
  {
   "cell_type": "code",
   "execution_count": 190,
   "metadata": {},
   "outputs": [],
   "source": [
    "mm_smp_preds[\"pred_label\"] = mm_smp_preds[\"prob\"] > 0.5\n",
    "mm_smp_preds[\"hit\"] = mm_smp_preds[\"Response\"] == mm_smp_preds[\"pred_label\"] "
   ]
  },
  {
   "cell_type": "code",
   "execution_count": 191,
   "metadata": {},
   "outputs": [
    {
     "data": {
      "text/html": [
       "<div>\n",
       "<style scoped>\n",
       "    .dataframe tbody tr th:only-of-type {\n",
       "        vertical-align: middle;\n",
       "    }\n",
       "\n",
       "    .dataframe tbody tr th {\n",
       "        vertical-align: top;\n",
       "    }\n",
       "\n",
       "    .dataframe thead th {\n",
       "        text-align: right;\n",
       "    }\n",
       "</style>\n",
       "<table border=\"1\" class=\"dataframe\">\n",
       "  <thead>\n",
       "    <tr style=\"text-align: right;\">\n",
       "      <th></th>\n",
       "      <th>ctype</th>\n",
       "      <th>hit</th>\n",
       "      <th>smp</th>\n",
       "    </tr>\n",
       "  </thead>\n",
       "  <tbody>\n",
       "    <tr>\n",
       "      <th>0</th>\n",
       "      <td>bladder/urothelial</td>\n",
       "      <td>21</td>\n",
       "      <td>21</td>\n",
       "    </tr>\n",
       "    <tr>\n",
       "      <th>1</th>\n",
       "      <td>digestive/gastrointestinal</td>\n",
       "      <td>153</td>\n",
       "      <td>153</td>\n",
       "    </tr>\n",
       "    <tr>\n",
       "      <th>2</th>\n",
       "      <td>endocrine and neuroendocrine</td>\n",
       "      <td>22</td>\n",
       "      <td>34</td>\n",
       "    </tr>\n",
       "    <tr>\n",
       "      <th>3</th>\n",
       "      <td>gynecologic</td>\n",
       "      <td>50</td>\n",
       "      <td>50</td>\n",
       "    </tr>\n",
       "    <tr>\n",
       "      <th>4</th>\n",
       "      <td>head &amp; neck</td>\n",
       "      <td>34</td>\n",
       "      <td>34</td>\n",
       "    </tr>\n",
       "    <tr>\n",
       "      <th>5</th>\n",
       "      <td>kidney</td>\n",
       "      <td>15</td>\n",
       "      <td>15</td>\n",
       "    </tr>\n",
       "    <tr>\n",
       "      <th>6</th>\n",
       "      <td>lung</td>\n",
       "      <td>0</td>\n",
       "      <td>6</td>\n",
       "    </tr>\n",
       "    <tr>\n",
       "      <th>7</th>\n",
       "      <td>melanoma</td>\n",
       "      <td>34</td>\n",
       "      <td>34</td>\n",
       "    </tr>\n",
       "    <tr>\n",
       "      <th>8</th>\n",
       "      <td>sarcoma/mesothelioma</td>\n",
       "      <td>237</td>\n",
       "      <td>245</td>\n",
       "    </tr>\n",
       "    <tr>\n",
       "      <th>9</th>\n",
       "      <td>skin other</td>\n",
       "      <td>43</td>\n",
       "      <td>57</td>\n",
       "    </tr>\n",
       "    <tr>\n",
       "      <th>10</th>\n",
       "      <td>squamous</td>\n",
       "      <td>37</td>\n",
       "      <td>43</td>\n",
       "    </tr>\n",
       "  </tbody>\n",
       "</table>\n",
       "</div>"
      ],
      "text/plain": [
       "                           ctype  hit  smp\n",
       "0             bladder/urothelial   21   21\n",
       "1     digestive/gastrointestinal  153  153\n",
       "2   endocrine and neuroendocrine   22   34\n",
       "3                    gynecologic   50   50\n",
       "4                    head & neck   34   34\n",
       "5                         kidney   15   15\n",
       "6                           lung    0    6\n",
       "7                       melanoma   34   34\n",
       "8           sarcoma/mesothelioma  237  245\n",
       "9                     skin other   43   57\n",
       "10                      squamous   37   43"
      ]
     },
     "execution_count": 191,
     "metadata": {},
     "output_type": "execute_result"
    }
   ],
   "source": [
    "mm_smp_preds.groupby(\"ctype\").agg({\"hit\": \"sum\", \"smp\": \"nunique\"}).reset_index()"
   ]
  },
  {
   "cell_type": "code",
   "execution_count": 188,
   "metadata": {},
   "outputs": [
    {
     "data": {
      "text/plain": [
       "646"
      ]
     },
     "execution_count": 188,
     "metadata": {},
     "output_type": "execute_result"
    }
   ],
   "source": [
    "df[\"hit\"].sum()"
   ]
  },
  {
   "cell_type": "code",
   "execution_count": 189,
   "metadata": {},
   "outputs": [
    {
     "data": {
      "text/plain": [
       "(692, 14)"
      ]
     },
     "execution_count": 189,
     "metadata": {},
     "output_type": "execute_result"
    }
   ],
   "source": []
  },
  {
   "cell_type": "code",
   "execution_count": 23,
   "metadata": {},
   "outputs": [],
   "source": [
    "# fop, mpv = plot_calibration_curve(\"NN: Tile-GE-DD\", 1, y_true=mm_smp_preds[\"Response\"], probs=mm_smp_preds[\"prob\"])"
   ]
  },
  {
   "cell_type": "code",
   "execution_count": 24,
   "metadata": {},
   "outputs": [
    {
     "name": "stdout",
     "output_type": "stream",
     "text": [
      "(21, 12)\n"
     ]
    }
   ],
   "source": [
    "# False positives\n",
    "aa = mm_smp_preds[mm_smp_preds[\"FP\"]].sort_values([\"ctype\", \"prob\"])\n",
    "print(aa.shape)\n",
    "# aa"
   ]
  },
  {
   "cell_type": "code",
   "execution_count": 25,
   "metadata": {},
   "outputs": [],
   "source": [
    "# split_on = \"Group\"\n",
    "# meta.groupby([\"ctype\", \"Response\"]).agg({split_on: \"nunique\", \"smp\": \"nunique\"}).reset_index().rename(\n",
    "#     columns={split_on: f\"{split_on}_unq\", \"smp\": \"smp_unq\"})"
   ]
  },
  {
   "cell_type": "code",
   "execution_count": 26,
   "metadata": {},
   "outputs": [
    {
     "data": {
      "image/png": "[encoded data removed]",
      "text/plain": [
       "<Figure size 504x360 with 1 Axes>"
      ]
     },
     "metadata": {
      "needs_background": "light"
     },
     "output_type": "display_data"
    }
   ],
   "source": [
    "figsize=(7, 5)\n",
    "fig, ax = plt.subplots(1, 1, figsize=figsize)\n",
    "\n",
    "df = mm_smp_preds\n",
    "# pos_df = df[df[\"Response\"]==1]\n",
    "# neg_df = df[df[\"Response\"]==0]\n",
    "pos_df = df[(df[\"Response\"]==1) & (df[\"prob\"]>=0.5)]\n",
    "neg_df = df[(df[\"Response\"]==0) & (df[\"prob\"]>=0.5)]\n",
    "\n",
    "ax = sns.histplot(pos_df[\"prob\"], bins=50, kde=False, ax=ax, color='r', label=\"Pos\");\n",
    "ax = sns.histplot(neg_df[\"prob\"], bins=50, kde=False, ax=ax, label=\"Neg\");\n",
    "ax.set_title('Count of Pos ({}) and Neg ({})'.format( pos_df.shape[0], neg_df.shape[0] ))\n",
    "ax.set_ylabel('Count');\n",
    "ax.set_xlabel('Predicted Probability');\n",
    "ax.set_xlim(left=-0.04, right=1.04)\n",
    "ax.grid(True)\n",
    "ax.legend();\n",
    "\n",
    "plt.tight_layout()\n",
    "# plt.savefig(out_postproc_fpath/'FNs_FPs_hist_all.png', dpi=150)"
   ]
  },
  {
   "cell_type": "code",
   "execution_count": null,
   "metadata": {},
   "outputs": [],
   "source": []
  },
  {
   "cell_type": "markdown",
   "metadata": {},
   "source": [
    "### GE-DD"
   ]
  },
  {
   "cell_type": "code",
   "execution_count": 27,
   "metadata": {},
   "outputs": [],
   "source": [
    "dataname = \"tidy_drug_pairs_all_samples\"\n",
    "prjname = \"bin_rsp_drug_pairs_all_samples\"\n",
    "datadir = fdir/\"../projects/bin_rsp_drug_pairs_all_samples/runs_ge_dd\"\n",
    "\n",
    "rundir = sorted(datadir.glob(\"split_99*\"))[0]\n",
    "sm_smp_preds = pd.read_csv(rundir/\"test_keras_smp_preds.csv\")\n",
    "meta = pd.read_csv(rundir/\"te_meta.csv\")"
   ]
  },
  {
   "cell_type": "code",
   "execution_count": 28,
   "metadata": {},
   "outputs": [
    {
     "data": {
      "text/html": [
       "<div>\n",
       "<style scoped>\n",
       "    .dataframe tbody tr th:only-of-type {\n",
       "        vertical-align: middle;\n",
       "    }\n",
       "\n",
       "    .dataframe tbody tr th {\n",
       "        vertical-align: top;\n",
       "    }\n",
       "\n",
       "    .dataframe thead th {\n",
       "        text-align: right;\n",
       "    }\n",
       "</style>\n",
       "<table border=\"1\" class=\"dataframe\">\n",
       "  <thead>\n",
       "    <tr style=\"text-align: right;\">\n",
       "      <th></th>\n",
       "      <th>smp</th>\n",
       "      <th>Sample</th>\n",
       "      <th>trt</th>\n",
       "      <th>Group</th>\n",
       "      <th>ctype</th>\n",
       "      <th>image_id</th>\n",
       "      <th>prob</th>\n",
       "      <th>Response</th>\n",
       "      <th>TP</th>\n",
       "      <th>TN</th>\n",
       "      <th>FN</th>\n",
       "      <th>FP</th>\n",
       "    </tr>\n",
       "  </thead>\n",
       "  <tbody>\n",
       "    <tr>\n",
       "      <th>0</th>\n",
       "      <td>114551~080-T~M667M226C29_NSC.747599_NSC.125973</td>\n",
       "      <td>114551~080-T~M667M226C29</td>\n",
       "      <td>NSC.747599_NSC.125973</td>\n",
       "      <td>334</td>\n",
       "      <td>head &amp; neck</td>\n",
       "      <td>16142</td>\n",
       "      <td>0.3267</td>\n",
       "      <td>0</td>\n",
       "      <td>False</td>\n",
       "      <td>True</td>\n",
       "      <td>False</td>\n",
       "      <td>False</td>\n",
       "    </tr>\n",
       "    <tr>\n",
       "      <th>1</th>\n",
       "      <td>114551~080-T~M667M226C29_NSC.125973_NSC.747599</td>\n",
       "      <td>114551~080-T~M667M226C29</td>\n",
       "      <td>NSC.125973_NSC.747599</td>\n",
       "      <td>334</td>\n",
       "      <td>head &amp; neck</td>\n",
       "      <td>16142</td>\n",
       "      <td>0.2050</td>\n",
       "      <td>0</td>\n",
       "      <td>False</td>\n",
       "      <td>True</td>\n",
       "      <td>False</td>\n",
       "      <td>False</td>\n",
       "    </tr>\n",
       "    <tr>\n",
       "      <th>2</th>\n",
       "      <td>114551~080-T~M667M227C30_NSC.747599_NSC.125973</td>\n",
       "      <td>114551~080-T~M667M227C30</td>\n",
       "      <td>NSC.747599_NSC.125973</td>\n",
       "      <td>334</td>\n",
       "      <td>head &amp; neck</td>\n",
       "      <td>16131</td>\n",
       "      <td>0.2411</td>\n",
       "      <td>0</td>\n",
       "      <td>False</td>\n",
       "      <td>True</td>\n",
       "      <td>False</td>\n",
       "      <td>False</td>\n",
       "    </tr>\n",
       "    <tr>\n",
       "      <th>3</th>\n",
       "      <td>114551~080-T~M667M227C30_NSC.125973_NSC.747599</td>\n",
       "      <td>114551~080-T~M667M227C30</td>\n",
       "      <td>NSC.125973_NSC.747599</td>\n",
       "      <td>334</td>\n",
       "      <td>head &amp; neck</td>\n",
       "      <td>16131</td>\n",
       "      <td>0.2184</td>\n",
       "      <td>0</td>\n",
       "      <td>False</td>\n",
       "      <td>True</td>\n",
       "      <td>False</td>\n",
       "      <td>False</td>\n",
       "    </tr>\n",
       "  </tbody>\n",
       "</table>\n",
       "</div>"
      ],
      "text/plain": [
       "                                              smp                    Sample  \\\n",
       "0  114551~080-T~M667M226C29_NSC.747599_NSC.125973  114551~080-T~M667M226C29   \n",
       "1  114551~080-T~M667M226C29_NSC.125973_NSC.747599  114551~080-T~M667M226C29   \n",
       "2  114551~080-T~M667M227C30_NSC.747599_NSC.125973  114551~080-T~M667M227C30   \n",
       "3  114551~080-T~M667M227C30_NSC.125973_NSC.747599  114551~080-T~M667M227C30   \n",
       "\n",
       "                     trt  Group        ctype  image_id    prob  Response  \\\n",
       "0  NSC.747599_NSC.125973    334  head & neck     16142  0.3267         0   \n",
       "1  NSC.125973_NSC.747599    334  head & neck     16142  0.2050         0   \n",
       "2  NSC.747599_NSC.125973    334  head & neck     16131  0.2411         0   \n",
       "3  NSC.125973_NSC.747599    334  head & neck     16131  0.2184         0   \n",
       "\n",
       "      TP    TN     FN     FP  \n",
       "0  False  True  False  False  \n",
       "1  False  True  False  False  \n",
       "2  False  True  False  False  \n",
       "3  False  True  False  False  "
      ]
     },
     "execution_count": 28,
     "metadata": {},
     "output_type": "execute_result"
    }
   ],
   "source": [
    "sm_smp_preds = sm_smp_preds[cols + [\"prob\", \"Response\"]]\n",
    "sm_smp_preds = add_conf_data(data=sm_smp_preds, label_col_name=\"Response\", prob_col_name=\"prob\", p=0.5)\n",
    "sm_smp_preds[:4]"
   ]
  },
  {
   "cell_type": "code",
   "execution_count": 30,
   "metadata": {},
   "outputs": [
    {
     "name": "stdout",
     "output_type": "stream",
     "text": [
      "(21, 12)\n"
     ]
    }
   ],
   "source": [
    "# False positives\n",
    "bb = sm_smp_preds[sm_smp_preds[\"FP\"]].sort_values([\"ctype\", \"prob\"])\n",
    "print(bb.shape)\n",
    "# bb"
   ]
  },
  {
   "cell_type": "code",
   "execution_count": null,
   "metadata": {},
   "outputs": [],
   "source": []
  }
 ],
 "metadata": {
  "kernelspec": {
   "display_name": "Python 3",
   "language": "python",
   "name": "python3"
  },
  "language_info": {
   "codemirror_mode": {
    "name": "ipython",
    "version": 3
   },
   "file_extension": ".py",
   "mimetype": "text/x-python",
   "name": "python",
   "nbconvert_exporter": "python",
   "pygments_lexer": "ipython3",
   "version": "3.7.10"
  }
 },
 "nbformat": 4,
 "nbformat_minor": 4
}
