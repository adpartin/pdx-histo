{
 "cells": [
  {
   "cell_type": "code",
   "execution_count": 1,
   "metadata": {},
   "outputs": [
    {
     "name": "stdout",
     "output_type": "stream",
     "text": [
      "/vol/ml/apartin/projects/pdx-histo/nbs\n"
     ]
    }
   ],
   "source": [
    "%load_ext autoreload\n",
    "%autoreload 2\n",
    "%matplotlib inline\n",
    "\n",
    "import os\n",
    "import sys\n",
    "\n",
    "from pathlib import Path\n",
    "import pandas as pd\n",
    "import numpy as np\n",
    "\n",
    "fdir = Path.cwd()\n",
    "print(fdir)\n",
    "sys.path.append(str(fdir/'../src'))\n",
    "from config import cfg\n",
    "\n",
    "from build_df import load_rna\n",
    "from merge_meta_files import load_crossref, load_pdx_meta\n",
    "import load_data\n",
    "from load_data import load_crossref, load_pdx_meta, load_pdx_meta2, load_pdx_meta_jc, load_rna, PDX_SAMPLE_COLS"
   ]
  },
  {
   "cell_type": "markdown",
   "metadata": {},
   "source": [
    "### Judith"
   ]
  },
  {
   "cell_type": "code",
   "execution_count": 2,
   "metadata": {},
   "outputs": [
    {
     "name": "stdout",
     "output_type": "stream",
     "text": [
      "(1198, 8)\n"
     ]
    },
    {
     "data": {
      "text/html": [
       "<div>\n",
       "<style scoped>\n",
       "    .dataframe tbody tr th:only-of-type {\n",
       "        vertical-align: middle;\n",
       "    }\n",
       "\n",
       "    .dataframe tbody tr th {\n",
       "        vertical-align: top;\n",
       "    }\n",
       "\n",
       "    .dataframe thead th {\n",
       "        text-align: right;\n",
       "    }\n",
       "</style>\n",
       "<table border=\"1\" class=\"dataframe\">\n",
       "  <thead>\n",
       "    <tr style=\"text-align: right;\">\n",
       "      <th></th>\n",
       "      <th>Sample</th>\n",
       "      <th>patient_id</th>\n",
       "      <th>specimen_id</th>\n",
       "      <th>sample_id</th>\n",
       "      <th>csite_src</th>\n",
       "      <th>ctype_src</th>\n",
       "      <th>csite</th>\n",
       "      <th>ctype</th>\n",
       "    </tr>\n",
       "  </thead>\n",
       "  <tbody>\n",
       "    <tr>\n",
       "      <th>0</th>\n",
       "      <td>114434~197-R~A35YC3</td>\n",
       "      <td>114434</td>\n",
       "      <td>197-R</td>\n",
       "      <td>A35YC3</td>\n",
       "      <td>Musculoskeletal</td>\n",
       "      <td>Non-Rhabdo. soft tissue sarcoma</td>\n",
       "      <td>musculoskeletal</td>\n",
       "      <td>sarcoma/mesothelioma</td>\n",
       "    </tr>\n",
       "    <tr>\n",
       "      <th>1</th>\n",
       "      <td>114434~197-R~A36YC9</td>\n",
       "      <td>114434</td>\n",
       "      <td>197-R</td>\n",
       "      <td>A36YC9</td>\n",
       "      <td>Musculoskeletal</td>\n",
       "      <td>Non-Rhabdo. soft tissue sarcoma</td>\n",
       "      <td>musculoskeletal</td>\n",
       "      <td>sarcoma/mesothelioma</td>\n",
       "    </tr>\n",
       "  </tbody>\n",
       "</table>\n",
       "</div>"
      ],
      "text/plain": [
       "                Sample patient_id specimen_id sample_id        csite_src  \\\n",
       "0  114434~197-R~A35YC3     114434       197-R    A35YC3  Musculoskeletal   \n",
       "1  114434~197-R~A36YC9     114434       197-R    A36YC9  Musculoskeletal   \n",
       "\n",
       "                         ctype_src            csite                 ctype  \n",
       "0  Non-Rhabdo. soft tissue sarcoma  musculoskeletal  sarcoma/mesothelioma  \n",
       "1  Non-Rhabdo. soft tissue sarcoma  musculoskeletal  sarcoma/mesothelioma  "
      ]
     },
     "execution_count": 2,
     "metadata": {},
     "output_type": "execute_result"
    }
   ],
   "source": [
    "jj = load_pdx_meta_jc()\n",
    "print(jj.shape)\n",
    "jj[:2]"
   ]
  },
  {
   "cell_type": "markdown",
   "metadata": {},
   "source": [
    "### Yitan"
   ]
  },
  {
   "cell_type": "code",
   "execution_count": 6,
   "metadata": {},
   "outputs": [
    {
     "name": "stdout",
     "output_type": "stream",
     "text": [
      "(97, 7)\n"
     ]
    },
    {
     "data": {
      "text/html": [
       "<div>\n",
       "<style scoped>\n",
       "    .dataframe tbody tr th:only-of-type {\n",
       "        vertical-align: middle;\n",
       "    }\n",
       "\n",
       "    .dataframe tbody tr th {\n",
       "        vertical-align: top;\n",
       "    }\n",
       "\n",
       "    .dataframe thead th {\n",
       "        text-align: right;\n",
       "    }\n",
       "</style>\n",
       "<table border=\"1\" class=\"dataframe\">\n",
       "  <thead>\n",
       "    <tr style=\"text-align: right;\">\n",
       "      <th></th>\n",
       "      <th>patient_id</th>\n",
       "      <th>specimen_id</th>\n",
       "      <th>csite_src</th>\n",
       "      <th>ctype_src</th>\n",
       "      <th>csite</th>\n",
       "      <th>ctype</th>\n",
       "      <th>stage_or_grade</th>\n",
       "    </tr>\n",
       "  </thead>\n",
       "  <tbody>\n",
       "    <tr>\n",
       "      <th>0</th>\n",
       "      <td>114434</td>\n",
       "      <td>197-R</td>\n",
       "      <td>Musculoskeletal</td>\n",
       "      <td>Non-Rhabdo. soft tissue sarcoma</td>\n",
       "      <td>musculoskeletal</td>\n",
       "      <td>sarcoma/mesothelioma</td>\n",
       "      <td>grade 3</td>\n",
       "    </tr>\n",
       "    <tr>\n",
       "      <th>1</th>\n",
       "      <td>114551</td>\n",
       "      <td>080-T</td>\n",
       "      <td>Head and Neck</td>\n",
       "      <td>Salivary gland cancer</td>\n",
       "      <td>head &amp; neck</td>\n",
       "      <td>head &amp; neck</td>\n",
       "      <td>grade 2</td>\n",
       "    </tr>\n",
       "  </tbody>\n",
       "</table>\n",
       "</div>"
      ],
      "text/plain": [
       "  patient_id specimen_id        csite_src                        ctype_src  \\\n",
       "0     114434       197-R  Musculoskeletal  Non-Rhabdo. soft tissue sarcoma   \n",
       "1     114551       080-T    Head and Neck            Salivary gland cancer   \n",
       "\n",
       "             csite                 ctype stage_or_grade  \n",
       "0  musculoskeletal  sarcoma/mesothelioma        grade 3  \n",
       "1      head & neck           head & neck        grade 2  "
      ]
     },
     "execution_count": 6,
     "metadata": {},
     "output_type": "execute_result"
    }
   ],
   "source": [
    "yy = load_pdx_meta()\n",
    "print(yy.shape)\n",
    "yy[:2]"
   ]
  },
  {
   "cell_type": "markdown",
   "metadata": {},
   "source": [
    "### Cross-ref"
   ]
  },
  {
   "cell_type": "code",
   "execution_count": 7,
   "metadata": {},
   "outputs": [
    {
     "name": "stdout",
     "output_type": "stream",
     "text": [
      "(593, 5)\n"
     ]
    },
    {
     "data": {
      "text/html": [
       "<div>\n",
       "<style scoped>\n",
       "    .dataframe tbody tr th:only-of-type {\n",
       "        vertical-align: middle;\n",
       "    }\n",
       "\n",
       "    .dataframe tbody tr th {\n",
       "        vertical-align: top;\n",
       "    }\n",
       "\n",
       "    .dataframe thead th {\n",
       "        text-align: right;\n",
       "    }\n",
       "</style>\n",
       "<table border=\"1\" class=\"dataframe\">\n",
       "  <thead>\n",
       "    <tr style=\"text-align: right;\">\n",
       "      <th></th>\n",
       "      <th>model</th>\n",
       "      <th>patient_id</th>\n",
       "      <th>specimen_id</th>\n",
       "      <th>sample_id</th>\n",
       "      <th>image_id</th>\n",
       "    </tr>\n",
       "  </thead>\n",
       "  <tbody>\n",
       "    <tr>\n",
       "      <th>0</th>\n",
       "      <td>114434~197-R</td>\n",
       "      <td>114434</td>\n",
       "      <td>197-R</td>\n",
       "      <td>A35YC3</td>\n",
       "      <td>27166</td>\n",
       "    </tr>\n",
       "    <tr>\n",
       "      <th>1</th>\n",
       "      <td>114434~197-R</td>\n",
       "      <td>114434</td>\n",
       "      <td>197-R</td>\n",
       "      <td>A36YC9</td>\n",
       "      <td>25127</td>\n",
       "    </tr>\n",
       "  </tbody>\n",
       "</table>\n",
       "</div>"
      ],
      "text/plain": [
       "          model patient_id specimen_id sample_id  image_id\n",
       "0  114434~197-R     114434       197-R    A35YC3     27166\n",
       "1  114434~197-R     114434       197-R    A36YC9     25127"
      ]
     },
     "execution_count": 7,
     "metadata": {},
     "output_type": "execute_result"
    }
   ],
   "source": [
    "cref = load_crossref(drop_bad_slides=False)\n",
    "print(cref.shape)\n",
    "cref[:2]"
   ]
  },
  {
   "cell_type": "code",
   "execution_count": null,
   "metadata": {},
   "outputs": [],
   "source": []
  },
  {
   "cell_type": "markdown",
   "metadata": {},
   "source": [
    "### Merge slides meta (cref) and PDX meta"
   ]
  },
  {
   "cell_type": "code",
   "execution_count": 9,
   "metadata": {},
   "outputs": [
    {
     "name": "stdout",
     "output_type": "stream",
     "text": [
      "(593, 5)\n",
      "(97, 7)\n"
     ]
    },
    {
     "data": {
      "text/html": [
       "<div>\n",
       "<style scoped>\n",
       "    .dataframe tbody tr th:only-of-type {\n",
       "        vertical-align: middle;\n",
       "    }\n",
       "\n",
       "    .dataframe tbody tr th {\n",
       "        vertical-align: top;\n",
       "    }\n",
       "\n",
       "    .dataframe thead th {\n",
       "        text-align: right;\n",
       "    }\n",
       "</style>\n",
       "<table border=\"1\" class=\"dataframe\">\n",
       "  <thead>\n",
       "    <tr style=\"text-align: right;\">\n",
       "      <th></th>\n",
       "      <th>model</th>\n",
       "      <th>patient_id</th>\n",
       "      <th>specimen_id</th>\n",
       "      <th>sample_id</th>\n",
       "      <th>image_id</th>\n",
       "    </tr>\n",
       "  </thead>\n",
       "  <tbody>\n",
       "    <tr>\n",
       "      <th>0</th>\n",
       "      <td>114434~197-R</td>\n",
       "      <td>114434</td>\n",
       "      <td>197-R</td>\n",
       "      <td>A35YC3</td>\n",
       "      <td>27166</td>\n",
       "    </tr>\n",
       "    <tr>\n",
       "      <th>1</th>\n",
       "      <td>114434~197-R</td>\n",
       "      <td>114434</td>\n",
       "      <td>197-R</td>\n",
       "      <td>A36YC9</td>\n",
       "      <td>25127</td>\n",
       "    </tr>\n",
       "  </tbody>\n",
       "</table>\n",
       "</div>"
      ],
      "text/plain": [
       "          model patient_id specimen_id sample_id  image_id\n",
       "0  114434~197-R     114434       197-R    A35YC3     27166\n",
       "1  114434~197-R     114434       197-R    A36YC9     25127"
      ]
     },
     "metadata": {},
     "output_type": "display_data"
    },
    {
     "data": {
      "text/html": [
       "<div>\n",
       "<style scoped>\n",
       "    .dataframe tbody tr th:only-of-type {\n",
       "        vertical-align: middle;\n",
       "    }\n",
       "\n",
       "    .dataframe tbody tr th {\n",
       "        vertical-align: top;\n",
       "    }\n",
       "\n",
       "    .dataframe thead th {\n",
       "        text-align: right;\n",
       "    }\n",
       "</style>\n",
       "<table border=\"1\" class=\"dataframe\">\n",
       "  <thead>\n",
       "    <tr style=\"text-align: right;\">\n",
       "      <th></th>\n",
       "      <th>patient_id</th>\n",
       "      <th>specimen_id</th>\n",
       "      <th>csite_src</th>\n",
       "      <th>ctype_src</th>\n",
       "      <th>csite</th>\n",
       "      <th>ctype</th>\n",
       "      <th>stage_or_grade</th>\n",
       "    </tr>\n",
       "  </thead>\n",
       "  <tbody>\n",
       "    <tr>\n",
       "      <th>0</th>\n",
       "      <td>114434</td>\n",
       "      <td>197-R</td>\n",
       "      <td>Musculoskeletal</td>\n",
       "      <td>Non-Rhabdo. soft tissue sarcoma</td>\n",
       "      <td>musculoskeletal</td>\n",
       "      <td>sarcoma/mesothelioma</td>\n",
       "      <td>grade 3</td>\n",
       "    </tr>\n",
       "    <tr>\n",
       "      <th>1</th>\n",
       "      <td>114551</td>\n",
       "      <td>080-T</td>\n",
       "      <td>Head and Neck</td>\n",
       "      <td>Salivary gland cancer</td>\n",
       "      <td>head &amp; neck</td>\n",
       "      <td>head &amp; neck</td>\n",
       "      <td>grade 2</td>\n",
       "    </tr>\n",
       "  </tbody>\n",
       "</table>\n",
       "</div>"
      ],
      "text/plain": [
       "  patient_id specimen_id        csite_src                        ctype_src  \\\n",
       "0     114434       197-R  Musculoskeletal  Non-Rhabdo. soft tissue sarcoma   \n",
       "1     114551       080-T    Head and Neck            Salivary gland cancer   \n",
       "\n",
       "             csite                 ctype stage_or_grade  \n",
       "0  musculoskeletal  sarcoma/mesothelioma        grade 3  \n",
       "1      head & neck           head & neck        grade 2  "
      ]
     },
     "metadata": {},
     "output_type": "display_data"
    }
   ],
   "source": [
    "print(cref.shape)\n",
    "print(yy.shape)\n",
    "display(cref[:2])\n",
    "display(yy[:2])"
   ]
  },
  {
   "cell_type": "code",
   "execution_count": 10,
   "metadata": {},
   "outputs": [
    {
     "name": "stdout",
     "output_type": "stream",
     "text": [
      "(584, 5)\n"
     ]
    },
    {
     "data": {
      "text/html": [
       "<div>\n",
       "<style scoped>\n",
       "    .dataframe tbody tr th:only-of-type {\n",
       "        vertical-align: middle;\n",
       "    }\n",
       "\n",
       "    .dataframe tbody tr th {\n",
       "        vertical-align: top;\n",
       "    }\n",
       "\n",
       "    .dataframe thead th {\n",
       "        text-align: right;\n",
       "    }\n",
       "</style>\n",
       "<table border=\"1\" class=\"dataframe\">\n",
       "  <thead>\n",
       "    <tr style=\"text-align: right;\">\n",
       "      <th></th>\n",
       "      <th>model</th>\n",
       "      <th>patient_id</th>\n",
       "      <th>specimen_id</th>\n",
       "      <th>sample_id</th>\n",
       "      <th>image_id</th>\n",
       "    </tr>\n",
       "  </thead>\n",
       "  <tbody>\n",
       "    <tr>\n",
       "      <th>0</th>\n",
       "      <td>114434~197-R</td>\n",
       "      <td>114434</td>\n",
       "      <td>197-R</td>\n",
       "      <td>A35YC3</td>\n",
       "      <td>27166</td>\n",
       "    </tr>\n",
       "    <tr>\n",
       "      <th>1</th>\n",
       "      <td>114434~197-R</td>\n",
       "      <td>114434</td>\n",
       "      <td>197-R</td>\n",
       "      <td>A36YC9</td>\n",
       "      <td>25127</td>\n",
       "    </tr>\n",
       "  </tbody>\n",
       "</table>\n",
       "</div>"
      ],
      "text/plain": [
       "          model patient_id specimen_id sample_id  image_id\n",
       "0  114434~197-R     114434       197-R    A35YC3     27166\n",
       "1  114434~197-R     114434       197-R    A36YC9     25127"
      ]
     },
     "metadata": {},
     "output_type": "display_data"
    }
   ],
   "source": [
    "# A few samples are missing\n",
    "mrg_cols = ['patient_id', 'specimen_id']\n",
    "m = cref.merge(yy[mrg_cols], on=mrg_cols, how='inner')\n",
    "print(m.shape)\n",
    "display(m[:2])"
   ]
  },
  {
   "cell_type": "code",
   "execution_count": 11,
   "metadata": {},
   "outputs": [
    {
     "name": "stdout",
     "output_type": "stream",
     "text": [
      "Outer merge (593, 11)\n",
      "both          584\n",
      "left_only       9\n",
      "right_only      0\n",
      "Name: _merge, dtype: int64\n",
      "\n",
      "Missing items (9, 11)\n"
     ]
    },
    {
     "data": {
      "text/html": [
       "<div>\n",
       "<style scoped>\n",
       "    .dataframe tbody tr th:only-of-type {\n",
       "        vertical-align: middle;\n",
       "    }\n",
       "\n",
       "    .dataframe tbody tr th {\n",
       "        vertical-align: top;\n",
       "    }\n",
       "\n",
       "    .dataframe thead th {\n",
       "        text-align: right;\n",
       "    }\n",
       "</style>\n",
       "<table border=\"1\" class=\"dataframe\">\n",
       "  <thead>\n",
       "    <tr style=\"text-align: right;\">\n",
       "      <th></th>\n",
       "      <th>model</th>\n",
       "      <th>patient_id</th>\n",
       "      <th>specimen_id</th>\n",
       "      <th>sample_id</th>\n",
       "      <th>image_id</th>\n",
       "      <th>csite_src</th>\n",
       "      <th>ctype_src</th>\n",
       "      <th>csite</th>\n",
       "      <th>ctype</th>\n",
       "      <th>stage_or_grade</th>\n",
       "      <th>_merge</th>\n",
       "    </tr>\n",
       "  </thead>\n",
       "  <tbody>\n",
       "    <tr>\n",
       "      <th>45</th>\n",
       "      <td>146476~266-R</td>\n",
       "      <td>146476</td>\n",
       "      <td>266-R</td>\n",
       "      <td>E19YJ0</td>\n",
       "      <td>20252</td>\n",
       "      <td>NaN</td>\n",
       "      <td>NaN</td>\n",
       "      <td>NaN</td>\n",
       "      <td>NaN</td>\n",
       "      <td>NaN</td>\n",
       "      <td>left_only</td>\n",
       "    </tr>\n",
       "    <tr>\n",
       "      <th>46</th>\n",
       "      <td>146476~266-R</td>\n",
       "      <td>146476</td>\n",
       "      <td>266-R</td>\n",
       "      <td>E19YJ1</td>\n",
       "      <td>20307</td>\n",
       "      <td>NaN</td>\n",
       "      <td>NaN</td>\n",
       "      <td>NaN</td>\n",
       "      <td>NaN</td>\n",
       "      <td>NaN</td>\n",
       "      <td>left_only</td>\n",
       "    </tr>\n",
       "    <tr>\n",
       "      <th>47</th>\n",
       "      <td>146476~266-R</td>\n",
       "      <td>146476</td>\n",
       "      <td>266-R</td>\n",
       "      <td>E20F07</td>\n",
       "      <td>21545</td>\n",
       "      <td>NaN</td>\n",
       "      <td>NaN</td>\n",
       "      <td>NaN</td>\n",
       "      <td>NaN</td>\n",
       "      <td>NaN</td>\n",
       "      <td>left_only</td>\n",
       "    </tr>\n",
       "    <tr>\n",
       "      <th>48</th>\n",
       "      <td>146476~266-R</td>\n",
       "      <td>146476</td>\n",
       "      <td>266-R</td>\n",
       "      <td>E20F08F67</td>\n",
       "      <td>20976</td>\n",
       "      <td>NaN</td>\n",
       "      <td>NaN</td>\n",
       "      <td>NaN</td>\n",
       "      <td>NaN</td>\n",
       "      <td>NaN</td>\n",
       "      <td>left_only</td>\n",
       "    </tr>\n",
       "    <tr>\n",
       "      <th>49</th>\n",
       "      <td>146476~266-R</td>\n",
       "      <td>146476</td>\n",
       "      <td>266-R</td>\n",
       "      <td>ORIGINATOR</td>\n",
       "      <td>13946</td>\n",
       "      <td>NaN</td>\n",
       "      <td>NaN</td>\n",
       "      <td>NaN</td>\n",
       "      <td>NaN</td>\n",
       "      <td>NaN</td>\n",
       "      <td>left_only</td>\n",
       "    </tr>\n",
       "    <tr>\n",
       "      <th>148</th>\n",
       "      <td>237351~077-R</td>\n",
       "      <td>237351</td>\n",
       "      <td>077-R</td>\n",
       "      <td>AL-IR0</td>\n",
       "      <td>20729</td>\n",
       "      <td>NaN</td>\n",
       "      <td>NaN</td>\n",
       "      <td>NaN</td>\n",
       "      <td>NaN</td>\n",
       "      <td>NaN</td>\n",
       "      <td>left_only</td>\n",
       "    </tr>\n",
       "    <tr>\n",
       "      <th>149</th>\n",
       "      <td>237351~077-R</td>\n",
       "      <td>237351</td>\n",
       "      <td>077-R</td>\n",
       "      <td>AL-IR0_AL-M977</td>\n",
       "      <td>20467</td>\n",
       "      <td>NaN</td>\n",
       "      <td>NaN</td>\n",
       "      <td>NaN</td>\n",
       "      <td>NaN</td>\n",
       "      <td>NaN</td>\n",
       "      <td>left_only</td>\n",
       "    </tr>\n",
       "    <tr>\n",
       "      <th>150</th>\n",
       "      <td>237351~077-R</td>\n",
       "      <td>237351</td>\n",
       "      <td>077-R</td>\n",
       "      <td>AL-IR0_AL-M977_AL-M302</td>\n",
       "      <td>23429</td>\n",
       "      <td>NaN</td>\n",
       "      <td>NaN</td>\n",
       "      <td>NaN</td>\n",
       "      <td>NaN</td>\n",
       "      <td>NaN</td>\n",
       "      <td>left_only</td>\n",
       "    </tr>\n",
       "    <tr>\n",
       "      <th>151</th>\n",
       "      <td>237351~077-R</td>\n",
       "      <td>237351</td>\n",
       "      <td>077-R</td>\n",
       "      <td>AL-IR0_AL-M977_AL-M303_AL-ER0</td>\n",
       "      <td>26305</td>\n",
       "      <td>NaN</td>\n",
       "      <td>NaN</td>\n",
       "      <td>NaN</td>\n",
       "      <td>NaN</td>\n",
       "      <td>NaN</td>\n",
       "      <td>left_only</td>\n",
       "    </tr>\n",
       "  </tbody>\n",
       "</table>\n",
       "</div>"
      ],
      "text/plain": [
       "            model patient_id specimen_id                      sample_id  \\\n",
       "45   146476~266-R     146476       266-R                         E19YJ0   \n",
       "46   146476~266-R     146476       266-R                         E19YJ1   \n",
       "47   146476~266-R     146476       266-R                         E20F07   \n",
       "48   146476~266-R     146476       266-R                      E20F08F67   \n",
       "49   146476~266-R     146476       266-R                     ORIGINATOR   \n",
       "148  237351~077-R     237351       077-R                         AL-IR0   \n",
       "149  237351~077-R     237351       077-R                 AL-IR0_AL-M977   \n",
       "150  237351~077-R     237351       077-R         AL-IR0_AL-M977_AL-M302   \n",
       "151  237351~077-R     237351       077-R  AL-IR0_AL-M977_AL-M303_AL-ER0   \n",
       "\n",
       "     image_id csite_src ctype_src csite ctype stage_or_grade     _merge  \n",
       "45      20252       NaN       NaN   NaN   NaN            NaN  left_only  \n",
       "46      20307       NaN       NaN   NaN   NaN            NaN  left_only  \n",
       "47      21545       NaN       NaN   NaN   NaN            NaN  left_only  \n",
       "48      20976       NaN       NaN   NaN   NaN            NaN  left_only  \n",
       "49      13946       NaN       NaN   NaN   NaN            NaN  left_only  \n",
       "148     20729       NaN       NaN   NaN   NaN            NaN  left_only  \n",
       "149     20467       NaN       NaN   NaN   NaN            NaN  left_only  \n",
       "150     23429       NaN       NaN   NaN   NaN            NaN  left_only  \n",
       "151     26305       NaN       NaN   NaN   NaN            NaN  left_only  "
      ]
     },
     "metadata": {},
     "output_type": "display_data"
    }
   ],
   "source": [
    "# Explore (merge and identify from which df the items are coming from)\n",
    "# https://kanoki.org/2019/07/04/pandas-difference-between-two-dataframes/\n",
    "mrg_outer = cref.merge(yy, on=mrg_cols, how='outer', indicator=True)\n",
    "print('Outer merge', mrg_outer.shape)\n",
    "print(mrg_outer['_merge'].value_counts())\n",
    "\n",
    "miss = mrg_outer.loc[lambda x: x['_merge']=='left_only']\n",
    "miss = miss.sort_values(mrg_cols, ascending=True)\n",
    "print('\\nMissing items', miss.shape)\n",
    "display(miss)"
   ]
  },
  {
   "cell_type": "code",
   "execution_count": 12,
   "metadata": {},
   "outputs": [
    {
     "name": "stdout",
     "output_type": "stream",
     "text": [
      "['146476' '237351']\n"
     ]
    },
    {
     "data": {
      "text/html": [
       "<div>\n",
       "<style scoped>\n",
       "    .dataframe tbody tr th:only-of-type {\n",
       "        vertical-align: middle;\n",
       "    }\n",
       "\n",
       "    .dataframe tbody tr th {\n",
       "        vertical-align: top;\n",
       "    }\n",
       "\n",
       "    .dataframe thead th {\n",
       "        text-align: right;\n",
       "    }\n",
       "</style>\n",
       "<table border=\"1\" class=\"dataframe\">\n",
       "  <thead>\n",
       "    <tr style=\"text-align: right;\">\n",
       "      <th></th>\n",
       "      <th>patient_id</th>\n",
       "      <th>specimen_id</th>\n",
       "      <th>csite_src</th>\n",
       "      <th>ctype_src</th>\n",
       "      <th>csite</th>\n",
       "      <th>ctype</th>\n",
       "    </tr>\n",
       "  </thead>\n",
       "  <tbody>\n",
       "    <tr>\n",
       "      <th>78</th>\n",
       "      <td>146476</td>\n",
       "      <td>266-R</td>\n",
       "      <td>Genitourinary</td>\n",
       "      <td>Urothelial/bladder cancer, NOS</td>\n",
       "      <td>bladder/urothelial</td>\n",
       "      <td>bladder/urothelial</td>\n",
       "    </tr>\n",
       "    <tr>\n",
       "      <th>210</th>\n",
       "      <td>237351</td>\n",
       "      <td>077-R</td>\n",
       "      <td>Musculoskeletal</td>\n",
       "      <td>Ewing sarcoma/Peripheral PNET</td>\n",
       "      <td>musculoskeletal</td>\n",
       "      <td>sarcoma/mesothelioma</td>\n",
       "    </tr>\n",
       "  </tbody>\n",
       "</table>\n",
       "</div>"
      ],
      "text/plain": [
       "    patient_id specimen_id        csite_src                       ctype_src  \\\n",
       "78      146476       266-R    Genitourinary  Urothelial/bladder cancer, NOS   \n",
       "210     237351       077-R  Musculoskeletal   Ewing sarcoma/Peripheral PNET   \n",
       "\n",
       "                  csite                 ctype  \n",
       "78   bladder/urothelial    bladder/urothelial  \n",
       "210     musculoskeletal  sarcoma/mesothelioma  "
      ]
     },
     "execution_count": 12,
     "metadata": {},
     "output_type": "execute_result"
    }
   ],
   "source": [
    "print(miss.patient_id.unique())\n",
    "miss_found = jj[ jj.patient_id.isin(miss.patient_id.unique()) ]\n",
    "miss_found = miss_found.drop(columns=['Sample', 'sample_id'])\n",
    "miss_found = miss_found.drop_duplicates()\n",
    "miss_found"
   ]
  },
  {
   "cell_type": "code",
   "execution_count": 13,
   "metadata": {},
   "outputs": [
    {
     "name": "stdout",
     "output_type": "stream",
     "text": [
      "(99, 7)\n"
     ]
    }
   ],
   "source": [
    "# Add the missing samples\n",
    "yy_new = pd.concat([yy, miss_found], axis=0)\n",
    "yy_new = yy_new.reset_index(drop=True)\n",
    "print(yy_new.shape)"
   ]
  },
  {
   "cell_type": "code",
   "execution_count": 14,
   "metadata": {},
   "outputs": [
    {
     "name": "stdout",
     "output_type": "stream",
     "text": [
      "(593, 5)\n"
     ]
    },
    {
     "data": {
      "text/html": [
       "<div>\n",
       "<style scoped>\n",
       "    .dataframe tbody tr th:only-of-type {\n",
       "        vertical-align: middle;\n",
       "    }\n",
       "\n",
       "    .dataframe tbody tr th {\n",
       "        vertical-align: top;\n",
       "    }\n",
       "\n",
       "    .dataframe thead th {\n",
       "        text-align: right;\n",
       "    }\n",
       "</style>\n",
       "<table border=\"1\" class=\"dataframe\">\n",
       "  <thead>\n",
       "    <tr style=\"text-align: right;\">\n",
       "      <th></th>\n",
       "      <th>model</th>\n",
       "      <th>patient_id</th>\n",
       "      <th>specimen_id</th>\n",
       "      <th>sample_id</th>\n",
       "      <th>image_id</th>\n",
       "    </tr>\n",
       "  </thead>\n",
       "  <tbody>\n",
       "    <tr>\n",
       "      <th>0</th>\n",
       "      <td>114434~197-R</td>\n",
       "      <td>114434</td>\n",
       "      <td>197-R</td>\n",
       "      <td>A35YC3</td>\n",
       "      <td>27166</td>\n",
       "    </tr>\n",
       "    <tr>\n",
       "      <th>1</th>\n",
       "      <td>114434~197-R</td>\n",
       "      <td>114434</td>\n",
       "      <td>197-R</td>\n",
       "      <td>A36YC9</td>\n",
       "      <td>25127</td>\n",
       "    </tr>\n",
       "  </tbody>\n",
       "</table>\n",
       "</div>"
      ],
      "text/plain": [
       "          model patient_id specimen_id sample_id  image_id\n",
       "0  114434~197-R     114434       197-R    A35YC3     27166\n",
       "1  114434~197-R     114434       197-R    A36YC9     25127"
      ]
     },
     "metadata": {},
     "output_type": "display_data"
    }
   ],
   "source": [
    "# Now mege with the corrected file\n",
    "mrg_cols = ['patient_id', 'specimen_id']\n",
    "m = cref.merge(yy_new[mrg_cols], on=mrg_cols, how='inner')\n",
    "print(m.shape)\n",
    "display(m[:2])"
   ]
  },
  {
   "cell_type": "code",
   "execution_count": 15,
   "metadata": {},
   "outputs": [],
   "source": [
    "# Save into file\n",
    "yy_new.to_csv('../data/meta/PDX_Meta_Information2.csv', index=False)"
   ]
  },
  {
   "cell_type": "code",
   "execution_count": null,
   "metadata": {},
   "outputs": [],
   "source": []
  },
  {
   "cell_type": "code",
   "execution_count": null,
   "metadata": {},
   "outputs": [],
   "source": []
  },
  {
   "cell_type": "markdown",
   "metadata": {},
   "source": [
    "# Merge for drug response\n",
    "There drug response pair for which we don't have histology slides."
   ]
  },
  {
   "cell_type": "code",
   "execution_count": 15,
   "metadata": {},
   "outputs": [
    {
     "name": "stdout",
     "output_type": "stream",
     "text": [
      "\n",
      "Dropped 77 duplicates.\n",
      "\n",
      "Drop bad slides from image_id.\n",
      "cref: (593, 5)\n",
      "Bad slides: [45983, 83742, 83743, 22232, 21836, 20729]\n",
      "cref: (587, 5)\n"
     ]
    }
   ],
   "source": [
    "rsp = load_data.load_rsp()\n",
    "rna = load_data.load_rna()\n",
    "dd = load_data.load_dd()\n",
    "cref = load_data.load_crossref()\n",
    "pdx = load_data.load_pdx_meta2()"
   ]
  },
  {
   "cell_type": "code",
   "execution_count": 16,
   "metadata": {},
   "outputs": [
    {
     "name": "stdout",
     "output_type": "stream",
     "text": [
      "(2591, 4)\n",
      "(1727, 981)\n",
      "(2591, 984)\n"
     ]
    }
   ],
   "source": [
    "print(rsp.shape)\n",
    "print(rna.shape)\n",
    "rsp_rna = rsp.merge(rna, on='Sample', how='inner')\n",
    "print(rsp_rna.shape)"
   ]
  },
  {
   "cell_type": "code",
   "execution_count": 17,
   "metadata": {},
   "outputs": [
    {
     "name": "stdout",
     "output_type": "stream",
     "text": [
      "(2591, 984)\n",
      "(2142, 1617)\n",
      "(2591, 2601)\n"
     ]
    }
   ],
   "source": [
    "print(rsp_rna.shape)\n",
    "print(dd.shape)\n",
    "rsp_rna_dd = rsp_rna.merge(dd, left_on='Drug1', right_on='ID', how='inner').reset_index(drop=True)\n",
    "print(rsp_rna_dd.shape)"
   ]
  },
  {
   "cell_type": "code",
   "execution_count": 18,
   "metadata": {},
   "outputs": [
    {
     "name": "stdout",
     "output_type": "stream",
     "text": [
      "(99, 7)\n",
      "(2591, 2601)\n",
      "(2591, 2606)\n"
     ]
    }
   ],
   "source": [
    "print(pdx.shape)\n",
    "print(rsp_rna_dd.shape)\n",
    "rsp_rna_dd_pdx = pdx.merge(rsp_rna_dd, on=['patient_id', 'specimen_id'], how='inner')\n",
    "print(rsp_rna_dd_pdx.shape)"
   ]
  },
  {
   "cell_type": "code",
   "execution_count": 19,
   "metadata": {},
   "outputs": [
    {
     "name": "stdout",
     "output_type": "stream",
     "text": [
      "(587, 5)\n",
      "(2591, 2606)\n",
      "(2574, 2607)\n"
     ]
    }
   ],
   "source": [
    "print(cref.shape)\n",
    "print(rsp_rna_dd_pdx.shape)\n",
    "df = cref.merge(rsp_rna_dd_pdx, on=PDX_SAMPLE_COLS, how='inner')\n",
    "print(df.shape)"
   ]
  },
  {
   "cell_type": "code",
   "execution_count": 26,
   "metadata": {},
   "outputs": [
    {
     "name": "stdout",
     "output_type": "stream",
     "text": [
      "Outer merge (2772, 2608)\n",
      "both          2574\n",
      "left_only      181\n",
      "right_only      17\n",
      "Name: _merge, dtype: int64\n",
      "\n",
      "Missing right items (17, 2608)\n",
      "Missing left items  (181, 2608)\n"
     ]
    }
   ],
   "source": [
    "# Explore (merge and identify from which df the items are coming from)\n",
    "# https://kanoki.org/2019/07/04/pandas-difference-between-two-dataframes/\n",
    "mrg_outer = cref.merge(rsp_rna_dd_pdx, on=PDX_SAMPLE_COLS, how='outer', indicator=True)\n",
    "print('Outer merge', mrg_outer.shape)\n",
    "print(mrg_outer['_merge'].value_counts())\n",
    "\n",
    "miss_r = mrg_outer.loc[lambda x: x['_merge']=='right_only']\n",
    "miss_r = miss_r.sort_values(PDX_SAMPLE_COLS, ascending=True)\n",
    "print('\\nMissing right items', miss_r.shape)\n",
    "\n",
    "miss_l = mrg_outer.loc[lambda x: x['_merge']=='left_only']\n",
    "miss_l = miss_l.sort_values(PDX_SAMPLE_COLS, ascending=True)\n",
    "print('Missing left items ', miss_l.shape)"
   ]
  },
  {
   "cell_type": "code",
   "execution_count": 27,
   "metadata": {},
   "outputs": [
    {
     "name": "stdout",
     "output_type": "stream",
     "text": [
      "['269878' '773659' 'BL0382']\n",
      "0.0    16\n",
      "1.0     1\n",
      "Name: Response, dtype: int64\n"
     ]
    },
    {
     "data": {
      "text/html": [
       "<div>\n",
       "<style scoped>\n",
       "    .dataframe tbody tr th:only-of-type {\n",
       "        vertical-align: middle;\n",
       "    }\n",
       "\n",
       "    .dataframe tbody tr th {\n",
       "        vertical-align: top;\n",
       "    }\n",
       "\n",
       "    .dataframe thead th {\n",
       "        text-align: right;\n",
       "    }\n",
       "</style>\n",
       "<table border=\"1\" class=\"dataframe\">\n",
       "  <thead>\n",
       "    <tr style=\"text-align: right;\">\n",
       "      <th></th>\n",
       "      <th>Sample</th>\n",
       "      <th>patient_id</th>\n",
       "      <th>specimen_id</th>\n",
       "      <th>sample_id</th>\n",
       "      <th>csite_src</th>\n",
       "      <th>ctype_src</th>\n",
       "      <th>csite</th>\n",
       "      <th>ctype</th>\n",
       "    </tr>\n",
       "  </thead>\n",
       "  <tbody>\n",
       "    <tr>\n",
       "      <th>264</th>\n",
       "      <td>269878~174-B~PN3</td>\n",
       "      <td>269878</td>\n",
       "      <td>174-B</td>\n",
       "      <td>PN3</td>\n",
       "      <td>Skin</td>\n",
       "      <td>Merkel cell tumor</td>\n",
       "      <td>skin</td>\n",
       "      <td>skin other</td>\n",
       "    </tr>\n",
       "    <tr>\n",
       "      <th>265</th>\n",
       "      <td>269878~174-B~PN3M26EN0FV4</td>\n",
       "      <td>269878</td>\n",
       "      <td>174-B</td>\n",
       "      <td>PN3M26EN0FV4</td>\n",
       "      <td>Skin</td>\n",
       "      <td>Merkel cell tumor</td>\n",
       "      <td>skin</td>\n",
       "      <td>skin other</td>\n",
       "    </tr>\n",
       "    <tr>\n",
       "      <th>266</th>\n",
       "      <td>269878~174-B~PN3M27</td>\n",
       "      <td>269878</td>\n",
       "      <td>174-B</td>\n",
       "      <td>PN3M27</td>\n",
       "      <td>Skin</td>\n",
       "      <td>Merkel cell tumor</td>\n",
       "      <td>skin</td>\n",
       "      <td>skin other</td>\n",
       "    </tr>\n",
       "    <tr>\n",
       "      <th>267</th>\n",
       "      <td>269878~174-B~PN3M29</td>\n",
       "      <td>269878</td>\n",
       "      <td>174-B</td>\n",
       "      <td>PN3M29</td>\n",
       "      <td>Skin</td>\n",
       "      <td>Merkel cell tumor</td>\n",
       "      <td>skin</td>\n",
       "      <td>skin other</td>\n",
       "    </tr>\n",
       "    <tr>\n",
       "      <th>812</th>\n",
       "      <td>773659~155-R~NQ6</td>\n",
       "      <td>773659</td>\n",
       "      <td>155-R</td>\n",
       "      <td>NQ6</td>\n",
       "      <td>Skin</td>\n",
       "      <td>Melanoma</td>\n",
       "      <td>skin</td>\n",
       "      <td>melanoma</td>\n",
       "    </tr>\n",
       "    <tr>\n",
       "      <th>813</th>\n",
       "      <td>773659~155-R~NQ6E39</td>\n",
       "      <td>773659</td>\n",
       "      <td>155-R</td>\n",
       "      <td>NQ6E39</td>\n",
       "      <td>Skin</td>\n",
       "      <td>Melanoma</td>\n",
       "      <td>skin</td>\n",
       "      <td>melanoma</td>\n",
       "    </tr>\n",
       "    <tr>\n",
       "      <th>814</th>\n",
       "      <td>773659~155-R~NQ8</td>\n",
       "      <td>773659</td>\n",
       "      <td>155-R</td>\n",
       "      <td>NQ8</td>\n",
       "      <td>Skin</td>\n",
       "      <td>Melanoma</td>\n",
       "      <td>skin</td>\n",
       "      <td>melanoma</td>\n",
       "    </tr>\n",
       "    <tr>\n",
       "      <th>815</th>\n",
       "      <td>773659~155-R~NQ8K16</td>\n",
       "      <td>773659</td>\n",
       "      <td>155-R</td>\n",
       "      <td>NQ8K16</td>\n",
       "      <td>Skin</td>\n",
       "      <td>Melanoma</td>\n",
       "      <td>skin</td>\n",
       "      <td>melanoma</td>\n",
       "    </tr>\n",
       "    <tr>\n",
       "      <th>816</th>\n",
       "      <td>773659~155-R~NQ8K17</td>\n",
       "      <td>773659</td>\n",
       "      <td>155-R</td>\n",
       "      <td>NQ8K17</td>\n",
       "      <td>Skin</td>\n",
       "      <td>Melanoma</td>\n",
       "      <td>skin</td>\n",
       "      <td>melanoma</td>\n",
       "    </tr>\n",
       "    <tr>\n",
       "      <th>817</th>\n",
       "      <td>773659~155-R~NQ8K19M745</td>\n",
       "      <td>773659</td>\n",
       "      <td>155-R</td>\n",
       "      <td>NQ8K19M745</td>\n",
       "      <td>Skin</td>\n",
       "      <td>Melanoma</td>\n",
       "      <td>skin</td>\n",
       "      <td>melanoma</td>\n",
       "    </tr>\n",
       "    <tr>\n",
       "      <th>1039</th>\n",
       "      <td>BL0382~F1232~M662</td>\n",
       "      <td>BL0382</td>\n",
       "      <td>F1232</td>\n",
       "      <td>M662</td>\n",
       "      <td>Genitourinary</td>\n",
       "      <td>Urothelial/bladder cancer, NOS</td>\n",
       "      <td>bladder/urothelial</td>\n",
       "      <td>bladder/urothelial</td>\n",
       "    </tr>\n",
       "    <tr>\n",
       "      <th>1040</th>\n",
       "      <td>BL0382~F1232~M662M18</td>\n",
       "      <td>BL0382</td>\n",
       "      <td>F1232</td>\n",
       "      <td>M662M18</td>\n",
       "      <td>Genitourinary</td>\n",
       "      <td>Urothelial/bladder cancer, NOS</td>\n",
       "      <td>bladder/urothelial</td>\n",
       "      <td>bladder/urothelial</td>\n",
       "    </tr>\n",
       "    <tr>\n",
       "      <th>1041</th>\n",
       "      <td>BL0382~F1232~M663M48M873</td>\n",
       "      <td>BL0382</td>\n",
       "      <td>F1232</td>\n",
       "      <td>M663M48M873</td>\n",
       "      <td>Genitourinary</td>\n",
       "      <td>Urothelial/bladder cancer, NOS</td>\n",
       "      <td>bladder/urothelial</td>\n",
       "      <td>bladder/urothelial</td>\n",
       "    </tr>\n",
       "    <tr>\n",
       "      <th>1042</th>\n",
       "      <td>BL0382~F1232~M664M220</td>\n",
       "      <td>BL0382</td>\n",
       "      <td>F1232</td>\n",
       "      <td>M664M220</td>\n",
       "      <td>Genitourinary</td>\n",
       "      <td>Urothelial/bladder cancer, NOS</td>\n",
       "      <td>bladder/urothelial</td>\n",
       "      <td>bladder/urothelial</td>\n",
       "    </tr>\n",
       "  </tbody>\n",
       "</table>\n",
       "</div>"
      ],
      "text/plain": [
       "                         Sample patient_id specimen_id     sample_id  \\\n",
       "264            269878~174-B~PN3     269878       174-B           PN3   \n",
       "265   269878~174-B~PN3M26EN0FV4     269878       174-B  PN3M26EN0FV4   \n",
       "266         269878~174-B~PN3M27     269878       174-B        PN3M27   \n",
       "267         269878~174-B~PN3M29     269878       174-B        PN3M29   \n",
       "812            773659~155-R~NQ6     773659       155-R           NQ6   \n",
       "813         773659~155-R~NQ6E39     773659       155-R        NQ6E39   \n",
       "814            773659~155-R~NQ8     773659       155-R           NQ8   \n",
       "815         773659~155-R~NQ8K16     773659       155-R        NQ8K16   \n",
       "816         773659~155-R~NQ8K17     773659       155-R        NQ8K17   \n",
       "817     773659~155-R~NQ8K19M745     773659       155-R    NQ8K19M745   \n",
       "1039          BL0382~F1232~M662     BL0382       F1232          M662   \n",
       "1040       BL0382~F1232~M662M18     BL0382       F1232       M662M18   \n",
       "1041   BL0382~F1232~M663M48M873     BL0382       F1232   M663M48M873   \n",
       "1042      BL0382~F1232~M664M220     BL0382       F1232      M664M220   \n",
       "\n",
       "          csite_src                       ctype_src               csite  \\\n",
       "264            Skin               Merkel cell tumor                skin   \n",
       "265            Skin               Merkel cell tumor                skin   \n",
       "266            Skin               Merkel cell tumor                skin   \n",
       "267            Skin               Merkel cell tumor                skin   \n",
       "812            Skin                        Melanoma                skin   \n",
       "813            Skin                        Melanoma                skin   \n",
       "814            Skin                        Melanoma                skin   \n",
       "815            Skin                        Melanoma                skin   \n",
       "816            Skin                        Melanoma                skin   \n",
       "817            Skin                        Melanoma                skin   \n",
       "1039  Genitourinary  Urothelial/bladder cancer, NOS  bladder/urothelial   \n",
       "1040  Genitourinary  Urothelial/bladder cancer, NOS  bladder/urothelial   \n",
       "1041  Genitourinary  Urothelial/bladder cancer, NOS  bladder/urothelial   \n",
       "1042  Genitourinary  Urothelial/bladder cancer, NOS  bladder/urothelial   \n",
       "\n",
       "                   ctype  \n",
       "264           skin other  \n",
       "265           skin other  \n",
       "266           skin other  \n",
       "267           skin other  \n",
       "812             melanoma  \n",
       "813             melanoma  \n",
       "814             melanoma  \n",
       "815             melanoma  \n",
       "816             melanoma  \n",
       "817             melanoma  \n",
       "1039  bladder/urothelial  \n",
       "1040  bladder/urothelial  \n",
       "1041  bladder/urothelial  \n",
       "1042  bladder/urothelial  "
      ]
     },
     "metadata": {},
     "output_type": "display_data"
    }
   ],
   "source": [
    "print(miss_r.patient_id.unique())\n",
    "miss_found = jj[ jj.patient_id.isin(miss_r.patient_id.unique()) ]\n",
    "print(miss_r.Response.value_counts())\n",
    "display(miss_found)"
   ]
  },
  {
   "cell_type": "code",
   "execution_count": 29,
   "metadata": {},
   "outputs": [
    {
     "data": {
      "text/html": [
       "<div>\n",
       "<style scoped>\n",
       "    .dataframe tbody tr th:only-of-type {\n",
       "        vertical-align: middle;\n",
       "    }\n",
       "\n",
       "    .dataframe tbody tr th {\n",
       "        vertical-align: top;\n",
       "    }\n",
       "\n",
       "    .dataframe thead th {\n",
       "        text-align: right;\n",
       "    }\n",
       "</style>\n",
       "<table border=\"1\" class=\"dataframe\">\n",
       "  <thead>\n",
       "    <tr style=\"text-align: right;\">\n",
       "      <th></th>\n",
       "      <th>model</th>\n",
       "      <th>patient_id</th>\n",
       "      <th>specimen_id</th>\n",
       "      <th>sample_id</th>\n",
       "      <th>image_id</th>\n",
       "      <th>csite_src</th>\n",
       "      <th>ctype_src</th>\n",
       "      <th>csite</th>\n",
       "      <th>ctype</th>\n",
       "      <th>stage_or_grade</th>\n",
       "      <th>...</th>\n",
       "      <th>dd_TSRW10</th>\n",
       "      <th>dd_MW</th>\n",
       "      <th>dd_AMW</th>\n",
       "      <th>dd_WPath</th>\n",
       "      <th>dd_WPol</th>\n",
       "      <th>dd_Zagreb1</th>\n",
       "      <th>dd_Zagreb2</th>\n",
       "      <th>dd_mZagreb1</th>\n",
       "      <th>dd_mZagreb2</th>\n",
       "      <th>_merge</th>\n",
       "    </tr>\n",
       "  </thead>\n",
       "  <tbody>\n",
       "    <tr>\n",
       "      <th>2755</th>\n",
       "      <td>269878~174-B</td>\n",
       "      <td>269878</td>\n",
       "      <td>174-B</td>\n",
       "      <td>PN3</td>\n",
       "      <td>NaN</td>\n",
       "      <td>Skin</td>\n",
       "      <td>Merkel cell tumor</td>\n",
       "      <td>skin</td>\n",
       "      <td>skin other</td>\n",
       "      <td>nan</td>\n",
       "      <td>...</td>\n",
       "      <td>102.40372</td>\n",
       "      <td>853.33093</td>\n",
       "      <td>7.551601</td>\n",
       "      <td>14767.0</td>\n",
       "      <td>129.0</td>\n",
       "      <td>346.0</td>\n",
       "      <td>429.0</td>\n",
       "      <td>23.36111</td>\n",
       "      <td>13.215278</td>\n",
       "      <td>right_only</td>\n",
       "    </tr>\n",
       "  </tbody>\n",
       "</table>\n",
       "<p>1 rows × 2608 columns</p>\n",
       "</div>"
      ],
      "text/plain": [
       "             model patient_id specimen_id sample_id  image_id csite_src  \\\n",
       "2755  269878~174-B     269878       174-B       PN3       NaN      Skin   \n",
       "\n",
       "              ctype_src csite       ctype stage_or_grade  ...  dd_TSRW10  \\\n",
       "2755  Merkel cell tumor  skin  skin other            nan  ...  102.40372   \n",
       "\n",
       "          dd_MW    dd_AMW  dd_WPath  dd_WPol  dd_Zagreb1  dd_Zagreb2  \\\n",
       "2755  853.33093  7.551601   14767.0    129.0       346.0       429.0   \n",
       "\n",
       "      dd_mZagreb1  dd_mZagreb2      _merge  \n",
       "2755     23.36111    13.215278  right_only  \n",
       "\n",
       "[1 rows x 2608 columns]"
      ]
     },
     "execution_count": 29,
     "metadata": {},
     "output_type": "execute_result"
    }
   ],
   "source": [
    "miss_r[miss_r.Response==1]"
   ]
  },
  {
   "cell_type": "code",
   "execution_count": null,
   "metadata": {},
   "outputs": [],
   "source": []
  },
  {
   "cell_type": "code",
   "execution_count": null,
   "metadata": {},
   "outputs": [],
   "source": []
  }
 ],
 "metadata": {
  "kernelspec": {
   "display_name": "Python 3",
   "language": "python",
   "name": "python3"
  },
  "language_info": {
   "codemirror_mode": {
    "name": "ipython",
    "version": 3
   },
   "file_extension": ".py",
   "mimetype": "text/x-python",
   "name": "python",
   "nbconvert_exporter": "python",
   "pygments_lexer": "ipython3",
   "version": "3.7.9"
  }
 },
 "nbformat": 4,
 "nbformat_minor": 4
}
