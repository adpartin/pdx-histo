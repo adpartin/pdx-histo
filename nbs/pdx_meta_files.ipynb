{
 "cells": [
  {
   "cell_type": "code",
   "execution_count": 70,
   "metadata": {},
   "outputs": [
    {
     "name": "stdout",
     "output_type": "stream",
     "text": [
      "The autoreload extension is already loaded. To reload it, use:\n",
      "  %reload_ext autoreload\n",
      "/vol/ml/apartin/projects/pdx-histo/nbs\n"
     ]
    }
   ],
   "source": [
    "%load_ext autoreload\n",
    "%autoreload 2\n",
    "%matplotlib inline\n",
    "\n",
    "import os\n",
    "import sys\n",
    "\n",
    "from pathlib import Path\n",
    "import pandas as pd\n",
    "import numpy as np\n",
    "\n",
    "fdir = Path.cwd()\n",
    "print(fdir)\n",
    "sys.path.append(str(fdir/'../src'))\n",
    "from config import cfg\n",
    "\n",
    "# from build_df import load_rna\n",
    "# from merge_meta_files import load_crossref, load_pdx_meta\n",
    "import load_data\n",
    "from load_data import load_crossref, load_pdx_meta, load_pdx_meta2, load_pdx_meta_jc, load_rna, PDX_SAMPLE_COLS\n",
    "from tfrecords import original_tfr_names"
   ]
  },
  {
   "cell_type": "markdown",
   "metadata": {},
   "source": [
    "## Cref"
   ]
  },
  {
   "cell_type": "code",
   "execution_count": 2,
   "metadata": {},
   "outputs": [
    {
     "data": {
      "text/plain": [
       "593"
      ]
     },
     "execution_count": 2,
     "metadata": {},
     "output_type": "execute_result"
    }
   ],
   "source": [
    "cref = load_crossref(drop_bad_slides=False)\n",
    "meta_slides = set(cref.image_id.values.tolist())\n",
    "len(meta_slides)"
   ]
  },
  {
   "cell_type": "code",
   "execution_count": 3,
   "metadata": {},
   "outputs": [
    {
     "data": {
      "text/plain": [
       "596"
      ]
     },
     "execution_count": 3,
     "metadata": {},
     "output_type": "execute_result"
    }
   ],
   "source": [
    "svs_slides = set([s.name.split('.svs')[0] for s in cfg.SLIDES_DIR.glob('*.svs')])\n",
    "len(svs_slides)"
   ]
  },
  {
   "cell_type": "code",
   "execution_count": 4,
   "metadata": {},
   "outputs": [
    {
     "name": "stdout",
     "output_type": "stream",
     "text": [
      "SVS slides that are present in the folder but not in the 'Image ID' column: {'13504', '11008', '83741'}\n",
      "Slide ids that are in the 'Image ID' column but not present in the folder:  set()\n"
     ]
    }
   ],
   "source": [
    "print(\"SVS slides that are present in the folder but not in the 'Image ID' \" \\\n",
    "      \"column: {}\".format(svs_slides.difference(meta_slides)))\n",
    "print(\"Slide ids that are in the 'Image ID' column but not present in the \" \\\n",
    "      \"folder:  {}\".format(meta_slides.difference(svs_slides)))"
   ]
  },
  {
   "cell_type": "code",
   "execution_count": 5,
   "metadata": {},
   "outputs": [],
   "source": [
    "miss1 = svs_slides.difference(meta_slides)"
   ]
  },
  {
   "cell_type": "code",
   "execution_count": 6,
   "metadata": {},
   "outputs": [
    {
     "name": "stdout",
     "output_type": "stream",
     "text": [
      "A total of 590 original tfrecords.\n"
     ]
    },
    {
     "data": {
      "text/plain": [
       "590"
      ]
     },
     "execution_count": 6,
     "metadata": {},
     "output_type": "execute_result"
    }
   ],
   "source": [
    "tfrecords = original_tfr_names(label='299px_302um')\n",
    "len(tfrecords)"
   ]
  },
  {
   "cell_type": "code",
   "execution_count": 7,
   "metadata": {},
   "outputs": [
    {
     "data": {
      "text/plain": [
       "{'11008', '13504', '83741'}"
      ]
     },
     "execution_count": 7,
     "metadata": {},
     "output_type": "execute_result"
    }
   ],
   "source": [
    "set(tfrecords).intersection(miss1)"
   ]
  },
  {
   "cell_type": "code",
   "execution_count": null,
   "metadata": {},
   "outputs": [],
   "source": []
  },
  {
   "cell_type": "markdown",
   "metadata": {},
   "source": [
    "### Judith"
   ]
  },
  {
   "cell_type": "code",
   "execution_count": 8,
   "metadata": {},
   "outputs": [
    {
     "name": "stdout",
     "output_type": "stream",
     "text": [
      "(1198, 8)\n"
     ]
    },
    {
     "data": {
      "text/html": [
       "<div>\n",
       "<style scoped>\n",
       "    .dataframe tbody tr th:only-of-type {\n",
       "        vertical-align: middle;\n",
       "    }\n",
       "\n",
       "    .dataframe tbody tr th {\n",
       "        vertical-align: top;\n",
       "    }\n",
       "\n",
       "    .dataframe thead th {\n",
       "        text-align: right;\n",
       "    }\n",
       "</style>\n",
       "<table border=\"1\" class=\"dataframe\">\n",
       "  <thead>\n",
       "    <tr style=\"text-align: right;\">\n",
       "      <th></th>\n",
       "      <th>Sample</th>\n",
       "      <th>patient_id</th>\n",
       "      <th>specimen_id</th>\n",
       "      <th>sample_id</th>\n",
       "      <th>csite_src</th>\n",
       "      <th>ctype_src</th>\n",
       "      <th>csite</th>\n",
       "      <th>ctype</th>\n",
       "    </tr>\n",
       "  </thead>\n",
       "  <tbody>\n",
       "    <tr>\n",
       "      <th>0</th>\n",
       "      <td>114434~197-R~A35YC3</td>\n",
       "      <td>114434</td>\n",
       "      <td>197-R</td>\n",
       "      <td>A35YC3</td>\n",
       "      <td>Musculoskeletal</td>\n",
       "      <td>Non-Rhabdo. soft tissue sarcoma</td>\n",
       "      <td>musculoskeletal</td>\n",
       "      <td>sarcoma/mesothelioma</td>\n",
       "    </tr>\n",
       "    <tr>\n",
       "      <th>1</th>\n",
       "      <td>114434~197-R~A36YC9</td>\n",
       "      <td>114434</td>\n",
       "      <td>197-R</td>\n",
       "      <td>A36YC9</td>\n",
       "      <td>Musculoskeletal</td>\n",
       "      <td>Non-Rhabdo. soft tissue sarcoma</td>\n",
       "      <td>musculoskeletal</td>\n",
       "      <td>sarcoma/mesothelioma</td>\n",
       "    </tr>\n",
       "  </tbody>\n",
       "</table>\n",
       "</div>"
      ],
      "text/plain": [
       "                Sample patient_id specimen_id sample_id        csite_src  \\\n",
       "0  114434~197-R~A35YC3     114434       197-R    A35YC3  Musculoskeletal   \n",
       "1  114434~197-R~A36YC9     114434       197-R    A36YC9  Musculoskeletal   \n",
       "\n",
       "                         ctype_src            csite                 ctype  \n",
       "0  Non-Rhabdo. soft tissue sarcoma  musculoskeletal  sarcoma/mesothelioma  \n",
       "1  Non-Rhabdo. soft tissue sarcoma  musculoskeletal  sarcoma/mesothelioma  "
      ]
     },
     "execution_count": 8,
     "metadata": {},
     "output_type": "execute_result"
    }
   ],
   "source": [
    "jj = load_pdx_meta_jc()\n",
    "print(jj.shape)\n",
    "jj[:2]"
   ]
  },
  {
   "cell_type": "markdown",
   "metadata": {},
   "source": [
    "### Yitan"
   ]
  },
  {
   "cell_type": "code",
   "execution_count": 9,
   "metadata": {},
   "outputs": [
    {
     "name": "stdout",
     "output_type": "stream",
     "text": [
      "(97, 7)\n"
     ]
    },
    {
     "data": {
      "text/html": [
       "<div>\n",
       "<style scoped>\n",
       "    .dataframe tbody tr th:only-of-type {\n",
       "        vertical-align: middle;\n",
       "    }\n",
       "\n",
       "    .dataframe tbody tr th {\n",
       "        vertical-align: top;\n",
       "    }\n",
       "\n",
       "    .dataframe thead th {\n",
       "        text-align: right;\n",
       "    }\n",
       "</style>\n",
       "<table border=\"1\" class=\"dataframe\">\n",
       "  <thead>\n",
       "    <tr style=\"text-align: right;\">\n",
       "      <th></th>\n",
       "      <th>patient_id</th>\n",
       "      <th>specimen_id</th>\n",
       "      <th>csite_src</th>\n",
       "      <th>ctype_src</th>\n",
       "      <th>csite</th>\n",
       "      <th>ctype</th>\n",
       "      <th>stage_or_grade</th>\n",
       "    </tr>\n",
       "  </thead>\n",
       "  <tbody>\n",
       "    <tr>\n",
       "      <th>0</th>\n",
       "      <td>114434</td>\n",
       "      <td>197-R</td>\n",
       "      <td>Musculoskeletal</td>\n",
       "      <td>Non-Rhabdo. soft tissue sarcoma</td>\n",
       "      <td>musculoskeletal</td>\n",
       "      <td>sarcoma/mesothelioma</td>\n",
       "      <td>grade 3</td>\n",
       "    </tr>\n",
       "    <tr>\n",
       "      <th>1</th>\n",
       "      <td>114551</td>\n",
       "      <td>080-T</td>\n",
       "      <td>Head and Neck</td>\n",
       "      <td>Salivary gland cancer</td>\n",
       "      <td>head &amp; neck</td>\n",
       "      <td>head &amp; neck</td>\n",
       "      <td>grade 2</td>\n",
       "    </tr>\n",
       "  </tbody>\n",
       "</table>\n",
       "</div>"
      ],
      "text/plain": [
       "  patient_id specimen_id        csite_src                        ctype_src  \\\n",
       "0     114434       197-R  Musculoskeletal  Non-Rhabdo. soft tissue sarcoma   \n",
       "1     114551       080-T    Head and Neck            Salivary gland cancer   \n",
       "\n",
       "             csite                 ctype stage_or_grade  \n",
       "0  musculoskeletal  sarcoma/mesothelioma        grade 3  \n",
       "1      head & neck           head & neck        grade 2  "
      ]
     },
     "execution_count": 9,
     "metadata": {},
     "output_type": "execute_result"
    }
   ],
   "source": [
    "yy = load_pdx_meta()\n",
    "print(yy.shape)\n",
    "yy[:2]"
   ]
  },
  {
   "cell_type": "markdown",
   "metadata": {},
   "source": [
    "### Cross-ref"
   ]
  },
  {
   "cell_type": "code",
   "execution_count": 10,
   "metadata": {},
   "outputs": [
    {
     "name": "stdout",
     "output_type": "stream",
     "text": [
      "(593, 5)\n"
     ]
    },
    {
     "data": {
      "text/html": [
       "<div>\n",
       "<style scoped>\n",
       "    .dataframe tbody tr th:only-of-type {\n",
       "        vertical-align: middle;\n",
       "    }\n",
       "\n",
       "    .dataframe tbody tr th {\n",
       "        vertical-align: top;\n",
       "    }\n",
       "\n",
       "    .dataframe thead th {\n",
       "        text-align: right;\n",
       "    }\n",
       "</style>\n",
       "<table border=\"1\" class=\"dataframe\">\n",
       "  <thead>\n",
       "    <tr style=\"text-align: right;\">\n",
       "      <th></th>\n",
       "      <th>model</th>\n",
       "      <th>patient_id</th>\n",
       "      <th>specimen_id</th>\n",
       "      <th>sample_id</th>\n",
       "      <th>image_id</th>\n",
       "    </tr>\n",
       "  </thead>\n",
       "  <tbody>\n",
       "    <tr>\n",
       "      <th>0</th>\n",
       "      <td>114434~197-R</td>\n",
       "      <td>114434</td>\n",
       "      <td>197-R</td>\n",
       "      <td>A35YC3</td>\n",
       "      <td>27166</td>\n",
       "    </tr>\n",
       "    <tr>\n",
       "      <th>1</th>\n",
       "      <td>114434~197-R</td>\n",
       "      <td>114434</td>\n",
       "      <td>197-R</td>\n",
       "      <td>A36YC9</td>\n",
       "      <td>25127</td>\n",
       "    </tr>\n",
       "  </tbody>\n",
       "</table>\n",
       "</div>"
      ],
      "text/plain": [
       "          model patient_id specimen_id sample_id image_id\n",
       "0  114434~197-R     114434       197-R    A35YC3    27166\n",
       "1  114434~197-R     114434       197-R    A36YC9    25127"
      ]
     },
     "execution_count": 10,
     "metadata": {},
     "output_type": "execute_result"
    }
   ],
   "source": [
    "cref = load_crossref(drop_bad_slides=False)\n",
    "print(cref.shape)\n",
    "cref[:2]"
   ]
  },
  {
   "cell_type": "code",
   "execution_count": null,
   "metadata": {},
   "outputs": [],
   "source": []
  },
  {
   "cell_type": "markdown",
   "metadata": {},
   "source": [
    "### Merge slides meta (cref) and PDX meta"
   ]
  },
  {
   "cell_type": "code",
   "execution_count": 9,
   "metadata": {},
   "outputs": [
    {
     "name": "stdout",
     "output_type": "stream",
     "text": [
      "(593, 5)\n",
      "(97, 7)\n"
     ]
    },
    {
     "data": {
      "text/html": [
       "<div>\n",
       "<style scoped>\n",
       "    .dataframe tbody tr th:only-of-type {\n",
       "        vertical-align: middle;\n",
       "    }\n",
       "\n",
       "    .dataframe tbody tr th {\n",
       "        vertical-align: top;\n",
       "    }\n",
       "\n",
       "    .dataframe thead th {\n",
       "        text-align: right;\n",
       "    }\n",
       "</style>\n",
       "<table border=\"1\" class=\"dataframe\">\n",
       "  <thead>\n",
       "    <tr style=\"text-align: right;\">\n",
       "      <th></th>\n",
       "      <th>model</th>\n",
       "      <th>patient_id</th>\n",
       "      <th>specimen_id</th>\n",
       "      <th>sample_id</th>\n",
       "      <th>image_id</th>\n",
       "    </tr>\n",
       "  </thead>\n",
       "  <tbody>\n",
       "    <tr>\n",
       "      <th>0</th>\n",
       "      <td>114434~197-R</td>\n",
       "      <td>114434</td>\n",
       "      <td>197-R</td>\n",
       "      <td>A35YC3</td>\n",
       "      <td>27166</td>\n",
       "    </tr>\n",
       "    <tr>\n",
       "      <th>1</th>\n",
       "      <td>114434~197-R</td>\n",
       "      <td>114434</td>\n",
       "      <td>197-R</td>\n",
       "      <td>A36YC9</td>\n",
       "      <td>25127</td>\n",
       "    </tr>\n",
       "  </tbody>\n",
       "</table>\n",
       "</div>"
      ],
      "text/plain": [
       "          model patient_id specimen_id sample_id  image_id\n",
       "0  114434~197-R     114434       197-R    A35YC3     27166\n",
       "1  114434~197-R     114434       197-R    A36YC9     25127"
      ]
     },
     "metadata": {},
     "output_type": "display_data"
    },
    {
     "data": {
      "text/html": [
       "<div>\n",
       "<style scoped>\n",
       "    .dataframe tbody tr th:only-of-type {\n",
       "        vertical-align: middle;\n",
       "    }\n",
       "\n",
       "    .dataframe tbody tr th {\n",
       "        vertical-align: top;\n",
       "    }\n",
       "\n",
       "    .dataframe thead th {\n",
       "        text-align: right;\n",
       "    }\n",
       "</style>\n",
       "<table border=\"1\" class=\"dataframe\">\n",
       "  <thead>\n",
       "    <tr style=\"text-align: right;\">\n",
       "      <th></th>\n",
       "      <th>patient_id</th>\n",
       "      <th>specimen_id</th>\n",
       "      <th>csite_src</th>\n",
       "      <th>ctype_src</th>\n",
       "      <th>csite</th>\n",
       "      <th>ctype</th>\n",
       "      <th>stage_or_grade</th>\n",
       "    </tr>\n",
       "  </thead>\n",
       "  <tbody>\n",
       "    <tr>\n",
       "      <th>0</th>\n",
       "      <td>114434</td>\n",
       "      <td>197-R</td>\n",
       "      <td>Musculoskeletal</td>\n",
       "      <td>Non-Rhabdo. soft tissue sarcoma</td>\n",
       "      <td>musculoskeletal</td>\n",
       "      <td>sarcoma/mesothelioma</td>\n",
       "      <td>grade 3</td>\n",
       "    </tr>\n",
       "    <tr>\n",
       "      <th>1</th>\n",
       "      <td>114551</td>\n",
       "      <td>080-T</td>\n",
       "      <td>Head and Neck</td>\n",
       "      <td>Salivary gland cancer</td>\n",
       "      <td>head &amp; neck</td>\n",
       "      <td>head &amp; neck</td>\n",
       "      <td>grade 2</td>\n",
       "    </tr>\n",
       "  </tbody>\n",
       "</table>\n",
       "</div>"
      ],
      "text/plain": [
       "  patient_id specimen_id        csite_src                        ctype_src  \\\n",
       "0     114434       197-R  Musculoskeletal  Non-Rhabdo. soft tissue sarcoma   \n",
       "1     114551       080-T    Head and Neck            Salivary gland cancer   \n",
       "\n",
       "             csite                 ctype stage_or_grade  \n",
       "0  musculoskeletal  sarcoma/mesothelioma        grade 3  \n",
       "1      head & neck           head & neck        grade 2  "
      ]
     },
     "metadata": {},
     "output_type": "display_data"
    }
   ],
   "source": [
    "print(cref.shape)\n",
    "print(yy.shape)\n",
    "display(cref[:2])\n",
    "display(yy[:2])"
   ]
  },
  {
   "cell_type": "code",
   "execution_count": 10,
   "metadata": {},
   "outputs": [
    {
     "name": "stdout",
     "output_type": "stream",
     "text": [
      "(584, 5)\n"
     ]
    },
    {
     "data": {
      "text/html": [
       "<div>\n",
       "<style scoped>\n",
       "    .dataframe tbody tr th:only-of-type {\n",
       "        vertical-align: middle;\n",
       "    }\n",
       "\n",
       "    .dataframe tbody tr th {\n",
       "        vertical-align: top;\n",
       "    }\n",
       "\n",
       "    .dataframe thead th {\n",
       "        text-align: right;\n",
       "    }\n",
       "</style>\n",
       "<table border=\"1\" class=\"dataframe\">\n",
       "  <thead>\n",
       "    <tr style=\"text-align: right;\">\n",
       "      <th></th>\n",
       "      <th>model</th>\n",
       "      <th>patient_id</th>\n",
       "      <th>specimen_id</th>\n",
       "      <th>sample_id</th>\n",
       "      <th>image_id</th>\n",
       "    </tr>\n",
       "  </thead>\n",
       "  <tbody>\n",
       "    <tr>\n",
       "      <th>0</th>\n",
       "      <td>114434~197-R</td>\n",
       "      <td>114434</td>\n",
       "      <td>197-R</td>\n",
       "      <td>A35YC3</td>\n",
       "      <td>27166</td>\n",
       "    </tr>\n",
       "    <tr>\n",
       "      <th>1</th>\n",
       "      <td>114434~197-R</td>\n",
       "      <td>114434</td>\n",
       "      <td>197-R</td>\n",
       "      <td>A36YC9</td>\n",
       "      <td>25127</td>\n",
       "    </tr>\n",
       "  </tbody>\n",
       "</table>\n",
       "</div>"
      ],
      "text/plain": [
       "          model patient_id specimen_id sample_id  image_id\n",
       "0  114434~197-R     114434       197-R    A35YC3     27166\n",
       "1  114434~197-R     114434       197-R    A36YC9     25127"
      ]
     },
     "metadata": {},
     "output_type": "display_data"
    }
   ],
   "source": [
    "# A few samples are missing\n",
    "mrg_cols = ['patient_id', 'specimen_id']\n",
    "m = cref.merge(yy[mrg_cols], on=mrg_cols, how='inner')\n",
    "print(m.shape)\n",
    "display(m[:2])"
   ]
  },
  {
   "cell_type": "code",
   "execution_count": 11,
   "metadata": {},
   "outputs": [
    {
     "name": "stdout",
     "output_type": "stream",
     "text": [
      "Outer merge (593, 11)\n",
      "both          584\n",
      "left_only       9\n",
      "right_only      0\n",
      "Name: _merge, dtype: int64\n",
      "\n",
      "Missing items (9, 11)\n"
     ]
    },
    {
     "data": {
      "text/html": [
       "<div>\n",
       "<style scoped>\n",
       "    .dataframe tbody tr th:only-of-type {\n",
       "        vertical-align: middle;\n",
       "    }\n",
       "\n",
       "    .dataframe tbody tr th {\n",
       "        vertical-align: top;\n",
       "    }\n",
       "\n",
       "    .dataframe thead th {\n",
       "        text-align: right;\n",
       "    }\n",
       "</style>\n",
       "<table border=\"1\" class=\"dataframe\">\n",
       "  <thead>\n",
       "    <tr style=\"text-align: right;\">\n",
       "      <th></th>\n",
       "      <th>model</th>\n",
       "      <th>patient_id</th>\n",
       "      <th>specimen_id</th>\n",
       "      <th>sample_id</th>\n",
       "      <th>image_id</th>\n",
       "      <th>csite_src</th>\n",
       "      <th>ctype_src</th>\n",
       "      <th>csite</th>\n",
       "      <th>ctype</th>\n",
       "      <th>stage_or_grade</th>\n",
       "      <th>_merge</th>\n",
       "    </tr>\n",
       "  </thead>\n",
       "  <tbody>\n",
       "    <tr>\n",
       "      <th>45</th>\n",
       "      <td>146476~266-R</td>\n",
       "      <td>146476</td>\n",
       "      <td>266-R</td>\n",
       "      <td>E19YJ0</td>\n",
       "      <td>20252</td>\n",
       "      <td>NaN</td>\n",
       "      <td>NaN</td>\n",
       "      <td>NaN</td>\n",
       "      <td>NaN</td>\n",
       "      <td>NaN</td>\n",
       "      <td>left_only</td>\n",
       "    </tr>\n",
       "    <tr>\n",
       "      <th>46</th>\n",
       "      <td>146476~266-R</td>\n",
       "      <td>146476</td>\n",
       "      <td>266-R</td>\n",
       "      <td>E19YJ1</td>\n",
       "      <td>20307</td>\n",
       "      <td>NaN</td>\n",
       "      <td>NaN</td>\n",
       "      <td>NaN</td>\n",
       "      <td>NaN</td>\n",
       "      <td>NaN</td>\n",
       "      <td>left_only</td>\n",
       "    </tr>\n",
       "    <tr>\n",
       "      <th>47</th>\n",
       "      <td>146476~266-R</td>\n",
       "      <td>146476</td>\n",
       "      <td>266-R</td>\n",
       "      <td>E20F07</td>\n",
       "      <td>21545</td>\n",
       "      <td>NaN</td>\n",
       "      <td>NaN</td>\n",
       "      <td>NaN</td>\n",
       "      <td>NaN</td>\n",
       "      <td>NaN</td>\n",
       "      <td>left_only</td>\n",
       "    </tr>\n",
       "    <tr>\n",
       "      <th>48</th>\n",
       "      <td>146476~266-R</td>\n",
       "      <td>146476</td>\n",
       "      <td>266-R</td>\n",
       "      <td>E20F08F67</td>\n",
       "      <td>20976</td>\n",
       "      <td>NaN</td>\n",
       "      <td>NaN</td>\n",
       "      <td>NaN</td>\n",
       "      <td>NaN</td>\n",
       "      <td>NaN</td>\n",
       "      <td>left_only</td>\n",
       "    </tr>\n",
       "    <tr>\n",
       "      <th>49</th>\n",
       "      <td>146476~266-R</td>\n",
       "      <td>146476</td>\n",
       "      <td>266-R</td>\n",
       "      <td>ORIGINATOR</td>\n",
       "      <td>13946</td>\n",
       "      <td>NaN</td>\n",
       "      <td>NaN</td>\n",
       "      <td>NaN</td>\n",
       "      <td>NaN</td>\n",
       "      <td>NaN</td>\n",
       "      <td>left_only</td>\n",
       "    </tr>\n",
       "    <tr>\n",
       "      <th>148</th>\n",
       "      <td>237351~077-R</td>\n",
       "      <td>237351</td>\n",
       "      <td>077-R</td>\n",
       "      <td>AL-IR0</td>\n",
       "      <td>20729</td>\n",
       "      <td>NaN</td>\n",
       "      <td>NaN</td>\n",
       "      <td>NaN</td>\n",
       "      <td>NaN</td>\n",
       "      <td>NaN</td>\n",
       "      <td>left_only</td>\n",
       "    </tr>\n",
       "    <tr>\n",
       "      <th>149</th>\n",
       "      <td>237351~077-R</td>\n",
       "      <td>237351</td>\n",
       "      <td>077-R</td>\n",
       "      <td>AL-IR0_AL-M977</td>\n",
       "      <td>20467</td>\n",
       "      <td>NaN</td>\n",
       "      <td>NaN</td>\n",
       "      <td>NaN</td>\n",
       "      <td>NaN</td>\n",
       "      <td>NaN</td>\n",
       "      <td>left_only</td>\n",
       "    </tr>\n",
       "    <tr>\n",
       "      <th>150</th>\n",
       "      <td>237351~077-R</td>\n",
       "      <td>237351</td>\n",
       "      <td>077-R</td>\n",
       "      <td>AL-IR0_AL-M977_AL-M302</td>\n",
       "      <td>23429</td>\n",
       "      <td>NaN</td>\n",
       "      <td>NaN</td>\n",
       "      <td>NaN</td>\n",
       "      <td>NaN</td>\n",
       "      <td>NaN</td>\n",
       "      <td>left_only</td>\n",
       "    </tr>\n",
       "    <tr>\n",
       "      <th>151</th>\n",
       "      <td>237351~077-R</td>\n",
       "      <td>237351</td>\n",
       "      <td>077-R</td>\n",
       "      <td>AL-IR0_AL-M977_AL-M303_AL-ER0</td>\n",
       "      <td>26305</td>\n",
       "      <td>NaN</td>\n",
       "      <td>NaN</td>\n",
       "      <td>NaN</td>\n",
       "      <td>NaN</td>\n",
       "      <td>NaN</td>\n",
       "      <td>left_only</td>\n",
       "    </tr>\n",
       "  </tbody>\n",
       "</table>\n",
       "</div>"
      ],
      "text/plain": [
       "            model patient_id specimen_id                      sample_id  \\\n",
       "45   146476~266-R     146476       266-R                         E19YJ0   \n",
       "46   146476~266-R     146476       266-R                         E19YJ1   \n",
       "47   146476~266-R     146476       266-R                         E20F07   \n",
       "48   146476~266-R     146476       266-R                      E20F08F67   \n",
       "49   146476~266-R     146476       266-R                     ORIGINATOR   \n",
       "148  237351~077-R     237351       077-R                         AL-IR0   \n",
       "149  237351~077-R     237351       077-R                 AL-IR0_AL-M977   \n",
       "150  237351~077-R     237351       077-R         AL-IR0_AL-M977_AL-M302   \n",
       "151  237351~077-R     237351       077-R  AL-IR0_AL-M977_AL-M303_AL-ER0   \n",
       "\n",
       "     image_id csite_src ctype_src csite ctype stage_or_grade     _merge  \n",
       "45      20252       NaN       NaN   NaN   NaN            NaN  left_only  \n",
       "46      20307       NaN       NaN   NaN   NaN            NaN  left_only  \n",
       "47      21545       NaN       NaN   NaN   NaN            NaN  left_only  \n",
       "48      20976       NaN       NaN   NaN   NaN            NaN  left_only  \n",
       "49      13946       NaN       NaN   NaN   NaN            NaN  left_only  \n",
       "148     20729       NaN       NaN   NaN   NaN            NaN  left_only  \n",
       "149     20467       NaN       NaN   NaN   NaN            NaN  left_only  \n",
       "150     23429       NaN       NaN   NaN   NaN            NaN  left_only  \n",
       "151     26305       NaN       NaN   NaN   NaN            NaN  left_only  "
      ]
     },
     "metadata": {},
     "output_type": "display_data"
    }
   ],
   "source": [
    "# Explore (merge and identify from which df the items are coming from)\n",
    "# https://kanoki.org/2019/07/04/pandas-difference-between-two-dataframes/\n",
    "mrg_outer = cref.merge(yy, on=mrg_cols, how='outer', indicator=True)\n",
    "print('Outer merge', mrg_outer.shape)\n",
    "print(mrg_outer['_merge'].value_counts())\n",
    "\n",
    "miss = mrg_outer.loc[lambda x: x['_merge']=='left_only']\n",
    "miss = miss.sort_values(mrg_cols, ascending=True)\n",
    "print('\\nMissing items', miss.shape)\n",
    "display(miss)"
   ]
  },
  {
   "cell_type": "code",
   "execution_count": 12,
   "metadata": {},
   "outputs": [
    {
     "name": "stdout",
     "output_type": "stream",
     "text": [
      "['146476' '237351']\n"
     ]
    },
    {
     "data": {
      "text/html": [
       "<div>\n",
       "<style scoped>\n",
       "    .dataframe tbody tr th:only-of-type {\n",
       "        vertical-align: middle;\n",
       "    }\n",
       "\n",
       "    .dataframe tbody tr th {\n",
       "        vertical-align: top;\n",
       "    }\n",
       "\n",
       "    .dataframe thead th {\n",
       "        text-align: right;\n",
       "    }\n",
       "</style>\n",
       "<table border=\"1\" class=\"dataframe\">\n",
       "  <thead>\n",
       "    <tr style=\"text-align: right;\">\n",
       "      <th></th>\n",
       "      <th>patient_id</th>\n",
       "      <th>specimen_id</th>\n",
       "      <th>csite_src</th>\n",
       "      <th>ctype_src</th>\n",
       "      <th>csite</th>\n",
       "      <th>ctype</th>\n",
       "    </tr>\n",
       "  </thead>\n",
       "  <tbody>\n",
       "    <tr>\n",
       "      <th>78</th>\n",
       "      <td>146476</td>\n",
       "      <td>266-R</td>\n",
       "      <td>Genitourinary</td>\n",
       "      <td>Urothelial/bladder cancer, NOS</td>\n",
       "      <td>bladder/urothelial</td>\n",
       "      <td>bladder/urothelial</td>\n",
       "    </tr>\n",
       "    <tr>\n",
       "      <th>210</th>\n",
       "      <td>237351</td>\n",
       "      <td>077-R</td>\n",
       "      <td>Musculoskeletal</td>\n",
       "      <td>Ewing sarcoma/Peripheral PNET</td>\n",
       "      <td>musculoskeletal</td>\n",
       "      <td>sarcoma/mesothelioma</td>\n",
       "    </tr>\n",
       "  </tbody>\n",
       "</table>\n",
       "</div>"
      ],
      "text/plain": [
       "    patient_id specimen_id        csite_src                       ctype_src  \\\n",
       "78      146476       266-R    Genitourinary  Urothelial/bladder cancer, NOS   \n",
       "210     237351       077-R  Musculoskeletal   Ewing sarcoma/Peripheral PNET   \n",
       "\n",
       "                  csite                 ctype  \n",
       "78   bladder/urothelial    bladder/urothelial  \n",
       "210     musculoskeletal  sarcoma/mesothelioma  "
      ]
     },
     "execution_count": 12,
     "metadata": {},
     "output_type": "execute_result"
    }
   ],
   "source": [
    "print(miss.patient_id.unique())\n",
    "miss_found = jj[ jj.patient_id.isin(miss.patient_id.unique()) ]\n",
    "miss_found = miss_found.drop(columns=['Sample', 'sample_id'])\n",
    "miss_found = miss_found.drop_duplicates()\n",
    "miss_found"
   ]
  },
  {
   "cell_type": "code",
   "execution_count": 13,
   "metadata": {},
   "outputs": [
    {
     "name": "stdout",
     "output_type": "stream",
     "text": [
      "(99, 7)\n"
     ]
    }
   ],
   "source": [
    "# Add the missing samples\n",
    "yy_new = pd.concat([yy, miss_found], axis=0)\n",
    "yy_new = yy_new.reset_index(drop=True)\n",
    "print(yy_new.shape)"
   ]
  },
  {
   "cell_type": "code",
   "execution_count": 14,
   "metadata": {},
   "outputs": [
    {
     "name": "stdout",
     "output_type": "stream",
     "text": [
      "(593, 5)\n"
     ]
    },
    {
     "data": {
      "text/html": [
       "<div>\n",
       "<style scoped>\n",
       "    .dataframe tbody tr th:only-of-type {\n",
       "        vertical-align: middle;\n",
       "    }\n",
       "\n",
       "    .dataframe tbody tr th {\n",
       "        vertical-align: top;\n",
       "    }\n",
       "\n",
       "    .dataframe thead th {\n",
       "        text-align: right;\n",
       "    }\n",
       "</style>\n",
       "<table border=\"1\" class=\"dataframe\">\n",
       "  <thead>\n",
       "    <tr style=\"text-align: right;\">\n",
       "      <th></th>\n",
       "      <th>model</th>\n",
       "      <th>patient_id</th>\n",
       "      <th>specimen_id</th>\n",
       "      <th>sample_id</th>\n",
       "      <th>image_id</th>\n",
       "    </tr>\n",
       "  </thead>\n",
       "  <tbody>\n",
       "    <tr>\n",
       "      <th>0</th>\n",
       "      <td>114434~197-R</td>\n",
       "      <td>114434</td>\n",
       "      <td>197-R</td>\n",
       "      <td>A35YC3</td>\n",
       "      <td>27166</td>\n",
       "    </tr>\n",
       "    <tr>\n",
       "      <th>1</th>\n",
       "      <td>114434~197-R</td>\n",
       "      <td>114434</td>\n",
       "      <td>197-R</td>\n",
       "      <td>A36YC9</td>\n",
       "      <td>25127</td>\n",
       "    </tr>\n",
       "  </tbody>\n",
       "</table>\n",
       "</div>"
      ],
      "text/plain": [
       "          model patient_id specimen_id sample_id  image_id\n",
       "0  114434~197-R     114434       197-R    A35YC3     27166\n",
       "1  114434~197-R     114434       197-R    A36YC9     25127"
      ]
     },
     "metadata": {},
     "output_type": "display_data"
    }
   ],
   "source": [
    "# Now mege with the corrected file\n",
    "mrg_cols = ['patient_id', 'specimen_id']\n",
    "m = cref.merge(yy_new[mrg_cols], on=mrg_cols, how='inner')\n",
    "print(m.shape)\n",
    "display(m[:2])"
   ]
  },
  {
   "cell_type": "code",
   "execution_count": 15,
   "metadata": {},
   "outputs": [],
   "source": [
    "# Save into file\n",
    "yy_new.to_csv('../data/meta/PDX_Meta_Information2.csv', index=False)"
   ]
  },
  {
   "cell_type": "code",
   "execution_count": null,
   "metadata": {},
   "outputs": [],
   "source": []
  },
  {
   "cell_type": "code",
   "execution_count": null,
   "metadata": {},
   "outputs": [],
   "source": []
  },
  {
   "cell_type": "markdown",
   "metadata": {},
   "source": [
    "# Merge for drug response\n",
    "We want to find drug response samples (i.e. treatments) that are responders (Response=1) that don't have histology slides, BUT have RNA-Seq. <br>\n",
    "There is a drug response pair with a response value of 1 (i.e. responder) for which we don't have a histology slide."
   ]
  },
  {
   "cell_type": "code",
   "execution_count": 96,
   "metadata": {},
   "outputs": [
    {
     "name": "stdout",
     "output_type": "stream",
     "text": [
      "\n",
      "Dropped 77 duplicates.\n",
      "\n",
      "Descriptors with all NaN: 72\n",
      "Descriptors with any NaN: 854\n",
      "Drop descriptors with all NaN ...\n",
      "Drop descriptors with a single unique value (excluding NaNs) ...\n",
      "Impute NaN.\n",
      "Descriptors with any NaN: 0\n"
     ]
    }
   ],
   "source": [
    "rsp = load_data.load_rsp()\n",
    "rna = load_data.load_rna()\n",
    "dd = load_data.load_dd()\n",
    "cref = load_data.load_crossref(drop_bad_slides=False)\n",
    "pdx = load_data.load_pdx_meta2()"
   ]
  },
  {
   "cell_type": "code",
   "execution_count": 97,
   "metadata": {},
   "outputs": [
    {
     "name": "stdout",
     "output_type": "stream",
     "text": [
      "(2591, 4)\n",
      "(1727, 981)\n",
      "(2591, 984)\n"
     ]
    }
   ],
   "source": [
    "print(rsp.shape)\n",
    "print(rna.shape)\n",
    "rsp_rna = rsp.merge(rna, on='Sample', how='inner')\n",
    "print(rsp_rna.shape)"
   ]
  },
  {
   "cell_type": "code",
   "execution_count": 98,
   "metadata": {},
   "outputs": [
    {
     "name": "stdout",
     "output_type": "stream",
     "text": [
      "(2591, 984)\n",
      "(2142, 1424)\n",
      "(2591, 2408)\n"
     ]
    }
   ],
   "source": [
    "print(rsp_rna.shape)\n",
    "print(dd.shape)\n",
    "rsp_rna_dd = rsp_rna.merge(dd, left_on='Drug1', right_on='ID', how='inner').reset_index(drop=True)\n",
    "print(rsp_rna_dd.shape)"
   ]
  },
  {
   "cell_type": "code",
   "execution_count": 99,
   "metadata": {},
   "outputs": [
    {
     "name": "stdout",
     "output_type": "stream",
     "text": [
      "(99, 7)\n",
      "(2591, 2408)\n",
      "(2591, 2413)\n"
     ]
    }
   ],
   "source": [
    "print(pdx.shape)\n",
    "print(rsp_rna_dd.shape)\n",
    "rsp_rna_dd_pdx = pdx.merge(rsp_rna_dd, on=['patient_id', 'specimen_id'], how='inner')\n",
    "print(rsp_rna_dd_pdx.shape)"
   ]
  },
  {
   "cell_type": "code",
   "execution_count": 100,
   "metadata": {},
   "outputs": [
    {
     "name": "stdout",
     "output_type": "stream",
     "text": [
      "(593, 5)\n",
      "(2591, 2413)\n",
      "(2591, 2414)\n"
     ]
    }
   ],
   "source": [
    "print(cref.shape)\n",
    "print(rsp_rna_dd_pdx.shape)\n",
    "df = cref.merge(rsp_rna_dd_pdx, on=PDX_SAMPLE_COLS, how='inner')\n",
    "print(df.shape)"
   ]
  },
  {
   "cell_type": "code",
   "execution_count": 101,
   "metadata": {},
   "outputs": [
    {
     "name": "stdout",
     "output_type": "stream",
     "text": [
      "Outer merge (2774, 2415)\n",
      "both          2591\n",
      "left_only      183\n",
      "right_only       0\n",
      "Name: _merge, dtype: int64\n",
      "\n",
      "Missing right items (0, 2415)\n",
      "Missing left items  (183, 2415)\n"
     ]
    }
   ],
   "source": [
    "# Explore (merge and identify from which df the items are coming from)\n",
    "# https://kanoki.org/2019/07/04/pandas-difference-between-two-dataframes/\n",
    "mrg_outer = cref.merge(rsp_rna_dd_pdx, on=PDX_SAMPLE_COLS, how='outer', indicator=True)\n",
    "print('Outer merge', mrg_outer.shape)\n",
    "print(mrg_outer['_merge'].value_counts())\n",
    "\n",
    "miss_r = mrg_outer.loc[lambda x: x['_merge']=='right_only']\n",
    "miss_r = miss_r.sort_values(PDX_SAMPLE_COLS, ascending=True)\n",
    "print('\\nMissing right items', miss_r.shape)\n",
    "\n",
    "miss_l = mrg_outer.loc[lambda x: x['_merge']=='left_only']\n",
    "miss_l = miss_l.sort_values(PDX_SAMPLE_COLS, ascending=True)\n",
    "print('Missing left items ', miss_l.shape)"
   ]
  },
  {
   "cell_type": "code",
   "execution_count": 102,
   "metadata": {},
   "outputs": [
    {
     "name": "stdout",
     "output_type": "stream",
     "text": [
      "(17, 2414)\n"
     ]
    }
   ],
   "source": [
    "m = df[df.image_id.isin(cfg.BAD_SLIDES)]\n",
    "print(m.shape)"
   ]
  },
  {
   "cell_type": "code",
   "execution_count": 104,
   "metadata": {},
   "outputs": [
    {
     "data": {
      "text/html": [
       "<div>\n",
       "<style scoped>\n",
       "    .dataframe tbody tr th:only-of-type {\n",
       "        vertical-align: middle;\n",
       "    }\n",
       "\n",
       "    .dataframe tbody tr th {\n",
       "        vertical-align: top;\n",
       "    }\n",
       "\n",
       "    .dataframe thead th {\n",
       "        text-align: right;\n",
       "    }\n",
       "</style>\n",
       "<table border=\"1\" class=\"dataframe\">\n",
       "  <thead>\n",
       "    <tr style=\"text-align: right;\">\n",
       "      <th></th>\n",
       "      <th>model</th>\n",
       "      <th>patient_id</th>\n",
       "      <th>specimen_id</th>\n",
       "      <th>sample_id</th>\n",
       "      <th>image_id</th>\n",
       "      <th>csite_src</th>\n",
       "      <th>ctype_src</th>\n",
       "      <th>csite</th>\n",
       "      <th>ctype</th>\n",
       "      <th>stage_or_grade</th>\n",
       "      <th>...</th>\n",
       "      <th>dd_SRW10</th>\n",
       "      <th>dd_TSRW10</th>\n",
       "      <th>dd_MW</th>\n",
       "      <th>dd_AMW</th>\n",
       "      <th>dd_WPath</th>\n",
       "      <th>dd_WPol</th>\n",
       "      <th>dd_Zagreb1</th>\n",
       "      <th>dd_Zagreb2</th>\n",
       "      <th>dd_mZagreb1</th>\n",
       "      <th>dd_mZagreb2</th>\n",
       "    </tr>\n",
       "  </thead>\n",
       "  <tbody>\n",
       "    <tr>\n",
       "      <th>788</th>\n",
       "      <td>269878~174-B</td>\n",
       "      <td>269878</td>\n",
       "      <td>174-B</td>\n",
       "      <td>PN3</td>\n",
       "      <td>22232</td>\n",
       "      <td>Skin</td>\n",
       "      <td>Merkel cell tumor</td>\n",
       "      <td>skin</td>\n",
       "      <td>skin other</td>\n",
       "      <td>nan</td>\n",
       "      <td>...</td>\n",
       "      <td>11.493304</td>\n",
       "      <td>102.403717</td>\n",
       "      <td>853.330933</td>\n",
       "      <td>7.551601</td>\n",
       "      <td>14767.0</td>\n",
       "      <td>129.0</td>\n",
       "      <td>346.0</td>\n",
       "      <td>429.0</td>\n",
       "      <td>23.361111</td>\n",
       "      <td>13.215278</td>\n",
       "    </tr>\n",
       "    <tr>\n",
       "      <th>789</th>\n",
       "      <td>269878~174-B</td>\n",
       "      <td>269878</td>\n",
       "      <td>174-B</td>\n",
       "      <td>PN3</td>\n",
       "      <td>22232</td>\n",
       "      <td>Skin</td>\n",
       "      <td>Merkel cell tumor</td>\n",
       "      <td>skin</td>\n",
       "      <td>skin other</td>\n",
       "      <td>nan</td>\n",
       "      <td>...</td>\n",
       "      <td>8.806724</td>\n",
       "      <td>37.839725</td>\n",
       "      <td>130.017853</td>\n",
       "      <td>10.834822</td>\n",
       "      <td>84.0</td>\n",
       "      <td>10.0</td>\n",
       "      <td>42.0</td>\n",
       "      <td>46.0</td>\n",
       "      <td>4.083333</td>\n",
       "      <td>2.027778</td>\n",
       "    </tr>\n",
       "    <tr>\n",
       "      <th>790</th>\n",
       "      <td>269878~174-B</td>\n",
       "      <td>269878</td>\n",
       "      <td>174-B</td>\n",
       "      <td>PN3</td>\n",
       "      <td>22232</td>\n",
       "      <td>Skin</td>\n",
       "      <td>Merkel cell tumor</td>\n",
       "      <td>skin</td>\n",
       "      <td>skin other</td>\n",
       "      <td>nan</td>\n",
       "      <td>...</td>\n",
       "      <td>10.007352</td>\n",
       "      <td>66.173042</td>\n",
       "      <td>263.071777</td>\n",
       "      <td>9.071440</td>\n",
       "      <td>560.0</td>\n",
       "      <td>31.0</td>\n",
       "      <td>96.0</td>\n",
       "      <td>116.0</td>\n",
       "      <td>7.979167</td>\n",
       "      <td>3.916667</td>\n",
       "    </tr>\n",
       "    <tr>\n",
       "      <th>791</th>\n",
       "      <td>269878~174-B</td>\n",
       "      <td>269878</td>\n",
       "      <td>174-B</td>\n",
       "      <td>PN3</td>\n",
       "      <td>22232</td>\n",
       "      <td>Skin</td>\n",
       "      <td>Merkel cell tumor</td>\n",
       "      <td>skin</td>\n",
       "      <td>skin other</td>\n",
       "      <td>nan</td>\n",
       "      <td>...</td>\n",
       "      <td>11.018613</td>\n",
       "      <td>95.764595</td>\n",
       "      <td>586.279114</td>\n",
       "      <td>7.238014</td>\n",
       "      <td>7049.0</td>\n",
       "      <td>86.0</td>\n",
       "      <td>246.0</td>\n",
       "      <td>306.0</td>\n",
       "      <td>12.840278</td>\n",
       "      <td>9.263889</td>\n",
       "    </tr>\n",
       "    <tr>\n",
       "      <th>792</th>\n",
       "      <td>269878~174-B</td>\n",
       "      <td>269878</td>\n",
       "      <td>174-B</td>\n",
       "      <td>PN3</td>\n",
       "      <td>22232</td>\n",
       "      <td>Skin</td>\n",
       "      <td>Merkel cell tumor</td>\n",
       "      <td>skin</td>\n",
       "      <td>skin other</td>\n",
       "      <td>nan</td>\n",
       "      <td>...</td>\n",
       "      <td>10.104344</td>\n",
       "      <td>46.164986</td>\n",
       "      <td>369.028839</td>\n",
       "      <td>16.044733</td>\n",
       "      <td>216.0</td>\n",
       "      <td>21.0</td>\n",
       "      <td>74.0</td>\n",
       "      <td>90.0</td>\n",
       "      <td>5.597222</td>\n",
       "      <td>2.666667</td>\n",
       "    </tr>\n",
       "    <tr>\n",
       "      <th>2076</th>\n",
       "      <td>773659~155-R</td>\n",
       "      <td>773659</td>\n",
       "      <td>155-R</td>\n",
       "      <td>NQ8K19M745</td>\n",
       "      <td>21836</td>\n",
       "      <td>Skin</td>\n",
       "      <td>Melanoma</td>\n",
       "      <td>skin</td>\n",
       "      <td>melanoma</td>\n",
       "      <td>nan</td>\n",
       "      <td>...</td>\n",
       "      <td>11.493304</td>\n",
       "      <td>102.403717</td>\n",
       "      <td>853.330933</td>\n",
       "      <td>7.551601</td>\n",
       "      <td>14767.0</td>\n",
       "      <td>129.0</td>\n",
       "      <td>346.0</td>\n",
       "      <td>429.0</td>\n",
       "      <td>23.361111</td>\n",
       "      <td>13.215278</td>\n",
       "    </tr>\n",
       "    <tr>\n",
       "      <th>2077</th>\n",
       "      <td>773659~155-R</td>\n",
       "      <td>773659</td>\n",
       "      <td>155-R</td>\n",
       "      <td>NQ8K19M745</td>\n",
       "      <td>21836</td>\n",
       "      <td>Skin</td>\n",
       "      <td>Melanoma</td>\n",
       "      <td>skin</td>\n",
       "      <td>melanoma</td>\n",
       "      <td>nan</td>\n",
       "      <td>...</td>\n",
       "      <td>8.806724</td>\n",
       "      <td>37.839725</td>\n",
       "      <td>130.017853</td>\n",
       "      <td>10.834822</td>\n",
       "      <td>84.0</td>\n",
       "      <td>10.0</td>\n",
       "      <td>42.0</td>\n",
       "      <td>46.0</td>\n",
       "      <td>4.083333</td>\n",
       "      <td>2.027778</td>\n",
       "    </tr>\n",
       "    <tr>\n",
       "      <th>2078</th>\n",
       "      <td>773659~155-R</td>\n",
       "      <td>773659</td>\n",
       "      <td>155-R</td>\n",
       "      <td>NQ8K19M745</td>\n",
       "      <td>21836</td>\n",
       "      <td>Skin</td>\n",
       "      <td>Melanoma</td>\n",
       "      <td>skin</td>\n",
       "      <td>melanoma</td>\n",
       "      <td>nan</td>\n",
       "      <td>...</td>\n",
       "      <td>10.007352</td>\n",
       "      <td>66.173042</td>\n",
       "      <td>263.071777</td>\n",
       "      <td>9.071440</td>\n",
       "      <td>560.0</td>\n",
       "      <td>31.0</td>\n",
       "      <td>96.0</td>\n",
       "      <td>116.0</td>\n",
       "      <td>7.979167</td>\n",
       "      <td>3.916667</td>\n",
       "    </tr>\n",
       "    <tr>\n",
       "      <th>2079</th>\n",
       "      <td>773659~155-R</td>\n",
       "      <td>773659</td>\n",
       "      <td>155-R</td>\n",
       "      <td>NQ8K19M745</td>\n",
       "      <td>21836</td>\n",
       "      <td>Skin</td>\n",
       "      <td>Melanoma</td>\n",
       "      <td>skin</td>\n",
       "      <td>melanoma</td>\n",
       "      <td>nan</td>\n",
       "      <td>...</td>\n",
       "      <td>10.104344</td>\n",
       "      <td>46.164986</td>\n",
       "      <td>369.028839</td>\n",
       "      <td>16.044733</td>\n",
       "      <td>216.0</td>\n",
       "      <td>21.0</td>\n",
       "      <td>74.0</td>\n",
       "      <td>90.0</td>\n",
       "      <td>5.597222</td>\n",
       "      <td>2.666667</td>\n",
       "    </tr>\n",
       "    <tr>\n",
       "      <th>2491</th>\n",
       "      <td>BL0382~F1232</td>\n",
       "      <td>BL0382</td>\n",
       "      <td>F1232</td>\n",
       "      <td>M662</td>\n",
       "      <td>83743</td>\n",
       "      <td>Genitourinary</td>\n",
       "      <td>Urothelial/bladder cancer, NOS</td>\n",
       "      <td>bladder/urothelial</td>\n",
       "      <td>bladder/urothelial</td>\n",
       "      <td>grade 3</td>\n",
       "      <td>...</td>\n",
       "      <td>9.658929</td>\n",
       "      <td>60.153156</td>\n",
       "      <td>194.055222</td>\n",
       "      <td>9.702761</td>\n",
       "      <td>277.0</td>\n",
       "      <td>22.0</td>\n",
       "      <td>74.0</td>\n",
       "      <td>89.0</td>\n",
       "      <td>5.666667</td>\n",
       "      <td>3.055556</td>\n",
       "    </tr>\n",
       "    <tr>\n",
       "      <th>2492</th>\n",
       "      <td>BL0382~F1232</td>\n",
       "      <td>BL0382</td>\n",
       "      <td>F1232</td>\n",
       "      <td>M662</td>\n",
       "      <td>83743</td>\n",
       "      <td>Genitourinary</td>\n",
       "      <td>Urothelial/bladder cancer, NOS</td>\n",
       "      <td>bladder/urothelial</td>\n",
       "      <td>bladder/urothelial</td>\n",
       "      <td>grade 3</td>\n",
       "      <td>...</td>\n",
       "      <td>11.050462</td>\n",
       "      <td>107.507843</td>\n",
       "      <td>957.581360</td>\n",
       "      <td>6.341599</td>\n",
       "      <td>22088.0</td>\n",
       "      <td>119.0</td>\n",
       "      <td>340.0</td>\n",
       "      <td>397.0</td>\n",
       "      <td>27.256945</td>\n",
       "      <td>15.458333</td>\n",
       "    </tr>\n",
       "    <tr>\n",
       "      <th>2493</th>\n",
       "      <td>BL0382~F1232</td>\n",
       "      <td>BL0382</td>\n",
       "      <td>F1232</td>\n",
       "      <td>M662</td>\n",
       "      <td>83743</td>\n",
       "      <td>Genitourinary</td>\n",
       "      <td>Urothelial/bladder cancer, NOS</td>\n",
       "      <td>bladder/urothelial</td>\n",
       "      <td>bladder/urothelial</td>\n",
       "      <td>grade 3</td>\n",
       "      <td>...</td>\n",
       "      <td>9.988334</td>\n",
       "      <td>67.548737</td>\n",
       "      <td>244.132416</td>\n",
       "      <td>7.180365</td>\n",
       "      <td>565.0</td>\n",
       "      <td>28.0</td>\n",
       "      <td>100.0</td>\n",
       "      <td>121.0</td>\n",
       "      <td>5.868055</td>\n",
       "      <td>3.833333</td>\n",
       "    </tr>\n",
       "    <tr>\n",
       "      <th>2494</th>\n",
       "      <td>BL0382~F1232</td>\n",
       "      <td>BL0382</td>\n",
       "      <td>F1232</td>\n",
       "      <td>M662</td>\n",
       "      <td>83743</td>\n",
       "      <td>Genitourinary</td>\n",
       "      <td>Urothelial/bladder cancer, NOS</td>\n",
       "      <td>bladder/urothelial</td>\n",
       "      <td>bladder/urothelial</td>\n",
       "      <td>grade 3</td>\n",
       "      <td>...</td>\n",
       "      <td>10.818037</td>\n",
       "      <td>92.897408</td>\n",
       "      <td>615.077881</td>\n",
       "      <td>10.251298</td>\n",
       "      <td>3853.0</td>\n",
       "      <td>71.0</td>\n",
       "      <td>206.0</td>\n",
       "      <td>253.0</td>\n",
       "      <td>13.638889</td>\n",
       "      <td>7.888889</td>\n",
       "    </tr>\n",
       "    <tr>\n",
       "      <th>2495</th>\n",
       "      <td>BL0382~F1232</td>\n",
       "      <td>BL0382</td>\n",
       "      <td>F1232</td>\n",
       "      <td>M662M18</td>\n",
       "      <td>83742</td>\n",
       "      <td>Genitourinary</td>\n",
       "      <td>Urothelial/bladder cancer, NOS</td>\n",
       "      <td>bladder/urothelial</td>\n",
       "      <td>bladder/urothelial</td>\n",
       "      <td>grade 3</td>\n",
       "      <td>...</td>\n",
       "      <td>9.658929</td>\n",
       "      <td>60.153156</td>\n",
       "      <td>194.055222</td>\n",
       "      <td>9.702761</td>\n",
       "      <td>277.0</td>\n",
       "      <td>22.0</td>\n",
       "      <td>74.0</td>\n",
       "      <td>89.0</td>\n",
       "      <td>5.666667</td>\n",
       "      <td>3.055556</td>\n",
       "    </tr>\n",
       "    <tr>\n",
       "      <th>2496</th>\n",
       "      <td>BL0382~F1232</td>\n",
       "      <td>BL0382</td>\n",
       "      <td>F1232</td>\n",
       "      <td>M662M18</td>\n",
       "      <td>83742</td>\n",
       "      <td>Genitourinary</td>\n",
       "      <td>Urothelial/bladder cancer, NOS</td>\n",
       "      <td>bladder/urothelial</td>\n",
       "      <td>bladder/urothelial</td>\n",
       "      <td>grade 3</td>\n",
       "      <td>...</td>\n",
       "      <td>11.050462</td>\n",
       "      <td>107.507843</td>\n",
       "      <td>957.581360</td>\n",
       "      <td>6.341599</td>\n",
       "      <td>22088.0</td>\n",
       "      <td>119.0</td>\n",
       "      <td>340.0</td>\n",
       "      <td>397.0</td>\n",
       "      <td>27.256945</td>\n",
       "      <td>15.458333</td>\n",
       "    </tr>\n",
       "    <tr>\n",
       "      <th>2497</th>\n",
       "      <td>BL0382~F1232</td>\n",
       "      <td>BL0382</td>\n",
       "      <td>F1232</td>\n",
       "      <td>M662M18</td>\n",
       "      <td>83742</td>\n",
       "      <td>Genitourinary</td>\n",
       "      <td>Urothelial/bladder cancer, NOS</td>\n",
       "      <td>bladder/urothelial</td>\n",
       "      <td>bladder/urothelial</td>\n",
       "      <td>grade 3</td>\n",
       "      <td>...</td>\n",
       "      <td>9.988334</td>\n",
       "      <td>67.548737</td>\n",
       "      <td>244.132416</td>\n",
       "      <td>7.180365</td>\n",
       "      <td>565.0</td>\n",
       "      <td>28.0</td>\n",
       "      <td>100.0</td>\n",
       "      <td>121.0</td>\n",
       "      <td>5.868055</td>\n",
       "      <td>3.833333</td>\n",
       "    </tr>\n",
       "    <tr>\n",
       "      <th>2498</th>\n",
       "      <td>BL0382~F1232</td>\n",
       "      <td>BL0382</td>\n",
       "      <td>F1232</td>\n",
       "      <td>M662M18</td>\n",
       "      <td>83742</td>\n",
       "      <td>Genitourinary</td>\n",
       "      <td>Urothelial/bladder cancer, NOS</td>\n",
       "      <td>bladder/urothelial</td>\n",
       "      <td>bladder/urothelial</td>\n",
       "      <td>grade 3</td>\n",
       "      <td>...</td>\n",
       "      <td>10.818037</td>\n",
       "      <td>92.897408</td>\n",
       "      <td>615.077881</td>\n",
       "      <td>10.251298</td>\n",
       "      <td>3853.0</td>\n",
       "      <td>71.0</td>\n",
       "      <td>206.0</td>\n",
       "      <td>253.0</td>\n",
       "      <td>13.638889</td>\n",
       "      <td>7.888889</td>\n",
       "    </tr>\n",
       "  </tbody>\n",
       "</table>\n",
       "<p>17 rows × 2414 columns</p>\n",
       "</div>"
      ],
      "text/plain": [
       "             model patient_id specimen_id   sample_id image_id      csite_src  \\\n",
       "788   269878~174-B     269878       174-B         PN3    22232           Skin   \n",
       "789   269878~174-B     269878       174-B         PN3    22232           Skin   \n",
       "790   269878~174-B     269878       174-B         PN3    22232           Skin   \n",
       "791   269878~174-B     269878       174-B         PN3    22232           Skin   \n",
       "792   269878~174-B     269878       174-B         PN3    22232           Skin   \n",
       "2076  773659~155-R     773659       155-R  NQ8K19M745    21836           Skin   \n",
       "2077  773659~155-R     773659       155-R  NQ8K19M745    21836           Skin   \n",
       "2078  773659~155-R     773659       155-R  NQ8K19M745    21836           Skin   \n",
       "2079  773659~155-R     773659       155-R  NQ8K19M745    21836           Skin   \n",
       "2491  BL0382~F1232     BL0382       F1232        M662    83743  Genitourinary   \n",
       "2492  BL0382~F1232     BL0382       F1232        M662    83743  Genitourinary   \n",
       "2493  BL0382~F1232     BL0382       F1232        M662    83743  Genitourinary   \n",
       "2494  BL0382~F1232     BL0382       F1232        M662    83743  Genitourinary   \n",
       "2495  BL0382~F1232     BL0382       F1232     M662M18    83742  Genitourinary   \n",
       "2496  BL0382~F1232     BL0382       F1232     M662M18    83742  Genitourinary   \n",
       "2497  BL0382~F1232     BL0382       F1232     M662M18    83742  Genitourinary   \n",
       "2498  BL0382~F1232     BL0382       F1232     M662M18    83742  Genitourinary   \n",
       "\n",
       "                           ctype_src               csite               ctype  \\\n",
       "788                Merkel cell tumor                skin          skin other   \n",
       "789                Merkel cell tumor                skin          skin other   \n",
       "790                Merkel cell tumor                skin          skin other   \n",
       "791                Merkel cell tumor                skin          skin other   \n",
       "792                Merkel cell tumor                skin          skin other   \n",
       "2076                        Melanoma                skin            melanoma   \n",
       "2077                        Melanoma                skin            melanoma   \n",
       "2078                        Melanoma                skin            melanoma   \n",
       "2079                        Melanoma                skin            melanoma   \n",
       "2491  Urothelial/bladder cancer, NOS  bladder/urothelial  bladder/urothelial   \n",
       "2492  Urothelial/bladder cancer, NOS  bladder/urothelial  bladder/urothelial   \n",
       "2493  Urothelial/bladder cancer, NOS  bladder/urothelial  bladder/urothelial   \n",
       "2494  Urothelial/bladder cancer, NOS  bladder/urothelial  bladder/urothelial   \n",
       "2495  Urothelial/bladder cancer, NOS  bladder/urothelial  bladder/urothelial   \n",
       "2496  Urothelial/bladder cancer, NOS  bladder/urothelial  bladder/urothelial   \n",
       "2497  Urothelial/bladder cancer, NOS  bladder/urothelial  bladder/urothelial   \n",
       "2498  Urothelial/bladder cancer, NOS  bladder/urothelial  bladder/urothelial   \n",
       "\n",
       "     stage_or_grade  ...   dd_SRW10   dd_TSRW10       dd_MW     dd_AMW  \\\n",
       "788             nan  ...  11.493304  102.403717  853.330933   7.551601   \n",
       "789             nan  ...   8.806724   37.839725  130.017853  10.834822   \n",
       "790             nan  ...  10.007352   66.173042  263.071777   9.071440   \n",
       "791             nan  ...  11.018613   95.764595  586.279114   7.238014   \n",
       "792             nan  ...  10.104344   46.164986  369.028839  16.044733   \n",
       "2076            nan  ...  11.493304  102.403717  853.330933   7.551601   \n",
       "2077            nan  ...   8.806724   37.839725  130.017853  10.834822   \n",
       "2078            nan  ...  10.007352   66.173042  263.071777   9.071440   \n",
       "2079            nan  ...  10.104344   46.164986  369.028839  16.044733   \n",
       "2491        grade 3  ...   9.658929   60.153156  194.055222   9.702761   \n",
       "2492        grade 3  ...  11.050462  107.507843  957.581360   6.341599   \n",
       "2493        grade 3  ...   9.988334   67.548737  244.132416   7.180365   \n",
       "2494        grade 3  ...  10.818037   92.897408  615.077881  10.251298   \n",
       "2495        grade 3  ...   9.658929   60.153156  194.055222   9.702761   \n",
       "2496        grade 3  ...  11.050462  107.507843  957.581360   6.341599   \n",
       "2497        grade 3  ...   9.988334   67.548737  244.132416   7.180365   \n",
       "2498        grade 3  ...  10.818037   92.897408  615.077881  10.251298   \n",
       "\n",
       "      dd_WPath  dd_WPol  dd_Zagreb1  dd_Zagreb2  dd_mZagreb1  dd_mZagreb2  \n",
       "788    14767.0    129.0       346.0       429.0    23.361111    13.215278  \n",
       "789       84.0     10.0        42.0        46.0     4.083333     2.027778  \n",
       "790      560.0     31.0        96.0       116.0     7.979167     3.916667  \n",
       "791     7049.0     86.0       246.0       306.0    12.840278     9.263889  \n",
       "792      216.0     21.0        74.0        90.0     5.597222     2.666667  \n",
       "2076   14767.0    129.0       346.0       429.0    23.361111    13.215278  \n",
       "2077      84.0     10.0        42.0        46.0     4.083333     2.027778  \n",
       "2078     560.0     31.0        96.0       116.0     7.979167     3.916667  \n",
       "2079     216.0     21.0        74.0        90.0     5.597222     2.666667  \n",
       "2491     277.0     22.0        74.0        89.0     5.666667     3.055556  \n",
       "2492   22088.0    119.0       340.0       397.0    27.256945    15.458333  \n",
       "2493     565.0     28.0       100.0       121.0     5.868055     3.833333  \n",
       "2494    3853.0     71.0       206.0       253.0    13.638889     7.888889  \n",
       "2495     277.0     22.0        74.0        89.0     5.666667     3.055556  \n",
       "2496   22088.0    119.0       340.0       397.0    27.256945    15.458333  \n",
       "2497     565.0     28.0       100.0       121.0     5.868055     3.833333  \n",
       "2498    3853.0     71.0       206.0       253.0    13.638889     7.888889  \n",
       "\n",
       "[17 rows x 2414 columns]"
      ]
     },
     "execution_count": 104,
     "metadata": {},
     "output_type": "execute_result"
    }
   ],
   "source": [
    "m"
   ]
  },
  {
   "cell_type": "code",
   "execution_count": null,
   "metadata": {},
   "outputs": [],
   "source": []
  },
  {
   "cell_type": "markdown",
   "metadata": {},
   "source": [
    "# Merge drug response and cref\n",
    "We want to find drug response samples (i.e. treatments) that are responders (Response=1) that don't have histology slides. <br>\n",
    "There is a drug response pair with a response value of 1 (i.e. responder) for which we don't have a histology slide."
   ]
  },
  {
   "cell_type": "code",
   "execution_count": 82,
   "metadata": {},
   "outputs": [
    {
     "name": "stdout",
     "output_type": "stream",
     "text": [
      "\n",
      "Dropped 77 duplicates.\n",
      "\n"
     ]
    }
   ],
   "source": [
    "rsp = load_data.load_rsp()\n",
    "rsp = load_data.parse_Sample_col(rsp)\n",
    "# rsp = rsp[rsp.Response == 1].reset_index(drop=True)\n",
    "\n",
    "cref = load_data.load_crossref(drop_bad_slides=False)\n",
    "pdx = load_data.load_pdx_meta2()"
   ]
  },
  {
   "cell_type": "code",
   "execution_count": 83,
   "metadata": {},
   "outputs": [
    {
     "name": "stdout",
     "output_type": "stream",
     "text": [
      "Outer merge (2774, 10)\n",
      "both          2591\n",
      "left_only      183\n",
      "right_only       0\n",
      "Name: _merge, dtype: int64\n",
      "\n",
      "Missing right items (0, 10)\n",
      "Missing left items  (183, 10)\n"
     ]
    }
   ],
   "source": [
    "# Explore (merge and identify from which df the items are coming from)\n",
    "# https://kanoki.org/2019/07/04/pandas-difference-between-two-dataframes/\n",
    "mrg_outer = cref.merge(rsp, on=PDX_SAMPLE_COLS, how='outer', indicator=True)\n",
    "print('Outer merge', mrg_outer.shape)\n",
    "print(mrg_outer['_merge'].value_counts())\n",
    "\n",
    "miss_r = mrg_outer.loc[lambda x: x['_merge']=='right_only']\n",
    "miss_r = miss_r.sort_values(PDX_SAMPLE_COLS, ascending=True)\n",
    "print('\\nMissing right items', miss_r.shape)\n",
    "\n",
    "miss_l = mrg_outer.loc[lambda x: x['_merge']=='left_only']\n",
    "miss_l = miss_l.sort_values(PDX_SAMPLE_COLS, ascending=True)\n",
    "print('Missing left items ', miss_l.shape)"
   ]
  },
  {
   "cell_type": "code",
   "execution_count": 84,
   "metadata": {},
   "outputs": [
    {
     "name": "stdout",
     "output_type": "stream",
     "text": [
      "(593, 5)\n",
      "(2591, 8)\n",
      "(2591, 10)\n"
     ]
    }
   ],
   "source": [
    "print(cref.shape)\n",
    "print(rsp.shape)\n",
    "df = cref.merge(rsp, on=PDX_SAMPLE_COLS, how='inner', indicator=True)\n",
    "print(df.shape)"
   ]
  },
  {
   "cell_type": "code",
   "execution_count": 85,
   "metadata": {},
   "outputs": [
    {
     "name": "stdout",
     "output_type": "stream",
     "text": [
      "(17, 10)\n"
     ]
    }
   ],
   "source": [
    "m = df[df.image_id.isin(cfg.BAD_SLIDES)]\n",
    "print(m.shape)"
   ]
  },
  {
   "cell_type": "code",
   "execution_count": 86,
   "metadata": {},
   "outputs": [
    {
     "name": "stdout",
     "output_type": "stream",
     "text": [
      "['21836', '22232', '83742', '83743']\n"
     ]
    }
   ],
   "source": [
    "print(sorted(m.image_id.unique()))"
   ]
  },
  {
   "cell_type": "code",
   "execution_count": 88,
   "metadata": {},
   "outputs": [
    {
     "data": {
      "text/html": [
       "<div>\n",
       "<style scoped>\n",
       "    .dataframe tbody tr th:only-of-type {\n",
       "        vertical-align: middle;\n",
       "    }\n",
       "\n",
       "    .dataframe tbody tr th {\n",
       "        vertical-align: top;\n",
       "    }\n",
       "\n",
       "    .dataframe thead th {\n",
       "        text-align: right;\n",
       "    }\n",
       "</style>\n",
       "<table border=\"1\" class=\"dataframe\">\n",
       "  <thead>\n",
       "    <tr style=\"text-align: right;\">\n",
       "      <th></th>\n",
       "      <th>model</th>\n",
       "      <th>patient_id</th>\n",
       "      <th>specimen_id</th>\n",
       "      <th>sample_id</th>\n",
       "      <th>image_id</th>\n",
       "      <th>smp</th>\n",
       "      <th>Sample</th>\n",
       "      <th>Drug1</th>\n",
       "      <th>Response</th>\n",
       "      <th>_merge</th>\n",
       "    </tr>\n",
       "  </thead>\n",
       "  <tbody>\n",
       "    <tr>\n",
       "      <th>788</th>\n",
       "      <td>269878~174-B</td>\n",
       "      <td>269878</td>\n",
       "      <td>174-B</td>\n",
       "      <td>PN3</td>\n",
       "      <td>22232</td>\n",
       "      <td>269878~174-B~PN3_NSC.125973</td>\n",
       "      <td>269878~174-B~PN3</td>\n",
       "      <td>NSC.125973</td>\n",
       "      <td>1</td>\n",
       "      <td>both</td>\n",
       "    </tr>\n",
       "  </tbody>\n",
       "</table>\n",
       "</div>"
      ],
      "text/plain": [
       "            model patient_id specimen_id sample_id image_id  \\\n",
       "788  269878~174-B     269878       174-B       PN3    22232   \n",
       "\n",
       "                             smp            Sample       Drug1  Response  \\\n",
       "788  269878~174-B~PN3_NSC.125973  269878~174-B~PN3  NSC.125973         1   \n",
       "\n",
       "    _merge  \n",
       "788   both  "
      ]
     },
     "execution_count": 88,
     "metadata": {},
     "output_type": "execute_result"
    }
   ],
   "source": [
    "m[m.Response==1]"
   ]
  },
  {
   "cell_type": "code",
   "execution_count": null,
   "metadata": {},
   "outputs": [],
   "source": []
  }
 ],
 "metadata": {
  "kernelspec": {
   "display_name": "Python 3",
   "language": "python",
   "name": "python3"
  },
  "language_info": {
   "codemirror_mode": {
    "name": "ipython",
    "version": 3
   },
   "file_extension": ".py",
   "mimetype": "text/x-python",
   "name": "python",
   "nbconvert_exporter": "python",
   "pygments_lexer": "ipython3",
   "version": "3.7.9"
  }
 },
 "nbformat": 4,
 "nbformat_minor": 4
}
