{
 "cells": [
  {
   "cell_type": "markdown",
   "metadata": {},
   "source": [
    "This notebook is a template taken from histolab tutorial.<br>"
   ]
  },
  {
   "cell_type": "code",
   "execution_count": 1,
   "metadata": {},
   "outputs": [
    {
     "name": "stdout",
     "output_type": "stream",
     "text": [
      "/vol/ml/apartin/projects/pdx-histo/nbs\n"
     ]
    }
   ],
   "source": [
    "%matplotlib inline\n",
    "\n",
    "import os\n",
    "from pathlib import Path\n",
    "import pandas as pd\n",
    "import numpy as np\n",
    "from glob import glob\n",
    "from pprint import pprint\n",
    "\n",
    "dirpath = Path.cwd()\n",
    "print(dirpath)"
   ]
  },
  {
   "cell_type": "code",
   "execution_count": 2,
   "metadata": {},
   "outputs": [],
   "source": [
    "import histolab\n",
    "from histolab.slide import Slide\n",
    "from histolab.tiler import RandomTiler, GridTiler, ScoreTiler\n",
    "from histolab.scorer import NucleiScorer\n",
    "from histolab.util import apply_mask_image\n",
    "import openslide\n",
    "# from openslide import OpenSlide\n",
    "\n",
    "import matplotlib\n",
    "import matplotlib.pyplot as plt\n",
    "import PIL"
   ]
  },
  {
   "cell_type": "code",
   "execution_count": 4,
   "metadata": {},
   "outputs": [
    {
     "name": "stdout",
     "output_type": "stream",
     "text": [
      "Total SVS files: 596\n"
     ]
    }
   ],
   "source": [
    "# Path\n",
    "datapath = dirpath/'../data'\n",
    "imgpath = datapath/'doe-globus-pdx-data'  # path to raw WSI data\n",
    "metapath = datapath/'meta'\n",
    "\n",
    "# outpath = datapath/'processed'        # path to save processed images\n",
    "tmp_outpath = datapath/'tmp_out'\n",
    "os.makedirs(tmp_outpath, exist_ok=True)\n",
    "\n",
    "# Glob images\n",
    "wsi_format = 'svs'\n",
    "files = sorted(imgpath.glob(f'*.{wsi_format}'))\n",
    "print('Total {} files: {}'.format(wsi_format.upper(), len(files)))"
   ]
  },
  {
   "cell_type": "code",
   "execution_count": null,
   "metadata": {},
   "outputs": [],
   "source": []
  },
  {
   "cell_type": "markdown",
   "metadata": {},
   "source": [
    "# Slide and OpenSlide\n",
    "\n",
    "- biggest_tissue_box_mask:   YES\n",
    "- dimensions:                YES\n",
    "- extract_tile:              explore\n",
    "- level_dimensions:          YES\n",
    "- levels:                    YES\n",
    "- locate_biggest_tissue_box: explore\n",
    "- name:                      YES\n",
    "- processed_path:            YES\n",
    "- resampled_array:           YES\n",
    "- save_scaled_image:         YES\n",
    "- save_thumbnail:            YES\n",
    "- scaled_image_path:         YES\n",
    "- show:                      no\n",
    "- thumbnail_path:            YES"
   ]
  },
  {
   "cell_type": "code",
   "execution_count": 5,
   "metadata": {},
   "outputs": [
    {
     "name": "stdout",
     "output_type": "stream",
     "text": [
      "Type:                  <class 'histolab.slide.Slide'>\n",
      "Slide name:            10059\n",
      "Levels:                [0, 1, 2]\n",
      "Dimensions at level 0: (15935, 13745)\n",
      "Dimensions at level 1: (3983, 3436)\n",
      "Dimensions at level 2: (1991, 1718)\n"
     ]
    }
   ],
   "source": [
    "# Slide instance\n",
    "# path: path to WSI file\n",
    "# processed_path: path to save thumbnails and scaled images\n",
    "fname = files[0]\n",
    "img_inpath = str(fname)\n",
    "img_outpath = os.path.join(str(datapath), 'processed', fname.with_suffix('').name)\n",
    "pdx_slide = Slide(path=img_inpath, processed_path=tmp_outpath)\n",
    "\n",
    "# Methods and properties of slide object\n",
    "# pprint(dir(pdx_slide))\n",
    "\n",
    "# Slide properties\n",
    "print(f\"Type:                  {type(pdx_slide)}\")\n",
    "print(f\"Slide name:            {pdx_slide.name}\")\n",
    "print(f\"Levels:                {pdx_slide.levels}\")\n",
    "print(f\"Dimensions at level 0: {pdx_slide.dimensions}\")\n",
    "print(f\"Dimensions at level 1: {pdx_slide.level_dimensions(level=1)}\")\n",
    "print(f\"Dimensions at level 2: {pdx_slide.level_dimensions(level=2)}\")"
   ]
  },
  {
   "cell_type": "code",
   "execution_count": 6,
   "metadata": {},
   "outputs": [
    {
     "name": "stdout",
     "output_type": "stream",
     "text": [
      "type(slide._wsi):            <class 'openslide.OpenSlide'>\n",
      "type(slide._wsi.properties): <class 'openslide._PropertyMap'>\n",
      "Total properties:            47\n",
      "AppMag:                      20\n",
      "Level count:       3\n",
      "Level downsamples: (1.0, 4.000522118596585, 8.002048946686164)\n",
      "Level dimensions:  ((15935, 13745), (3983, 3436), (1991, 1718))\n"
     ]
    }
   ],
   "source": [
    "# Openslide properties (_wsi is openslide object)\n",
    "print(f\"type(slide._wsi):            {type(pdx_slide._wsi)}\")\n",
    "print(f\"type(slide._wsi.properties): {type(pdx_slide._wsi.properties)}\")\n",
    "print(f\"Total properties:            {len(pdx_slide._wsi.properties)}\")\n",
    "print(f\"AppMag:                      {pdx_slide._wsi.properties['aperio.AppMag']}\")\n",
    "\n",
    "# Methods and properties of openslide object\n",
    "# pprint(pdx_slide._wsi.properties._keys())  # all properties\n",
    "\n",
    "mag = int(pdx_slide._wsi.properties['aperio.AppMag'])\n",
    "print(f\"Level count:       {pdx_slide._wsi.level_count}\")\n",
    "print(f\"Level downsamples: {pdx_slide._wsi.level_downsamples}\")\n",
    "print(f\"Level dimensions:  {pdx_slide._wsi.level_dimensions}\")"
   ]
  },
  {
   "cell_type": "code",
   "execution_count": 7,
   "metadata": {},
   "outputs": [
    {
     "name": "stdout",
     "output_type": "stream",
     "text": [
      "thumbnail_size:          (159, 137)\n",
      "biggest_tissue_box_mask: (137, 159)\n",
      "thumbnail_path:          /vol/ml/apartin/projects/pdx-histo/nbs/../data/tmp_out/thumbnails/10059.png\n",
      "<class 'PIL.Image.Image'>\n",
      "(159, 137)\n"
     ]
    },
    {
     "data": {
      "image/png": "[encoded data removed]",
      "text/plain": [
       "<PIL.Image.Image image mode=RGB size=159x137 at 0x7F78D1478750>"
      ]
     },
     "execution_count": 7,
     "metadata": {},
     "output_type": "execute_result"
    }
   ],
   "source": [
    "# Thumbnail\n",
    "print('thumbnail_size:         ', pdx_slide._thumbnail_size)  # thumbnail size proportionally to the slide dimensions\n",
    "print('biggest_tissue_box_mask:', pdx_slide.biggest_tissue_box_mask.shape)  # thumbnail binary mask of the box containing the max tissue area\n",
    "print('thumbnail_path:         ', pdx_slide.thumbnail_path)\n",
    "pdx_slide.save_thumbnail()\n",
    "\n",
    "# Inside the save_thumbnail\n",
    "pil_img = pdx_slide._wsi.get_thumbnail(pdx_slide._thumbnail_size)\n",
    "print(type(pil_img))\n",
    "print(pil_img.size)\n",
    "# pil_img.show() # why this doesn't work??\n",
    "# plt.imshow(pil_img); plt.axis('off');\n",
    "pil_img.save(tmp_outpath/'pil_img.png', format='png')\n",
    "pil_img"
   ]
  },
  {
   "cell_type": "code",
   "execution_count": 8,
   "metadata": {},
   "outputs": [
    {
     "data": {
      "image/png": "[encoded data removed]",
      "text/plain": [
       "<PIL.Image.Image image mode=RGB size=159x137 at 0x7F78D14DF950>"
      ]
     },
     "execution_count": 8,
     "metadata": {},
     "output_type": "execute_result"
    }
   ],
   "source": [
    "# Apply mask to image\n",
    "pil_img_boxed = histolab.util.apply_mask_image(pil_img, pdx_slide.biggest_tissue_box_mask)\n",
    "pil_img_boxed.save(tmp_outpath/'pil_img_boxed.png', format='png')\n",
    "pil_img_boxed"
   ]
  },
  {
   "cell_type": "code",
   "execution_count": 9,
   "metadata": {},
   "outputs": [
    {
     "name": "stdout",
     "output_type": "stream",
     "text": [
      "<class 'numpy.ndarray'>\n",
      "(859, 995, 3)\n"
     ]
    },
    {
     "data": {
      "image/png": "[encoded data removed]",
      "text/plain": [
       "<Figure size 216x216 with 1 Axes>"
      ]
     },
     "metadata": {
      "needs_background": "light"
     },
     "output_type": "display_data"
    }
   ],
   "source": [
    "# Scale and save image\n",
    "# --------------------\n",
    "# Slide.resampled_array()\n",
    "# Slide.save_scaled_image()\n",
    "scale_factor = 16\n",
    "np_img_scaled = pdx_slide.resampled_array(scale_factor=scale_factor)  # scale and return ndarray\n",
    "print(type(np_img_scaled))\n",
    "print(np_img_scaled.shape)\n",
    "# out image file path: {name}-{scale_factor}x-{large_w}x{large_h}-{new_w}x{new_h}.{IMG_EXT}\n",
    "pdx_slide.save_scaled_image(scale_factor=scale_factor)             # scale and save into file\n",
    "\n",
    "# Show img from array\n",
    "# plt.imshow(img_scaled); plt.axis('off');\n",
    "fig, ax = plt.subplots(figsize=(3,3)); ax.imshow(np_img_scaled); ax.axis('off');\n",
    "# PIL.Image.fromarray(np_img_scaled)"
   ]
  },
  {
   "cell_type": "code",
   "execution_count": 10,
   "metadata": {},
   "outputs": [],
   "source": [
    "# Scale slides and save in each image into file\n",
    "# ---------------------------------------------\n",
    "# scaled_img_outpath = str(datapath/'scaled_images')\n",
    "# os.makedirs(scaled_img_outpath, exist_ok=True)\n",
    "\n",
    "# scale_factor = 16\n",
    "# for f_name in files:\n",
    "#     img_inpath = str(f_name)\n",
    "#     pdx_slide = Slide(path=img_inpath, processed_path=scaled_img_outpath)\n",
    "#     pdx_slide.save_scaled_image(scale_factor=scale_factor)             # scale and save into file\n",
    "\n",
    "# print('Done.')"
   ]
  },
  {
   "cell_type": "code",
   "execution_count": 11,
   "metadata": {},
   "outputs": [],
   "source": [
    "# Extract tile; TODO\n",
    "# pdx_slide.extract_slide(coord=, level=0)"
   ]
  },
  {
   "cell_type": "code",
   "execution_count": 12,
   "metadata": {},
   "outputs": [],
   "source": [
    "# TODO\n",
    "# pdx_slide.locate_biggest_tissue_box()"
   ]
  },
  {
   "cell_type": "code",
   "execution_count": null,
   "metadata": {},
   "outputs": [],
   "source": []
  },
  {
   "cell_type": "markdown",
   "metadata": {},
   "source": [
    "## Aggregate metadata from all raw slides"
   ]
  },
  {
   "cell_type": "code",
   "execution_count": 13,
   "metadata": {},
   "outputs": [],
   "source": [
    "if (metapath/'meta_from_wsi_images.csv').exists():\n",
    "    meta_df = pd.read_csv(metapath/'meta_from_wsi_images.csv')"
   ]
  },
  {
   "cell_type": "code",
   "execution_count": 14,
   "metadata": {},
   "outputs": [],
   "source": [
    "# # Aggregate metadata into df from all slides\n",
    "\n",
    "# meta_list = []  # list of dicts\n",
    "# for i, fname in enumerate(files):\n",
    "#     # print(f_name.name)\n",
    "#     if i % 100 == 0:\n",
    "#         print(f'slide {i}: {fname.name}')\n",
    "    \n",
    "#     # Load slide\n",
    "#     img_inpath = str(fname)\n",
    "#     img_outpath = os.path.join(str(datapath), 'processed', fname.with_suffix('').name)\n",
    "#     pdx_slide = Slide(path=img_inpath, processed_path=img_outpath)\n",
    "\n",
    "#     # Create dict that contains the slide metadata (properties)\n",
    "#     ignore_property = ['aperio.User', 'openslide.comment', 'openslide.quickhash-1', 'tiff.ImageDescription']\n",
    "#     meta = {}\n",
    "#     for pname in pdx_slide._wsi.properties:\n",
    "#         # print('{}: {}'.format( p_name, pdx_slide._wsi.properties[p_name] ))\n",
    "#         if p_name in ignore_property:\n",
    "#             continue\n",
    "#         meta[p_name] = pdx_slide._wsi.properties[pname]\n",
    "        \n",
    "#     # Append the slide meta to a list\n",
    "#     meta_list.append(meta)\n",
    "#     del pdx_slide\n",
    "    \n",
    "# # Create df    \n",
    "# meta_df = pd.DataFrame(meta_list)\n",
    "# meta_df = meta_df[[c for c in sorted(meta_df.columns)]]\n",
    "# cols = ['aperio.ImageID'] + [c for c in meta_df.columns if c != 'aperio.ImageID']\n",
    "# meta_df = meta_df[cols]\n",
    "# print('Shape', meta_df.shape)"
   ]
  },
  {
   "cell_type": "code",
   "execution_count": 15,
   "metadata": {},
   "outputs": [],
   "source": [
    "# # Save\n",
    "# meta_df.to_csv(metapath/'meta_from_wsi_images.csv', index=False)"
   ]
  },
  {
   "cell_type": "code",
   "execution_count": null,
   "metadata": {},
   "outputs": [],
   "source": []
  },
  {
   "cell_type": "markdown",
   "metadata": {},
   "source": [
    "## Tiling\n",
    "- For some reason, the extraction region is padded (doesn't span the entire space of slide.dimensions) ??\n",
    "- It seems that when check_tissue=True, it saves too few tiles with tissue as compared with ..."
   ]
  },
  {
   "cell_type": "code",
   "execution_count": 16,
   "metadata": {},
   "outputs": [],
   "source": [
    "\"\"\"\n",
    "https://histolab.readthedocs.io/en/latest/api/tiler.html\n",
    "Extract tiles arranged in a grid and save them to disk, following this filename pattern:\n",
    "{prefix}tile_{tiles_counter}_level{level}_{x_ul_wsi}-{y_ul_wsi}-{x_br_wsi}-{y_br_wsi}{suffix}\n",
    "\"\"\"\n",
    "tile_sz = 300\n",
    "level = 0\n",
    "# check_tissue = True\n",
    "check_tissue = False\n",
    "\n",
    "grid_tiler = GridTiler(\n",
    "    tile_size=(tile_sz, tile_sz), # (width, height) of the extracted tiles\n",
    "    level=level,                  # Level from which extract the tiles. Default is 0.\n",
    "    check_tissue=check_tissue,    # Whether to check if the tile has enough tissue to be saved. Default is True.\n",
    "    pixel_overlap=0,              # Number of overlapping pixels (for both height and width) between two adjacent tiles.\n",
    "    prefix='',                    # Prefix to be added to the tile filename. Default is an empty string.\n",
    "    suffix=\".png\" # default\n",
    ")"
   ]
  },
  {
   "cell_type": "code",
   "execution_count": 17,
   "metadata": {},
   "outputs": [],
   "source": [
    "# Find the smallest slide\n",
    "idx = meta_df['openslide.level[0].height'].isin( [meta_df['openslide.level[0].height'].min()] )\n",
    "img_name = meta_df.loc[ idx, 'aperio.ImageID' ].values[0]\n",
    "fname = imgpath/f'{img_name}.svs'"
   ]
  },
  {
   "cell_type": "code",
   "execution_count": 18,
   "metadata": {},
   "outputs": [
    {
     "name": "stdout",
     "output_type": "stream",
     "text": [
      "/vol/ml/apartin/projects/pdx-histo/nbs/../data/tiles/all/300px/27607\n",
      "(13944, 7515)\n"
     ]
    }
   ],
   "source": [
    "# Slide instance\n",
    "# path: path to WSI file\n",
    "# processed_path: path to save thumbnails and scaled images\n",
    "img_inpath = str(fname)\n",
    "sfx = 'tissue' if check_tissue else 'all'\n",
    "img_outpath = os.path.join(str(datapath), 'tiles', sfx, f'{tile_sz}px', fname.with_suffix('').name)\n",
    "print(img_outpath)\n",
    "# os.makedirs(grid_tiles_path, exist_ok=True)\n",
    "pdx_slide = Slide(path=img_inpath, processed_path=img_outpath)\n",
    "print(pdx_slide.dimensions)"
   ]
  },
  {
   "cell_type": "code",
   "execution_count": 19,
   "metadata": {},
   "outputs": [
    {
     "name": "stdout",
     "output_type": "stream",
     "text": [
      "\t Tile 0 saved: tile_0_level0_702-70-1002-370.png\n",
      "\t Tile 1 saved: tile_1_level0_702-370-1002-670.png\n",
      "\t Tile 2 saved: tile_2_level0_1002-70-1302-370.png\n",
      "\t Tile 3 saved: tile_3_level0_1002-370-1302-670.png\n",
      "\t Tile 4 saved: tile_4_level0_1302-70-1602-370.png\n",
      "\t Tile 5 saved: tile_5_level0_1302-370-1602-670.png\n",
      "\t Tile 6 saved: tile_6_level0_1602-70-1902-370.png\n",
      "\t Tile 7 saved: tile_7_level0_1602-370-1902-670.png\n",
      "\t Tile 8 saved: tile_8_level0_1902-70-2202-370.png\n",
      "\t Tile 9 saved: tile_9_level0_1902-370-2202-670.png\n",
      "\t Tile 10 saved: tile_10_level0_2202-70-2502-370.png\n",
      "\t Tile 11 saved: tile_11_level0_2202-370-2502-670.png\n",
      "\t Tile 12 saved: tile_12_level0_2502-70-2802-370.png\n",
      "\t Tile 13 saved: tile_13_level0_2502-370-2802-670.png\n",
      "\t Tile 14 saved: tile_14_level0_2802-70-3102-370.png\n",
      "\t Tile 15 saved: tile_15_level0_2802-370-3102-670.png\n",
      "\t Tile 16 saved: tile_16_level0_3102-70-3402-370.png\n",
      "\t Tile 17 saved: tile_17_level0_3102-370-3402-670.png\n",
      "\t Tile 18 saved: tile_18_level0_3402-70-3702-370.png\n",
      "\t Tile 19 saved: tile_19_level0_3402-370-3702-670.png\n",
      "\t Tile 20 saved: tile_20_level0_3702-70-4002-370.png\n",
      "\t Tile 21 saved: tile_21_level0_3702-370-4002-670.png\n",
      "\t Tile 22 saved: tile_22_level0_4002-70-4302-370.png\n",
      "\t Tile 23 saved: tile_23_level0_4002-370-4302-670.png\n",
      "\t Tile 24 saved: tile_24_level0_4302-70-4602-370.png\n",
      "\t Tile 25 saved: tile_25_level0_4302-370-4602-670.png\n",
      "\t Tile 26 saved: tile_26_level0_4602-70-4902-370.png\n",
      "\t Tile 27 saved: tile_27_level0_4602-370-4902-670.png\n",
      "\t Tile 28 saved: tile_28_level0_4902-70-5202-370.png\n",
      "\t Tile 29 saved: tile_29_level0_4902-370-5202-670.png\n",
      "\t Tile 30 saved: tile_30_level0_5202-70-5502-370.png\n",
      "\t Tile 31 saved: tile_31_level0_5202-370-5502-670.png\n",
      "\t Tile 32 saved: tile_32_level0_5502-70-5802-370.png\n",
      "\t Tile 33 saved: tile_33_level0_5502-370-5802-670.png\n",
      "\t Tile 34 saved: tile_34_level0_5802-70-6102-370.png\n",
      "\t Tile 35 saved: tile_35_level0_5802-370-6102-670.png\n",
      "\t Tile 36 saved: tile_36_level0_6102-70-6402-370.png\n",
      "\t Tile 37 saved: tile_37_level0_6102-370-6402-670.png\n",
      "\t Tile 38 saved: tile_38_level0_6402-70-6702-370.png\n",
      "\t Tile 39 saved: tile_39_level0_6402-370-6702-670.png\n",
      "\t Tile 40 saved: tile_40_level0_6702-70-7002-370.png\n",
      "\t Tile 41 saved: tile_41_level0_6702-370-7002-670.png\n",
      "\t Tile 42 saved: tile_42_level0_7002-70-7302-370.png\n",
      "\t Tile 43 saved: tile_43_level0_7002-370-7302-670.png\n",
      "\t Tile 44 saved: tile_44_level0_7302-70-7602-370.png\n",
      "\t Tile 45 saved: tile_45_level0_7302-370-7602-670.png\n",
      "\t Tile 46 saved: tile_46_level0_7602-70-7902-370.png\n",
      "\t Tile 47 saved: tile_47_level0_7602-370-7902-670.png\n",
      "\t Tile 48 saved: tile_48_level0_7902-70-8202-370.png\n",
      "\t Tile 49 saved: tile_49_level0_7902-370-8202-670.png\n",
      "\t Tile 50 saved: tile_50_level0_8202-70-8502-370.png\n",
      "\t Tile 51 saved: tile_51_level0_8202-370-8502-670.png\n",
      "\t Tile 52 saved: tile_52_level0_8502-70-8802-370.png\n",
      "\t Tile 53 saved: tile_53_level0_8502-370-8802-670.png\n",
      "\t Tile 54 saved: tile_54_level0_8802-70-9102-370.png\n",
      "\t Tile 55 saved: tile_55_level0_8802-370-9102-670.png\n",
      "\t Tile 56 saved: tile_56_level0_9102-70-9402-370.png\n",
      "\t Tile 57 saved: tile_57_level0_9102-370-9402-670.png\n",
      "\t Tile 58 saved: tile_58_level0_9402-70-9702-370.png\n",
      "\t Tile 59 saved: tile_59_level0_9402-370-9702-670.png\n",
      "\t Tile 60 saved: tile_60_level0_9702-70-10002-370.png\n",
      "\t Tile 61 saved: tile_61_level0_9702-370-10002-670.png\n",
      "\t Tile 62 saved: tile_62_level0_10002-70-10302-370.png\n",
      "\t Tile 63 saved: tile_63_level0_10002-370-10302-670.png\n",
      "\t Tile 64 saved: tile_64_level0_10302-70-10602-370.png\n",
      "\t Tile 65 saved: tile_65_level0_10302-370-10602-670.png\n",
      "\t Tile 66 saved: tile_66_level0_10602-70-10902-370.png\n",
      "\t Tile 67 saved: tile_67_level0_10602-370-10902-670.png\n",
      "\t Tile 68 saved: tile_68_level0_10902-70-11202-370.png\n",
      "\t Tile 69 saved: tile_69_level0_10902-370-11202-670.png\n",
      "\t Tile 70 saved: tile_70_level0_11202-70-11502-370.png\n",
      "\t Tile 71 saved: tile_71_level0_11202-370-11502-670.png\n",
      "\t Tile 72 saved: tile_72_level0_11502-70-11802-370.png\n",
      "\t Tile 73 saved: tile_73_level0_11502-370-11802-670.png\n",
      "\t Tile 74 saved: tile_74_level0_11802-70-12102-370.png\n",
      "\t Tile 75 saved: tile_75_level0_11802-370-12102-670.png\n",
      "\t Tile 76 saved: tile_76_level0_12102-70-12402-370.png\n",
      "\t Tile 77 saved: tile_77_level0_12102-370-12402-670.png\n",
      "77 Grid Tiles have been saved.\n"
     ]
    }
   ],
   "source": [
    "grid_tiler.extract(pdx_slide);"
   ]
  },
  {
   "cell_type": "code",
   "execution_count": null,
   "metadata": {},
   "outputs": [],
   "source": []
  },
  {
   "cell_type": "markdown",
   "metadata": {},
   "source": [
    "## Extract Tiles Based on Score"
   ]
  },
  {
   "cell_type": "code",
   "execution_count": null,
   "metadata": {},
   "outputs": [],
   "source": [
    "from histolab.scorer import NucleiScorer"
   ]
  },
  {
   "cell_type": "code",
   "execution_count": null,
   "metadata": {},
   "outputs": [],
   "source": []
  },
  {
   "cell_type": "code",
   "execution_count": null,
   "metadata": {},
   "outputs": [],
   "source": []
  },
  {
   "cell_type": "code",
   "execution_count": null,
   "metadata": {},
   "outputs": [],
   "source": []
  },
  {
   "cell_type": "markdown",
   "metadata": {},
   "source": [
    "## Try Filters"
   ]
  },
  {
   "cell_type": "code",
   "execution_count": null,
   "metadata": {},
   "outputs": [],
   "source": []
  },
  {
   "cell_type": "code",
   "execution_count": null,
   "metadata": {},
   "outputs": [],
   "source": []
  },
  {
   "cell_type": "code",
   "execution_count": null,
   "metadata": {},
   "outputs": [],
   "source": []
  },
  {
   "cell_type": "markdown",
   "metadata": {},
   "source": [
    "## Try Morphological filters"
   ]
  },
  {
   "cell_type": "code",
   "execution_count": null,
   "metadata": {},
   "outputs": [],
   "source": []
  },
  {
   "cell_type": "code",
   "execution_count": null,
   "metadata": {},
   "outputs": [],
   "source": []
  },
  {
   "cell_type": "code",
   "execution_count": null,
   "metadata": {},
   "outputs": [],
   "source": []
  },
  {
   "cell_type": "markdown",
   "metadata": {},
   "source": [
    "## TCGA data\n",
    "First things first, let’s import some data to work with, for example the prostate tissue slide and the ovarian tissue slide available in the`data` module:"
   ]
  },
  {
   "cell_type": "code",
   "execution_count": 1,
   "metadata": {},
   "outputs": [],
   "source": [
    "from histolab.data import prostate_tissue, ovarian_tissue"
   ]
  },
  {
   "cell_type": "markdown",
   "metadata": {},
   "source": [
    "<div class=\"alert alert-block alert-info\">\n",
    "<b>Note:</b> To  use  the <mark>data</mark>  module,  you  need  to  install <mark><a href=”https://pypi.org/project/pooch/\">pooch</a></mark>. This step is needless if we are using the Vagrant/Docker virtual environment.</div>"
   ]
  },
  {
   "cell_type": "markdown",
   "metadata": {},
   "source": [
    "The calling to a  `data` function will automatically download the WSIs from the corresponding repository and save the slide in a cached directory:"
   ]
  },
  {
   "cell_type": "code",
   "execution_count": 2,
   "metadata": {},
   "outputs": [],
   "source": [
    "prostate_svs, prostate_path = prostate_tissue()\n",
    "ovarian_svs, ovarian_path = ovarian_tissue()"
   ]
  },
  {
   "cell_type": "markdown",
   "metadata": {},
   "source": [
    "Notice that each  `data` function outputs the corresponding slide, as an *OpenSlide* object, and the path where the slide has been saved."
   ]
  },
  {
   "cell_type": "code",
   "execution_count": 3,
   "metadata": {},
   "outputs": [
    {
     "name": "stdout",
     "output_type": "stream",
     "text": [
      "/Users/apartin/Library/Caches/histolab-images/0.1.0/data/../tcga/prostate/6b725022-f1d5-4672-8c6c-de8140345210\n",
      "/Users/apartin/Library/Caches/histolab-images/0.1.0/data/../tcga/ovarian/b777ec99-2811-4aa4-9568-13f68e380c86\n"
     ]
    }
   ],
   "source": [
    "print(prostate_path)\n",
    "print(ovarian_path)"
   ]
  },
  {
   "cell_type": "markdown",
   "metadata": {},
   "source": [
    "## Slide initialization\n",
    "\n",
    "`histolab` maps a WSI file into a `Slide` object. Each usage of a WSI requires a 1-o-1 association with a `Slide` object contained in the`slide` module:"
   ]
  },
  {
   "cell_type": "code",
   "execution_count": 4,
   "metadata": {},
   "outputs": [],
   "source": [
    "from histolab.slide import Slide"
   ]
  },
  {
   "cell_type": "markdown",
   "metadata": {},
   "source": [
    "To initialize a `Slide` it is necessary to specify the WSI path, and the `processed_path` where the thumbnail and the tiles will be saved. In our example, we want the `processed_path` of each slide to be a subfolder of the current working directory:"
   ]
  },
  {
   "cell_type": "code",
   "execution_count": 5,
   "metadata": {},
   "outputs": [],
   "source": [
    "import os\n",
    "\n",
    "BASE_PATH = os.getcwd()\n",
    "\n",
    "PROCESS_PATH_PROSTATE = os.path.join(BASE_PATH, 'prostate', 'processed')\n",
    "PROCESS_PATH_OVARIAN  = os.path.join(BASE_PATH, 'ovarian', 'processed')\n",
    "\n",
    "# path: path where the WSI is saved\n",
    "# prostate_path: path where thumbnails and scaled images will be saved to.\n",
    "prostate_slide = Slide(path=prostate_path, processed_path=PROCESS_PATH_PROSTATE)\n",
    "ovarian_slide  = Slide(path=ovarian_path, processed_path=PROCESS_PATH_OVARIAN)"
   ]
  },
  {
   "cell_type": "markdown",
   "metadata": {},
   "source": [
    "<div class=\"alert alert-block alert-info\">\n",
    "<b>Note:</b> If our slides were stored in the same folder, this can be done directly on the whole dataset by calling the <mark>SlideSet</mark> object of the <mark>slide</mark> module.</div>"
   ]
  },
  {
   "cell_type": "markdown",
   "metadata": {},
   "source": [
    "With a `Slide` object we can easily retrieve information about the slide, such as the slide name, the number of available levels, the dimensions at native magnification or at a specified level:"
   ]
  },
  {
   "cell_type": "code",
   "execution_count": 6,
   "metadata": {},
   "outputs": [
    {
     "name": "stdout",
     "output_type": "stream",
     "text": [
      "Slide name: 6b725022-f1d5-4672-8c6c-de8140345210\n",
      "Levels: [0, 1, 2]\n",
      "Dimensions at level 0: (16000, 15316)\n",
      "Dimensions at level 1: (4000, 3829)\n",
      "Dimensions at level 2: (2000, 1914)\n"
     ]
    }
   ],
   "source": [
    "print(f\"Slide name: {prostate_slide.name}\")\n",
    "\n",
    "print(f\"Levels: {prostate_slide.levels}\")\n",
    "\n",
    "print(f\"Dimensions at level 0: {prostate_slide.dimensions}\")\n",
    "\n",
    "print(f\"Dimensions at level 1: {prostate_slide.level_dimensions(level=1)}\")\n",
    "\n",
    "print(f\"Dimensions at level 2: {prostate_slide.level_dimensions(level=2)}\")"
   ]
  },
  {
   "cell_type": "code",
   "execution_count": 7,
   "metadata": {},
   "outputs": [
    {
     "name": "stdout",
     "output_type": "stream",
     "text": [
      "Slide name: b777ec99-2811-4aa4-9568-13f68e380c86\n",
      "Levels: [0, 1, 2]\n",
      "Dimensions at level 0: (30001, 33987)\n",
      "Dimensions at level 1: (7500, 8496)\n",
      "Dimensions at level 2: (1875, 2124)\n"
     ]
    }
   ],
   "source": [
    "print(f\"Slide name: {ovarian_slide.name}\")\n",
    "\n",
    "print(f\"Levels: {ovarian_slide.levels}\")\n",
    "\n",
    "print(f\"Dimensions at level 0: {ovarian_slide.dimensions}\")\n",
    "\n",
    "print(f\"Dimensions at level 1: {ovarian_slide.level_dimensions(level=1)}\")\n",
    "\n",
    "print(f\"Dimensions at level 2: {ovarian_slide.level_dimensions(level=2)}\")"
   ]
  },
  {
   "cell_type": "markdown",
   "metadata": {},
   "source": [
    "Moreover, we can save and show the slide thumbnail in a separate window. In particular, the thumbnail image will be automatically saved in a subdirectory of the `processed_path`:"
   ]
  },
  {
   "cell_type": "code",
   "execution_count": 8,
   "metadata": {},
   "outputs": [
    {
     "name": "stdout",
     "output_type": "stream",
     "text": [
      "Thumbnails saved at: /Users/apartin/work/jdacs/pdx-img-code/prostate/processed/thumbnails/6b725022-f1d5-4672-8c6c-de8140345210.png\n"
     ]
    }
   ],
   "source": [
    "prostate_slide.save_thumbnail()\n",
    "print(f\"Thumbnails saved at: {prostate_slide.thumbnail_path}\")"
   ]
  },
  {
   "cell_type": "code",
   "execution_count": 9,
   "metadata": {},
   "outputs": [],
   "source": [
    "# prostate_slide.show()"
   ]
  },
  {
   "cell_type": "code",
   "execution_count": 10,
   "metadata": {},
   "outputs": [
    {
     "name": "stdout",
     "output_type": "stream",
     "text": [
      "Thumbnails saved at: /Users/apartin/work/jdacs/pdx-img-code/ovarian/processed/thumbnails/b777ec99-2811-4aa4-9568-13f68e380c86.png\n"
     ]
    }
   ],
   "source": [
    "ovarian_slide.save_thumbnail()\n",
    "print(f\"Thumbnails saved at: {ovarian_slide.thumbnail_path}\")"
   ]
  },
  {
   "cell_type": "code",
   "execution_count": 11,
   "metadata": {},
   "outputs": [],
   "source": [
    "# ovarian_slide.show()"
   ]
  },
  {
   "cell_type": "markdown",
   "metadata": {},
   "source": [
    "## Tiles extraction\n",
    "\n",
    "Once that our `Slide` objects are defined, we can proceed to extract the tiles. To speed up the extraction process, `histolab` automatically detects the tissue region with the largest connected area and crops the tiles within this field. The `tiler` module implements different strategies for the tiles extraction and provides an intuitive interface to easily retrieve a tile dataset suitable for our task. In particular, each extraction method is customizable with several common parameters:\n",
    "\n",
    "P1) `tile_size`: the tile size;\n",
    "\n",
    "P2) `level`: the extraction level (from 0 to the number of available levels);\n",
    "\n",
    "P3) `check_tissue`: if a minimum percentage of tissue is required to save the tiles (default is 80\\%);\n",
    "\n",
    "P4) `prefix`: a prefix to be added at the beginning of the tiles' filename (default is the empty string);\n",
    "\n",
    "P5) `suffix`: a suffix to be added to the end of the tiles' filename (default is `.png`)."
   ]
  },
  {
   "cell_type": "markdown",
   "metadata": {},
   "source": [
    "### Random extraction"
   ]
  },
  {
   "cell_type": "markdown",
   "metadata": {},
   "source": [
    "The simplest approach we may adopt is to randomly crop a fixed number of tiles from our slides; in this case, we need the `randomtiler` extractor:"
   ]
  },
  {
   "cell_type": "code",
   "execution_count": 12,
   "metadata": {},
   "outputs": [],
   "source": [
    "from histolab.tiler import RandomTiler"
   ]
  },
  {
   "cell_type": "markdown",
   "metadata": {},
   "source": [
    "Let's suppose that we want to randomly extract 6 squared tiles at level 2 of size 512 from our prostate slide, and that we want to save them only if they have at least 80\\% of tissue inside. We then initialize our `randomtiler` extractor as follows:"
   ]
  },
  {
   "cell_type": "code",
   "execution_count": 13,
   "metadata": {},
   "outputs": [],
   "source": [
    "PROSTATE_RANDOM_TILES_PATH = os.path.join(PROCESS_PATH_PROSTATE, 'random') # save tiles in the 'random' subdirectory\n",
    "\n",
    "random_tiles_extractor = RandomTiler(\n",
    "    tile_size=(512, 512),\n",
    "    n_tiles=6,          # Maximum number of tiles to extract\n",
    "    level=2,\n",
    "    seed=42,\n",
    "    check_tissue=True,  # Whether to check if the tile has enough tissue to be saved\n",
    "    prefix=PROSTATE_RANDOM_TILES_PATH, \n",
    "    suffix=\".png\" # default\n",
    ")"
   ]
  },
  {
   "cell_type": "markdown",
   "metadata": {},
   "source": [
    "Notice that we also specify the random seed to ensure the reproducibility of the derived dataset.\n",
    "\n",
    "Starting the extraction is as simple as calling the `extract` method on our slide:"
   ]
  },
  {
   "cell_type": "code",
   "execution_count": 14,
   "metadata": {
    "scrolled": true
   },
   "outputs": [
    {
     "name": "stdout",
     "output_type": "stream",
     "text": [
      "\t Tile 0 saved: /Users/apartin/work/jdacs/pdx-img-code/prostate/processed/randomtile_0_level2_4400-8608-8496-12706.png\n",
      "\t Tile 1 saved: /Users/apartin/work/jdacs/pdx-img-code/prostate/processed/randomtile_1_level2_5700-7307-9796-11404.png\n",
      "\t Tile 2 saved: /Users/apartin/work/jdacs/pdx-img-code/prostate/processed/randomtile_2_level2_3400-1901-7496-5999.png\n",
      "\t Tile 3 saved: /Users/apartin/work/jdacs/pdx-img-code/prostate/processed/randomtile_3_level2_4700-6206-8796-10303.png\n",
      "\t Tile 4 saved: /Users/apartin/work/jdacs/pdx-img-code/prostate/processed/randomtile_4_level2_4200-5605-8296-9702.png\n",
      "\t Tile 5 saved: /Users/apartin/work/jdacs/pdx-img-code/prostate/processed/randomtile_5_level2_1900-1601-5996-5698.png\n",
      "6 Random Tiles have been saved.\n"
     ]
    }
   ],
   "source": [
    "random_tiles_extractor.extract(prostate_slide)"
   ]
  },
  {
   "cell_type": "markdown",
   "metadata": {},
   "source": [
    "## super important!"
   ]
  },
  {
   "cell_type": "code",
   "execution_count": 15,
   "metadata": {},
   "outputs": [
    {
     "name": "stdout",
     "output_type": "stream",
     "text": [
      "512.0\n",
      "512.25\n"
     ]
    }
   ],
   "source": [
    "# (ap) Note that the generated tiles have size that is not consistent with the specified tile_size.\n",
    "# That's because the tile_size defines the number of units (pixel) in the level 0, while we're acquiring level 2.\n",
    "lv0 = prostate_slide.level_dimensions(level=0)\n",
    "lv2 = prostate_slide.level_dimensions(level=2)\n",
    "x_scale = lv0[0]/lv2[0]\n",
    "y_scale = lv0[1]/lv2[1]\n",
    "print((8496-4400)/x_scale)\n",
    "print((12706-8608)/x_scale)"
   ]
  },
  {
   "cell_type": "markdown",
   "metadata": {},
   "source": [
    "### Grid extraction\n",
    "\n",
    "Instead of picking tiles at random, we may want to retrieve all the tissue available. The `gridtiler` extractor crops the tiles following a grid structure on the largest tissue region detected in the WSI:"
   ]
  },
  {
   "cell_type": "code",
   "execution_count": 16,
   "metadata": {},
   "outputs": [],
   "source": [
    "from histolab.tiler import GridTiler"
   ]
  },
  {
   "cell_type": "markdown",
   "metadata": {},
   "source": [
    "In our example, we want to extract squared tiles at level 0 of size 512 from our ovarian slide, independently of the amount of tissue detected. By default, tiles will not overlap, namely the parameter defining the number of overlapping pixels between two adjacent tiles, `pixel_overlap`, is set to zero:"
   ]
  },
  {
   "cell_type": "code",
   "execution_count": 17,
   "metadata": {},
   "outputs": [],
   "source": [
    "OVARIAN_GRID_TILES_PATH = os.path.join(PROCESS_PATH_OVARIAN, 'grid') # save tiles in the 'grid' subdirectory\n",
    "\n",
    "grid_tiles_extractor = GridTiler(\n",
    "    tile_size=(512, 512),\n",
    "    level=0,\n",
    "    # check_tissue=False,\n",
    "    check_tissue=True,\n",
    "    pixel_overlap=0,  # Number of overlapping pixels (for both height and width) between two adjacent tiles.\n",
    "    prefix=OVARIAN_GRID_TILES_PATH, \n",
    "    suffix=\".png\" # default\n",
    ")"
   ]
  },
  {
   "cell_type": "markdown",
   "metadata": {},
   "source": [
    "Again, the extraction process starts when the extract method is called on our slide:"
   ]
  },
  {
   "cell_type": "code",
   "execution_count": 18,
   "metadata": {},
   "outputs": [
    {
     "name": "stdout",
     "output_type": "stream",
     "text": [
      "\t Tile 0 saved: /Users/apartin/work/jdacs/pdx-img-code/ovarian/processed/gridtile_0_level0_9292-1736-9804-2248.png\n",
      "\t Tile 1 saved: /Users/apartin/work/jdacs/pdx-img-code/ovarian/processed/gridtile_1_level0_8780-2248-9292-2760.png\n",
      "\t Tile 2 saved: /Users/apartin/work/jdacs/pdx-img-code/ovarian/processed/gridtile_2_level0_9292-2248-9804-2760.png\n",
      "\t Tile 3 saved: /Users/apartin/work/jdacs/pdx-img-code/ovarian/processed/gridtile_3_level0_9804-2248-10316-2760.png\n",
      "\t Tile 4 saved: /Users/apartin/work/jdacs/pdx-img-code/ovarian/processed/gridtile_4_level0_11340-2248-11852-2760.png\n",
      "\t Tile 5 saved: /Users/apartin/work/jdacs/pdx-img-code/ovarian/processed/gridtile_5_level0_11852-2248-12364-2760.png\n",
      "\t Tile 6 saved: /Users/apartin/work/jdacs/pdx-img-code/ovarian/processed/gridtile_6_level0_8780-2760-9292-3272.png\n",
      "\t Tile 7 saved: /Users/apartin/work/jdacs/pdx-img-code/ovarian/processed/gridtile_7_level0_5708-3272-6220-3784.png\n",
      "\t Tile 8 saved: /Users/apartin/work/jdacs/pdx-img-code/ovarian/processed/gridtile_8_level0_10828-3272-11340-3784.png\n",
      "\t Tile 9 saved: /Users/apartin/work/jdacs/pdx-img-code/ovarian/processed/gridtile_9_level0_8780-3784-9292-4296.png\n",
      "\t Tile 10 saved: /Users/apartin/work/jdacs/pdx-img-code/ovarian/processed/gridtile_10_level0_10316-3784-10828-4296.png\n",
      "\t Tile 11 saved: /Users/apartin/work/jdacs/pdx-img-code/ovarian/processed/gridtile_11_level0_11340-4296-11852-4808.png\n",
      "\t Tile 12 saved: /Users/apartin/work/jdacs/pdx-img-code/ovarian/processed/gridtile_12_level0_11852-4808-12364-5320.png\n",
      "\t Tile 13 saved: /Users/apartin/work/jdacs/pdx-img-code/ovarian/processed/gridtile_13_level0_12364-4808-12876-5320.png\n",
      "\t Tile 14 saved: /Users/apartin/work/jdacs/pdx-img-code/ovarian/processed/gridtile_14_level0_13388-4808-13900-5320.png\n",
      "\t Tile 15 saved: /Users/apartin/work/jdacs/pdx-img-code/ovarian/processed/gridtile_15_level0_4172-5320-4684-5832.png\n",
      "\t Tile 16 saved: /Users/apartin/work/jdacs/pdx-img-code/ovarian/processed/gridtile_16_level0_12364-5320-12876-5832.png\n",
      "\t Tile 17 saved: /Users/apartin/work/jdacs/pdx-img-code/ovarian/processed/gridtile_17_level0_13388-5320-13900-5832.png\n",
      "\t Tile 18 saved: /Users/apartin/work/jdacs/pdx-img-code/ovarian/processed/gridtile_18_level0_14924-5320-15436-5832.png\n",
      "\t Tile 19 saved: /Users/apartin/work/jdacs/pdx-img-code/ovarian/processed/gridtile_19_level0_2636-5832-3148-6344.png\n",
      "\t Tile 20 saved: /Users/apartin/work/jdacs/pdx-img-code/ovarian/processed/gridtile_20_level0_3148-5832-3660-6344.png\n",
      "\t Tile 21 saved: /Users/apartin/work/jdacs/pdx-img-code/ovarian/processed/gridtile_21_level0_3660-5832-4172-6344.png\n",
      "\t Tile 22 saved: /Users/apartin/work/jdacs/pdx-img-code/ovarian/processed/gridtile_22_level0_6732-5832-7244-6344.png\n",
      "\t Tile 23 saved: /Users/apartin/work/jdacs/pdx-img-code/ovarian/processed/gridtile_23_level0_11852-5832-12364-6344.png\n",
      "\t Tile 24 saved: /Users/apartin/work/jdacs/pdx-img-code/ovarian/processed/gridtile_24_level0_3660-6344-4172-6856.png\n",
      "\t Tile 25 saved: /Users/apartin/work/jdacs/pdx-img-code/ovarian/processed/gridtile_25_level0_13388-6344-13900-6856.png\n",
      "\t Tile 26 saved: /Users/apartin/work/jdacs/pdx-img-code/ovarian/processed/gridtile_26_level0_13900-6344-14412-6856.png\n",
      "\t Tile 27 saved: /Users/apartin/work/jdacs/pdx-img-code/ovarian/processed/gridtile_27_level0_16972-6344-17484-6856.png\n",
      "\t Tile 28 saved: /Users/apartin/work/jdacs/pdx-img-code/ovarian/processed/gridtile_28_level0_4684-6856-5196-7368.png\n",
      "\t Tile 29 saved: /Users/apartin/work/jdacs/pdx-img-code/ovarian/processed/gridtile_29_level0_13900-6856-14412-7368.png\n",
      "\t Tile 30 saved: /Users/apartin/work/jdacs/pdx-img-code/ovarian/processed/gridtile_30_level0_18508-6856-19020-7368.png\n",
      "\t Tile 31 saved: /Users/apartin/work/jdacs/pdx-img-code/ovarian/processed/gridtile_31_level0_3148-7368-3660-7880.png\n",
      "\t Tile 32 saved: /Users/apartin/work/jdacs/pdx-img-code/ovarian/processed/gridtile_32_level0_12876-7880-13388-8392.png\n",
      "\t Tile 33 saved: /Users/apartin/work/jdacs/pdx-img-code/ovarian/processed/gridtile_33_level0_19532-7880-20044-8392.png\n",
      "\t Tile 34 saved: /Users/apartin/work/jdacs/pdx-img-code/ovarian/processed/gridtile_34_level0_8268-8392-8780-8904.png\n",
      "\t Tile 35 saved: /Users/apartin/work/jdacs/pdx-img-code/ovarian/processed/gridtile_35_level0_10316-8392-10828-8904.png\n",
      "\t Tile 36 saved: /Users/apartin/work/jdacs/pdx-img-code/ovarian/processed/gridtile_36_level0_3148-8904-3660-9416.png\n",
      "\t Tile 37 saved: /Users/apartin/work/jdacs/pdx-img-code/ovarian/processed/gridtile_37_level0_3660-8904-4172-9416.png\n",
      "\t Tile 38 saved: /Users/apartin/work/jdacs/pdx-img-code/ovarian/processed/gridtile_38_level0_19532-8904-20044-9416.png\n",
      "\t Tile 39 saved: /Users/apartin/work/jdacs/pdx-img-code/ovarian/processed/gridtile_39_level0_9804-9416-10316-9928.png\n",
      "\t Tile 40 saved: /Users/apartin/work/jdacs/pdx-img-code/ovarian/processed/gridtile_40_level0_14412-9416-14924-9928.png\n",
      "\t Tile 41 saved: /Users/apartin/work/jdacs/pdx-img-code/ovarian/processed/gridtile_41_level0_19532-9416-20044-9928.png\n",
      "\t Tile 42 saved: /Users/apartin/work/jdacs/pdx-img-code/ovarian/processed/gridtile_42_level0_9292-9928-9804-10440.png\n",
      "\t Tile 43 saved: /Users/apartin/work/jdacs/pdx-img-code/ovarian/processed/gridtile_43_level0_9804-9928-10316-10440.png\n",
      "\t Tile 44 saved: /Users/apartin/work/jdacs/pdx-img-code/ovarian/processed/gridtile_44_level0_20044-9928-20556-10440.png\n",
      "\t Tile 45 saved: /Users/apartin/work/jdacs/pdx-img-code/ovarian/processed/gridtile_45_level0_2636-10440-3148-10952.png\n",
      "\t Tile 46 saved: /Users/apartin/work/jdacs/pdx-img-code/ovarian/processed/gridtile_46_level0_4684-10440-5196-10952.png\n",
      "\t Tile 47 saved: /Users/apartin/work/jdacs/pdx-img-code/ovarian/processed/gridtile_47_level0_10316-10440-10828-10952.png\n",
      "\t Tile 48 saved: /Users/apartin/work/jdacs/pdx-img-code/ovarian/processed/gridtile_48_level0_4172-10952-4684-11464.png\n",
      "\t Tile 49 saved: /Users/apartin/work/jdacs/pdx-img-code/ovarian/processed/gridtile_49_level0_5196-10952-5708-11464.png\n",
      "\t Tile 50 saved: /Users/apartin/work/jdacs/pdx-img-code/ovarian/processed/gridtile_50_level0_9804-10952-10316-11464.png\n",
      "\t Tile 51 saved: /Users/apartin/work/jdacs/pdx-img-code/ovarian/processed/gridtile_51_level0_4172-11464-4684-11976.png\n",
      "\t Tile 52 saved: /Users/apartin/work/jdacs/pdx-img-code/ovarian/processed/gridtile_52_level0_3148-12488-3660-13000.png\n",
      "\t Tile 53 saved: /Users/apartin/work/jdacs/pdx-img-code/ovarian/processed/gridtile_53_level0_8268-12488-8780-13000.png\n",
      "\t Tile 54 saved: /Users/apartin/work/jdacs/pdx-img-code/ovarian/processed/gridtile_54_level0_3148-13000-3660-13512.png\n",
      "\t Tile 55 saved: /Users/apartin/work/jdacs/pdx-img-code/ovarian/processed/gridtile_55_level0_8268-13000-8780-13512.png\n",
      "\t Tile 56 saved: /Users/apartin/work/jdacs/pdx-img-code/ovarian/processed/gridtile_56_level0_23116-13000-23628-13512.png\n",
      "\t Tile 57 saved: /Users/apartin/work/jdacs/pdx-img-code/ovarian/processed/gridtile_57_level0_23116-13512-23628-14024.png\n",
      "\t Tile 58 saved: /Users/apartin/work/jdacs/pdx-img-code/ovarian/processed/gridtile_58_level0_2124-14024-2636-14536.png\n",
      "\t Tile 59 saved: /Users/apartin/work/jdacs/pdx-img-code/ovarian/processed/gridtile_59_level0_4172-14024-4684-14536.png\n",
      "\t Tile 60 saved: /Users/apartin/work/jdacs/pdx-img-code/ovarian/processed/gridtile_60_level0_7756-14024-8268-14536.png\n",
      "\t Tile 61 saved: /Users/apartin/work/jdacs/pdx-img-code/ovarian/processed/gridtile_61_level0_10316-14024-10828-14536.png\n",
      "\t Tile 62 saved: /Users/apartin/work/jdacs/pdx-img-code/ovarian/processed/gridtile_62_level0_15436-14024-15948-14536.png\n",
      "\t Tile 63 saved: /Users/apartin/work/jdacs/pdx-img-code/ovarian/processed/gridtile_63_level0_21580-14024-22092-14536.png\n",
      "\t Tile 64 saved: /Users/apartin/work/jdacs/pdx-img-code/ovarian/processed/gridtile_64_level0_24140-14024-24652-14536.png\n",
      "\t Tile 65 saved: /Users/apartin/work/jdacs/pdx-img-code/ovarian/processed/gridtile_65_level0_12364-14536-12876-15048.png\n",
      "\t Tile 66 saved: /Users/apartin/work/jdacs/pdx-img-code/ovarian/processed/gridtile_66_level0_12876-14536-13388-15048.png\n",
      "\t Tile 67 saved: /Users/apartin/work/jdacs/pdx-img-code/ovarian/processed/gridtile_67_level0_16460-14536-16972-15048.png\n",
      "\t Tile 68 saved: /Users/apartin/work/jdacs/pdx-img-code/ovarian/processed/gridtile_68_level0_2124-15048-2636-15560.png\n",
      "\t Tile 69 saved: /Users/apartin/work/jdacs/pdx-img-code/ovarian/processed/gridtile_69_level0_2636-15048-3148-15560.png\n",
      "\t Tile 70 saved: /Users/apartin/work/jdacs/pdx-img-code/ovarian/processed/gridtile_70_level0_20556-15048-21068-15560.png\n",
      "\t Tile 71 saved: /Users/apartin/work/jdacs/pdx-img-code/ovarian/processed/gridtile_71_level0_2124-15560-2636-16072.png\n",
      "\t Tile 72 saved: /Users/apartin/work/jdacs/pdx-img-code/ovarian/processed/gridtile_72_level0_3148-15560-3660-16072.png\n",
      "\t Tile 73 saved: /Users/apartin/work/jdacs/pdx-img-code/ovarian/processed/gridtile_73_level0_10316-15560-10828-16072.png\n",
      "\t Tile 74 saved: /Users/apartin/work/jdacs/pdx-img-code/ovarian/processed/gridtile_74_level0_10828-16072-11340-16584.png\n",
      "\t Tile 75 saved: /Users/apartin/work/jdacs/pdx-img-code/ovarian/processed/gridtile_75_level0_26188-16072-26700-16584.png\n",
      "\t Tile 76 saved: /Users/apartin/work/jdacs/pdx-img-code/ovarian/processed/gridtile_76_level0_13388-17096-13900-17608.png\n",
      "\t Tile 77 saved: /Users/apartin/work/jdacs/pdx-img-code/ovarian/processed/gridtile_77_level0_13900-17096-14412-17608.png\n",
      "\t Tile 78 saved: /Users/apartin/work/jdacs/pdx-img-code/ovarian/processed/gridtile_78_level0_14412-17096-14924-17608.png\n",
      "\t Tile 79 saved: /Users/apartin/work/jdacs/pdx-img-code/ovarian/processed/gridtile_79_level0_26700-17096-27212-17608.png\n",
      "\t Tile 80 saved: /Users/apartin/work/jdacs/pdx-img-code/ovarian/processed/gridtile_80_level0_2124-17608-2636-18120.png\n",
      "\t Tile 81 saved: /Users/apartin/work/jdacs/pdx-img-code/ovarian/processed/gridtile_81_level0_4684-17608-5196-18120.png\n",
      "\t Tile 82 saved: /Users/apartin/work/jdacs/pdx-img-code/ovarian/processed/gridtile_82_level0_3148-18120-3660-18632.png\n",
      "\t Tile 83 saved: /Users/apartin/work/jdacs/pdx-img-code/ovarian/processed/gridtile_83_level0_25164-18120-25676-18632.png\n",
      "\t Tile 84 saved: /Users/apartin/work/jdacs/pdx-img-code/ovarian/processed/gridtile_84_level0_3660-18632-4172-19144.png\n",
      "\t Tile 85 saved: /Users/apartin/work/jdacs/pdx-img-code/ovarian/processed/gridtile_85_level0_3148-19144-3660-19656.png\n",
      "\t Tile 86 saved: /Users/apartin/work/jdacs/pdx-img-code/ovarian/processed/gridtile_86_level0_20556-19144-21068-19656.png\n",
      "\t Tile 87 saved: /Users/apartin/work/jdacs/pdx-img-code/ovarian/processed/gridtile_87_level0_20556-19656-21068-20168.png\n",
      "\t Tile 88 saved: /Users/apartin/work/jdacs/pdx-img-code/ovarian/processed/gridtile_88_level0_9292-20168-9804-20680.png\n",
      "\t Tile 89 saved: /Users/apartin/work/jdacs/pdx-img-code/ovarian/processed/gridtile_89_level0_10828-20680-11340-21192.png\n",
      "\t Tile 90 saved: /Users/apartin/work/jdacs/pdx-img-code/ovarian/processed/gridtile_90_level0_22604-21192-23116-21704.png\n",
      "\t Tile 91 saved: /Users/apartin/work/jdacs/pdx-img-code/ovarian/processed/gridtile_91_level0_23628-21704-24140-22216.png\n",
      "\t Tile 92 saved: /Users/apartin/work/jdacs/pdx-img-code/ovarian/processed/gridtile_92_level0_6220-22216-6732-22728.png\n",
      "\t Tile 93 saved: /Users/apartin/work/jdacs/pdx-img-code/ovarian/processed/gridtile_93_level0_11340-22216-11852-22728.png\n",
      "\t Tile 94 saved: /Users/apartin/work/jdacs/pdx-img-code/ovarian/processed/gridtile_94_level0_19532-22216-20044-22728.png\n",
      "\t Tile 95 saved: /Users/apartin/work/jdacs/pdx-img-code/ovarian/processed/gridtile_95_level0_22604-22216-23116-22728.png\n",
      "\t Tile 96 saved: /Users/apartin/work/jdacs/pdx-img-code/ovarian/processed/gridtile_96_level0_10828-23240-11340-23752.png\n",
      "\t Tile 97 saved: /Users/apartin/work/jdacs/pdx-img-code/ovarian/processed/gridtile_97_level0_20044-23240-20556-23752.png\n",
      "\t Tile 98 saved: /Users/apartin/work/jdacs/pdx-img-code/ovarian/processed/gridtile_98_level0_8268-23752-8780-24264.png\n",
      "\t Tile 99 saved: /Users/apartin/work/jdacs/pdx-img-code/ovarian/processed/gridtile_99_level0_8780-23752-9292-24264.png\n",
      "\t Tile 100 saved: /Users/apartin/work/jdacs/pdx-img-code/ovarian/processed/gridtile_100_level0_9292-23752-9804-24264.png\n",
      "\t Tile 101 saved: /Users/apartin/work/jdacs/pdx-img-code/ovarian/processed/gridtile_101_level0_10828-23752-11340-24264.png\n",
      "\t Tile 102 saved: /Users/apartin/work/jdacs/pdx-img-code/ovarian/processed/gridtile_102_level0_9804-24264-10316-24776.png\n",
      "\t Tile 103 saved: /Users/apartin/work/jdacs/pdx-img-code/ovarian/processed/gridtile_103_level0_8780-24776-9292-25288.png\n",
      "\t Tile 104 saved: /Users/apartin/work/jdacs/pdx-img-code/ovarian/processed/gridtile_104_level0_25676-24776-26188-25288.png\n",
      "\t Tile 105 saved: /Users/apartin/work/jdacs/pdx-img-code/ovarian/processed/gridtile_105_level0_23628-26312-24140-26824.png\n",
      "105 Grid Tiles have been saved.\n"
     ]
    }
   ],
   "source": [
    "grid_tiles_extractor.extract(ovarian_slide)"
   ]
  },
  {
   "cell_type": "code",
   "execution_count": null,
   "metadata": {},
   "outputs": [],
   "source": []
  },
  {
   "cell_type": "markdown",
   "metadata": {},
   "source": [
    "### Score-based extraction\n",
    "\n",
    "According to the task addressed, the tiles extracted may not be equally informative.\n",
    "\n",
    "The `ScoreTiler` allows us to save only the \"best\" tiles, among all the ones extracted with a grid structure, based on a specific scoring function. \n",
    "\n",
    "For example, let's suppose that our goal is the detection of mitotic activity on our ovarian slide. In this case, tiles with a higher presence of nuclei are preferable over tile with little or no nuclei. We can leverage the `NucleiScorer` function of the `scorer` module to order the extracted tiles based on the proportion of the tissue and of the hematoxylin staining.\n",
    "\n",
    "In particular, the score is computed as $N_t\\cdot\\mathrm{tanh}(T_t)$, where $N_t$ is the percentage of nuclei and $T_t$ the percentage of tissue in the tile $t$."
   ]
  },
  {
   "cell_type": "markdown",
   "metadata": {},
   "source": [
    "First, we need the extractor and the scorer:"
   ]
  },
  {
   "cell_type": "code",
   "execution_count": 28,
   "metadata": {},
   "outputs": [],
   "source": [
    "from histolab.tiler import ScoreTiler\n",
    "from histolab.scorer import NucleiScorer"
   ]
  },
  {
   "cell_type": "markdown",
   "metadata": {},
   "source": [
    "As the `ScoreTiler` extends the `GridTiler` extractor, we also set the `pixel_overlap` as additional parameter. Moreover, we can specify the number of the top tiles we want to save with the `n_tile` parameter:"
   ]
  },
  {
   "cell_type": "code",
   "execution_count": 29,
   "metadata": {},
   "outputs": [],
   "source": [
    "OVARIAN_SCORED_TILES_PATH = os.path.join(PROCESS_PATH_OVARIAN, 'scored') # save tiles in the 'scored' subdirectory\n",
    "\n",
    "scored_tiles_extractor = ScoreTiler(\n",
    "    scorer = NucleiScorer(),\n",
    "    tile_size=(512, 512),\n",
    "    n_tiles=0, \n",
    "    level=0,\n",
    "    check_tissue=True, \n",
    "    pixel_overlap=0, # default \n",
    "    prefix=OVARIAN_SCORED_TILES_PATH, \n",
    "    suffix=\".png\" # default\n",
    ")"
   ]
  },
  {
   "cell_type": "markdown",
   "metadata": {},
   "source": [
    "Finally, when we extract our cropped images, we can also write a report of the saved tiles and their scores in a CSV file:"
   ]
  },
  {
   "cell_type": "code",
   "execution_count": 30,
   "metadata": {},
   "outputs": [],
   "source": [
    "summary_filename = 'summary_ovarian_tiles.csv'\n",
    "SUMMARY_PATH = os.path.join(OVARIAN_SCORED_TILES_PATH, summary_filename)\n",
    "os.makedirs(OVARIAN_SCORED_TILES_PATH, exist_ok=True)"
   ]
  },
  {
   "cell_type": "code",
   "execution_count": 31,
   "metadata": {},
   "outputs": [
    {
     "name": "stdout",
     "output_type": "stream",
     "text": [
      "\t Tile 0 - score: 0.4079342437639002 saved: /Users/apartin/work/jdacs/pdx-img-code/ovarian/processed/scoredtile_0_level0_2124-14024-2636-14536.png\n",
      "\t Tile 1 - score: 0.37629845545219753 saved: /Users/apartin/work/jdacs/pdx-img-code/ovarian/processed/scoredtile_1_level0_8780-2760-9292-3272.png\n",
      "\t Tile 2 - score: 0.37373757205425406 saved: /Users/apartin/work/jdacs/pdx-img-code/ovarian/processed/scoredtile_2_level0_9292-2248-9804-2760.png\n",
      "\t Tile 3 - score: 0.3678220410300638 saved: /Users/apartin/work/jdacs/pdx-img-code/ovarian/processed/scoredtile_3_level0_8780-2248-9292-2760.png\n",
      "\t Tile 4 - score: 0.36503579581920026 saved: /Users/apartin/work/jdacs/pdx-img-code/ovarian/processed/scoredtile_4_level0_23628-21704-24140-22216.png\n",
      "\t Tile 5 - score: 0.36312350641706215 saved: /Users/apartin/work/jdacs/pdx-img-code/ovarian/processed/scoredtile_5_level0_3148-7368-3660-7880.png\n",
      "\t Tile 6 - score: 0.3592006139520371 saved: /Users/apartin/work/jdacs/pdx-img-code/ovarian/processed/scoredtile_6_level0_5708-3272-6220-3784.png\n",
      "\t Tile 7 - score: 0.35308697205347583 saved: /Users/apartin/work/jdacs/pdx-img-code/ovarian/processed/scoredtile_7_level0_3148-19144-3660-19656.png\n",
      "\t Tile 8 - score: 0.34260412127871787 saved: /Users/apartin/work/jdacs/pdx-img-code/ovarian/processed/scoredtile_8_level0_3660-18632-4172-19144.png\n",
      "\t Tile 9 - score: 0.3420772435060583 saved: /Users/apartin/work/jdacs/pdx-img-code/ovarian/processed/scoredtile_9_level0_3148-18120-3660-18632.png\n",
      "\t Tile 10 - score: 0.3410330696615792 saved: /Users/apartin/work/jdacs/pdx-img-code/ovarian/processed/scoredtile_10_level0_9292-1736-9804-2248.png\n",
      "\t Tile 11 - score: 0.3390195146624165 saved: /Users/apartin/work/jdacs/pdx-img-code/ovarian/processed/scoredtile_11_level0_23628-26312-24140-26824.png\n",
      "\t Tile 12 - score: 0.3369586766032426 saved: /Users/apartin/work/jdacs/pdx-img-code/ovarian/processed/scoredtile_12_level0_22604-21192-23116-21704.png\n",
      "\t Tile 13 - score: 0.33534412369256217 saved: /Users/apartin/work/jdacs/pdx-img-code/ovarian/processed/scoredtile_13_level0_18508-6856-19020-7368.png\n",
      "\t Tile 14 - score: 0.335128160458482 saved: /Users/apartin/work/jdacs/pdx-img-code/ovarian/processed/scoredtile_14_level0_25676-24776-26188-25288.png\n",
      "\t Tile 15 - score: 0.3337360622555929 saved: /Users/apartin/work/jdacs/pdx-img-code/ovarian/processed/scoredtile_15_level0_16972-6344-17484-6856.png\n",
      "\t Tile 16 - score: 0.33032310653198693 saved: /Users/apartin/work/jdacs/pdx-img-code/ovarian/processed/scoredtile_16_level0_3660-6344-4172-6856.png\n",
      "\t Tile 17 - score: 0.32903964562083615 saved: /Users/apartin/work/jdacs/pdx-img-code/ovarian/processed/scoredtile_17_level0_19532-7880-20044-8392.png\n",
      "\t Tile 18 - score: 0.32898749462930177 saved: /Users/apartin/work/jdacs/pdx-img-code/ovarian/processed/scoredtile_18_level0_5196-10952-5708-11464.png\n",
      "\t Tile 19 - score: 0.32825418626065483 saved: /Users/apartin/work/jdacs/pdx-img-code/ovarian/processed/scoredtile_19_level0_22604-22216-23116-22728.png\n",
      "\t Tile 20 - score: 0.32647121417405983 saved: /Users/apartin/work/jdacs/pdx-img-code/ovarian/processed/scoredtile_20_level0_2636-5832-3148-6344.png\n",
      "\t Tile 21 - score: 0.32220246130111824 saved: /Users/apartin/work/jdacs/pdx-img-code/ovarian/processed/scoredtile_21_level0_19532-9416-20044-9928.png\n",
      "\t Tile 22 - score: 0.32184726124283525 saved: /Users/apartin/work/jdacs/pdx-img-code/ovarian/processed/scoredtile_22_level0_10828-20680-11340-21192.png\n",
      "\t Tile 23 - score: 0.31983478524256687 saved: /Users/apartin/work/jdacs/pdx-img-code/ovarian/processed/scoredtile_23_level0_2124-17608-2636-18120.png\n",
      "\t Tile 24 - score: 0.3186402551957254 saved: /Users/apartin/work/jdacs/pdx-img-code/ovarian/processed/scoredtile_24_level0_14412-9416-14924-9928.png\n",
      "\t Tile 25 - score: 0.3177544027073465 saved: /Users/apartin/work/jdacs/pdx-img-code/ovarian/processed/scoredtile_25_level0_2124-15048-2636-15560.png\n",
      "\t Tile 26 - score: 0.31589511261511904 saved: /Users/apartin/work/jdacs/pdx-img-code/ovarian/processed/scoredtile_26_level0_19532-22216-20044-22728.png\n",
      "\t Tile 27 - score: 0.3157531419875374 saved: /Users/apartin/work/jdacs/pdx-img-code/ovarian/processed/scoredtile_27_level0_11340-2248-11852-2760.png\n",
      "\t Tile 28 - score: 0.31332801165841295 saved: /Users/apartin/work/jdacs/pdx-img-code/ovarian/processed/scoredtile_28_level0_8780-3784-9292-4296.png\n",
      "\t Tile 29 - score: 0.3126143785036177 saved: /Users/apartin/work/jdacs/pdx-img-code/ovarian/processed/scoredtile_29_level0_3148-5832-3660-6344.png\n",
      "\t Tile 30 - score: 0.30922334208213104 saved: /Users/apartin/work/jdacs/pdx-img-code/ovarian/processed/scoredtile_30_level0_6732-5832-7244-6344.png\n",
      "\t Tile 31 - score: 0.3091938969270774 saved: /Users/apartin/work/jdacs/pdx-img-code/ovarian/processed/scoredtile_31_level0_4172-10952-4684-11464.png\n",
      "\t Tile 32 - score: 0.30858502119956793 saved: /Users/apartin/work/jdacs/pdx-img-code/ovarian/processed/scoredtile_32_level0_3660-5832-4172-6344.png\n",
      "\t Tile 33 - score: 0.3029938916743194 saved: /Users/apartin/work/jdacs/pdx-img-code/ovarian/processed/scoredtile_33_level0_4172-11464-4684-11976.png\n",
      "\t Tile 34 - score: 0.30287122817581574 saved: /Users/apartin/work/jdacs/pdx-img-code/ovarian/processed/scoredtile_34_level0_2636-10440-3148-10952.png\n",
      "\t Tile 35 - score: 0.2977439765185116 saved: /Users/apartin/work/jdacs/pdx-img-code/ovarian/processed/scoredtile_35_level0_2636-15048-3148-15560.png\n",
      "\t Tile 36 - score: 0.2948796086772007 saved: /Users/apartin/work/jdacs/pdx-img-code/ovarian/processed/scoredtile_36_level0_13900-6856-14412-7368.png\n",
      "\t Tile 37 - score: 0.29461647433747595 saved: /Users/apartin/work/jdacs/pdx-img-code/ovarian/processed/scoredtile_37_level0_16460-14536-16972-15048.png\n",
      "\t Tile 38 - score: 0.292295109541778 saved: /Users/apartin/work/jdacs/pdx-img-code/ovarian/processed/scoredtile_38_level0_4684-10440-5196-10952.png\n",
      "\t Tile 39 - score: 0.29195218113341925 saved: /Users/apartin/work/jdacs/pdx-img-code/ovarian/processed/scoredtile_39_level0_3148-12488-3660-13000.png\n",
      "\t Tile 40 - score: 0.29045297752521587 saved: /Users/apartin/work/jdacs/pdx-img-code/ovarian/processed/scoredtile_40_level0_2124-15560-2636-16072.png\n",
      "\t Tile 41 - score: 0.29029471074629337 saved: /Users/apartin/work/jdacs/pdx-img-code/ovarian/processed/scoredtile_41_level0_9804-2248-10316-2760.png\n",
      "\t Tile 42 - score: 0.2870479767245152 saved: /Users/apartin/work/jdacs/pdx-img-code/ovarian/processed/scoredtile_42_level0_4172-14024-4684-14536.png\n",
      "\t Tile 43 - score: 0.2866451395227307 saved: /Users/apartin/work/jdacs/pdx-img-code/ovarian/processed/scoredtile_43_level0_12364-14536-12876-15048.png\n",
      "\t Tile 44 - score: 0.2830586366137193 saved: /Users/apartin/work/jdacs/pdx-img-code/ovarian/processed/scoredtile_44_level0_4684-6856-5196-7368.png\n",
      "\t Tile 45 - score: 0.28184147848457236 saved: /Users/apartin/work/jdacs/pdx-img-code/ovarian/processed/scoredtile_45_level0_9292-20168-9804-20680.png\n",
      "\t Tile 46 - score: 0.27520754790955887 saved: /Users/apartin/work/jdacs/pdx-img-code/ovarian/processed/scoredtile_46_level0_12876-14536-13388-15048.png\n",
      "\t Tile 47 - score: 0.27121839834208206 saved: /Users/apartin/work/jdacs/pdx-img-code/ovarian/processed/scoredtile_47_level0_6220-22216-6732-22728.png\n",
      "\t Tile 48 - score: 0.2660287517745653 saved: /Users/apartin/work/jdacs/pdx-img-code/ovarian/processed/scoredtile_48_level0_8268-8392-8780-8904.png\n",
      "\t Tile 49 - score: 0.26493563121106184 saved: /Users/apartin/work/jdacs/pdx-img-code/ovarian/processed/scoredtile_49_level0_10316-15560-10828-16072.png\n",
      "\t Tile 50 - score: 0.26396683991458403 saved: /Users/apartin/work/jdacs/pdx-img-code/ovarian/processed/scoredtile_50_level0_3148-15560-3660-16072.png\n",
      "\t Tile 51 - score: 0.2620853672398186 saved: /Users/apartin/work/jdacs/pdx-img-code/ovarian/processed/scoredtile_51_level0_3148-8904-3660-9416.png\n",
      "\t Tile 52 - score: 0.25910065809804655 saved: /Users/apartin/work/jdacs/pdx-img-code/ovarian/processed/scoredtile_52_level0_19532-8904-20044-9416.png\n",
      "\t Tile 53 - score: 0.25298449630527936 saved: /Users/apartin/work/jdacs/pdx-img-code/ovarian/processed/scoredtile_53_level0_4172-5320-4684-5832.png\n",
      "\t Tile 54 - score: 0.25105235702086515 saved: /Users/apartin/work/jdacs/pdx-img-code/ovarian/processed/scoredtile_54_level0_23116-13000-23628-13512.png\n",
      "\t Tile 55 - score: 0.24612342197580273 saved: /Users/apartin/work/jdacs/pdx-img-code/ovarian/processed/scoredtile_55_level0_10828-16072-11340-16584.png\n",
      "\t Tile 56 - score: 0.2440478214298664 saved: /Users/apartin/work/jdacs/pdx-img-code/ovarian/processed/scoredtile_56_level0_20044-9928-20556-10440.png\n",
      "\t Tile 57 - score: 0.2427638954487275 saved: /Users/apartin/work/jdacs/pdx-img-code/ovarian/processed/scoredtile_57_level0_3148-13000-3660-13512.png\n",
      "\t Tile 58 - score: 0.23675904272689535 saved: /Users/apartin/work/jdacs/pdx-img-code/ovarian/processed/scoredtile_58_level0_12364-5320-12876-5832.png\n",
      "\t Tile 59 - score: 0.23228069819900404 saved: /Users/apartin/work/jdacs/pdx-img-code/ovarian/processed/scoredtile_59_level0_11852-5832-12364-6344.png\n",
      "\t Tile 60 - score: 0.23070388213889018 saved: /Users/apartin/work/jdacs/pdx-img-code/ovarian/processed/scoredtile_60_level0_12876-7880-13388-8392.png\n",
      "\t Tile 61 - score: 0.22870725470551817 saved: /Users/apartin/work/jdacs/pdx-img-code/ovarian/processed/scoredtile_61_level0_24140-14024-24652-14536.png\n",
      "\t Tile 62 - score: 0.2285007666439025 saved: /Users/apartin/work/jdacs/pdx-img-code/ovarian/processed/scoredtile_62_level0_8268-13000-8780-13512.png\n",
      "\t Tile 63 - score: 0.22848991051855738 saved: /Users/apartin/work/jdacs/pdx-img-code/ovarian/processed/scoredtile_63_level0_3660-8904-4172-9416.png\n",
      "\t Tile 64 - score: 0.22738950784903106 saved: /Users/apartin/work/jdacs/pdx-img-code/ovarian/processed/scoredtile_64_level0_8780-23752-9292-24264.png\n",
      "\t Tile 65 - score: 0.2229600902644187 saved: /Users/apartin/work/jdacs/pdx-img-code/ovarian/processed/scoredtile_65_level0_15436-14024-15948-14536.png\n",
      "\t Tile 66 - score: 0.22281761907222916 saved: /Users/apartin/work/jdacs/pdx-img-code/ovarian/processed/scoredtile_66_level0_26188-16072-26700-16584.png\n",
      "\t Tile 67 - score: 0.22200805845612234 saved: /Users/apartin/work/jdacs/pdx-img-code/ovarian/processed/scoredtile_67_level0_11852-4808-12364-5320.png\n",
      "\t Tile 68 - score: 0.2216888090851439 saved: /Users/apartin/work/jdacs/pdx-img-code/ovarian/processed/scoredtile_68_level0_21580-14024-22092-14536.png\n",
      "\t Tile 69 - score: 0.2193124935648708 saved: /Users/apartin/work/jdacs/pdx-img-code/ovarian/processed/scoredtile_69_level0_8268-23752-8780-24264.png\n",
      "\t Tile 70 - score: 0.21463098002615758 saved: /Users/apartin/work/jdacs/pdx-img-code/ovarian/processed/scoredtile_70_level0_11340-4296-11852-4808.png\n",
      "\t Tile 71 - score: 0.2092195130013092 saved: /Users/apartin/work/jdacs/pdx-img-code/ovarian/processed/scoredtile_71_level0_23116-13512-23628-14024.png\n",
      "\t Tile 72 - score: 0.20552922564958762 saved: /Users/apartin/work/jdacs/pdx-img-code/ovarian/processed/scoredtile_72_level0_11852-2248-12364-2760.png\n",
      "\t Tile 73 - score: 0.20531003036971152 saved: /Users/apartin/work/jdacs/pdx-img-code/ovarian/processed/scoredtile_73_level0_14412-17096-14924-17608.png\n",
      "\t Tile 74 - score: 0.18823446165666682 saved: /Users/apartin/work/jdacs/pdx-img-code/ovarian/processed/scoredtile_74_level0_20556-15048-21068-15560.png\n",
      "\t Tile 75 - score: 0.1877527479080394 saved: /Users/apartin/work/jdacs/pdx-img-code/ovarian/processed/scoredtile_75_level0_10316-3784-10828-4296.png\n",
      "\t Tile 76 - score: 0.17989642920113577 saved: /Users/apartin/work/jdacs/pdx-img-code/ovarian/processed/scoredtile_76_level0_8268-12488-8780-13000.png\n",
      "\t Tile 77 - score: 0.1763194016087735 saved: /Users/apartin/work/jdacs/pdx-img-code/ovarian/processed/scoredtile_77_level0_13388-4808-13900-5320.png\n",
      "\t Tile 78 - score: 0.16922127655451116 saved: /Users/apartin/work/jdacs/pdx-img-code/ovarian/processed/scoredtile_78_level0_25164-18120-25676-18632.png\n",
      "\t Tile 79 - score: 0.16839720422552878 saved: /Users/apartin/work/jdacs/pdx-img-code/ovarian/processed/scoredtile_79_level0_26700-17096-27212-17608.png\n",
      "\t Tile 80 - score: 0.16653744371223195 saved: /Users/apartin/work/jdacs/pdx-img-code/ovarian/processed/scoredtile_80_level0_9804-10952-10316-11464.png\n",
      "\t Tile 81 - score: 0.16407662244109686 saved: /Users/apartin/work/jdacs/pdx-img-code/ovarian/processed/scoredtile_81_level0_12364-4808-12876-5320.png\n",
      "\t Tile 82 - score: 0.15963112413024583 saved: /Users/apartin/work/jdacs/pdx-img-code/ovarian/processed/scoredtile_82_level0_10828-23752-11340-24264.png\n",
      "\t Tile 83 - score: 0.1573122286774131 saved: /Users/apartin/work/jdacs/pdx-img-code/ovarian/processed/scoredtile_83_level0_14924-5320-15436-5832.png\n",
      "\t Tile 84 - score: 0.15343248860873393 saved: /Users/apartin/work/jdacs/pdx-img-code/ovarian/processed/scoredtile_84_level0_10828-3272-11340-3784.png\n",
      "\t Tile 85 - score: 0.15203549373100633 saved: /Users/apartin/work/jdacs/pdx-img-code/ovarian/processed/scoredtile_85_level0_9804-24264-10316-24776.png\n",
      "\t Tile 86 - score: 0.14847427672604632 saved: /Users/apartin/work/jdacs/pdx-img-code/ovarian/processed/scoredtile_86_level0_9804-9416-10316-9928.png\n",
      "\t Tile 87 - score: 0.14435171857306164 saved: /Users/apartin/work/jdacs/pdx-img-code/ovarian/processed/scoredtile_87_level0_13388-5320-13900-5832.png\n",
      "\t Tile 88 - score: 0.14223536726150537 saved: /Users/apartin/work/jdacs/pdx-img-code/ovarian/processed/scoredtile_88_level0_20044-23240-20556-23752.png\n",
      "\t Tile 89 - score: 0.14095228865540896 saved: /Users/apartin/work/jdacs/pdx-img-code/ovarian/processed/scoredtile_89_level0_7756-14024-8268-14536.png\n",
      "\t Tile 90 - score: 0.13905763194196163 saved: /Users/apartin/work/jdacs/pdx-img-code/ovarian/processed/scoredtile_90_level0_13388-6344-13900-6856.png\n",
      "\t Tile 91 - score: 0.13588949995055533 saved: /Users/apartin/work/jdacs/pdx-img-code/ovarian/processed/scoredtile_91_level0_10828-23240-11340-23752.png\n",
      "\t Tile 92 - score: 0.13326907927051498 saved: /Users/apartin/work/jdacs/pdx-img-code/ovarian/processed/scoredtile_92_level0_8780-24776-9292-25288.png\n",
      "\t Tile 93 - score: 0.13074068133307507 saved: /Users/apartin/work/jdacs/pdx-img-code/ovarian/processed/scoredtile_93_level0_20556-19144-21068-19656.png\n",
      "\t Tile 94 - score: 0.13071817942326105 saved: /Users/apartin/work/jdacs/pdx-img-code/ovarian/processed/scoredtile_94_level0_9292-9928-9804-10440.png\n",
      "\t Tile 95 - score: 0.13067534138874837 saved: /Users/apartin/work/jdacs/pdx-img-code/ovarian/processed/scoredtile_95_level0_20556-19656-21068-20168.png\n",
      "\t Tile 96 - score: 0.12252644819266548 saved: /Users/apartin/work/jdacs/pdx-img-code/ovarian/processed/scoredtile_96_level0_13900-6344-14412-6856.png\n",
      "\t Tile 97 - score: 0.12148643791385404 saved: /Users/apartin/work/jdacs/pdx-img-code/ovarian/processed/scoredtile_97_level0_9804-9928-10316-10440.png\n",
      "\t Tile 98 - score: 0.12073289366715123 saved: /Users/apartin/work/jdacs/pdx-img-code/ovarian/processed/scoredtile_98_level0_4684-17608-5196-18120.png\n",
      "\t Tile 99 - score: 0.12042559010834927 saved: /Users/apartin/work/jdacs/pdx-img-code/ovarian/processed/scoredtile_99_level0_11340-22216-11852-22728.png\n",
      "\t Tile 100 - score: 0.11705818921489627 saved: /Users/apartin/work/jdacs/pdx-img-code/ovarian/processed/scoredtile_100_level0_9292-23752-9804-24264.png\n",
      "\t Tile 101 - score: 0.1145636624101885 saved: /Users/apartin/work/jdacs/pdx-img-code/ovarian/processed/scoredtile_101_level0_10316-14024-10828-14536.png\n",
      "\t Tile 102 - score: 0.11079695760314989 saved: /Users/apartin/work/jdacs/pdx-img-code/ovarian/processed/scoredtile_102_level0_13900-17096-14412-17608.png\n",
      "\t Tile 103 - score: 0.10447021002085877 saved: /Users/apartin/work/jdacs/pdx-img-code/ovarian/processed/scoredtile_103_level0_10316-10440-10828-10952.png\n",
      "\t Tile 104 - score: 0.10299058269875515 saved: /Users/apartin/work/jdacs/pdx-img-code/ovarian/processed/scoredtile_104_level0_10316-8392-10828-8904.png\n",
      "\t Tile 105 - score: 0.10110021723906397 saved: /Users/apartin/work/jdacs/pdx-img-code/ovarian/processed/scoredtile_105_level0_13388-17096-13900-17608.png\n",
      "106 Grid Tiles have been saved.\n"
     ]
    }
   ],
   "source": [
    "scored_tiles_extractor.extract(ovarian_slide, report_path=SUMMARY_PATH)"
   ]
  },
  {
   "cell_type": "code",
   "execution_count": null,
   "metadata": {},
   "outputs": [],
   "source": []
  }
 ],
 "metadata": {
  "kernelspec": {
   "display_name": "Python 3",
   "language": "python",
   "name": "python3"
  },
  "language_info": {
   "codemirror_mode": {
    "name": "ipython",
    "version": 3
   },
   "file_extension": ".py",
   "mimetype": "text/x-python",
   "name": "python",
   "nbconvert_exporter": "python",
   "pygments_lexer": "ipython3",
   "version": "3.7.9"
  }
 },
 "nbformat": 4,
 "nbformat_minor": 4
}
