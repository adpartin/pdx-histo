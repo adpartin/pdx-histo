{
 "cells": [
  {
   "cell_type": "markdown",
   "metadata": {},
   "source": [
    "# EDA and post-processing"
   ]
  },
  {
   "cell_type": "code",
   "execution_count": 8,
   "metadata": {},
   "outputs": [
    {
     "name": "stdout",
     "output_type": "stream",
     "text": [
      "The autoreload extension is already loaded. To reload it, use:\n",
      "  %reload_ext autoreload\n",
      "/vol/ml/apartin/projects/pdx-histo/nbs\n"
     ]
    }
   ],
   "source": [
    "%load_ext autoreload\n",
    "%autoreload 2\n",
    "%matplotlib inline\n",
    "\n",
    "import os\n",
    "import sys\n",
    "assert sys.version_info >= (3, 5)\n",
    "\n",
    "from pathlib import Path\n",
    "from pprint import pprint\n",
    "import glob\n",
    "import pandas as pd\n",
    "import numpy as np\n",
    "\n",
    "import matplotlib.pyplot as plt\n",
    "\n",
    "from sklearn.metrics import (confusion_matrix, balanced_accuracy_score, f1_score, matthews_corrcoef,\n",
    "                             roc_auc_score, recall_score, precision_score, precision_recall_curve)\n",
    "\n",
    "import tensorflow as tf\n",
    "from tensorflow import keras\n",
    "assert tf.__version__ >= \"2.0\"\n",
    "\n",
    "# Seed\n",
    "seed = 42\n",
    "np.random.seed(seed)\n",
    "tf.random.set_seed(seed)\n",
    "\n",
    "fdir = Path.cwd()\n",
    "print(fdir)\n",
    "# sys.path.append(str(fdir/'../src'))\n",
    "sys.path.append(str(fdir/'..'))\n",
    "import src\n",
    "# from config import cfg\n",
    "from src.config import cfg\n",
    "from src.ml.scale import get_scaler\n",
    "from src.utils.utils import Params, dump_dict, read_lines, cast_list, Timer\n",
    "from src.datasets.tidy import split_data_and_extract_fea, extract_fea\n",
    "\n",
    "from src.tf_utils import (calc_records_in_tfr_folder, calc_examples_in_tfrecord, get_tfr_files,\n",
    "                          _float_feature, _bytes_feature, _int64_feature)\n",
    "from src.sf_utils import read_annotations, green, parse_tfrec_fn_rsp, create_tf_data\n",
    "from src.tfrecords import FEA_SPEC_RNA, FEA_SPEC_RSP_DRUG_PAIR\n",
    "\n",
    "print_fn = print\n",
    "split_on = \"Group\""
   ]
  },
  {
   "cell_type": "code",
   "execution_count": 9,
   "metadata": {},
   "outputs": [
    {
     "name": "stdout",
     "output_type": "stream",
     "text": [
      "(6962, 4950)\n"
     ]
    },
    {
     "name": "stderr",
     "output_type": "stream",
     "text": [
      "/vol/ml/apartin/projects/pdx-histo/venv/lib/python3.7/site-packages/IPython/core/interactiveshell.py:3147: DtypeWarning: Columns (3,12) have mixed types.Specify dtype option on import or set low_memory=False.\n",
      "  interactivity=interactivity, compiler=compiler, result=result)\n"
     ]
    }
   ],
   "source": [
    "# Load data\n",
    "prjname = \"bin_rsp_drug_pairs_all_samples\"\n",
    "dataname = \"tidy_drug_pairs_all_samples\"\n",
    "prjdir = cfg.MAIN_PRJDIR/prjname\n",
    "annotations_file = cfg.DATA_PROCESSED_DIR/dataname/cfg.SF_ANNOTATIONS_FILENAME\n",
    "data = pd.read_csv(annotations_file)\n",
    "print(data.shape)"
   ]
  },
  {
   "cell_type": "code",
   "execution_count": 10,
   "metadata": {},
   "outputs": [],
   "source": [
    "# Scalers for each feature set\n",
    "ge_scaler, dd1_scaler, dd2_scaler = None, None, None\n",
    "\n",
    "ge_cols  = [c for c in data.columns if c.startswith(\"ge_\")]\n",
    "dd1_cols = [c for c in data.columns if c.startswith(\"dd1_\")]\n",
    "dd2_cols = [c for c in data.columns if c.startswith(\"dd2_\")]\n",
    "\n",
    "ge_scaler = get_scaler(data[ge_cols])\n",
    "dd1_scaler = get_scaler(data[dd1_cols])\n",
    "dd2_scaler = get_scaler(data[dd2_cols])"
   ]
  },
  {
   "cell_type": "code",
   "execution_count": 11,
   "metadata": {},
   "outputs": [],
   "source": [
    "splitdir = cfg.DATADIR/\"PDX_Transfer_Learning_Classification/Processed_Data/Data_For_MultiModal_Learning/Data_Partition_Drug_Specific\"\n",
    "splitdir = splitdir/\"NSC.125973-NSC.125973\"  # params.drug_specific\n",
    "split_id = 0"
   ]
  },
  {
   "cell_type": "code",
   "execution_count": 12,
   "metadata": {},
   "outputs": [],
   "source": [
    "tr_id = cast_list(read_lines(str(splitdir/f\"cv_{split_id}\"/\"TrainList.txt\")), int)\n",
    "vl_id = cast_list(read_lines(str(splitdir/f\"cv_{split_id}\"/\"ValList.txt\")), int)\n",
    "te_id = cast_list(read_lines(str(splitdir/f\"cv_{split_id}\"/\"TestList.txt\")), int)\n",
    "\n",
    "# Update ids\n",
    "index_col_name = \"index\"\n",
    "tr_id = sorted(set(data[index_col_name]).intersection(set(tr_id)))\n",
    "vl_id = sorted(set(data[index_col_name]).intersection(set(vl_id)))\n",
    "te_id = sorted(set(data[index_col_name]).intersection(set(te_id)))"
   ]
  },
  {
   "cell_type": "code",
   "execution_count": 13,
   "metadata": {},
   "outputs": [
    {
     "name": "stdout",
     "output_type": "stream",
     "text": [
      "\n",
      "Train:\n",
      "                        ctype  Response  grp_name  smp\n",
      "0          bladder/urothelial         0         1    5\n",
      "1  digestive/gastrointestinal         0         4   22\n",
      "2                 gynecologic         0         2   10\n",
      "3                      kidney         0         1    5\n",
      "4                        lung         1         1    6\n",
      "5                    melanoma         0         2    7\n",
      "6        sarcoma/mesothelioma         0         2   10\n",
      "7                    squamous         0         5   31\n",
      "\n",
      "Validation:\n",
      "                          ctype  Response  grp_name  smp\n",
      "0            bladder/urothelial         0         1    6\n",
      "1    digestive/gastrointestinal         0         7   33\n",
      "2  endocrine and neuroendocrine         0         1    6\n",
      "3                        kidney         0         1    3\n",
      "4                      melanoma         0         1    6\n",
      "5          sarcoma/mesothelioma         0         3   13\n",
      "6                    skin other         1         1    3\n",
      "7                      squamous         0         5   23\n",
      "\n",
      "Test:\n",
      "                        ctype  Response  grp_name  smp\n",
      "0          bladder/urothelial         0         2   11\n",
      "1  digestive/gastrointestinal         0         9   44\n",
      "2  digestive/gastrointestinal         1         1    5\n",
      "3                 head & neck         0         1    6\n",
      "4                    melanoma         0         3   16\n",
      "5        sarcoma/mesothelioma         0         2    8\n",
      "6                    squamous         0         1    5\n",
      "\n",
      "Train samples 96 (1.38%)\n",
      "Val   samples 93 (1.34%)\n",
      "Test  samples 95 (1.36%)\n",
      "\n",
      "Total intersects on Group btw tr and vl: 0\n",
      "Total intersects on Group btw tr and te: 0\n",
      "Total intersects on Group btw vl and te: 0\n",
      "Unique Group in tr: 18\n",
      "Unique Group in vl: 20\n",
      "Unique Group in te: 19\n"
     ]
    }
   ],
   "source": [
    "kwargs = {\"ge_cols\": ge_cols,\n",
    "          \"dd1_cols\": dd1_cols,\n",
    "          \"dd2_cols\": dd2_cols,\n",
    "          \"ge_scaler\": ge_scaler,\n",
    "          \"dd1_scaler\": dd1_scaler,\n",
    "          \"dd2_scaler\": dd2_scaler,\n",
    "          \"ge_dtype\": cfg.GE_DTYPE,\n",
    "          \"dd_dtype\": cfg.DD_DTYPE,\n",
    "          \"index_col_name\": index_col_name,\n",
    "          \"split_on\": split_on\n",
    "          }\n",
    "tr_ge, tr_dd1, tr_dd2, tr_meta = split_data_and_extract_fea(data, ids=tr_id, **kwargs)\n",
    "vl_ge, vl_dd1, vl_dd2, vl_meta = split_data_and_extract_fea(data, ids=vl_id, **kwargs)\n",
    "te_ge, te_dd1, te_dd2, te_meta = split_data_and_extract_fea(data, ids=te_id, **kwargs)\n",
    "\n",
    "# tr_meta.to_csv(outdir/\"tr_meta.csv\", index=False)\n",
    "# vl_meta.to_csv(outdir/\"vl_meta.csv\", index=False)\n",
    "# te_meta.to_csv(outdir/\"te_meta.csv\", index=False)\n",
    "\n",
    "ge_shape = (tr_ge.shape[1],)\n",
    "dd_shape = (tr_dd1.shape[1],)\n",
    "\n",
    "# import ipdb; ipdb.set_trace()\n",
    "print_fn(\"\\nTrain:\")\n",
    "print_fn(tr_meta.groupby([\"ctype\", \"Response\"]).agg({\"grp_name\": \"nunique\", \"smp\": \"nunique\"}).reset_index())\n",
    "print_fn(\"\\nValidation:\")\n",
    "print_fn(vl_meta.groupby([\"ctype\", \"Response\"]).agg({\"grp_name\": \"nunique\", \"smp\": \"nunique\"}).reset_index())\n",
    "print_fn(\"\\nTest:\")\n",
    "print_fn(te_meta.groupby([\"ctype\", \"Response\"]).agg({\"grp_name\": \"nunique\", \"smp\": \"nunique\"}).reset_index())\n",
    "\n",
    "# Make sure indices do not overlap\n",
    "assert len( set(tr_id).intersection(set(vl_id)) ) == 0, \"Overlapping indices btw tr and vl\"\n",
    "assert len( set(tr_id).intersection(set(te_id)) ) == 0, \"Overlapping indices btw tr and te\"\n",
    "assert len( set(vl_id).intersection(set(te_id)) ) == 0, \"Overlapping indices btw tr and vl\"\n",
    "\n",
    "# Print split ratios\n",
    "print_fn(\"\")\n",
    "print_fn(\"Train samples {} ({:.2f}%)\".format( len(tr_id), 100*len(tr_id)/data.shape[0] ))\n",
    "print_fn(\"Val   samples {} ({:.2f}%)\".format( len(vl_id), 100*len(vl_id)/data.shape[0] ))\n",
    "print_fn(\"Test  samples {} ({:.2f}%)\".format( len(te_id), 100*len(te_id)/data.shape[0] ))\n",
    "\n",
    "tr_grp_unq = set(tr_meta[split_on].values)\n",
    "vl_grp_unq = set(vl_meta[split_on].values)\n",
    "te_grp_unq = set(te_meta[split_on].values)\n",
    "print_fn(\"\")\n",
    "print_fn(f\"Total intersects on {split_on} btw tr and vl: {len(tr_grp_unq.intersection(vl_grp_unq))}\")\n",
    "print_fn(f\"Total intersects on {split_on} btw tr and te: {len(tr_grp_unq.intersection(te_grp_unq))}\")\n",
    "print_fn(f\"Total intersects on {split_on} btw vl and te: {len(vl_grp_unq.intersection(te_grp_unq))}\")\n",
    "print_fn(f\"Unique {split_on} in tr: {len(tr_grp_unq)}\")\n",
    "print_fn(f\"Unique {split_on} in vl: {len(vl_grp_unq)}\")\n",
    "print_fn(f\"Unique {split_on} in te: {len(te_grp_unq)}\")"
   ]
  },
  {
   "cell_type": "code",
   "execution_count": null,
   "metadata": {},
   "outputs": [],
   "source": []
  },
  {
   "cell_type": "code",
   "execution_count": null,
   "metadata": {},
   "outputs": [],
   "source": []
  }
 ],
 "metadata": {
  "kernelspec": {
   "display_name": "Python 3",
   "language": "python",
   "name": "python3"
  },
  "language_info": {
   "codemirror_mode": {
    "name": "ipython",
    "version": 3
   },
   "file_extension": ".py",
   "mimetype": "text/x-python",
   "name": "python",
   "nbconvert_exporter": "python",
   "pygments_lexer": "ipython3",
   "version": "3.7.9"
  }
 },
 "nbformat": 4,
 "nbformat_minor": 4
}
