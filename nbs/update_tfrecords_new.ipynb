{
 "cells": [
  {
   "cell_type": "markdown",
   "metadata": {},
   "source": []
  },
  {
   "cell_type": "code",
   "execution_count": 1,
   "metadata": {},
   "outputs": [
    {
     "name": "stdout",
     "output_type": "stream",
     "text": [
      "/vol/ml/apartin/projects/pdx-histo/nbs\n",
      "Num GPUs Available:  4\n"
     ]
    }
   ],
   "source": [
    "%load_ext autoreload\n",
    "%autoreload 2\n",
    "%matplotlib inline\n",
    "\n",
    "import os\n",
    "import sys\n",
    "assert sys.version_info >= (3, 5)\n",
    "\n",
    "from pathlib import Path\n",
    "from pprint import pprint\n",
    "import pandas as pd\n",
    "import numpy as np\n",
    "\n",
    "import tensorflow as tf\n",
    "assert tf.__version__ >= \"2.0\"\n",
    "\n",
    "fdir = Path.cwd()\n",
    "print(fdir)\n",
    "sys.path.append(str(fdir/'../src'))\n",
    "from config import cfg\n",
    "\n",
    "from train_nn import get_tfr_files\n",
    "from tf_utils import (calc_records_in_tfr_folder, calc_examples_in_tfrecord,\n",
    "                      _float_feature, _bytes_feature, _int64_feature)\n",
    "\n",
    "from build_df import load_rna\n",
    "from merge_meta_files import load_crossref, load_pdx_meta\n",
    "\n",
    "from tfrecords import FEA_SPEC #, FEA_SPEC_NEW\n",
    "\n",
    "GREEN = '\\033[92m'\n",
    "ENDC = '\\033[0m'\n",
    "def green(text):\n",
    "    return GREEN + str(text) + ENDC"
   ]
  },
  {
   "cell_type": "code",
   "execution_count": 2,
   "metadata": {},
   "outputs": [],
   "source": [
    "label = '299px_302um'"
   ]
  },
  {
   "cell_type": "markdown",
   "metadata": {},
   "source": [
    "# Get the dataframe with the metadata and RNA"
   ]
  },
  {
   "cell_type": "code",
   "execution_count": 3,
   "metadata": {},
   "outputs": [
    {
     "name": "stdout",
     "output_type": "stream",
     "text": [
      "(1727, 981)\n",
      "(593, 8)\n",
      "(97, 7)\n"
     ]
    }
   ],
   "source": [
    "rna = load_rna()\n",
    "cref = load_crossref()\n",
    "pdx = load_pdx_meta()\n",
    "\n",
    "mrg_cols = ['model', 'patient_id', 'specimen_id', 'sample_id']\n",
    "\n",
    "pdx = pdx.rename(columns={'tumor_site_from_data_src': 'csite_src',\n",
    "                          'tumor_type_from_data_src': 'ctype_src',\n",
    "                          'simplified_tumor_site': 'csite',\n",
    "                          'simplified_tumor_type': 'ctype'})\n",
    "\n",
    "# Add columns to rna by parsing the Sample col\n",
    "patient_id = rna['Sample'].map(lambda x: x.split('~')[0])\n",
    "specimen_id = rna['Sample'].map(lambda x: x.split('~')[1])\n",
    "sample_id = rna['Sample'].map(lambda x: x.split('~')[2])\n",
    "model = [a + '~' + b for a, b in zip(patient_id, specimen_id)]\n",
    "rna.insert(loc=1, column='model', value=model, allow_duplicates=True)\n",
    "rna.insert(loc=2, column='patient_id', value=patient_id, allow_duplicates=True)\n",
    "rna.insert(loc=3, column='specimen_id', value=specimen_id, allow_duplicates=True)\n",
    "rna.insert(loc=4, column='sample_id', value=sample_id, allow_duplicates=True)\n",
    "rna = rna.sort_values(['model', 'patient_id', 'specimen_id', 'sample_id'])\n",
    "\n",
    "print(rna.shape)\n",
    "print(cref.shape)\n",
    "print(pdx.shape)"
   ]
  },
  {
   "cell_type": "code",
   "execution_count": 4,
   "metadata": {},
   "outputs": [
    {
     "data": {
      "text/plain": [
       "(587, 8)"
      ]
     },
     "execution_count": 4,
     "metadata": {},
     "output_type": "execute_result"
    }
   ],
   "source": [
    "# Remove bad samples with bad slides\n",
    "cref = cref[~cref.image_id.isin(cfg.BAD_SLIDES)].reset_index(drop=True)\n",
    "cref.shape"
   ]
  },
  {
   "cell_type": "markdown",
   "metadata": {},
   "source": [
    "### Does RNA-Seq contain duplicates?\n",
    "It doesn't. Is that expected??"
   ]
  },
  {
   "cell_type": "code",
   "execution_count": 5,
   "metadata": {},
   "outputs": [
    {
     "name": "stdout",
     "output_type": "stream",
     "text": [
      "RNA duplicates 0\n"
     ]
    },
    {
     "data": {
      "text/html": [
       "<div>\n",
       "<style scoped>\n",
       "    .dataframe tbody tr th:only-of-type {\n",
       "        vertical-align: middle;\n",
       "    }\n",
       "\n",
       "    .dataframe tbody tr th {\n",
       "        vertical-align: top;\n",
       "    }\n",
       "\n",
       "    .dataframe thead th {\n",
       "        text-align: right;\n",
       "    }\n",
       "</style>\n",
       "<table border=\"1\" class=\"dataframe\">\n",
       "  <thead>\n",
       "    <tr style=\"text-align: right;\">\n",
       "      <th></th>\n",
       "      <th>Sample</th>\n",
       "      <th>model</th>\n",
       "      <th>patient_id</th>\n",
       "      <th>specimen_id</th>\n",
       "      <th>sample_id</th>\n",
       "      <th>ge_AARS</th>\n",
       "      <th>ge_ABCB6</th>\n",
       "      <th>ge_ABCC5</th>\n",
       "      <th>ge_ABCF1</th>\n",
       "      <th>ge_ABCF3</th>\n",
       "      <th>...</th>\n",
       "      <th>ge_ZMIZ1</th>\n",
       "      <th>ge_ZMYM2</th>\n",
       "      <th>ge_ZNF131</th>\n",
       "      <th>ge_ZNF274</th>\n",
       "      <th>ge_ZNF318</th>\n",
       "      <th>ge_ZNF395</th>\n",
       "      <th>ge_ZNF451</th>\n",
       "      <th>ge_ZNF586</th>\n",
       "      <th>ge_ZNF589</th>\n",
       "      <th>ge_ZW10</th>\n",
       "    </tr>\n",
       "  </thead>\n",
       "  <tbody>\n",
       "    <tr>\n",
       "      <th>0</th>\n",
       "      <td>114348~004-R~ATHY22</td>\n",
       "      <td>114348~004-R</td>\n",
       "      <td>114348</td>\n",
       "      <td>004-R</td>\n",
       "      <td>ATHY22</td>\n",
       "      <td>10.704853</td>\n",
       "      <td>6.121954</td>\n",
       "      <td>8.135935</td>\n",
       "      <td>10.305598</td>\n",
       "      <td>9.342794</td>\n",
       "      <td>...</td>\n",
       "      <td>10.058650</td>\n",
       "      <td>9.862901</td>\n",
       "      <td>7.550604</td>\n",
       "      <td>8.112825</td>\n",
       "      <td>7.847540</td>\n",
       "      <td>9.301633</td>\n",
       "      <td>7.561569</td>\n",
       "      <td>8.552815</td>\n",
       "      <td>7.418640</td>\n",
       "      <td>8.48305</td>\n",
       "    </tr>\n",
       "    <tr>\n",
       "      <th>1</th>\n",
       "      <td>114348~004-R~ATHY22E99</td>\n",
       "      <td>114348~004-R</td>\n",
       "      <td>114348</td>\n",
       "      <td>004-R</td>\n",
       "      <td>ATHY22E99</td>\n",
       "      <td>10.186330</td>\n",
       "      <td>5.770623</td>\n",
       "      <td>7.534462</td>\n",
       "      <td>10.358337</td>\n",
       "      <td>9.236192</td>\n",
       "      <td>...</td>\n",
       "      <td>9.587639</td>\n",
       "      <td>9.661212</td>\n",
       "      <td>7.493153</td>\n",
       "      <td>7.752289</td>\n",
       "      <td>7.631402</td>\n",
       "      <td>9.034510</td>\n",
       "      <td>7.305307</td>\n",
       "      <td>7.932549</td>\n",
       "      <td>7.090391</td>\n",
       "      <td>8.61203</td>\n",
       "    </tr>\n",
       "  </tbody>\n",
       "</table>\n",
       "<p>2 rows × 981 columns</p>\n",
       "</div>"
      ],
      "text/plain": [
       "                   Sample         model patient_id specimen_id  sample_id  \\\n",
       "0     114348~004-R~ATHY22  114348~004-R     114348       004-R     ATHY22   \n",
       "1  114348~004-R~ATHY22E99  114348~004-R     114348       004-R  ATHY22E99   \n",
       "\n",
       "     ge_AARS  ge_ABCB6  ge_ABCC5   ge_ABCF1  ge_ABCF3  ...   ge_ZMIZ1  \\\n",
       "0  10.704853  6.121954  8.135935  10.305598  9.342794  ...  10.058650   \n",
       "1  10.186330  5.770623  7.534462  10.358337  9.236192  ...   9.587639   \n",
       "\n",
       "   ge_ZMYM2  ge_ZNF131  ge_ZNF274  ge_ZNF318  ge_ZNF395  ge_ZNF451  ge_ZNF586  \\\n",
       "0  9.862901   7.550604   8.112825   7.847540   9.301633   7.561569   8.552815   \n",
       "1  9.661212   7.493153   7.752289   7.631402   9.034510   7.305307   7.932549   \n",
       "\n",
       "   ge_ZNF589  ge_ZW10  \n",
       "0   7.418640  8.48305  \n",
       "1   7.090391  8.61203  \n",
       "\n",
       "[2 rows x 981 columns]"
      ]
     },
     "execution_count": 5,
     "metadata": {},
     "output_type": "execute_result"
    }
   ],
   "source": [
    "subset_cols = [c for c in rna.columns if c.startswith('ge_') ]\n",
    "print('RNA duplicates', sum(rna.duplicated(subset=subset_cols, keep=False)))\n",
    "rna.sort_values(['model', 'patient_id', 'specimen_id', 'sample_id'])[:2]"
   ]
  },
  {
   "cell_type": "code",
   "execution_count": 6,
   "metadata": {},
   "outputs": [
    {
     "data": {
      "text/html": [
       "<div>\n",
       "<style scoped>\n",
       "    .dataframe tbody tr th:only-of-type {\n",
       "        vertical-align: middle;\n",
       "    }\n",
       "\n",
       "    .dataframe tbody tr th {\n",
       "        vertical-align: top;\n",
       "    }\n",
       "\n",
       "    .dataframe thead th {\n",
       "        text-align: right;\n",
       "    }\n",
       "</style>\n",
       "<table border=\"1\" class=\"dataframe\">\n",
       "  <thead>\n",
       "    <tr style=\"text-align: right;\">\n",
       "      <th></th>\n",
       "      <th>model</th>\n",
       "      <th>patient_id</th>\n",
       "      <th>specimen_id</th>\n",
       "      <th>sample_id</th>\n",
       "    </tr>\n",
       "  </thead>\n",
       "  <tbody>\n",
       "    <tr>\n",
       "      <th>0</th>\n",
       "      <td>562742~068-R</td>\n",
       "      <td>1</td>\n",
       "      <td>1</td>\n",
       "      <td>10</td>\n",
       "    </tr>\n",
       "    <tr>\n",
       "      <th>1</th>\n",
       "      <td>989133~093-R</td>\n",
       "      <td>1</td>\n",
       "      <td>1</td>\n",
       "      <td>9</td>\n",
       "    </tr>\n",
       "    <tr>\n",
       "      <th>2</th>\n",
       "      <td>521955~158-R6</td>\n",
       "      <td>1</td>\n",
       "      <td>1</td>\n",
       "      <td>9</td>\n",
       "    </tr>\n",
       "    <tr>\n",
       "      <th>3</th>\n",
       "      <td>466732~252-T</td>\n",
       "      <td>1</td>\n",
       "      <td>1</td>\n",
       "      <td>9</td>\n",
       "    </tr>\n",
       "    <tr>\n",
       "      <th>4</th>\n",
       "      <td>941728~121-R</td>\n",
       "      <td>1</td>\n",
       "      <td>1</td>\n",
       "      <td>8</td>\n",
       "    </tr>\n",
       "    <tr>\n",
       "      <th>...</th>\n",
       "      <td>...</td>\n",
       "      <td>...</td>\n",
       "      <td>...</td>\n",
       "      <td>...</td>\n",
       "    </tr>\n",
       "    <tr>\n",
       "      <th>322</th>\n",
       "      <td>155919~109-R</td>\n",
       "      <td>1</td>\n",
       "      <td>1</td>\n",
       "      <td>1</td>\n",
       "    </tr>\n",
       "    <tr>\n",
       "      <th>323</th>\n",
       "      <td>565248~004-R</td>\n",
       "      <td>1</td>\n",
       "      <td>1</td>\n",
       "      <td>1</td>\n",
       "    </tr>\n",
       "    <tr>\n",
       "      <th>324</th>\n",
       "      <td>422866~222-R5</td>\n",
       "      <td>1</td>\n",
       "      <td>1</td>\n",
       "      <td>1</td>\n",
       "    </tr>\n",
       "    <tr>\n",
       "      <th>325</th>\n",
       "      <td>731285~195-R</td>\n",
       "      <td>1</td>\n",
       "      <td>1</td>\n",
       "      <td>1</td>\n",
       "    </tr>\n",
       "    <tr>\n",
       "      <th>326</th>\n",
       "      <td>967376~340-R</td>\n",
       "      <td>1</td>\n",
       "      <td>1</td>\n",
       "      <td>1</td>\n",
       "    </tr>\n",
       "  </tbody>\n",
       "</table>\n",
       "<p>327 rows × 4 columns</p>\n",
       "</div>"
      ],
      "text/plain": [
       "             model  patient_id  specimen_id  sample_id\n",
       "0     562742~068-R           1            1         10\n",
       "1     989133~093-R           1            1          9\n",
       "2    521955~158-R6           1            1          9\n",
       "3     466732~252-T           1            1          9\n",
       "4     941728~121-R           1            1          8\n",
       "..             ...         ...          ...        ...\n",
       "322   155919~109-R           1            1          1\n",
       "323   565248~004-R           1            1          1\n",
       "324  422866~222-R5           1            1          1\n",
       "325   731285~195-R           1            1          1\n",
       "326   967376~340-R           1            1          1\n",
       "\n",
       "[327 rows x 4 columns]"
      ]
     },
     "execution_count": 6,
     "metadata": {},
     "output_type": "execute_result"
    }
   ],
   "source": [
    "aa = rna.groupby('model').agg({'patient_id': 'nunique', 'specimen_id': 'nunique', 'sample_id': 'nunique'}).reset_index().sort_values('sample_id', ascending=False)\n",
    "aa.reset_index(drop=True)"
   ]
  },
  {
   "cell_type": "markdown",
   "metadata": {},
   "source": [
    "### For some samples, we have histology slides but not rna-seq\n",
    "Specifically, we miss rna-seq for 37 samples."
   ]
  },
  {
   "cell_type": "code",
   "execution_count": 7,
   "metadata": {},
   "outputs": [
    {
     "name": "stdout",
     "output_type": "stream",
     "text": [
      "cref (587, 5)\n",
      "rna  (1727, 981)\n",
      "mrg  (550, 982)\n"
     ]
    }
   ],
   "source": [
    "# Note! for some samples, we have images but not the rna-seq\n",
    "\n",
    "# Subset the columns\n",
    "df1 = cref[mrg_cols + ['image_id']]\n",
    "df2 = rna\n",
    "\n",
    "# Merge meta files\n",
    "mrg = df1.merge(df2, on=mrg_cols, how='inner').reset_index(drop=True)\n",
    "print('cref', df1.shape)\n",
    "print('rna ', df2.shape)\n",
    "print('mrg ', mrg.shape)"
   ]
  },
  {
   "cell_type": "code",
   "execution_count": 8,
   "metadata": {},
   "outputs": [
    {
     "name": "stdout",
     "output_type": "stream",
     "text": [
      "Outer merge (1764, 983)\n",
      "right_only    1177\n",
      "both           550\n",
      "left_only       37\n",
      "Name: _merge, dtype: int64\n",
      "\n",
      "Missing items (37, 983)\n"
     ]
    },
    {
     "data": {
      "text/html": [
       "<div>\n",
       "<style scoped>\n",
       "    .dataframe tbody tr th:only-of-type {\n",
       "        vertical-align: middle;\n",
       "    }\n",
       "\n",
       "    .dataframe tbody tr th {\n",
       "        vertical-align: top;\n",
       "    }\n",
       "\n",
       "    .dataframe thead th {\n",
       "        text-align: right;\n",
       "    }\n",
       "</style>\n",
       "<table border=\"1\" class=\"dataframe\">\n",
       "  <thead>\n",
       "    <tr style=\"text-align: right;\">\n",
       "      <th></th>\n",
       "      <th>model</th>\n",
       "      <th>patient_id</th>\n",
       "      <th>specimen_id</th>\n",
       "      <th>sample_id</th>\n",
       "      <th>image_id</th>\n",
       "      <th>Sample</th>\n",
       "      <th>ge_AARS</th>\n",
       "      <th>ge_ABCB6</th>\n",
       "      <th>ge_ABCC5</th>\n",
       "      <th>ge_ABCF1</th>\n",
       "    </tr>\n",
       "  </thead>\n",
       "  <tbody>\n",
       "    <tr>\n",
       "      <th>6</th>\n",
       "      <td>114551~080-T</td>\n",
       "      <td>114551</td>\n",
       "      <td>080-T</td>\n",
       "      <td>M667M226</td>\n",
       "      <td>16056.0</td>\n",
       "      <td>NaN</td>\n",
       "      <td>NaN</td>\n",
       "      <td>NaN</td>\n",
       "      <td>NaN</td>\n",
       "      <td>NaN</td>\n",
       "    </tr>\n",
       "    <tr>\n",
       "      <th>10</th>\n",
       "      <td>114551~080-T</td>\n",
       "      <td>114551</td>\n",
       "      <td>080-T</td>\n",
       "      <td>M667M226C21</td>\n",
       "      <td>16127.0</td>\n",
       "      <td>NaN</td>\n",
       "      <td>NaN</td>\n",
       "      <td>NaN</td>\n",
       "      <td>NaN</td>\n",
       "      <td>NaN</td>\n",
       "    </tr>\n",
       "    <tr>\n",
       "      <th>7</th>\n",
       "      <td>114551~080-T</td>\n",
       "      <td>114551</td>\n",
       "      <td>080-T</td>\n",
       "      <td>M667M228</td>\n",
       "      <td>16058.0</td>\n",
       "      <td>NaN</td>\n",
       "      <td>NaN</td>\n",
       "      <td>NaN</td>\n",
       "      <td>NaN</td>\n",
       "      <td>NaN</td>\n",
       "    </tr>\n",
       "  </tbody>\n",
       "</table>\n",
       "</div>"
      ],
      "text/plain": [
       "           model patient_id specimen_id    sample_id  image_id Sample  \\\n",
       "6   114551~080-T     114551       080-T     M667M226   16056.0    NaN   \n",
       "10  114551~080-T     114551       080-T  M667M226C21   16127.0    NaN   \n",
       "7   114551~080-T     114551       080-T     M667M228   16058.0    NaN   \n",
       "\n",
       "    ge_AARS  ge_ABCB6  ge_ABCC5  ge_ABCF1  \n",
       "6       NaN       NaN       NaN       NaN  \n",
       "10      NaN       NaN       NaN       NaN  \n",
       "7       NaN       NaN       NaN       NaN  "
      ]
     },
     "metadata": {},
     "output_type": "display_data"
    }
   ],
   "source": [
    "# Explore (merge and identify from which df the items are coming from)\n",
    "# https://kanoki.org/2019/07/04/pandas-difference-between-two-dataframes/\n",
    "# Find which items are missing in Yitan's file\n",
    "mrg_outer = df1.merge(df2, on=mrg_cols, how='outer', indicator=True)\n",
    "print('Outer merge', mrg_outer.shape)\n",
    "print(mrg_outer['_merge'].value_counts())\n",
    "\n",
    "miss = mrg_outer.loc[lambda x: x['_merge']=='left_only']\n",
    "miss = miss.sort_values(mrg_cols, ascending=True)\n",
    "print('\\nMissing items', miss.shape)\n",
    "display(miss.iloc[:3, :10])"
   ]
  },
  {
   "cell_type": "code",
   "execution_count": 9,
   "metadata": {},
   "outputs": [
    {
     "data": {
      "text/html": [
       "<div>\n",
       "<style scoped>\n",
       "    .dataframe tbody tr th:only-of-type {\n",
       "        vertical-align: middle;\n",
       "    }\n",
       "\n",
       "    .dataframe tbody tr th {\n",
       "        vertical-align: top;\n",
       "    }\n",
       "\n",
       "    .dataframe thead th {\n",
       "        text-align: right;\n",
       "    }\n",
       "</style>\n",
       "<table border=\"1\" class=\"dataframe\">\n",
       "  <thead>\n",
       "    <tr style=\"text-align: right;\">\n",
       "      <th></th>\n",
       "      <th>Sample</th>\n",
       "      <th>model</th>\n",
       "      <th>patient_id</th>\n",
       "      <th>specimen_id</th>\n",
       "      <th>sample_id</th>\n",
       "      <th>ge_AARS</th>\n",
       "      <th>ge_ABCB6</th>\n",
       "      <th>ge_ABCC5</th>\n",
       "      <th>ge_ABCF1</th>\n",
       "      <th>ge_ABCF3</th>\n",
       "      <th>...</th>\n",
       "      <th>ge_ZMIZ1</th>\n",
       "      <th>ge_ZMYM2</th>\n",
       "      <th>ge_ZNF131</th>\n",
       "      <th>ge_ZNF274</th>\n",
       "      <th>ge_ZNF318</th>\n",
       "      <th>ge_ZNF395</th>\n",
       "      <th>ge_ZNF451</th>\n",
       "      <th>ge_ZNF586</th>\n",
       "      <th>ge_ZNF589</th>\n",
       "      <th>ge_ZW10</th>\n",
       "    </tr>\n",
       "  </thead>\n",
       "  <tbody>\n",
       "    <tr>\n",
       "      <th>10</th>\n",
       "      <td>114551~080-T~M667M226C29</td>\n",
       "      <td>114551~080-T</td>\n",
       "      <td>114551</td>\n",
       "      <td>080-T</td>\n",
       "      <td>M667M226C29</td>\n",
       "      <td>11.622240</td>\n",
       "      <td>8.220932</td>\n",
       "      <td>7.306632</td>\n",
       "      <td>9.989162</td>\n",
       "      <td>9.186027</td>\n",
       "      <td>...</td>\n",
       "      <td>9.644486</td>\n",
       "      <td>7.913247</td>\n",
       "      <td>6.899494</td>\n",
       "      <td>7.100257</td>\n",
       "      <td>7.336669</td>\n",
       "      <td>9.721398</td>\n",
       "      <td>6.235037</td>\n",
       "      <td>7.321681</td>\n",
       "      <td>7.391286</td>\n",
       "      <td>8.801201</td>\n",
       "    </tr>\n",
       "    <tr>\n",
       "      <th>11</th>\n",
       "      <td>114551~080-T~M667M227C30</td>\n",
       "      <td>114551~080-T</td>\n",
       "      <td>114551</td>\n",
       "      <td>080-T</td>\n",
       "      <td>M667M227C30</td>\n",
       "      <td>11.572382</td>\n",
       "      <td>8.229940</td>\n",
       "      <td>8.719181</td>\n",
       "      <td>10.267242</td>\n",
       "      <td>9.719035</td>\n",
       "      <td>...</td>\n",
       "      <td>10.123617</td>\n",
       "      <td>9.616393</td>\n",
       "      <td>7.531453</td>\n",
       "      <td>7.859683</td>\n",
       "      <td>7.631402</td>\n",
       "      <td>10.103002</td>\n",
       "      <td>7.757533</td>\n",
       "      <td>8.994519</td>\n",
       "      <td>8.314485</td>\n",
       "      <td>9.170944</td>\n",
       "    </tr>\n",
       "  </tbody>\n",
       "</table>\n",
       "<p>2 rows × 981 columns</p>\n",
       "</div>"
      ],
      "text/plain": [
       "                      Sample         model patient_id specimen_id  \\\n",
       "10  114551~080-T~M667M226C29  114551~080-T     114551       080-T   \n",
       "11  114551~080-T~M667M227C30  114551~080-T     114551       080-T   \n",
       "\n",
       "      sample_id    ge_AARS  ge_ABCB6  ge_ABCC5   ge_ABCF1  ge_ABCF3  ...  \\\n",
       "10  M667M226C29  11.622240  8.220932  7.306632   9.989162  9.186027  ...   \n",
       "11  M667M227C30  11.572382  8.229940  8.719181  10.267242  9.719035  ...   \n",
       "\n",
       "     ge_ZMIZ1  ge_ZMYM2  ge_ZNF131  ge_ZNF274  ge_ZNF318  ge_ZNF395  \\\n",
       "10   9.644486  7.913247   6.899494   7.100257   7.336669   9.721398   \n",
       "11  10.123617  9.616393   7.531453   7.859683   7.631402  10.103002   \n",
       "\n",
       "    ge_ZNF451  ge_ZNF586  ge_ZNF589   ge_ZW10  \n",
       "10   6.235037   7.321681   7.391286  8.801201  \n",
       "11   7.757533   8.994519   8.314485  9.170944  \n",
       "\n",
       "[2 rows x 981 columns]"
      ]
     },
     "execution_count": 9,
     "metadata": {},
     "output_type": "execute_result"
    }
   ],
   "source": [
    "# Consider filling the rnaseq from sample_ids of the sample model\n",
    "rna[rna.model.isin(miss.model)][:2]"
   ]
  },
  {
   "cell_type": "markdown",
   "metadata": {},
   "source": [
    "### Now merge "
   ]
  },
  {
   "cell_type": "code",
   "execution_count": 9,
   "metadata": {},
   "outputs": [
    {
     "name": "stdout",
     "output_type": "stream",
     "text": [
      "(556, 982)\n",
      "(548, 987)\n"
     ]
    }
   ],
   "source": [
    "# Merge cref and rna\n",
    "cref_rna = cref[mrg_cols + ['image_id']].merge(rna, on=mrg_cols, how='inner').reset_index(drop=True)\n",
    "print(cref_rna.shape)\n",
    "# display(cref_rna[:2])\n",
    "\n",
    "# Note that we also loose some samples when we merge with pdx metadata\n",
    "data = pdx.merge(cref_rna, on=['patient_id', 'specimen_id'], how='inner').reset_index(drop=True)\n",
    "print(data.shape)\n",
    "# display(mrg[:2])\n",
    "\n",
    "# Re-org cols\n",
    "cols = ['Sample', 'model', 'patient_id', 'specimen_id', 'sample_id', 'image_id', \n",
    "        'csite_src', 'ctype_src', 'csite', 'ctype', 'stage_or_grade']\n",
    "ge_cols = [c for c in data.columns if str(c).startswith('ge_')]\n",
    "data = data[cols + ge_cols]\n",
    "# display(data[:2])"
   ]
  },
  {
   "cell_type": "code",
   "execution_count": null,
   "metadata": {},
   "outputs": [],
   "source": []
  },
  {
   "cell_type": "markdown",
   "metadata": {},
   "source": [
    "# Update TFRecords"
   ]
  },
  {
   "cell_type": "code",
   "execution_count": 10,
   "metadata": {},
   "outputs": [
    {
     "data": {
      "text/plain": [
       "PosixPath('/vol/ml/apartin/projects/slideflow-proj/PDX_FIXED_updated_updated/299px_302um')"
      ]
     },
     "execution_count": 10,
     "metadata": {},
     "output_type": "execute_result"
    }
   ],
   "source": [
    "# Destination for the updated tfrecords\n",
    "outpath = cfg.SF_TFR_DIR\n",
    "outpath = Path(str(outpath) + '_updated')/label\n",
    "os.makedirs(outpath, exist_ok=True)\n",
    "outpath"
   ]
  },
  {
   "cell_type": "code",
   "execution_count": 11,
   "metadata": {},
   "outputs": [
    {
     "name": "stdout",
     "output_type": "stream",
     "text": [
      "A total of 556 samples with image and rna data.\n"
     ]
    }
   ],
   "source": [
    "# Create dict of slide ids. Each slide contain a dict with metadata.\n",
    "assert sum(cref_rna.duplicated('image_id', keep=False)) == 0, 'There are duplicates of image_id in the df'\n",
    "\n",
    "mt = {}  # dict to store all metadata\n",
    "GE_TYPE = np.float32\n",
    "\n",
    "# Note that we use cref_rna since the subequent merge with pdx further\n",
    "# looses a few samples.\n",
    "for i, row_data in cref_rna.iterrows():\n",
    "    # Dict to contain metadata for the current slide\n",
    "    slide_dct = {}\n",
    "\n",
    "    # Meta cols\n",
    "    meta_cols = [c for c in row_data.index if not c.startswith('ge_')]\n",
    "    for c in meta_cols:\n",
    "        slide_dct[c] = str(row_data[c])\n",
    "\n",
    "    # RNA cols\n",
    "    ge_cols = [c for c in row_data.index if c.startswith('ge_')]\n",
    "    ge_data = list(row_data[ge_cols].values.astype(GE_TYPE))\n",
    "    slide_dct['ge_data'] = ge_data\n",
    "    \n",
    "    slide = str(row_data['image_id'])\n",
    "    mt[slide] = slide_dct\n",
    "    \n",
    "print(f'A total of {len(mt)} samples with image and rna data.')"
   ]
  },
  {
   "cell_type": "code",
   "execution_count": 12,
   "metadata": {},
   "outputs": [
    {
     "name": "stdout",
     "output_type": "stream",
     "text": [
      "A total of 550 original tfrecords.\n",
      "A total of 550 samples that have tfrecords and rna data.\n",
      "Missing tfrecords for the following slides (bad quality of histology slides):  ['20729', '21836', '22232', '45983', '83742', '83743']\n"
     ]
    }
   ],
   "source": [
    "# Obtain slide names for which we need to update the tfrecords\n",
    "directory = cfg.SF_TFR_DIR/label\n",
    "tfr_files = list(directory.glob('*.tfrec*'))\n",
    "\n",
    "# Slide names from tfrecords\n",
    "slides = [s.name.split('.tfrec')[0] for s in tfr_files]\n",
    "print(f'A total of {len(slides)} original tfrecords.')\n",
    "\n",
    "# Common slides (that have both image and rna data)\n",
    "c_slides = [s for s in slides if s in mt.keys()]\n",
    "print(f'A total of {len(c_slides)} samples that have tfrecords and rna data.')\n",
    "\n",
    "print('Missing tfrecords for the following slides (bad quality of histology slides): ', sorted(set(mt.keys()).difference(set(c_slides))))\n",
    "# print(sorted(cfg.BAD_SLIDES))"
   ]
  },
  {
   "cell_type": "code",
   "execution_count": 17,
   "metadata": {},
   "outputs": [
    {
     "name": "stdout",
     "output_type": "stream",
     "text": [
      "\u001b[K Updating tfrecord 9970.tfrecords (550 out of 550 tfrecords) \u001b[92m9970.tfrecords\u001b[0m ....."
     ]
    }
   ],
   "source": [
    "# Load tfrecords and update with new data\n",
    "for i, s in enumerate(sorted(c_slides)):\n",
    "    rel_tfr = str(s) + '.tfrecords'\n",
    "    tfr = str(directory/rel_tfr)  #join(directory, rel_tfr)\n",
    "    \n",
    "    print(f\"\\r\\033[K Updating {green(rel_tfr)} ({i+1} out of {len(c_slides)} tfrecords) ...\", end=\"\") \n",
    "    \n",
    "    tfr_fname = str(outpath/rel_tfr)\n",
    "    writer = tf.io.TFRecordWriter(tfr_fname)\n",
    "    \n",
    "    raw_dataset = tf.data.TFRecordDataset(tfr)\n",
    "        \n",
    "    for rec in raw_dataset:\n",
    "        features = tf.io.parse_single_example(rec, features=FEA_SPEC)  # rec features from old tfrecord\n",
    "        # tf.print(features.keys())\n",
    "\n",
    "        # Extract slide name from old tfrecord and get the new metadata to be added to the new tfrecord\n",
    "        slide = features['slide'].numpy().decode('utf-8')\n",
    "        slide_meta = mt[slide]\n",
    "        \n",
    "        ex = tf.train.Example(features=tf.train.Features(\n",
    "            feature={\n",
    "                # old features\n",
    "                'slide':       _bytes_feature(features['slide'].numpy()),  # image_id\n",
    "                'image_raw':   _bytes_feature(features['image_raw'].numpy()),\n",
    "\n",
    "                # new features\n",
    "                'model':       _bytes_feature(bytes(slide_meta['model'], 'utf-8')),\n",
    "                'patient_id':  _bytes_feature(bytes(slide_meta['patient_id'], 'utf-8')),\n",
    "                'specimen_id': _bytes_feature(bytes(slide_meta['specimen_id'], 'utf-8')),\n",
    "                'sample_id':   _bytes_feature(bytes(slide_meta['sample_id'], 'utf-8')),\n",
    "                'image_id':    _bytes_feature(bytes(slide_meta['image_id'], 'utf-8')),\n",
    "                'Sample':      _bytes_feature(bytes(slide_meta['Sample'], 'utf-8')),\n",
    "                'ge_data':     _float_feature(slide_meta['ge_data']),\n",
    "            }\n",
    "        ))\n",
    "        \n",
    "        writer.write(ex.SerializeToString())\n",
    "        \n",
    "    writer.close()        "
   ]
  },
  {
   "cell_type": "code",
   "execution_count": 149,
   "metadata": {},
   "outputs": [
    {
     "name": "stdout",
     "output_type": "stream",
     "text": [
      "['image_raw', 'slide']\n"
     ]
    },
    {
     "data": {
      "text/plain": [
       "'9970'"
      ]
     },
     "execution_count": 149,
     "metadata": {},
     "output_type": "execute_result"
    }
   ],
   "source": [
    "raw_dataset = tf.data.TFRecordDataset(tfr)\n",
    "rec = next(raw_dataset.__iter__())\n",
    "features = tf.io.parse_single_example(rec, features=FEA_SPEC)  # rec features from old tfrecord\n",
    "tf.print(features.keys())\n",
    "\n",
    "slide = features['slide'].numpy().decode('utf-8')\n",
    "slide"
   ]
  },
  {
   "cell_type": "code",
   "execution_count": 1,
   "metadata": {},
   "outputs": [],
   "source": [
    "# Write single tfrecord\n",
    "# ---------------------\n",
    "\n",
    "# s = c_slides[0]\n",
    "# rel_tfr = str(s) + '.tfrecords'\n",
    "# tfr = str(directory/rel_tfr)\n",
    "\n",
    "# raw_dataset = tf.data.TFRecordDataset(tfr)\n",
    "# rec = next(raw_dataset.__iter__())\n",
    "# features = tf.io.parse_single_example(rec, features=FEA_SPEC)  # rec features from old tfrecord\n",
    "# tf.print(features.keys())\n",
    "\n",
    "# # Extract slide name from old tfrecord and get the new metadata to be added to the new tfrecord\n",
    "# slide = features['slide'].numpy().decode('utf-8')\n",
    "# slide_meta = mt[slide]\n",
    "\n",
    "# tfr_fname = str(outpath/rel_tfr)\n",
    "# writer = tf.io.TFRecordWriter(tfr_fname)\n",
    "\n",
    "# tf_ex = tf.train.Example(features=tf.train.Features(\n",
    "#     feature={\n",
    "#         # old features\n",
    "#         'slide':       _bytes_feature(features['slide'].numpy()),     # image_id\n",
    "#         'image_raw':   _bytes_feature(features['image_raw'].numpy()),\n",
    "        \n",
    "#         # new features\n",
    "#         'model':       _bytes_feature(bytes(slide_meta['model'], 'utf-8')),\n",
    "#         'patient_id':  _bytes_feature(bytes(slide_meta['patient_id'], 'utf-8')),\n",
    "#         'specimen_id': _bytes_feature(bytes(slide_meta['specimen_id'], 'utf-8')),\n",
    "#         'sample_id':   _bytes_feature(bytes(slide_meta['sample_id'], 'utf-8')),\n",
    "#         'image_id':    _bytes_feature(bytes(slide_meta['image_id'], 'utf-8')),\n",
    "#         'Sample':      _bytes_feature(bytes(slide_meta['Sample'], 'utf-8')),\n",
    "#         'ge_data':     _float_feature(slide_meta['ge_data']),\n",
    "#     }\n",
    "# ))\n",
    "\n",
    "# writer.write(tf_ex.SerializeToString())\n",
    "# writer.close()"
   ]
  },
  {
   "cell_type": "code",
   "execution_count": null,
   "metadata": {},
   "outputs": [],
   "source": []
  },
  {
   "cell_type": "markdown",
   "metadata": {},
   "source": [
    "# Try to load a TFRecord"
   ]
  },
  {
   "cell_type": "code",
   "execution_count": 168,
   "metadata": {},
   "outputs": [],
   "source": [
    "GE_LEN = len(slide_meta['ge_data'])\n",
    "\n",
    "fea_spec_new = {\n",
    "    'slide': tf.io.FixedLenFeature(shape=[], dtype=tf.string, default_value=None),\n",
    "    'image_raw': tf.io.FixedLenFeature(shape=[], dtype=tf.string, default_value=None),\n",
    "\n",
    "    'model': tf.io.FixedLenFeature(shape=[], dtype=tf.string, default_value=None),\n",
    "    'patient_id': tf.io.FixedLenFeature(shape=[], dtype=tf.string, default_value=None),\n",
    "    'specimen_id': tf.io.FixedLenFeature(shape=[], dtype=tf.string, default_value=None),\n",
    "    'sample_id': tf.io.FixedLenFeature(shape=[], dtype=tf.string, default_value=None),\n",
    "    'image_id': tf.io.FixedLenFeature(shape=[], dtype=tf.string, default_value=None),\n",
    "    'Sample': tf.io.FixedLenFeature(shape=[], dtype=tf.string, default_value=None),\n",
    "    'ge_data': tf.io.FixedLenFeature(shape=(GE_LEN,), dtype=tf.float32, default_value=None),\n",
    "}"
   ]
  },
  {
   "cell_type": "code",
   "execution_count": null,
   "metadata": {},
   "outputs": [],
   "source": [
    "s = c_slides[0]\n",
    "rel_tfr = str(s) + '.tfrecords'\n",
    "tfr_path = str(outpath/rel_tfr)\n",
    "raw_dataset = tf.data.TFRecordDataset(tfr_path)\n",
    "rec = next(raw_dataset.__iter__())\n",
    "features = tf.io.parse_single_example(rec, features=fea_spec_new)  # rec features from old tfrecord\n",
    "tf.print(features.keys())"
   ]
  }
 ],
 "metadata": {
  "kernelspec": {
   "display_name": "Python 3",
   "language": "python",
   "name": "python3"
  },
  "language_info": {
   "codemirror_mode": {
    "name": "ipython",
    "version": 3
   },
   "file_extension": ".py",
   "mimetype": "text/x-python",
   "name": "python",
   "nbconvert_exporter": "python",
   "pygments_lexer": "ipython3",
   "version": "3.7.9"
  }
 },
 "nbformat": 4,
 "nbformat_minor": 4
}
