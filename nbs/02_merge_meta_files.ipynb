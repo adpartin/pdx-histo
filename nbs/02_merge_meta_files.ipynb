{
 "cells": [
  {
   "cell_type": "markdown",
   "metadata": {},
   "source": [
    "Merge 3 metadata files to create `../data/meta/meta_merged.csv`:\n",
    "\n",
    "1. `_ImageID_PDMRID_CrossRef.xlsx`:  meta comes with PDX slides; crossref\n",
    "2. `PDX_Meta_Information.csv`:       meta from Yitan; pdx_meta\n",
    "3. `meta_from_wsi_slides.csv`:       meta extracted from SVS slides using openslide; slides_meta\n",
    "\n",
    "Note! Before running this code, generate meta_from_wsi_slides.csv with get_meta_from_slides.py or `01_get_meta_from_slides.ipynb`.\n",
    "\n",
    "Note! Yitan's file has some missing samples for which we do have the slides.<br>\n",
    "The missing samples either don't have response data or expression data."
   ]
  },
  {
   "cell_type": "code",
   "execution_count": 1,
   "metadata": {},
   "outputs": [
    {
     "name": "stdout",
     "output_type": "stream",
     "text": [
      "/vol/ml/apartin/projects/pdx-histo/nbs\n"
     ]
    }
   ],
   "source": [
    "import os\n",
    "import sys\n",
    "from pathlib import Path\n",
    "import glob\n",
    "from pprint import pprint\n",
    "import pandas as pd\n",
    "import numpy as np\n",
    "\n",
    "dirpath = Path.cwd()\n",
    "print(dirpath)\n",
    "\n",
    "sys.path.append(str(dirpath/'../src'))\n",
    "# print(sys.path)"
   ]
  },
  {
   "cell_type": "code",
   "execution_count": null,
   "metadata": {},
   "outputs": [],
   "source": []
  },
  {
   "cell_type": "code",
   "execution_count": 2,
   "metadata": {},
   "outputs": [
    {
     "data": {
      "text/html": [
       "<div>\n",
       "<style scoped>\n",
       "    .dataframe tbody tr th:only-of-type {\n",
       "        vertical-align: middle;\n",
       "    }\n",
       "\n",
       "    .dataframe tbody tr th {\n",
       "        vertical-align: top;\n",
       "    }\n",
       "\n",
       "    .dataframe thead th {\n",
       "        text-align: right;\n",
       "    }\n",
       "</style>\n",
       "<table border=\"1\" class=\"dataframe\">\n",
       "  <thead>\n",
       "    <tr style=\"text-align: right;\">\n",
       "      <th></th>\n",
       "      <th>Model</th>\n",
       "      <th>Sample ID</th>\n",
       "      <th>Image ID</th>\n",
       "      <th>Capture Date</th>\n",
       "      <th>Date Loaded to BW_Transfers</th>\n",
       "      <th>Notes</th>\n",
       "    </tr>\n",
       "  </thead>\n",
       "  <tbody>\n",
       "    <tr>\n",
       "      <th>0</th>\n",
       "      <td>114434~197-R</td>\n",
       "      <td>A38WG0JH1</td>\n",
       "      <td>29249.0</td>\n",
       "      <td>2017-01-05</td>\n",
       "      <td>2020-09-15</td>\n",
       "      <td>NaN</td>\n",
       "    </tr>\n",
       "    <tr>\n",
       "      <th>1</th>\n",
       "      <td>114434~197-R</td>\n",
       "      <td>A38WG3J91</td>\n",
       "      <td>29250.0</td>\n",
       "      <td>2017-01-05</td>\n",
       "      <td>2020-09-15</td>\n",
       "      <td>NaN</td>\n",
       "    </tr>\n",
       "  </tbody>\n",
       "</table>\n",
       "</div>"
      ],
      "text/plain": [
       "          Model  Sample ID  Image ID Capture Date Date Loaded to BW_Transfers  \\\n",
       "0  114434~197-R  A38WG0JH1   29249.0   2017-01-05                  2020-09-15   \n",
       "1  114434~197-R  A38WG3J91   29250.0   2017-01-05                  2020-09-15   \n",
       "\n",
       "  Notes  \n",
       "0   NaN  \n",
       "1   NaN  "
      ]
     },
     "metadata": {},
     "output_type": "display_data"
    }
   ],
   "source": [
    "# Path\n",
    "datapath = dirpath/'../data'\n",
    "slidespath  = datapath/'doe-globus-pdx-data'  # path to raw WSI data\n",
    "metapath = datapath/'meta'\n",
    "crossref_meta_fname = '_ImageID_PDMRID_CrossRef.xlsx'  # comes with the svs slides\n",
    "\n",
    "# Meta file names\n",
    "crossref_fname = '_ImageID_PDMRID_CrossRef.xlsx'\n",
    "slides_meta_fname = 'meta_from_wsi_slides.csv'\n",
    "pdx_meta_fname = 'PDX_Meta_Information.xlsx'\n",
    "\n",
    "# PDX image meta (from NCI/Globus)\n",
    "df_img = pd.read_excel(metapath/crossref_meta_fname, engine='openpyxl', header=2)\n",
    "display(df_img[:2])"
   ]
  },
  {
   "cell_type": "code",
   "execution_count": 4,
   "metadata": {},
   "outputs": [
    {
     "name": "stdout",
     "output_type": "stream",
     "text": [
      "Crossref: (593, 8)\n",
      "PDX meta: (97, 7)\n",
      "          model patient_id specimen_id  sample_id  image_id capture_date  \\\n",
      "0  114434~197-R     114434       197-R  A38WG0JH1     29249   2017-01-05   \n",
      "1  114434~197-R     114434       197-R  A38WG3J91     29250   2017-01-05   \n",
      "\n",
      "  date_loaded_to_bw_transfers Notes  \n",
      "0                  2020-09-15   NaN  \n",
      "1                  2020-09-15   NaN  \n",
      "  patient_id specimen_id    tumor_site_from_data_src tumor_type_from_data_src  \\\n",
      "0     135848       042-T  Digestive/Gastrointestinal   Adenocarcinoma - colon   \n",
      "1     172845       121-B  Digestive/Gastrointestinal   Adenocarcinoma - colon   \n",
      "\n",
      "        simplified_tumor_site       simplified_tumor_type stage_or_grade  \n",
      "0  digestive/gastrointestinal  digestive/gastrointestinal        grade 2  \n",
      "1  digestive/gastrointestinal  digestive/gastrointestinal        grade 2  \n"
     ]
    }
   ],
   "source": [
    "# Load meta\n",
    "from merge_meta_files import load_crossref, load_pdx_meta, load_slides_meta\n",
    "cref = load_crossref(metapath, crossref_fname)\n",
    "pdx = load_pdx_meta(metapath, pdx_meta_fname)\n",
    "slides_meta = load_slides_meta(metapath, slides_meta_fname)\n",
    "\n",
    "print('Crossref: {}'.format(cref.shape))\n",
    "print('PDX meta: {}'.format(pdx.shape))\n",
    "pprint(cref[:2])\n",
    "pprint(pdx[:2])"
   ]
  },
  {
   "cell_type": "code",
   "execution_count": 5,
   "metadata": {},
   "outputs": [
    {
     "name": "stdout",
     "output_type": "stream",
     "text": [
      "Crossref:  (593, 8)\n",
      "PDX meta:  (97, 7)\n",
      "1st merge: (584, 11)\n"
     ]
    }
   ],
   "source": [
    "#\n",
    "# Merge crossref and pdx_meta\n",
    "#\n",
    "df_mrg = cref.merge(pdx, on=['patient_id', 'specimen_id'], how='inner').reset_index(drop=True)\n",
    "df_mrg = df_mrg.drop(columns=['capture_date', 'date_loaded_to_bw_transfers'])\n",
    "df_mrg = df_mrg.sort_values(['patient_id', 'specimen_id', 'sample_id'], ascending=True).reset_index(drop=True)\n",
    "\n",
    "print('Crossref:  {}'.format(cref.shape))\n",
    "print('PDX meta:  {}'.format(pdx.shape))\n",
    "print('1st merge: {}'.format(df_mrg.shape))\n",
    "# pprint(df_mrg[:2])"
   ]
  },
  {
   "cell_type": "code",
   "execution_count": 6,
   "metadata": {},
   "outputs": [
    {
     "name": "stdout",
     "output_type": "stream",
     "text": [
      "\n",
      "1st merge:   (584, 11)\n",
      "slides_meta: (596, 5)\n",
      "df_final:    (583, 15)\n",
      "\n",
      "          model patient_id specimen_id  sample_id  image_id Notes  \\\n",
      "0  114434~197-R     114434       197-R     A35YC3     27166   NaN   \n",
      "1  114434~197-R     114434       197-R     A36YC9     25127   NaN   \n",
      "2  114434~197-R     114434       197-R  A38WG0JH1     29249   NaN   \n",
      "\n",
      "  tumor_site_from_data_src         tumor_type_from_data_src  \\\n",
      "0          Musculoskeletal  Non-Rhabdo. soft tissue sarcoma   \n",
      "1          Musculoskeletal  Non-Rhabdo. soft tissue sarcoma   \n",
      "2          Musculoskeletal  Non-Rhabdo. soft tissue sarcoma   \n",
      "\n",
      "  simplified_tumor_site simplified_tumor_type stage_or_grade  power  width  \\\n",
      "0       musculoskeletal  sarcoma/mesothelioma        grade 3     20  23904   \n",
      "1       musculoskeletal  sarcoma/mesothelioma        grade 3     20  19920   \n",
      "2       musculoskeletal  sarcoma/mesothelioma        grade 3     20  11952   \n",
      "\n",
      "   height     MPP  \n",
      "0   17995  0.5027  \n",
      "1   17339  0.5027  \n",
      "2   13573  0.5027  \n"
     ]
    }
   ],
   "source": [
    "#\n",
    "# Merge with slides_meta\n",
    "#\n",
    "df_final = df_mrg.merge(slides_meta, how='inner', on='image_id')\n",
    "\n",
    "print('\\n1st merge:   {}'.format(df_mrg.shape))\n",
    "print('slides_meta: {}'.format(slides_meta.shape))\n",
    "print('df_final:    {}\\n'.format(df_final.shape))\n",
    "pprint(df_final[:3])"
   ]
  },
  {
   "cell_type": "code",
   "execution_count": null,
   "metadata": {},
   "outputs": [],
   "source": [
    "# df_final.to_csv(metapath/'meta_merged.csv', index=False)\n",
    "print('\\nDone.')"
   ]
  },
  {
   "cell_type": "code",
   "execution_count": null,
   "metadata": {},
   "outputs": [],
   "source": []
  }
 ],
 "metadata": {
  "kernelspec": {
   "display_name": "Python 3",
   "language": "python",
   "name": "python3"
  },
  "language_info": {
   "codemirror_mode": {
    "name": "ipython",
    "version": 3
   },
   "file_extension": ".py",
   "mimetype": "text/x-python",
   "name": "python",
   "nbconvert_exporter": "python",
   "pygments_lexer": "ipython3",
   "version": "3.7.9"
  }
 },
 "nbformat": 4,
 "nbformat_minor": 4
}
