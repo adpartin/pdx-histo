{
 "cells": [
  {
   "cell_type": "markdown",
   "metadata": {},
   "source": [
    "Merge 3 metadata files to create `../data/meta/meta_merged.csv`:\n",
    "\n",
    "1. `_ImageID_PDMRID_CrossRef.xlsx`:  meta comes with PDX slides; crossref\n",
    "2. `PDX_Meta_Information.csv`:       meta from Yitan; pdx_meta\n",
    "3. `meta_from_wsi_slides.csv`:       meta extracted from SVS slides using openslide; slides_meta\n",
    "\n",
    "Note! Before running this code, generate `meta_from_wsi_slides` with `get_meta_from_slides.py` or `01_get_meta_from_slides.ipynb`.\n",
    "\n",
    "Note! Yitan's file has some missing samples for which we have the histology slides.<br>\n",
    "The missing samples either don't have response data or expression data."
   ]
  },
  {
   "cell_type": "code",
   "execution_count": 1,
   "metadata": {},
   "outputs": [
    {
     "name": "stdout",
     "output_type": "stream",
     "text": [
      "/vol/ml/apartin/projects/pdx-histo/nbs\n"
     ]
    }
   ],
   "source": [
    "%load_ext autoreload\n",
    "%autoreload 2\n",
    "%matplotlib inline\n",
    "\n",
    "import os\n",
    "import sys\n",
    "from pathlib import Path\n",
    "import glob\n",
    "from pprint import pprint\n",
    "import pandas as pd\n",
    "import numpy as np\n",
    "\n",
    "fdir = Path.cwd()\n",
    "print(fdir)\n",
    "sys.path.append(str(fdir/'../src'))\n",
    "from config import cfg"
   ]
  },
  {
   "cell_type": "code",
   "execution_count": 2,
   "metadata": {},
   "outputs": [
    {
     "data": {
      "text/html": [
       "<div>\n",
       "<style scoped>\n",
       "    .dataframe tbody tr th:only-of-type {\n",
       "        vertical-align: middle;\n",
       "    }\n",
       "\n",
       "    .dataframe tbody tr th {\n",
       "        vertical-align: top;\n",
       "    }\n",
       "\n",
       "    .dataframe thead th {\n",
       "        text-align: right;\n",
       "    }\n",
       "</style>\n",
       "<table border=\"1\" class=\"dataframe\">\n",
       "  <thead>\n",
       "    <tr style=\"text-align: right;\">\n",
       "      <th></th>\n",
       "      <th>Model</th>\n",
       "      <th>Sample ID</th>\n",
       "      <th>Image ID</th>\n",
       "      <th>Capture Date</th>\n",
       "      <th>Date Loaded to BW_Transfers</th>\n",
       "      <th>Notes</th>\n",
       "    </tr>\n",
       "  </thead>\n",
       "  <tbody>\n",
       "    <tr>\n",
       "      <th>0</th>\n",
       "      <td>114434~197-R</td>\n",
       "      <td>A38WG0JH1</td>\n",
       "      <td>29249.0</td>\n",
       "      <td>2017-01-05</td>\n",
       "      <td>2020-09-15</td>\n",
       "      <td>NaN</td>\n",
       "    </tr>\n",
       "    <tr>\n",
       "      <th>1</th>\n",
       "      <td>114434~197-R</td>\n",
       "      <td>A38WG3J91</td>\n",
       "      <td>29250.0</td>\n",
       "      <td>2017-01-05</td>\n",
       "      <td>2020-09-15</td>\n",
       "      <td>NaN</td>\n",
       "    </tr>\n",
       "  </tbody>\n",
       "</table>\n",
       "</div>"
      ],
      "text/plain": [
       "          Model  Sample ID  Image ID Capture Date Date Loaded to BW_Transfers  \\\n",
       "0  114434~197-R  A38WG0JH1   29249.0   2017-01-05                  2020-09-15   \n",
       "1  114434~197-R  A38WG3J91   29250.0   2017-01-05                  2020-09-15   \n",
       "\n",
       "  Notes  \n",
       "0   NaN  \n",
       "1   NaN  "
      ]
     },
     "metadata": {},
     "output_type": "display_data"
    }
   ],
   "source": [
    "# Path\n",
    "METAPATH = cfg.DATADIR/'meta'"
   ]
  },
  {
   "cell_type": "code",
   "execution_count": 4,
   "metadata": {},
   "outputs": [
    {
     "name": "stdout",
     "output_type": "stream",
     "text": [
      "Crossref: (593, 8)\n",
      "PDX meta: (97, 7)\n"
     ]
    },
    {
     "data": {
      "text/html": [
       "<div>\n",
       "<style scoped>\n",
       "    .dataframe tbody tr th:only-of-type {\n",
       "        vertical-align: middle;\n",
       "    }\n",
       "\n",
       "    .dataframe tbody tr th {\n",
       "        vertical-align: top;\n",
       "    }\n",
       "\n",
       "    .dataframe thead th {\n",
       "        text-align: right;\n",
       "    }\n",
       "</style>\n",
       "<table border=\"1\" class=\"dataframe\">\n",
       "  <thead>\n",
       "    <tr style=\"text-align: right;\">\n",
       "      <th></th>\n",
       "      <th>model</th>\n",
       "      <th>patient_id</th>\n",
       "      <th>specimen_id</th>\n",
       "      <th>sample_id</th>\n",
       "      <th>image_id</th>\n",
       "      <th>capture_date</th>\n",
       "      <th>date_loaded_to_bw_transfers</th>\n",
       "      <th>Notes</th>\n",
       "    </tr>\n",
       "  </thead>\n",
       "  <tbody>\n",
       "    <tr>\n",
       "      <th>0</th>\n",
       "      <td>114434~197-R</td>\n",
       "      <td>114434</td>\n",
       "      <td>197-R</td>\n",
       "      <td>A38WG0JH1</td>\n",
       "      <td>29249</td>\n",
       "      <td>2017-01-05</td>\n",
       "      <td>2020-09-15</td>\n",
       "      <td>NaN</td>\n",
       "    </tr>\n",
       "    <tr>\n",
       "      <th>1</th>\n",
       "      <td>114434~197-R</td>\n",
       "      <td>114434</td>\n",
       "      <td>197-R</td>\n",
       "      <td>A38WG3J91</td>\n",
       "      <td>29250</td>\n",
       "      <td>2017-01-05</td>\n",
       "      <td>2020-09-15</td>\n",
       "      <td>NaN</td>\n",
       "    </tr>\n",
       "  </tbody>\n",
       "</table>\n",
       "</div>"
      ],
      "text/plain": [
       "          model patient_id specimen_id  sample_id  image_id capture_date  \\\n",
       "0  114434~197-R     114434       197-R  A38WG0JH1     29249   2017-01-05   \n",
       "1  114434~197-R     114434       197-R  A38WG3J91     29250   2017-01-05   \n",
       "\n",
       "  date_loaded_to_bw_transfers Notes  \n",
       "0                  2020-09-15   NaN  \n",
       "1                  2020-09-15   NaN  "
      ]
     },
     "metadata": {},
     "output_type": "display_data"
    },
    {
     "data": {
      "text/html": [
       "<div>\n",
       "<style scoped>\n",
       "    .dataframe tbody tr th:only-of-type {\n",
       "        vertical-align: middle;\n",
       "    }\n",
       "\n",
       "    .dataframe tbody tr th {\n",
       "        vertical-align: top;\n",
       "    }\n",
       "\n",
       "    .dataframe thead th {\n",
       "        text-align: right;\n",
       "    }\n",
       "</style>\n",
       "<table border=\"1\" class=\"dataframe\">\n",
       "  <thead>\n",
       "    <tr style=\"text-align: right;\">\n",
       "      <th></th>\n",
       "      <th>patient_id</th>\n",
       "      <th>specimen_id</th>\n",
       "      <th>tumor_site_from_data_src</th>\n",
       "      <th>tumor_type_from_data_src</th>\n",
       "      <th>simplified_tumor_site</th>\n",
       "      <th>simplified_tumor_type</th>\n",
       "      <th>stage_or_grade</th>\n",
       "    </tr>\n",
       "  </thead>\n",
       "  <tbody>\n",
       "    <tr>\n",
       "      <th>0</th>\n",
       "      <td>135848</td>\n",
       "      <td>042-T</td>\n",
       "      <td>Digestive/Gastrointestinal</td>\n",
       "      <td>Adenocarcinoma - colon</td>\n",
       "      <td>digestive/gastrointestinal</td>\n",
       "      <td>digestive/gastrointestinal</td>\n",
       "      <td>grade 2</td>\n",
       "    </tr>\n",
       "    <tr>\n",
       "      <th>1</th>\n",
       "      <td>172845</td>\n",
       "      <td>121-B</td>\n",
       "      <td>Digestive/Gastrointestinal</td>\n",
       "      <td>Adenocarcinoma - colon</td>\n",
       "      <td>digestive/gastrointestinal</td>\n",
       "      <td>digestive/gastrointestinal</td>\n",
       "      <td>grade 2</td>\n",
       "    </tr>\n",
       "  </tbody>\n",
       "</table>\n",
       "</div>"
      ],
      "text/plain": [
       "  patient_id specimen_id    tumor_site_from_data_src tumor_type_from_data_src  \\\n",
       "0     135848       042-T  Digestive/Gastrointestinal   Adenocarcinoma - colon   \n",
       "1     172845       121-B  Digestive/Gastrointestinal   Adenocarcinoma - colon   \n",
       "\n",
       "        simplified_tumor_site       simplified_tumor_type stage_or_grade  \n",
       "0  digestive/gastrointestinal  digestive/gastrointestinal        grade 2  \n",
       "1  digestive/gastrointestinal  digestive/gastrointestinal        grade 2  "
      ]
     },
     "metadata": {},
     "output_type": "display_data"
    }
   ],
   "source": [
    "# Load meta\n",
    "from merge_meta_files import load_crossref, load_pdx_meta, load_slides_meta\n",
    "\n",
    "cref = load_crossref( METAPATH/cfg.CROSSREF_FNAME )\n",
    "pdx = load_pdx_meta( METAPATH/cfg.PDX_META_FNAME )\n",
    "slides_meta = load_slides_meta( METAPATH/cfg.SLIDES_META_FNAME )\n",
    "\n",
    "print('Crossref: {}'.format(cref.shape))\n",
    "print('PDX meta: {}'.format(pdx.shape))\n",
    "display(cref[:2])\n",
    "display(pdx[:2])"
   ]
  },
  {
   "cell_type": "code",
   "execution_count": 5,
   "metadata": {},
   "outputs": [
    {
     "name": "stdout",
     "output_type": "stream",
     "text": [
      "Crossref:  (593, 8)\n",
      "PDX meta:  (97, 7)\n",
      "1st merge: (584, 11)\n"
     ]
    }
   ],
   "source": [
    "#\n",
    "# Merge crossref and pdx_meta\n",
    "#\n",
    "df_mrg = cref.merge(pdx, on=['patient_id', 'specimen_id'], how='inner').reset_index(drop=True)\n",
    "df_mrg = df_mrg.drop(columns=['capture_date', 'date_loaded_to_bw_transfers'])\n",
    "df_mrg = df_mrg.sort_values(['patient_id', 'specimen_id', 'sample_id'], ascending=True).reset_index(drop=True)\n",
    "\n",
    "print('Crossref:  {}'.format(cref.shape))\n",
    "print('PDX meta:  {}'.format(pdx.shape))\n",
    "print('1st merge: {}'.format(df_mrg.shape))\n",
    "# pprint(df_mrg[:2])"
   ]
  },
  {
   "cell_type": "code",
   "execution_count": 6,
   "metadata": {},
   "outputs": [
    {
     "name": "stdout",
     "output_type": "stream",
     "text": [
      "\n",
      "1st merge:   (584, 11)\n",
      "slides_meta: (596, 5)\n",
      "df_final:    (583, 15)\n",
      "\n"
     ]
    },
    {
     "data": {
      "text/html": [
       "<div>\n",
       "<style scoped>\n",
       "    .dataframe tbody tr th:only-of-type {\n",
       "        vertical-align: middle;\n",
       "    }\n",
       "\n",
       "    .dataframe tbody tr th {\n",
       "        vertical-align: top;\n",
       "    }\n",
       "\n",
       "    .dataframe thead th {\n",
       "        text-align: right;\n",
       "    }\n",
       "</style>\n",
       "<table border=\"1\" class=\"dataframe\">\n",
       "  <thead>\n",
       "    <tr style=\"text-align: right;\">\n",
       "      <th></th>\n",
       "      <th>model</th>\n",
       "      <th>patient_id</th>\n",
       "      <th>specimen_id</th>\n",
       "      <th>sample_id</th>\n",
       "      <th>image_id</th>\n",
       "      <th>Notes</th>\n",
       "      <th>tumor_site_from_data_src</th>\n",
       "      <th>tumor_type_from_data_src</th>\n",
       "      <th>simplified_tumor_site</th>\n",
       "      <th>simplified_tumor_type</th>\n",
       "      <th>stage_or_grade</th>\n",
       "      <th>width</th>\n",
       "      <th>height</th>\n",
       "      <th>power</th>\n",
       "      <th>MPP</th>\n",
       "    </tr>\n",
       "  </thead>\n",
       "  <tbody>\n",
       "    <tr>\n",
       "      <th>0</th>\n",
       "      <td>114434~197-R</td>\n",
       "      <td>114434</td>\n",
       "      <td>197-R</td>\n",
       "      <td>A35YC3</td>\n",
       "      <td>27166</td>\n",
       "      <td>NaN</td>\n",
       "      <td>Musculoskeletal</td>\n",
       "      <td>Non-Rhabdo. soft tissue sarcoma</td>\n",
       "      <td>musculoskeletal</td>\n",
       "      <td>sarcoma/mesothelioma</td>\n",
       "      <td>grade 3</td>\n",
       "      <td>23904</td>\n",
       "      <td>17995</td>\n",
       "      <td>20</td>\n",
       "      <td>0.5027</td>\n",
       "    </tr>\n",
       "    <tr>\n",
       "      <th>1</th>\n",
       "      <td>114434~197-R</td>\n",
       "      <td>114434</td>\n",
       "      <td>197-R</td>\n",
       "      <td>A36YC9</td>\n",
       "      <td>25127</td>\n",
       "      <td>NaN</td>\n",
       "      <td>Musculoskeletal</td>\n",
       "      <td>Non-Rhabdo. soft tissue sarcoma</td>\n",
       "      <td>musculoskeletal</td>\n",
       "      <td>sarcoma/mesothelioma</td>\n",
       "      <td>grade 3</td>\n",
       "      <td>19920</td>\n",
       "      <td>17339</td>\n",
       "      <td>20</td>\n",
       "      <td>0.5027</td>\n",
       "    </tr>\n",
       "    <tr>\n",
       "      <th>2</th>\n",
       "      <td>114434~197-R</td>\n",
       "      <td>114434</td>\n",
       "      <td>197-R</td>\n",
       "      <td>A38WG0JH1</td>\n",
       "      <td>29249</td>\n",
       "      <td>NaN</td>\n",
       "      <td>Musculoskeletal</td>\n",
       "      <td>Non-Rhabdo. soft tissue sarcoma</td>\n",
       "      <td>musculoskeletal</td>\n",
       "      <td>sarcoma/mesothelioma</td>\n",
       "      <td>grade 3</td>\n",
       "      <td>11952</td>\n",
       "      <td>13573</td>\n",
       "      <td>20</td>\n",
       "      <td>0.5027</td>\n",
       "    </tr>\n",
       "  </tbody>\n",
       "</table>\n",
       "</div>"
      ],
      "text/plain": [
       "          model patient_id specimen_id  sample_id  image_id Notes  \\\n",
       "0  114434~197-R     114434       197-R     A35YC3     27166   NaN   \n",
       "1  114434~197-R     114434       197-R     A36YC9     25127   NaN   \n",
       "2  114434~197-R     114434       197-R  A38WG0JH1     29249   NaN   \n",
       "\n",
       "  tumor_site_from_data_src         tumor_type_from_data_src  \\\n",
       "0          Musculoskeletal  Non-Rhabdo. soft tissue sarcoma   \n",
       "1          Musculoskeletal  Non-Rhabdo. soft tissue sarcoma   \n",
       "2          Musculoskeletal  Non-Rhabdo. soft tissue sarcoma   \n",
       "\n",
       "  simplified_tumor_site simplified_tumor_type stage_or_grade  width  height  \\\n",
       "0       musculoskeletal  sarcoma/mesothelioma        grade 3  23904   17995   \n",
       "1       musculoskeletal  sarcoma/mesothelioma        grade 3  19920   17339   \n",
       "2       musculoskeletal  sarcoma/mesothelioma        grade 3  11952   13573   \n",
       "\n",
       "   power     MPP  \n",
       "0     20  0.5027  \n",
       "1     20  0.5027  \n",
       "2     20  0.5027  "
      ]
     },
     "metadata": {},
     "output_type": "display_data"
    }
   ],
   "source": [
    "#\n",
    "# Merge with slides_meta\n",
    "#\n",
    "df_final = df_mrg.merge(slides_meta, how='inner', on='image_id')\n",
    "\n",
    "print('\\n1st merge:   {}'.format(df_mrg.shape))\n",
    "print('slides_meta: {}'.format(slides_meta.shape))\n",
    "print('df_final:    {}\\n'.format(df_final.shape))\n",
    "display(df_final[:3])"
   ]
  },
  {
   "cell_type": "code",
   "execution_count": 7,
   "metadata": {},
   "outputs": [
    {
     "name": "stdout",
     "output_type": "stream",
     "text": [
      "\n",
      "Done.\n"
     ]
    }
   ],
   "source": [
    "# df_final.to_csv(metapath/'meta_merged.csv', index=False)\n",
    "print('\\nDone.')"
   ]
  }
 ],
 "metadata": {
  "kernelspec": {
   "display_name": "Python 3",
   "language": "python",
   "name": "python3"
  },
  "language_info": {
   "codemirror_mode": {
    "name": "ipython",
    "version": 3
   },
   "file_extension": ".py",
   "mimetype": "text/x-python",
   "name": "python",
   "nbconvert_exporter": "python",
   "pygments_lexer": "ipython3",
   "version": "3.7.9"
  }
 },
 "nbformat": 4,
 "nbformat_minor": 4
}
