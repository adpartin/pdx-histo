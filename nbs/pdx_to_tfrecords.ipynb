{
 "cells": [
  {
   "cell_type": "code",
   "execution_count": 1,
   "metadata": {},
   "outputs": [
    {
     "name": "stdout",
     "output_type": "stream",
     "text": [
      "Num GPUs Available:  4\n"
     ]
    }
   ],
   "source": [
    "# Python ≥3.5 is required\n",
    "import sys\n",
    "assert sys.version_info >= (3, 5)\n",
    "\n",
    "# Scikit-Learn ≥0.20 is required\n",
    "import sklearn\n",
    "assert sklearn.__version__ >= \"0.20\"\n",
    "\n",
    "try:\n",
    "    # %tensorflow_version only exists in Colab.\n",
    "    %tensorflow_version 2.x\n",
    "    !pip install -q -U tfx==0.21.2\n",
    "    print(\"You can safely ignore the package incompatibility errors.\")\n",
    "except Exception:\n",
    "    pass\n",
    "\n",
    "# TensorFlow ≥2.0 is required\n",
    "import tensorflow as tf\n",
    "from tensorflow import keras\n",
    "assert tf.__version__ >= \"2.0\"\n",
    "print(\"Num GPUs Available: \", len(tf.config.experimental.list_physical_devices('GPU')))\n",
    "\n",
    "# Common imports\n",
    "import numpy as np\n",
    "import pandas as pd\n",
    "import os\n",
    "from pathlib import Path\n",
    "from glob import glob\n",
    "\n",
    "# to make this notebook's output stable across runs\n",
    "np.random.seed(42)\n",
    "\n",
    "# To plot pretty figures\n",
    "%matplotlib inline\n",
    "import matplotlib as mpl\n",
    "import matplotlib.pyplot as plt\n",
    "mpl.rc('axes', labelsize=14)\n",
    "mpl.rc('xtick', labelsize=12)\n",
    "mpl.rc('ytick', labelsize=12)"
   ]
  },
  {
   "cell_type": "code",
   "execution_count": 2,
   "metadata": {},
   "outputs": [],
   "source": [
    "def calc_records_in_tfr_folder(tfr_dir):\n",
    "    \"\"\" Calc total number of examples (tiles) in all tfrecords. \"\"\"\n",
    "    count = 0\n",
    "    for tfr_path in sorted(tfr_dir.glob('*.tfrec*')):\n",
    "        count += sum(1 for _ in tf.data.TFRecordDataset(str(tfr_path)))\n",
    "    print('Number of examples in all tfrecords in the folder:', count)\n",
    "\n",
    "def calc_examples_in_tfrecord(tfr_path):\n",
    "    \"\"\" Calc total number of examples (tiles) in all tfrecords. \"\"\"\n",
    "    count = sum(1 for _ in tf.data.TFRecordDataset(str(tfr_path)))\n",
    "    print('Number of examples in the tfrecord:', count)\n",
    "\n",
    "def show_img(img, title=None):\n",
    "    \"\"\" Show a single image tile. \"\"\"\n",
    "    plt.imshow(img)\n",
    "    plt.title(title)\n",
    "    plt.axis(\"off\")\n",
    "    plt.show()\n",
    "    \n",
    "def show_images(img_list, ncols=4):\n",
    "    \"\"\" Show  single image tile. \"\"\"\n",
    "    fig, ax = plt.subplots(nrows=1, ncols=ncols, figsize=(15, 20))\n",
    "    \n",
    "    for i, img_id in enumerate(np.random.randint(0, len(img_list), ncols)):\n",
    "        ax[i].imshow(img_list[img_id]['image']); ax[i].axis(\"off\"); ax[i].set_title(img_list[img_id]['slide'])\n",
    "        \n",
    "def encode_type(df, label_name, label_value):\n",
    "    \"\"\" \n",
    "    Args:\n",
    "        label_name:  name of the label\n",
    "        label_value: numerical value assigned to the label\n",
    "    Returns:\n",
    "        dict of unique label names the appropriate values {label_name: label_value}\n",
    "    \"\"\"\n",
    "    aa = data[[label_name, label_value]].drop_duplicates().sort_values(label_value).reset_index(drop=True)\n",
    "    return dict(zip(aa[label_name], aa[label_value]))"
   ]
  },
  {
   "cell_type": "code",
   "execution_count": null,
   "metadata": {},
   "outputs": [],
   "source": []
  },
  {
   "cell_type": "markdown",
   "metadata": {},
   "source": [
    "# PDX data"
   ]
  },
  {
   "cell_type": "code",
   "execution_count": 3,
   "metadata": {},
   "outputs": [],
   "source": [
    "import os\n",
    "import sys\n",
    "from pathlib import Path\n",
    "import pandas as pd\n",
    "import numpy as np\n",
    "import tensorflow as tf"
   ]
  },
  {
   "cell_type": "code",
   "execution_count": 5,
   "metadata": {},
   "outputs": [],
   "source": [
    "data = pd.read_csv('../data/data_merged.csv')\n",
    "csite_enc = encode_type(df=data, label_name='csite', label_value='csite_label')\n",
    "ctype_enc = encode_type(df=data, label_name='ctype', label_value='ctype_label')\n",
    "CSITE_NUM_CLASSES = len(csite_enc.keys())\n",
    "CTYPE_NUM_CLASSES = len(ctype_enc.keys())"
   ]
  },
  {
   "cell_type": "code",
   "execution_count": 12,
   "metadata": {},
   "outputs": [
    {
     "data": {
      "text/plain": [
       "[(403, 2607), (403, 2607), (403, 2607), (403, 2607), (405, 2607)]"
      ]
     },
     "execution_count": 12,
     "metadata": {},
     "output_type": "execute_result"
    }
   ],
   "source": [
    "# Divide the df into smaller dfs\n",
    "n_tfrecords = 5\n",
    "d = int(data.shape[0]/n_tfrecords)\n",
    "dfs = []\n",
    "for i in range(n_tfrecords):\n",
    "    i0 = i*d\n",
    "    i1 = (i+1)*d\n",
    "    if i == n_tfrecords-1:\n",
    "        i1 = None\n",
    "    dfs.append(data.iloc[i0:i1])\n",
    "    \n",
    "[df.shape for df in dfs]"
   ]
  },
  {
   "cell_type": "code",
   "execution_count": 13,
   "metadata": {},
   "outputs": [],
   "source": [
    "# next(dfs[1].iterrows())[1]\n",
    "# next(dfs[1].iterrows())[1].index\n",
    "# next(dfs[1].iterrows())[1].values\n",
    "\n",
    "# item = next(dfs[1].iterrows())[1]\n",
    "# ge_vec = [value for col_name, value in zip(item.index, item.values) if col_name.startswith('ge_')]\n",
    "# dd_vec = [value for col_name, value in zip(item.index, item.values) if col_name.startswith('dd_')]\n",
    "# item['Sample']"
   ]
  },
  {
   "cell_type": "code",
   "execution_count": 14,
   "metadata": {},
   "outputs": [
    {
     "name": "stdout",
     "output_type": "stream",
     "text": [
      "Train samples 1612\n",
      "Val samples   405\n",
      "Number of examples in the tfrecord: 405\n"
     ]
    }
   ],
   "source": [
    "# Create tfrecords\n",
    "# ----------------\n",
    "# Ourdir\n",
    "tfr_out = Path.cwd()/'tfr_from_csv'\n",
    "os.makedirs(tfr_out, exist_ok=True)\n",
    "\n",
    "# Randomize the dfs\n",
    "randomize = False\n",
    "if randomize:\n",
    "    import random\n",
    "    random.shuffle(dfs)\n",
    "    \n",
    "n_tr_dfs = 4  # num of train files\n",
    "n_vl_dfs = 1  # num of val files\n",
    "tr_sz = 0\n",
    "vl_sz = 0\n",
    "\n",
    "for i, df in enumerate(dfs):\n",
    "    i += 1\n",
    "\n",
    "    if i <= n_tr_dfs:\n",
    "        tfr_fname = tfr_out/f'train_{i}.tfrecord'\n",
    "        tr_sz += df.shape[0]\n",
    "    else:\n",
    "        tfr_fname = tfr_out/f'val_{i}.tfrecord'\n",
    "        vl_sz += df.shape[0]\n",
    "        \n",
    "    # Create tfr writer\n",
    "    writer = tf.io.TFRecordWriter(str(tfr_fname))\n",
    "\n",
    "    for i, item in df.iterrows():\n",
    "        # Prefix expression and drug features\n",
    "        ge_vec = [value for col_name, value in zip(item.index, item.values) if col_name.startswith('ge_')]\n",
    "        dd_vec = [value for col_name, value in zip(item.index, item.values) if col_name.startswith('dd_')]\n",
    "        \n",
    "        ex = tf.train.Example(features=tf.train.Features(\n",
    "            feature={\n",
    "                'ge_vec': tf.train.Feature(float_list=tf.train.FloatList(value=ge_vec)),\n",
    "                'dd_vec': tf.train.Feature(float_list=tf.train.FloatList(value=dd_vec)),\n",
    "                'Sample': tf.train.Feature(bytes_list=tf.train.BytesList(value=[bytes(item['Sample'], 'utf-8')])),\n",
    "                'ctype_label': tf.train.Feature(int64_list=tf.train.Int64List(value=[item['ctype_label']])),\n",
    "                'csite_label': tf.train.Feature(int64_list=tf.train.Int64List(value=[item['csite_label']])),\n",
    "                'ctype': tf.train.Feature(bytes_list=tf.train.BytesList(value=[bytes(item['ctype'], 'utf-8')])),\n",
    "                'csite': tf.train.Feature(bytes_list=tf.train.BytesList(value=[bytes(item['csite'], 'utf-8')]))\n",
    "            }\n",
    "        ))\n",
    " \n",
    "        writer.write(ex.SerializeToString())\n",
    "\n",
    "    writer.close()\n",
    "    \n",
    "print(f'Train samples {tr_sz}')\n",
    "print(f'Val samples   {vl_sz}')\n",
    "\n",
    "calc_examples_in_tfrecord(str(tfr_out/'val_5.tfrecord'))"
   ]
  },
  {
   "cell_type": "code",
   "execution_count": 15,
   "metadata": {},
   "outputs": [
    {
     "name": "stdout",
     "output_type": "stream",
     "text": [
      "digestive/gastrointestinal\n",
      "1\n",
      "{'bladder/urothelial': 0, 'digestive/gastrointestinal': 1, 'endocrine and neuroendocrine': 2, 'gynecologic': 3, 'head & neck': 4, 'kidney': 5, 'lung': 6, 'musculoskeletal': 7, 'skin': 8}\n"
     ]
    }
   ],
   "source": [
    "fea_spec = {\n",
    "    'ge_vec': tf.io.FixedLenFeature(shape=(len(ge_vec),), dtype=tf.float32, default_value=None),\n",
    "    'dd_vec': tf.io.FixedLenFeature(shape=(len(dd_vec),), dtype=tf.float32, default_value=None),    \n",
    "    'Sample': tf.io.FixedLenFeature(shape=[], dtype=tf.string, default_value=None),\n",
    "    'ctype_label':  tf.io.FixedLenFeature(shape=[], dtype=tf.int64, default_value=None),\n",
    "    'csite_label':  tf.io.FixedLenFeature(shape=[], dtype=tf.int64, default_value=None),\n",
    "    'ctype':  tf.io.FixedLenFeature(shape=[], dtype=tf.string, default_value=None),\n",
    "    'csite':  tf.io.FixedLenFeature(shape=[], dtype=tf.string, default_value=None),\n",
    "}\n",
    "\n",
    "ds = tf.data.TFRecordDataset(str(tfr_out/'train_1.tfrecord'))\n",
    "ex = next(ds.__iter__())\n",
    "ex = tf.io.parse_single_example(ex, features=fea_spec)\n",
    "print(ex['csite'].numpy().decode('UTF-8'))\n",
    "print(ex['csite_label'].numpy())\n",
    "print(csite_enc)"
   ]
  },
  {
   "cell_type": "code",
   "execution_count": null,
   "metadata": {},
   "outputs": [],
   "source": []
  },
  {
   "cell_type": "markdown",
   "metadata": {},
   "source": [
    "### Create tf datasets"
   ]
  },
  {
   "cell_type": "code",
   "execution_count": 16,
   "metadata": {},
   "outputs": [
    {
     "name": "stdout",
     "output_type": "stream",
     "text": [
      "tf.Tensor(b'bladder/urothelial', shape=(), dtype=string)\n",
      "tf.Tensor(b'digestive/gastrointestinal', shape=(), dtype=string)\n",
      "tf.Tensor(b'endocrine and neuroendocrine', shape=(), dtype=string)\n",
      "tf.Tensor(b'gynecologic', shape=(), dtype=string)\n",
      "tf.Tensor(b'head & neck', shape=(), dtype=string)\n",
      "tf.Tensor(b'kidney', shape=(), dtype=string)\n",
      "tf.Tensor(b'lung', shape=(), dtype=string)\n",
      "tf.Tensor(b'musculoskeletal', shape=(), dtype=string)\n",
      "tf.Tensor(b'skin', shape=(), dtype=string)\n"
     ]
    }
   ],
   "source": [
    "# csite_classes = data['simplified_tumor_site'].values.tolist()\n",
    "# ctype_classes = data['simplified_tumor_type'].values.tolist()\n",
    "# tt = tf.convert_to_tensor(csite_classes)\n",
    "tt = tf.convert_to_tensor(list(csite_enc.keys()))\n",
    "tt = tf.data.Dataset.from_tensor_slices(tt)\n",
    "for i in tt:\n",
    "    # tf.print(i)\n",
    "    print(i)"
   ]
  },
  {
   "cell_type": "code",
   "execution_count": 17,
   "metadata": {},
   "outputs": [
    {
     "name": "stdout",
     "output_type": "stream",
     "text": [
      "Inputs:  dict_keys(['ge_vec'])\n",
      "Outputs: dict_keys(['csite_label', 'ctype_label'])\n",
      "ge_vec (976,)\n",
      "csite_label (9,)\n",
      "ctype_label (11,)\n"
     ]
    }
   ],
   "source": [
    "# class Dataset():\n",
    "    \n",
    "#     def __init__(self, filenames):\n",
    "#         self.filenames = filenames\n",
    "    \n",
    "#     def define_fea_spec(fea_spec):\n",
    "#         self.fea_spec = fea_spec\n",
    "\n",
    "fea_spec = {\n",
    "    'ge_vec':      tf.io.FixedLenFeature(shape=(976,), dtype=tf.float32, default_value=None),\n",
    "    'dd_vec':      tf.io.FixedLenFeature(shape=(1613,), dtype=tf.float32, default_value=None),    \n",
    "    'Sample':      tf.io.FixedLenFeature(shape=[1], dtype=tf.string, default_value=None),\n",
    "    'ctype_label': tf.io.FixedLenFeature(shape=[1], dtype=tf.int64, default_value=None),\n",
    "    'csite_label': tf.io.FixedLenFeature(shape=[1], dtype=tf.int64, default_value=None),\n",
    "    'ctype':       tf.io.FixedLenFeature(shape=[1], dtype=tf.string, default_value=None),\n",
    "    'csite':       tf.io.FixedLenFeature(shape=[1], dtype=tf.string, default_value=None),\n",
    "}    \n",
    "\n",
    "def read_tfr_example(ex):\n",
    "    \"\"\" Read and parse example from a tfrecord. \"\"\"\n",
    "    ex = tf.io.parse_single_example(ex, fea_spec)\n",
    "    \n",
    "    # Inputs\n",
    "    ge_vec = tf.cast(ex['ge_vec'], tf.float32)\n",
    "    dd_vec = tf.cast(ex['dd_vec'], tf.float32)\n",
    "    inputs = {'ge_vec': ge_vec}\n",
    "    \n",
    "    # Outputs\n",
    "    csite_label = tf.cast(ex['csite_label'], tf.int64)\n",
    "    ctype_label = tf.cast(ex['ctype_label'], tf.int64)\n",
    "    \n",
    "    # One-hot\n",
    "    csite_label = tf.one_hot(indices=csite_label, depth=CSITE_NUM_CLASSES, on_value=1.0, off_value=0.0)\n",
    "    ctype_label = tf.one_hot(indices=ctype_label, depth=CTYPE_NUM_CLASSES, on_value=1.0, off_value=0.0)\n",
    "    \n",
    "    csite_label = tf.reshape(csite_label, [CSITE_NUM_CLASSES,])\n",
    "    ctype_label = tf.reshape(ctype_label, [CTYPE_NUM_CLASSES,])    \n",
    "    \n",
    "    # Put into dict\n",
    "#     outputs = {'csite_label': csite_label}\n",
    "    outputs = {'csite_label': csite_label, 'ctype_label': ctype_label}\n",
    "    return inputs, outputs\n",
    "\n",
    "\n",
    "# Train and val filenames\n",
    "train_filenames = glob(os.path.join(tfr_out, 'train*.tfrecord'))\n",
    "val_filenames   = glob(os.path.join(tfr_out, 'val*.tfrecord'))\n",
    "\n",
    "ds = tf.data.TFRecordDataset(filenames=train_filenames)\n",
    "ds = ds.map(read_tfr_example)\n",
    "\n",
    "# Take a sample\n",
    "ii = next(ds.take(1).__iter__())\n",
    "print('Inputs: ', ii[0].keys())\n",
    "print('Outputs:', ii[1].keys())\n",
    "\n",
    "# print(ii[0]['ge_vec'].numpy().shape)\n",
    "for i, k in enumerate(ii[0].keys()):\n",
    "    print(k, ii[0][k].numpy().shape)\n",
    "    \n",
    "# print(ii[1]['csite_label'].numpy())\n",
    "# print(ii[1]['ctype_label'].numpy())\n",
    "for i, k in enumerate(ii[1].keys()):\n",
    "    print(k, ii[1][k].numpy().shape)"
   ]
  },
  {
   "cell_type": "code",
   "execution_count": 18,
   "metadata": {},
   "outputs": [
    {
     "name": "stdout",
     "output_type": "stream",
     "text": [
      "Inputs:  dict_keys(['ge_vec'])\n",
      "Outputs: dict_keys(['csite_label', 'ctype_label'])\n",
      "ge_vec (32, 976)\n",
      "csite_label (32, 9)\n",
      "ctype_label (32, 11)\n"
     ]
    }
   ],
   "source": [
    "# read this:  https://www.tensorflow.org/datasets/performances\n",
    "def get_tfr_dataset(filenames):\n",
    "    \"\"\" Create tf dataset. \"\"\"\n",
    "    ds = tf.data.TFRecordDataset(filenames=filenames)\n",
    "    ds = ds.shuffle(500, reshuffle_each_iteration=True)\n",
    "    ds = ds.map(read_tfr_example)\n",
    "    # ds = ds.batch(32, drop_remainder=True)\n",
    "    ds = ds.batch(32)\n",
    "    return ds\n",
    "\n",
    "ds_train = get_tfr_dataset(train_filenames)\n",
    "ds_val   = get_tfr_dataset(val_filenames)\n",
    "\n",
    "# Take a sample\n",
    "ii = next(ds_train.take(1).__iter__())\n",
    "# ii = next(ds_val.take(1).__iter__())\n",
    "print('Inputs: ', ii[0].keys())\n",
    "print('Outputs:', ii[1].keys())\n",
    "\n",
    "# print(ii[0]['ge_vec'].numpy().shape)\n",
    "# print(ii[1]['csite_label'].numpy().shape)\n",
    "# print(ii[1]['ctype_label'].numpy().shape)\n",
    "\n",
    "# print(ii[0]['ge_vec'].numpy().shape)\n",
    "for i, k in enumerate(ii[0].keys()):\n",
    "    print(k, ii[0][k].numpy().shape)\n",
    "    \n",
    "# print(ii[1]['csite_label'].numpy())\n",
    "# print(ii[1]['ctype_label'].numpy())\n",
    "for i, k in enumerate(ii[1].keys()):\n",
    "    print(k, ii[1][k].numpy().shape)"
   ]
  },
  {
   "cell_type": "code",
   "execution_count": 19,
   "metadata": {},
   "outputs": [],
   "source": [
    "# def preprocess(ex):\n",
    "#     ex = tf.io.parse_single_example(ex, features=fea_spec)\n",
    "#     # sample = ex['Sample'][0].numpy().decode('utf-8')\n",
    "#     sample = tf.cast(ex['Sample'], tf.string)\n",
    "#     return sample\n",
    "\n",
    "# # Train dataset\n",
    "# ds = tf.data.TFRecordDataset(filenames=train_filenames)\n",
    "# ds = ds.map(preprocess)\n",
    "# ds = ds.shuffle(500, reshuffle_each_iteration=True)\n",
    "# # ds = ds.batch(64)\n",
    "# ii = next(ds.take(1).__iter__())\n",
    "# print(ii[0].numpy().decode('utf-8'))"
   ]
  },
  {
   "cell_type": "code",
   "execution_count": 20,
   "metadata": {},
   "outputs": [],
   "source": [
    "# Toy dataset\n",
    "# -----------\n",
    "# def power_two(x):\n",
    "#     return x**2\n",
    "\n",
    "# ds = tf.data.Dataset.range(10)\n",
    "# ds = ds.map(power_two)\n",
    "# ds = ds.repeat(1)\n",
    "# ds = ds.shuffle(100, reshuffle_each_iteration=True)\n",
    "# ds = ds.batch(2)\n",
    "# for i, item in enumerate(ds):\n",
    "#     tf.print(item, end=' ')"
   ]
  },
  {
   "cell_type": "code",
   "execution_count": null,
   "metadata": {},
   "outputs": [],
   "source": []
  },
  {
   "cell_type": "markdown",
   "metadata": {},
   "source": [
    "### Train Keras Type Classifier"
   ]
  },
  {
   "cell_type": "code",
   "execution_count": 21,
   "metadata": {},
   "outputs": [
    {
     "name": "stdout",
     "output_type": "stream",
     "text": [
      "Model: \"functional_1\"\n",
      "__________________________________________________________________________________________________\n",
      "Layer (type)                    Output Shape         Param #     Connected to                     \n",
      "==================================================================================================\n",
      "ge_vec (InputLayer)             [(None, 976)]        0                                            \n",
      "__________________________________________________________________________________________________\n",
      "dense_1 (Dense)                 (None, 128)          125056      ge_vec[0][0]                     \n",
      "__________________________________________________________________________________________________\n",
      "dropout_1 (Dropout)             (None, 128)          0           dense_1[0][0]                    \n",
      "__________________________________________________________________________________________________\n",
      "dense_2 (Dense)                 (None, 128)          16512       dropout_1[0][0]                  \n",
      "__________________________________________________________________________________________________\n",
      "dropout_2 (Dropout)             (None, 128)          0           dense_2[0][0]                    \n",
      "__________________________________________________________________________________________________\n",
      "ctype_label (Dense)             (None, 11)           1419        dropout_2[0][0]                  \n",
      "__________________________________________________________________________________________________\n",
      "csite_label (Dense)             (None, 9)            1161        dropout_2[0][0]                  \n",
      "==================================================================================================\n",
      "Total params: 144,148\n",
      "Trainable params: 144,148\n",
      "Non-trainable params: 0\n",
      "__________________________________________________________________________________________________\n"
     ]
    }
   ],
   "source": [
    "import tensorflow as tf\n",
    "\n",
    "# Inputs\n",
    "input_ge = tf.keras.Input(shape=(len(ge_vec),), name='ge_vec')\n",
    "\n",
    "# Hidden\n",
    "fc = tf.keras.layers.Dense(128, activation='relu', name='dense_1')(input_ge)\n",
    "fc = tf.keras.layers.Dropout(0.2, name='dropout_1')(fc)\n",
    "fc = tf.keras.layers.Dense(128, activation='relu', name='dense_2')(fc)\n",
    "fc = tf.keras.layers.Dropout(0.2, name='dropout_2')(fc)\n",
    "\n",
    "# Output\n",
    "ctype_out = tf.keras.layers.Dense(CTYPE_NUM_CLASSES, activation='softmax', name='ctype_label')(fc)\n",
    "csite_out = tf.keras.layers.Dense(CSITE_NUM_CLASSES, activation='softmax', name='csite_label')(fc)\n",
    "# ctype_out = tf.keras.layers.Dense(1, activation='softmax', name='ctype_label')(fc)\n",
    "# csite_out = tf.keras.layers.Dense(1, activation='softmax', name='csite_label')(fc)\n",
    "\n",
    "# Model\n",
    "model = tf.keras.Model(inputs=[input_ge], outputs=[ctype_out, csite_out])\n",
    "# model = tf.keras.Model(inputs=[input_ge], outputs=[csite_out])\n",
    "model.summary()\n",
    "\n",
    "# ----------\n",
    "# Compile\n",
    "# ----------\n",
    "# model.compile(optimizer=tf.keras.optimizers.Adam(),\n",
    "#               loss={'csite_label': tf.keras.losses.categorical_crossentropy},\n",
    "#               metrics=[tf.keras.metrics.categorical_crossentropy])\n",
    "\n",
    "model.compile(optimizer=tf.keras.optimizers.Adam(),\n",
    "              loss={'csite_label': tf.keras.losses.categorical_crossentropy,\n",
    "                    'ctype_label': tf.keras.losses.categorical_crossentropy},\n",
    "              metrics=[tf.keras.metrics.categorical_crossentropy])\n",
    "\n",
    "# model.compile(optimizer=tf.keras.optimizers.Adam(),\n",
    "#               loss={'csite_label': tf.keras.losses.mean_absolute_error},\n",
    "#               metrics=[tf.keras.metrics.mean_absolute_error])\n",
    "\n",
    "# model.compile(optimizer=tf.keras.optimizers.Adam(),\n",
    "#               loss={'csite_label': tf.keras.losses.mean_absolute_error,\n",
    "#                     'ctype_label': tf.keras.losses.mean_absolute_error},\n",
    "#               metrics=[tf.keras.metrics.mean_absolute_error])"
   ]
  },
  {
   "cell_type": "code",
   "execution_count": 22,
   "metadata": {},
   "outputs": [],
   "source": [
    "# The choice of categorical_crossentropy vs sparse_categorical_crossentropy depends on the shape of labels depennds\n",
    "# stackoverflow.com/questions/49161174/tensorflow-logits-and-labels-must-have-the-same-first-dimension\n",
    "# ================================================================================================================\n",
    "# history = model.fit(X_train, y_train, epochs=30, validation_data=(X_valid, y_valid))\n",
    "\n",
    "history = model.fit(ds_train,\n",
    "                    epochs=20,\n",
    "                    validation_data=ds_val,\n",
    "                    verbose=False)"
   ]
  },
  {
   "cell_type": "code",
   "execution_count": 23,
   "metadata": {},
   "outputs": [
    {
     "data": {
      "text/plain": [
       "{'loss': 0.9979113936424255,\n",
       " 'ctype_label_loss': 0.5338507890701294,\n",
       " 'csite_label_loss': 0.4640606641769409,\n",
       " 'ctype_label_categorical_crossentropy': 0.5338507890701294,\n",
       " 'csite_label_categorical_crossentropy': 0.4640606641769409}"
      ]
     },
     "execution_count": 23,
     "metadata": {},
     "output_type": "execute_result"
    }
   ],
   "source": [
    "result = model.evaluate(ds_val, verbose=False)\n",
    "dict(zip(model.metrics_names, result))"
   ]
  },
  {
   "cell_type": "code",
   "execution_count": 24,
   "metadata": {},
   "outputs": [
    {
     "name": "stdout",
     "output_type": "stream",
     "text": [
      "(405, 11)\n",
      "(405, 9)\n"
     ]
    }
   ],
   "source": [
    "rr = model.predict(ds_val.repeat(1))\n",
    "if isinstance(rr, list):\n",
    "    print(rr[0].shape)\n",
    "    print(rr[1].shape)\n",
    "else:\n",
    "    print(rr.shape)"
   ]
  },
  {
   "cell_type": "code",
   "execution_count": null,
   "metadata": {},
   "outputs": [],
   "source": []
  },
  {
   "cell_type": "code",
   "execution_count": 78,
   "metadata": {},
   "outputs": [
    {
     "name": "stdout",
     "output_type": "stream",
     "text": [
      "11\n",
      "(32, 976)\n",
      "(32, 1)\n"
     ]
    }
   ],
   "source": [
    "for i, item in enumerate(ds_val):\n",
    "    pass # print(item)\n",
    "print(i)\n",
    "print(ii[0]['ge_vec'].shape)\n",
    "print(ii[1]['csite_label'].shape)\n",
    "# print(ii[1]['ctype_label'].shape)"
   ]
  },
  {
   "cell_type": "code",
   "execution_count": 67,
   "metadata": {},
   "outputs": [
    {
     "data": {
      "text/plain": [
       "288"
      ]
     },
     "execution_count": 67,
     "metadata": {},
     "output_type": "execute_result"
    }
   ],
   "source": []
  }
 ],
 "metadata": {
  "kernelspec": {
   "display_name": "Python 3",
   "language": "python",
   "name": "python3"
  },
  "language_info": {
   "codemirror_mode": {
    "name": "ipython",
    "version": 3
   },
   "file_extension": ".py",
   "mimetype": "text/x-python",
   "name": "python",
   "nbconvert_exporter": "python",
   "pygments_lexer": "ipython3",
   "version": "3.7.9"
  }
 },
 "nbformat": 4,
 "nbformat_minor": 4
}
